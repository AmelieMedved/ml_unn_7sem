{
 "cells": [
  {
   "cell_type": "markdown",
   "metadata": {},
   "source": [
    "### 1. Загрузка и первичный смотр датасета"
   ]
  },
  {
   "cell_type": "code",
   "execution_count": 1,
   "metadata": {},
   "outputs": [
    {
     "name": "stdout",
     "output_type": "stream",
     "text": [
      "(69351, 18)\n"
     ]
    },
    {
     "data": {
      "text/html": [
       "<div>\n",
       "<style scoped>\n",
       "    .dataframe tbody tr th:only-of-type {\n",
       "        vertical-align: middle;\n",
       "    }\n",
       "\n",
       "    .dataframe tbody tr th {\n",
       "        vertical-align: top;\n",
       "    }\n",
       "\n",
       "    .dataframe thead th {\n",
       "        text-align: right;\n",
       "    }\n",
       "</style>\n",
       "<table border=\"1\" class=\"dataframe\">\n",
       "  <thead>\n",
       "    <tr style=\"text-align: right;\">\n",
       "      <th></th>\n",
       "      <th>id</th>\n",
       "      <th>name</th>\n",
       "      <th>host_id</th>\n",
       "      <th>host_name</th>\n",
       "      <th>neighbourhood_group</th>\n",
       "      <th>neighbourhood</th>\n",
       "      <th>latitude</th>\n",
       "      <th>longitude</th>\n",
       "      <th>room_type</th>\n",
       "      <th>price</th>\n",
       "      <th>minimum_nights</th>\n",
       "      <th>number_of_reviews</th>\n",
       "      <th>last_review</th>\n",
       "      <th>reviews_per_month</th>\n",
       "      <th>calculated_host_listings_count</th>\n",
       "      <th>availability_365</th>\n",
       "      <th>number_of_reviews_ltm</th>\n",
       "      <th>license</th>\n",
       "    </tr>\n",
       "  </thead>\n",
       "  <tbody>\n",
       "    <tr>\n",
       "      <th>0</th>\n",
       "      <td>106332</td>\n",
       "      <td>Lovely large room, Bethnal Green</td>\n",
       "      <td>264345</td>\n",
       "      <td>Susie</td>\n",
       "      <td>NaN</td>\n",
       "      <td>Tower Hamlets</td>\n",
       "      <td>51.52874</td>\n",
       "      <td>-0.05396</td>\n",
       "      <td>Private room</td>\n",
       "      <td>55</td>\n",
       "      <td>3</td>\n",
       "      <td>65</td>\n",
       "      <td>2016-06-10</td>\n",
       "      <td>0.47</td>\n",
       "      <td>1</td>\n",
       "      <td>74</td>\n",
       "      <td>0</td>\n",
       "      <td>NaN</td>\n",
       "    </tr>\n",
       "    <tr>\n",
       "      <th>1</th>\n",
       "      <td>13913</td>\n",
       "      <td>Holiday London DB Room Let-on going</td>\n",
       "      <td>54730</td>\n",
       "      <td>Alina</td>\n",
       "      <td>NaN</td>\n",
       "      <td>Islington</td>\n",
       "      <td>51.56861</td>\n",
       "      <td>-0.11270</td>\n",
       "      <td>Private room</td>\n",
       "      <td>50</td>\n",
       "      <td>1</td>\n",
       "      <td>30</td>\n",
       "      <td>2022-07-15</td>\n",
       "      <td>0.20</td>\n",
       "      <td>2</td>\n",
       "      <td>343</td>\n",
       "      <td>9</td>\n",
       "      <td>NaN</td>\n",
       "    </tr>\n",
       "    <tr>\n",
       "      <th>2</th>\n",
       "      <td>284532</td>\n",
       "      <td>COSY STUDIO-FLAT WITH A GREAT  VIEW</td>\n",
       "      <td>1481412</td>\n",
       "      <td>Luca</td>\n",
       "      <td>NaN</td>\n",
       "      <td>Tower Hamlets</td>\n",
       "      <td>51.52851</td>\n",
       "      <td>-0.07426</td>\n",
       "      <td>Entire home/apt</td>\n",
       "      <td>90</td>\n",
       "      <td>5</td>\n",
       "      <td>42</td>\n",
       "      <td>2022-01-04</td>\n",
       "      <td>0.34</td>\n",
       "      <td>1</td>\n",
       "      <td>222</td>\n",
       "      <td>1</td>\n",
       "      <td>NaN</td>\n",
       "    </tr>\n",
       "    <tr>\n",
       "      <th>3</th>\n",
       "      <td>107048</td>\n",
       "      <td>A Luxury Studio Suite in Clerkenwell</td>\n",
       "      <td>259088</td>\n",
       "      <td>Simon</td>\n",
       "      <td>NaN</td>\n",
       "      <td>Islington</td>\n",
       "      <td>51.52478</td>\n",
       "      <td>-0.10484</td>\n",
       "      <td>Private room</td>\n",
       "      <td>180</td>\n",
       "      <td>4</td>\n",
       "      <td>493</td>\n",
       "      <td>2022-09-02</td>\n",
       "      <td>3.59</td>\n",
       "      <td>5</td>\n",
       "      <td>236</td>\n",
       "      <td>20</td>\n",
       "      <td>NaN</td>\n",
       "    </tr>\n",
       "    <tr>\n",
       "      <th>4</th>\n",
       "      <td>284603</td>\n",
       "      <td>Notting Hill church stay in Heaven!</td>\n",
       "      <td>1481851</td>\n",
       "      <td>Tania</td>\n",
       "      <td>NaN</td>\n",
       "      <td>Kensington and Chelsea</td>\n",
       "      <td>51.51464</td>\n",
       "      <td>-0.20004</td>\n",
       "      <td>Entire home/apt</td>\n",
       "      <td>297</td>\n",
       "      <td>14</td>\n",
       "      <td>6</td>\n",
       "      <td>2022-07-04</td>\n",
       "      <td>0.05</td>\n",
       "      <td>1</td>\n",
       "      <td>180</td>\n",
       "      <td>2</td>\n",
       "      <td>NaN</td>\n",
       "    </tr>\n",
       "  </tbody>\n",
       "</table>\n",
       "</div>"
      ],
      "text/plain": [
       "       id                                  name  host_id host_name  \\\n",
       "0  106332      Lovely large room, Bethnal Green   264345     Susie   \n",
       "1   13913   Holiday London DB Room Let-on going    54730     Alina   \n",
       "2  284532   COSY STUDIO-FLAT WITH A GREAT  VIEW  1481412      Luca   \n",
       "3  107048  A Luxury Studio Suite in Clerkenwell   259088     Simon   \n",
       "4  284603   Notting Hill church stay in Heaven!  1481851     Tania   \n",
       "\n",
       "   neighbourhood_group           neighbourhood  latitude  longitude  \\\n",
       "0                  NaN           Tower Hamlets  51.52874   -0.05396   \n",
       "1                  NaN               Islington  51.56861   -0.11270   \n",
       "2                  NaN           Tower Hamlets  51.52851   -0.07426   \n",
       "3                  NaN               Islington  51.52478   -0.10484   \n",
       "4                  NaN  Kensington and Chelsea  51.51464   -0.20004   \n",
       "\n",
       "         room_type  price  minimum_nights  number_of_reviews last_review  \\\n",
       "0     Private room     55               3                 65  2016-06-10   \n",
       "1     Private room     50               1                 30  2022-07-15   \n",
       "2  Entire home/apt     90               5                 42  2022-01-04   \n",
       "3     Private room    180               4                493  2022-09-02   \n",
       "4  Entire home/apt    297              14                  6  2022-07-04   \n",
       "\n",
       "   reviews_per_month  calculated_host_listings_count  availability_365  \\\n",
       "0               0.47                               1                74   \n",
       "1               0.20                               2               343   \n",
       "2               0.34                               1               222   \n",
       "3               3.59                               5               236   \n",
       "4               0.05                               1               180   \n",
       "\n",
       "   number_of_reviews_ltm  license  \n",
       "0                      0      NaN  \n",
       "1                      9      NaN  \n",
       "2                      1      NaN  \n",
       "3                     20      NaN  \n",
       "4                      2      NaN  "
      ]
     },
     "execution_count": 1,
     "metadata": {},
     "output_type": "execute_result"
    }
   ],
   "source": [
    "# Подключение пакетов (библиотек)  \n",
    "import numpy as np\n",
    "import pandas as pd\n",
    "from sklearn.preprocessing import OrdinalEncoder, OneHotEncoder\n",
    "import matplotlib.pyplot as plt\n",
    "import seaborn as sns\n",
    "\n",
    "# Чтение данных \n",
    "data = pd.read_csv('listingss.csv')\n",
    "\n",
    "# Размерность данных\n",
    "print(data.shape)\n",
    "# Вывод таблица данных\n",
    "pd.set_option('display.max_columns', None)\n",
    "data.head()"
   ]
  },
  {
   "cell_type": "markdown",
   "metadata": {},
   "source": [
    "Имеем 69351 объект (экземпляр). Каждый объект имеет 18 признаков, один из которых является целевым (требуется предсказывать)."
   ]
  },
  {
   "cell_type": "code",
   "execution_count": 2,
   "metadata": {},
   "outputs": [
    {
     "name": "stdout",
     "output_type": "stream",
     "text": [
      "<class 'pandas.core.frame.DataFrame'>\n",
      "RangeIndex: 69351 entries, 0 to 69350\n",
      "Data columns (total 18 columns):\n",
      " #   Column                          Non-Null Count  Dtype  \n",
      "---  ------                          --------------  -----  \n",
      " 0   id                              69351 non-null  int64  \n",
      " 1   name                            69330 non-null  object \n",
      " 2   host_id                         69351 non-null  int64  \n",
      " 3   host_name                       69346 non-null  object \n",
      " 4   neighbourhood_group             0 non-null      float64\n",
      " 5   neighbourhood                   69351 non-null  object \n",
      " 6   latitude                        69351 non-null  float64\n",
      " 7   longitude                       69351 non-null  float64\n",
      " 8   room_type                       69351 non-null  object \n",
      " 9   price                           69351 non-null  int64  \n",
      " 10  minimum_nights                  69351 non-null  int64  \n",
      " 11  number_of_reviews               69351 non-null  int64  \n",
      " 12  last_review                     52571 non-null  object \n",
      " 13  reviews_per_month               52571 non-null  float64\n",
      " 14  calculated_host_listings_count  69351 non-null  int64  \n",
      " 15  availability_365                69351 non-null  int64  \n",
      " 16  number_of_reviews_ltm           69351 non-null  int64  \n",
      " 17  license                         0 non-null      float64\n",
      "dtypes: float64(5), int64(8), object(5)\n",
      "memory usage: 9.5+ MB\n"
     ]
    }
   ],
   "source": [
    "data.info()"
   ]
  },
  {
   "cell_type": "code",
   "execution_count": 3,
   "metadata": {},
   "outputs": [
    {
     "data": {
      "text/plain": [
       "1248318"
      ]
     },
     "execution_count": 3,
     "metadata": {},
     "output_type": "execute_result"
    }
   ],
   "source": [
    "data.size"
   ]
  },
  {
   "cell_type": "markdown",
   "metadata": {},
   "source": [
    "#### Выберем признак для задачи классификации"
   ]
  },
  {
   "cell_type": "markdown",
   "metadata": {},
   "source": [
    "##### Признак \"neighbourhood\" или \"район Лондона (боро)\"\n",
    "Всего в лондоне 32 боро и Лондонский Сити, а значит размер массива уникальных значений столбца \"neighbourhood\" должно быть 33"
   ]
  },
  {
   "cell_type": "code",
   "execution_count": 4,
   "metadata": {},
   "outputs": [
    {
     "data": {
      "text/plain": [
       "33"
      ]
     },
     "execution_count": 4,
     "metadata": {},
     "output_type": "execute_result"
    }
   ],
   "source": [
    "data['neighbourhood'].unique()\n",
    "len(data['neighbourhood'].unique())"
   ]
  },
  {
   "cell_type": "markdown",
   "metadata": {},
   "source": [
    "Так как есть наличие таких признаков как latitude и longitude, то классифицировать данные по признаку neighbourhood является бессмысленным. Но если убрать приведенные два признака, то появляется задача предсказания возможного района расположения хоста. В принципе, даже если оставить координаты, то без знания точных границ районов, а этого знания у нас нет, невозможно доставерно установить имя района хоста, но тогда задача не имеет смысла."
   ]
  },
  {
   "cell_type": "markdown",
   "metadata": {},
   "source": [
    "##### Признак \"room_type\" или тип комнаты/жилого помещения"
   ]
  },
  {
   "cell_type": "code",
   "execution_count": 5,
   "metadata": {},
   "outputs": [
    {
     "data": {
      "text/plain": [
       "array(['Private room', 'Entire home/apt', 'Hotel room', 'Shared room'],\n",
       "      dtype=object)"
      ]
     },
     "execution_count": 5,
     "metadata": {},
     "output_type": "execute_result"
    }
   ],
   "source": [
    "data['room_type'].unique()"
   ]
  },
  {
   "cell_type": "markdown",
   "metadata": {},
   "source": [
    "Задача может состоять в предсказании типа жилого помещения, которое будет наиболее соот-ть данным объявления."
   ]
  },
  {
   "cell_type": "markdown",
   "metadata": {},
   "source": [
    "##### Признаки \"number_of_reviews\" и \"number_of_reviews\" "
   ]
  },
  {
   "cell_type": "markdown",
   "metadata": {},
   "source": [
    "Такие признаки изначально принадлежат более задаче регрессии, но можно переформулировать задачу и задать интервалы, к которому будут относится входные данные. Например, рассмотрим признак \"number_of_reviews\":"
   ]
  },
  {
   "cell_type": "code",
   "execution_count": 6,
   "metadata": {},
   "outputs": [
    {
     "data": {
      "text/plain": [
       "<AxesSubplot: >"
      ]
     },
     "execution_count": 6,
     "metadata": {},
     "output_type": "execute_result"
    },
    {
     "data": {
      "image/png": "[encoded data removed]",
      "text/plain": [
       "<Figure size 640x480 with 1 Axes>"
      ]
     },
     "metadata": {},
     "output_type": "display_data"
    }
   ],
   "source": [
    "# pd\n",
    "data['number_of_reviews'].hist(bins=50)\n",
    "# тоже самое на seaborn\n",
    "# sns.histplot(data = data, x='number_of_reviews', bins = 50)"
   ]
  },
  {
   "cell_type": "code",
   "execution_count": 7,
   "metadata": {},
   "outputs": [
    {
     "data": {
      "text/plain": [
       "<AxesSubplot: >"
      ]
     },
     "execution_count": 7,
     "metadata": {},
     "output_type": "execute_result"
    },
    {
     "data": {
      "image/png": "[encoded data removed]",
      "text/plain": [
       "<Figure size 640x480 with 1 Axes>"
      ]
     },
     "metadata": {},
     "output_type": "display_data"
    }
   ],
   "source": [
    "data.loc[data['number_of_reviews'] < 1800, 'number_of_reviews'].hist(bins = 50)"
   ]
  },
  {
   "cell_type": "code",
   "execution_count": 8,
   "metadata": {},
   "outputs": [
    {
     "data": {
      "text/plain": [
       "<AxesSubplot: ylabel='Density'>"
      ]
     },
     "execution_count": 8,
     "metadata": {},
     "output_type": "execute_result"
    },
    {
     "data": {
      "image/png": "[encoded data removed]",
      "text/plain": [
       "<Figure size 640x480 with 1 Axes>"
      ]
     },
     "metadata": {},
     "output_type": "display_data"
    }
   ],
   "source": [
    "# Функция плотности распределения\n",
    "data.loc[data['number_of_reviews'] < 1800, 'number_of_reviews'].plot.kde(bw_method=0.3)"
   ]
  },
  {
   "cell_type": "code",
   "execution_count": 9,
   "metadata": {},
   "outputs": [
    {
     "data": {
      "text/plain": [
       "<AxesSubplot: ylabel='Density'>"
      ]
     },
     "execution_count": 9,
     "metadata": {},
     "output_type": "execute_result"
    },
    {
     "data": {
      "image/png": "[encoded data removed]",
      "text/plain": [
       "<Figure size 640x480 with 1 Axes>"
      ]
     },
     "metadata": {},
     "output_type": "display_data"
    }
   ],
   "source": [
    "data.loc[data['number_of_reviews'] < 1800, 'number_of_reviews'].plot.kde(bw_method=3)"
   ]
  },
  {
   "cell_type": "code",
   "execution_count": 10,
   "metadata": {},
   "outputs": [
    {
     "data": {
      "text/plain": [
       "<AxesSubplot: ylabel='Density'>"
      ]
     },
     "execution_count": 10,
     "metadata": {},
     "output_type": "execute_result"
    },
    {
     "data": {
      "image/png": "[encoded data removed]",
      "text/plain": [
       "<Figure size 640x480 with 1 Axes>"
      ]
     },
     "metadata": {},
     "output_type": "display_data"
    }
   ],
   "source": [
    "data.loc[data['number_of_reviews'], 'number_of_reviews'].plot.kde(ind=[0, 250, 500, 1000, 1800])"
   ]
  },
  {
   "cell_type": "code",
   "execution_count": 11,
   "metadata": {},
   "outputs": [
    {
     "data": {
      "text/plain": [
       "<AxesSubplot: xlabel='number_of_reviews', ylabel='Density'>"
      ]
     },
     "execution_count": 11,
     "metadata": {},
     "output_type": "execute_result"
    },
    {
     "data": {
      "image/png": "[encoded data removed]",
      "text/plain": [
       "<Figure size 640x480 with 1 Axes>"
      ]
     },
     "metadata": {},
     "output_type": "display_data"
    }
   ],
   "source": [
    "sns.kdeplot(data['number_of_reviews'], fill=True)\n"
   ]
  },
  {
   "cell_type": "code",
   "execution_count": 12,
   "metadata": {},
   "outputs": [
    {
     "data": {
      "text/plain": [
       "<AxesSubplot: xlabel='number_of_reviews', ylabel='Density'>"
      ]
     },
     "execution_count": 12,
     "metadata": {},
     "output_type": "execute_result"
    },
    {
     "data": {
      "image/png": "[encoded data removed]",
      "text/plain": [
       "<Figure size 640x480 with 1 Axes>"
      ]
     },
     "metadata": {},
     "output_type": "display_data"
    }
   ],
   "source": [
    "sns.kdeplot(data.loc[data['number_of_reviews'] < 1800, 'number_of_reviews'], fill=True)"
   ]
  },
  {
   "cell_type": "markdown",
   "metadata": {},
   "source": [
    "Из построенных гистограмм видно, что можно разделить стоимость ежедневной аренды на интервалы, например: 0, (0, 250], (250, 500], (500, 1000], (1000, 1800], (1800, +inf)"
   ]
  },
  {
   "cell_type": "code",
   "execution_count": 13,
   "metadata": {},
   "outputs": [
    {
     "data": {
      "text/plain": [
       "<AxesSubplot: xlabel='number_of_reviews', ylabel='Count'>"
      ]
     },
     "execution_count": 13,
     "metadata": {},
     "output_type": "execute_result"
    },
    {
     "data": {
      "image/png": "[encoded data removed]",
      "text/plain": [
       "<Figure size 640x480 with 1 Axes>"
      ]
     },
     "metadata": {},
     "output_type": "display_data"
    }
   ],
   "source": [
    "# Признак \"number_of_reviews\"\n",
    "sns.histplot(data = data, x='number_of_reviews', bins = 50)"
   ]
  },
  {
   "cell_type": "markdown",
   "metadata": {},
   "source": [
    "##### Признак \"minimum_nights\" - минимальное количество ночей"
   ]
  },
  {
   "cell_type": "code",
   "execution_count": 14,
   "metadata": {},
   "outputs": [
    {
     "data": {
      "text/plain": [
       "array([   3,    1,    5,    4,   14,    2,    7,   10,   30,   15,    6,\n",
       "         21,   28,   13,  150,   40,   20,   45,    8,   90,  180,   12,\n",
       "        270,  300,   60,  186,   91,   25,   75,   29,   24,   11,   18,\n",
       "        100,   50,  365,   19,  360,  183,  160,  153,   16,   58,  120,\n",
       "          9,   26,   55,   35,   84,   42,  187,   23,   17,   56,  999,\n",
       "        200,   80,  185,   31,   89, 1000,  163,  600,   49,   70,  260,\n",
       "        500,  170, 1124,  400,   27,   78,  175,   22,   99,   94,   87,\n",
       "        280,  115,   33,  350,   73,  140,   44,  182,   62,  900,  112,\n",
       "         88,   59,   79,   76,   86,   69,  330,   64,  250,   63, 1125,\n",
       "        110,  101,   92,   32,  130,  255,  258,   53,  135,   85,   71,\n",
       "        121,   61,  190,   81,   54,  155,   41,  181,   83,   43,   51,\n",
       "         38,   98,   93], dtype=int64)"
      ]
     },
     "execution_count": 14,
     "metadata": {},
     "output_type": "execute_result"
    }
   ],
   "source": [
    "data['minimum_nights'].unique()"
   ]
  },
  {
   "cell_type": "markdown",
   "metadata": {},
   "source": [
    "По значениям этого признака можно представить, например, интервалы: около недели, около 1 месяца, ..., около полугода, ..., около года, ..., больше года, ..."
   ]
  },
  {
   "cell_type": "code",
   "execution_count": 15,
   "metadata": {},
   "outputs": [
    {
     "data": {
      "text/html": [
       "<div>\n",
       "<style scoped>\n",
       "    .dataframe tbody tr th:only-of-type {\n",
       "        vertical-align: middle;\n",
       "    }\n",
       "\n",
       "    .dataframe tbody tr th {\n",
       "        vertical-align: top;\n",
       "    }\n",
       "\n",
       "    .dataframe thead th {\n",
       "        text-align: right;\n",
       "    }\n",
       "</style>\n",
       "<table border=\"1\" class=\"dataframe\">\n",
       "  <thead>\n",
       "    <tr style=\"text-align: right;\">\n",
       "      <th></th>\n",
       "      <th>id</th>\n",
       "      <th>name</th>\n",
       "      <th>host_id</th>\n",
       "      <th>host_name</th>\n",
       "      <th>neighbourhood_group</th>\n",
       "      <th>neighbourhood</th>\n",
       "      <th>latitude</th>\n",
       "      <th>longitude</th>\n",
       "      <th>room_type</th>\n",
       "      <th>price</th>\n",
       "      <th>minimum_nights</th>\n",
       "      <th>number_of_reviews</th>\n",
       "      <th>last_review</th>\n",
       "      <th>reviews_per_month</th>\n",
       "      <th>calculated_host_listings_count</th>\n",
       "      <th>availability_365</th>\n",
       "      <th>number_of_reviews_ltm</th>\n",
       "      <th>license</th>\n",
       "    </tr>\n",
       "  </thead>\n",
       "  <tbody>\n",
       "    <tr>\n",
       "      <th>6839</th>\n",
       "      <td>7974622</td>\n",
       "      <td>Amazing Victoria era flat</td>\n",
       "      <td>42087931</td>\n",
       "      <td>O</td>\n",
       "      <td>NaN</td>\n",
       "      <td>Tower Hamlets</td>\n",
       "      <td>51.53216</td>\n",
       "      <td>-0.06177</td>\n",
       "      <td>Entire home/apt</td>\n",
       "      <td>5000</td>\n",
       "      <td>1124</td>\n",
       "      <td>22</td>\n",
       "      <td>2018-08-26</td>\n",
       "      <td>0.27</td>\n",
       "      <td>1</td>\n",
       "      <td>83</td>\n",
       "      <td>0</td>\n",
       "      <td>NaN</td>\n",
       "    </tr>\n",
       "    <tr>\n",
       "      <th>17637</th>\n",
       "      <td>18502500</td>\n",
       "      <td>Awesome penthouse flat in the heart of Dalston</td>\n",
       "      <td>11024666</td>\n",
       "      <td>Pete</td>\n",
       "      <td>NaN</td>\n",
       "      <td>Hackney</td>\n",
       "      <td>51.54703</td>\n",
       "      <td>-0.07512</td>\n",
       "      <td>Private room</td>\n",
       "      <td>63</td>\n",
       "      <td>1124</td>\n",
       "      <td>37</td>\n",
       "      <td>2019-09-09</td>\n",
       "      <td>0.60</td>\n",
       "      <td>2</td>\n",
       "      <td>0</td>\n",
       "      <td>0</td>\n",
       "      <td>NaN</td>\n",
       "    </tr>\n",
       "    <tr>\n",
       "      <th>24033</th>\n",
       "      <td>22965536</td>\n",
       "      <td>Period Victorian house with garden</td>\n",
       "      <td>45230234</td>\n",
       "      <td>Matthew</td>\n",
       "      <td>NaN</td>\n",
       "      <td>Haringey</td>\n",
       "      <td>51.57254</td>\n",
       "      <td>-0.10537</td>\n",
       "      <td>Private room</td>\n",
       "      <td>8000</td>\n",
       "      <td>1124</td>\n",
       "      <td>7</td>\n",
       "      <td>2019-08-28</td>\n",
       "      <td>0.12</td>\n",
       "      <td>1</td>\n",
       "      <td>0</td>\n",
       "      <td>0</td>\n",
       "      <td>NaN</td>\n",
       "    </tr>\n",
       "  </tbody>\n",
       "</table>\n",
       "</div>"
      ],
      "text/plain": [
       "             id                                            name   host_id  \\\n",
       "6839    7974622                       Amazing Victoria era flat  42087931   \n",
       "17637  18502500  Awesome penthouse flat in the heart of Dalston  11024666   \n",
       "24033  22965536              Period Victorian house with garden  45230234   \n",
       "\n",
       "      host_name  neighbourhood_group  neighbourhood  latitude  longitude  \\\n",
       "6839          O                  NaN  Tower Hamlets  51.53216   -0.06177   \n",
       "17637      Pete                  NaN        Hackney  51.54703   -0.07512   \n",
       "24033   Matthew                  NaN       Haringey  51.57254   -0.10537   \n",
       "\n",
       "             room_type  price  minimum_nights  number_of_reviews last_review  \\\n",
       "6839   Entire home/apt   5000            1124                 22  2018-08-26   \n",
       "17637     Private room     63            1124                 37  2019-09-09   \n",
       "24033     Private room   8000            1124                  7  2019-08-28   \n",
       "\n",
       "       reviews_per_month  calculated_host_listings_count  availability_365  \\\n",
       "6839                0.27                               1                83   \n",
       "17637               0.60                               2                 0   \n",
       "24033               0.12                               1                 0   \n",
       "\n",
       "       number_of_reviews_ltm  license  \n",
       "6839                       0      NaN  \n",
       "17637                      0      NaN  \n",
       "24033                      0      NaN  "
      ]
     },
     "execution_count": 15,
     "metadata": {},
     "output_type": "execute_result"
    }
   ],
   "source": [
    "# Посмотрим, какие экземпляры соответствуют атрибуту \"minimal_nights\" со значением \"1124\"\n",
    "data[data['minimum_nights'] == 1124]"
   ]
  },
  {
   "cell_type": "code",
   "execution_count": 16,
   "metadata": {},
   "outputs": [
    {
     "data": {
      "text/html": [
       "<div>\n",
       "<style scoped>\n",
       "    .dataframe tbody tr th:only-of-type {\n",
       "        vertical-align: middle;\n",
       "    }\n",
       "\n",
       "    .dataframe tbody tr th {\n",
       "        vertical-align: top;\n",
       "    }\n",
       "\n",
       "    .dataframe thead th {\n",
       "        text-align: right;\n",
       "    }\n",
       "</style>\n",
       "<table border=\"1\" class=\"dataframe\">\n",
       "  <thead>\n",
       "    <tr style=\"text-align: right;\">\n",
       "      <th></th>\n",
       "      <th>id</th>\n",
       "      <th>name</th>\n",
       "      <th>host_id</th>\n",
       "      <th>host_name</th>\n",
       "      <th>neighbourhood_group</th>\n",
       "      <th>neighbourhood</th>\n",
       "      <th>latitude</th>\n",
       "      <th>longitude</th>\n",
       "      <th>room_type</th>\n",
       "      <th>price</th>\n",
       "      <th>minimum_nights</th>\n",
       "      <th>number_of_reviews</th>\n",
       "      <th>last_review</th>\n",
       "      <th>reviews_per_month</th>\n",
       "      <th>calculated_host_listings_count</th>\n",
       "      <th>availability_365</th>\n",
       "      <th>number_of_reviews_ltm</th>\n",
       "      <th>license</th>\n",
       "    </tr>\n",
       "  </thead>\n",
       "  <tbody>\n",
       "    <tr>\n",
       "      <th>4198</th>\n",
       "      <td>5489381</td>\n",
       "      <td>Modern Spacious Apartment (5mins to tube)</td>\n",
       "      <td>19581025</td>\n",
       "      <td>Simon</td>\n",
       "      <td>NaN</td>\n",
       "      <td>Barnet</td>\n",
       "      <td>51.59046</td>\n",
       "      <td>-0.24722</td>\n",
       "      <td>Entire home/apt</td>\n",
       "      <td>65</td>\n",
       "      <td>1000</td>\n",
       "      <td>49</td>\n",
       "      <td>2019-08-24</td>\n",
       "      <td>0.59</td>\n",
       "      <td>9</td>\n",
       "      <td>365</td>\n",
       "      <td>0</td>\n",
       "      <td>NaN</td>\n",
       "    </tr>\n",
       "    <tr>\n",
       "      <th>8606</th>\n",
       "      <td>9728409</td>\n",
       "      <td>Spectacular Loft Studio (5mins to tube)</td>\n",
       "      <td>19581025</td>\n",
       "      <td>Simon</td>\n",
       "      <td>NaN</td>\n",
       "      <td>Barnet</td>\n",
       "      <td>51.59051</td>\n",
       "      <td>-0.24784</td>\n",
       "      <td>Entire home/apt</td>\n",
       "      <td>71</td>\n",
       "      <td>1000</td>\n",
       "      <td>94</td>\n",
       "      <td>2019-08-10</td>\n",
       "      <td>1.15</td>\n",
       "      <td>9</td>\n",
       "      <td>365</td>\n",
       "      <td>0</td>\n",
       "      <td>NaN</td>\n",
       "    </tr>\n",
       "    <tr>\n",
       "      <th>10403</th>\n",
       "      <td>11913450</td>\n",
       "      <td>8 MIN TO CENTRAL LONDON CTRL GREENWICH DOUBLE ...</td>\n",
       "      <td>18380191</td>\n",
       "      <td>David</td>\n",
       "      <td>NaN</td>\n",
       "      <td>Greenwich</td>\n",
       "      <td>51.47767</td>\n",
       "      <td>-0.01113</td>\n",
       "      <td>Private room</td>\n",
       "      <td>27</td>\n",
       "      <td>1000</td>\n",
       "      <td>169</td>\n",
       "      <td>2020-02-22</td>\n",
       "      <td>2.15</td>\n",
       "      <td>2</td>\n",
       "      <td>0</td>\n",
       "      <td>0</td>\n",
       "      <td>NaN</td>\n",
       "    </tr>\n",
       "    <tr>\n",
       "      <th>12396</th>\n",
       "      <td>13678376</td>\n",
       "      <td>Spacious double Room with PARKING!</td>\n",
       "      <td>65052637</td>\n",
       "      <td>Timur</td>\n",
       "      <td>NaN</td>\n",
       "      <td>Brent</td>\n",
       "      <td>51.55162</td>\n",
       "      <td>-0.22961</td>\n",
       "      <td>Private room</td>\n",
       "      <td>300</td>\n",
       "      <td>1000</td>\n",
       "      <td>12</td>\n",
       "      <td>2017-08-26</td>\n",
       "      <td>0.16</td>\n",
       "      <td>1</td>\n",
       "      <td>364</td>\n",
       "      <td>0</td>\n",
       "      <td>NaN</td>\n",
       "    </tr>\n",
       "    <tr>\n",
       "      <th>12882</th>\n",
       "      <td>13922207</td>\n",
       "      <td>Central London, Self-contained Studio, with Ga...</td>\n",
       "      <td>82651607</td>\n",
       "      <td>John</td>\n",
       "      <td>NaN</td>\n",
       "      <td>Islington</td>\n",
       "      <td>51.53638</td>\n",
       "      <td>-0.09020</td>\n",
       "      <td>Entire home/apt</td>\n",
       "      <td>150</td>\n",
       "      <td>1000</td>\n",
       "      <td>50</td>\n",
       "      <td>2019-07-14</td>\n",
       "      <td>0.67</td>\n",
       "      <td>1</td>\n",
       "      <td>90</td>\n",
       "      <td>0</td>\n",
       "      <td>NaN</td>\n",
       "    </tr>\n",
       "    <tr>\n",
       "      <th>24560</th>\n",
       "      <td>23364016</td>\n",
       "      <td>8MIN LONDON BRIDGE CENTRAL LONDON CTRL GREENWICH</td>\n",
       "      <td>18380191</td>\n",
       "      <td>David</td>\n",
       "      <td>NaN</td>\n",
       "      <td>Greenwich</td>\n",
       "      <td>51.47819</td>\n",
       "      <td>-0.01125</td>\n",
       "      <td>Entire home/apt</td>\n",
       "      <td>95</td>\n",
       "      <td>1000</td>\n",
       "      <td>4</td>\n",
       "      <td>2020-01-01</td>\n",
       "      <td>0.08</td>\n",
       "      <td>2</td>\n",
       "      <td>0</td>\n",
       "      <td>0</td>\n",
       "      <td>NaN</td>\n",
       "    </tr>\n",
       "    <tr>\n",
       "      <th>43921</th>\n",
       "      <td>43920343</td>\n",
       "      <td>Penthouse-style loft apartment for single/couple</td>\n",
       "      <td>351641704</td>\n",
       "      <td>Ben</td>\n",
       "      <td>NaN</td>\n",
       "      <td>Brent</td>\n",
       "      <td>51.53553</td>\n",
       "      <td>-0.22522</td>\n",
       "      <td>Private room</td>\n",
       "      <td>80</td>\n",
       "      <td>1000</td>\n",
       "      <td>0</td>\n",
       "      <td>NaN</td>\n",
       "      <td>NaN</td>\n",
       "      <td>1</td>\n",
       "      <td>180</td>\n",
       "      <td>0</td>\n",
       "      <td>NaN</td>\n",
       "    </tr>\n",
       "  </tbody>\n",
       "</table>\n",
       "</div>"
      ],
      "text/plain": [
       "             id                                               name    host_id  \\\n",
       "4198    5489381          Modern Spacious Apartment (5mins to tube)   19581025   \n",
       "8606    9728409            Spectacular Loft Studio (5mins to tube)   19581025   \n",
       "10403  11913450  8 MIN TO CENTRAL LONDON CTRL GREENWICH DOUBLE ...   18380191   \n",
       "12396  13678376                 Spacious double Room with PARKING!   65052637   \n",
       "12882  13922207  Central London, Self-contained Studio, with Ga...   82651607   \n",
       "24560  23364016   8MIN LONDON BRIDGE CENTRAL LONDON CTRL GREENWICH   18380191   \n",
       "43921  43920343   Penthouse-style loft apartment for single/couple  351641704   \n",
       "\n",
       "      host_name  neighbourhood_group neighbourhood  latitude  longitude  \\\n",
       "4198      Simon                  NaN        Barnet  51.59046   -0.24722   \n",
       "8606      Simon                  NaN        Barnet  51.59051   -0.24784   \n",
       "10403     David                  NaN     Greenwich  51.47767   -0.01113   \n",
       "12396     Timur                  NaN         Brent  51.55162   -0.22961   \n",
       "12882      John                  NaN     Islington  51.53638   -0.09020   \n",
       "24560     David                  NaN     Greenwich  51.47819   -0.01125   \n",
       "43921       Ben                  NaN         Brent  51.53553   -0.22522   \n",
       "\n",
       "             room_type  price  minimum_nights  number_of_reviews last_review  \\\n",
       "4198   Entire home/apt     65            1000                 49  2019-08-24   \n",
       "8606   Entire home/apt     71            1000                 94  2019-08-10   \n",
       "10403     Private room     27            1000                169  2020-02-22   \n",
       "12396     Private room    300            1000                 12  2017-08-26   \n",
       "12882  Entire home/apt    150            1000                 50  2019-07-14   \n",
       "24560  Entire home/apt     95            1000                  4  2020-01-01   \n",
       "43921     Private room     80            1000                  0         NaN   \n",
       "\n",
       "       reviews_per_month  calculated_host_listings_count  availability_365  \\\n",
       "4198                0.59                               9               365   \n",
       "8606                1.15                               9               365   \n",
       "10403               2.15                               2                 0   \n",
       "12396               0.16                               1               364   \n",
       "12882               0.67                               1                90   \n",
       "24560               0.08                               2                 0   \n",
       "43921                NaN                               1               180   \n",
       "\n",
       "       number_of_reviews_ltm  license  \n",
       "4198                       0      NaN  \n",
       "8606                       0      NaN  \n",
       "10403                      0      NaN  \n",
       "12396                      0      NaN  \n",
       "12882                      0      NaN  \n",
       "24560                      0      NaN  \n",
       "43921                      0      NaN  "
      ]
     },
     "execution_count": 16,
     "metadata": {},
     "output_type": "execute_result"
    }
   ],
   "source": [
    "data[data['minimum_nights'] == 1000]"
   ]
  },
  {
   "cell_type": "code",
   "execution_count": 17,
   "metadata": {},
   "outputs": [
    {
     "data": {
      "text/html": [
       "<div>\n",
       "<style scoped>\n",
       "    .dataframe tbody tr th:only-of-type {\n",
       "        vertical-align: middle;\n",
       "    }\n",
       "\n",
       "    .dataframe tbody tr th {\n",
       "        vertical-align: top;\n",
       "    }\n",
       "\n",
       "    .dataframe thead th {\n",
       "        text-align: right;\n",
       "    }\n",
       "</style>\n",
       "<table border=\"1\" class=\"dataframe\">\n",
       "  <thead>\n",
       "    <tr style=\"text-align: right;\">\n",
       "      <th></th>\n",
       "      <th>id</th>\n",
       "      <th>name</th>\n",
       "      <th>host_id</th>\n",
       "      <th>host_name</th>\n",
       "      <th>neighbourhood_group</th>\n",
       "      <th>neighbourhood</th>\n",
       "      <th>latitude</th>\n",
       "      <th>longitude</th>\n",
       "      <th>room_type</th>\n",
       "      <th>price</th>\n",
       "      <th>minimum_nights</th>\n",
       "      <th>number_of_reviews</th>\n",
       "      <th>last_review</th>\n",
       "      <th>reviews_per_month</th>\n",
       "      <th>calculated_host_listings_count</th>\n",
       "      <th>availability_365</th>\n",
       "      <th>number_of_reviews_ltm</th>\n",
       "      <th>license</th>\n",
       "    </tr>\n",
       "  </thead>\n",
       "  <tbody>\n",
       "    <tr>\n",
       "      <th>3</th>\n",
       "      <td>107048</td>\n",
       "      <td>A Luxury Studio Suite in Clerkenwell</td>\n",
       "      <td>259088</td>\n",
       "      <td>Simon</td>\n",
       "      <td>NaN</td>\n",
       "      <td>Islington</td>\n",
       "      <td>51.52478</td>\n",
       "      <td>-0.104840</td>\n",
       "      <td>Private room</td>\n",
       "      <td>180</td>\n",
       "      <td>4</td>\n",
       "      <td>493</td>\n",
       "      <td>2022-09-02</td>\n",
       "      <td>3.59</td>\n",
       "      <td>5</td>\n",
       "      <td>236</td>\n",
       "      <td>20</td>\n",
       "      <td>NaN</td>\n",
       "    </tr>\n",
       "    <tr>\n",
       "      <th>59</th>\n",
       "      <td>304918</td>\n",
       "      <td>Luxury Studio  in Clerkenwell</td>\n",
       "      <td>259088</td>\n",
       "      <td>Simon</td>\n",
       "      <td>NaN</td>\n",
       "      <td>Islington</td>\n",
       "      <td>51.52264</td>\n",
       "      <td>-0.103230</td>\n",
       "      <td>Private room</td>\n",
       "      <td>180</td>\n",
       "      <td>4</td>\n",
       "      <td>349</td>\n",
       "      <td>2022-08-30</td>\n",
       "      <td>2.75</td>\n",
       "      <td>5</td>\n",
       "      <td>249</td>\n",
       "      <td>13</td>\n",
       "      <td>NaN</td>\n",
       "    </tr>\n",
       "    <tr>\n",
       "      <th>159</th>\n",
       "      <td>231854</td>\n",
       "      <td>Self Contained Stylish Loft Studio in Clerkenwell</td>\n",
       "      <td>259088</td>\n",
       "      <td>Simon</td>\n",
       "      <td>NaN</td>\n",
       "      <td>Islington</td>\n",
       "      <td>51.52153</td>\n",
       "      <td>-0.100400</td>\n",
       "      <td>Private room</td>\n",
       "      <td>147</td>\n",
       "      <td>4</td>\n",
       "      <td>419</td>\n",
       "      <td>2022-08-30</td>\n",
       "      <td>3.18</td>\n",
       "      <td>5</td>\n",
       "      <td>233</td>\n",
       "      <td>37</td>\n",
       "      <td>NaN</td>\n",
       "    </tr>\n",
       "    <tr>\n",
       "      <th>12212</th>\n",
       "      <td>13616561</td>\n",
       "      <td>Top Floor Luxury Loft Suite in Clerkenwell</td>\n",
       "      <td>259088</td>\n",
       "      <td>Simon</td>\n",
       "      <td>NaN</td>\n",
       "      <td>Islington</td>\n",
       "      <td>51.52254</td>\n",
       "      <td>-0.102030</td>\n",
       "      <td>Entire home/apt</td>\n",
       "      <td>150</td>\n",
       "      <td>4</td>\n",
       "      <td>68</td>\n",
       "      <td>2022-08-27</td>\n",
       "      <td>0.97</td>\n",
       "      <td>5</td>\n",
       "      <td>236</td>\n",
       "      <td>4</td>\n",
       "      <td>NaN</td>\n",
       "    </tr>\n",
       "    <tr>\n",
       "      <th>62558</th>\n",
       "      <td>663805484653712636</td>\n",
       "      <td>Lovely 1-bedroom duplex flat in Mayfair London</td>\n",
       "      <td>259088</td>\n",
       "      <td>Simon</td>\n",
       "      <td>NaN</td>\n",
       "      <td>Westminster</td>\n",
       "      <td>51.50525</td>\n",
       "      <td>-0.147214</td>\n",
       "      <td>Entire home/apt</td>\n",
       "      <td>300</td>\n",
       "      <td>1</td>\n",
       "      <td>4</td>\n",
       "      <td>2022-08-25</td>\n",
       "      <td>2.73</td>\n",
       "      <td>5</td>\n",
       "      <td>0</td>\n",
       "      <td>4</td>\n",
       "      <td>NaN</td>\n",
       "    </tr>\n",
       "  </tbody>\n",
       "</table>\n",
       "</div>"
      ],
      "text/plain": [
       "                       id                                               name  \\\n",
       "3                  107048               A Luxury Studio Suite in Clerkenwell   \n",
       "59                 304918                      Luxury Studio  in Clerkenwell   \n",
       "159                231854  Self Contained Stylish Loft Studio in Clerkenwell   \n",
       "12212            13616561         Top Floor Luxury Loft Suite in Clerkenwell   \n",
       "62558  663805484653712636     Lovely 1-bedroom duplex flat in Mayfair London   \n",
       "\n",
       "       host_id host_name  neighbourhood_group neighbourhood  latitude  \\\n",
       "3       259088     Simon                  NaN     Islington  51.52478   \n",
       "59      259088     Simon                  NaN     Islington  51.52264   \n",
       "159     259088     Simon                  NaN     Islington  51.52153   \n",
       "12212   259088     Simon                  NaN     Islington  51.52254   \n",
       "62558   259088     Simon                  NaN   Westminster  51.50525   \n",
       "\n",
       "       longitude        room_type  price  minimum_nights  number_of_reviews  \\\n",
       "3      -0.104840     Private room    180               4                493   \n",
       "59     -0.103230     Private room    180               4                349   \n",
       "159    -0.100400     Private room    147               4                419   \n",
       "12212  -0.102030  Entire home/apt    150               4                 68   \n",
       "62558  -0.147214  Entire home/apt    300               1                  4   \n",
       "\n",
       "      last_review  reviews_per_month  calculated_host_listings_count  \\\n",
       "3      2022-09-02               3.59                               5   \n",
       "59     2022-08-30               2.75                               5   \n",
       "159    2022-08-30               3.18                               5   \n",
       "12212  2022-08-27               0.97                               5   \n",
       "62558  2022-08-25               2.73                               5   \n",
       "\n",
       "       availability_365  number_of_reviews_ltm  license  \n",
       "3                   236                     20      NaN  \n",
       "59                  249                     13      NaN  \n",
       "159                 233                     37      NaN  \n",
       "12212               236                      4      NaN  \n",
       "62558                 0                      4      NaN  "
      ]
     },
     "execution_count": 17,
     "metadata": {},
     "output_type": "execute_result"
    }
   ],
   "source": [
    "data.loc[(data['host_name'] == 'Simon') & (data['calculated_host_listings_count'] == 5)]"
   ]
  },
  {
   "cell_type": "markdown",
   "metadata": {},
   "source": [
    "Атрибут \"room_type\" будет целевым признаком"
   ]
  },
  {
   "cell_type": "code",
   "execution_count": 18,
   "metadata": {},
   "outputs": [
    {
     "name": "stdout",
     "output_type": "stream",
     "text": [
      "17\n"
     ]
    }
   ],
   "source": [
    "# Поместим атрибут \"room_type\" в конец датафрейма\n",
    "Y = data['room_type']\n",
    "data = data.drop('room_type', axis=1)\n",
    "print(len(data.columns))\n",
    "# Y.head()\n",
    "# Y.shape"
   ]
  },
  {
   "cell_type": "code",
   "execution_count": 19,
   "metadata": {},
   "outputs": [],
   "source": [
    "data.insert(len(data.columns)-1, 'room_type', Y)"
   ]
  },
  {
   "cell_type": "code",
   "execution_count": 20,
   "metadata": {},
   "outputs": [
    {
     "name": "stdout",
     "output_type": "stream",
     "text": [
      "(69351, 18)\n",
      "RangeIndex(start=0, stop=69351, step=1)\n"
     ]
    },
    {
     "data": {
      "text/html": [
       "<div>\n",
       "<style scoped>\n",
       "    .dataframe tbody tr th:only-of-type {\n",
       "        vertical-align: middle;\n",
       "    }\n",
       "\n",
       "    .dataframe tbody tr th {\n",
       "        vertical-align: top;\n",
       "    }\n",
       "\n",
       "    .dataframe thead th {\n",
       "        text-align: right;\n",
       "    }\n",
       "</style>\n",
       "<table border=\"1\" class=\"dataframe\">\n",
       "  <thead>\n",
       "    <tr style=\"text-align: right;\">\n",
       "      <th></th>\n",
       "      <th>id</th>\n",
       "      <th>name</th>\n",
       "      <th>host_id</th>\n",
       "      <th>host_name</th>\n",
       "      <th>neighbourhood_group</th>\n",
       "      <th>neighbourhood</th>\n",
       "      <th>latitude</th>\n",
       "      <th>longitude</th>\n",
       "      <th>price</th>\n",
       "      <th>minimum_nights</th>\n",
       "      <th>number_of_reviews</th>\n",
       "      <th>last_review</th>\n",
       "      <th>reviews_per_month</th>\n",
       "      <th>calculated_host_listings_count</th>\n",
       "      <th>availability_365</th>\n",
       "      <th>number_of_reviews_ltm</th>\n",
       "      <th>room_type</th>\n",
       "      <th>license</th>\n",
       "    </tr>\n",
       "  </thead>\n",
       "  <tbody>\n",
       "    <tr>\n",
       "      <th>0</th>\n",
       "      <td>106332</td>\n",
       "      <td>Lovely large room, Bethnal Green</td>\n",
       "      <td>264345</td>\n",
       "      <td>Susie</td>\n",
       "      <td>NaN</td>\n",
       "      <td>Tower Hamlets</td>\n",
       "      <td>51.52874</td>\n",
       "      <td>-0.05396</td>\n",
       "      <td>55</td>\n",
       "      <td>3</td>\n",
       "      <td>65</td>\n",
       "      <td>2016-06-10</td>\n",
       "      <td>0.47</td>\n",
       "      <td>1</td>\n",
       "      <td>74</td>\n",
       "      <td>0</td>\n",
       "      <td>Private room</td>\n",
       "      <td>NaN</td>\n",
       "    </tr>\n",
       "    <tr>\n",
       "      <th>1</th>\n",
       "      <td>13913</td>\n",
       "      <td>Holiday London DB Room Let-on going</td>\n",
       "      <td>54730</td>\n",
       "      <td>Alina</td>\n",
       "      <td>NaN</td>\n",
       "      <td>Islington</td>\n",
       "      <td>51.56861</td>\n",
       "      <td>-0.11270</td>\n",
       "      <td>50</td>\n",
       "      <td>1</td>\n",
       "      <td>30</td>\n",
       "      <td>2022-07-15</td>\n",
       "      <td>0.20</td>\n",
       "      <td>2</td>\n",
       "      <td>343</td>\n",
       "      <td>9</td>\n",
       "      <td>Private room</td>\n",
       "      <td>NaN</td>\n",
       "    </tr>\n",
       "    <tr>\n",
       "      <th>2</th>\n",
       "      <td>284532</td>\n",
       "      <td>COSY STUDIO-FLAT WITH A GREAT  VIEW</td>\n",
       "      <td>1481412</td>\n",
       "      <td>Luca</td>\n",
       "      <td>NaN</td>\n",
       "      <td>Tower Hamlets</td>\n",
       "      <td>51.52851</td>\n",
       "      <td>-0.07426</td>\n",
       "      <td>90</td>\n",
       "      <td>5</td>\n",
       "      <td>42</td>\n",
       "      <td>2022-01-04</td>\n",
       "      <td>0.34</td>\n",
       "      <td>1</td>\n",
       "      <td>222</td>\n",
       "      <td>1</td>\n",
       "      <td>Entire home/apt</td>\n",
       "      <td>NaN</td>\n",
       "    </tr>\n",
       "    <tr>\n",
       "      <th>3</th>\n",
       "      <td>107048</td>\n",
       "      <td>A Luxury Studio Suite in Clerkenwell</td>\n",
       "      <td>259088</td>\n",
       "      <td>Simon</td>\n",
       "      <td>NaN</td>\n",
       "      <td>Islington</td>\n",
       "      <td>51.52478</td>\n",
       "      <td>-0.10484</td>\n",
       "      <td>180</td>\n",
       "      <td>4</td>\n",
       "      <td>493</td>\n",
       "      <td>2022-09-02</td>\n",
       "      <td>3.59</td>\n",
       "      <td>5</td>\n",
       "      <td>236</td>\n",
       "      <td>20</td>\n",
       "      <td>Private room</td>\n",
       "      <td>NaN</td>\n",
       "    </tr>\n",
       "    <tr>\n",
       "      <th>4</th>\n",
       "      <td>284603</td>\n",
       "      <td>Notting Hill church stay in Heaven!</td>\n",
       "      <td>1481851</td>\n",
       "      <td>Tania</td>\n",
       "      <td>NaN</td>\n",
       "      <td>Kensington and Chelsea</td>\n",
       "      <td>51.51464</td>\n",
       "      <td>-0.20004</td>\n",
       "      <td>297</td>\n",
       "      <td>14</td>\n",
       "      <td>6</td>\n",
       "      <td>2022-07-04</td>\n",
       "      <td>0.05</td>\n",
       "      <td>1</td>\n",
       "      <td>180</td>\n",
       "      <td>2</td>\n",
       "      <td>Entire home/apt</td>\n",
       "      <td>NaN</td>\n",
       "    </tr>\n",
       "  </tbody>\n",
       "</table>\n",
       "</div>"
      ],
      "text/plain": [
       "       id                                  name  host_id host_name  \\\n",
       "0  106332      Lovely large room, Bethnal Green   264345     Susie   \n",
       "1   13913   Holiday London DB Room Let-on going    54730     Alina   \n",
       "2  284532   COSY STUDIO-FLAT WITH A GREAT  VIEW  1481412      Luca   \n",
       "3  107048  A Luxury Studio Suite in Clerkenwell   259088     Simon   \n",
       "4  284603   Notting Hill church stay in Heaven!  1481851     Tania   \n",
       "\n",
       "   neighbourhood_group           neighbourhood  latitude  longitude  price  \\\n",
       "0                  NaN           Tower Hamlets  51.52874   -0.05396     55   \n",
       "1                  NaN               Islington  51.56861   -0.11270     50   \n",
       "2                  NaN           Tower Hamlets  51.52851   -0.07426     90   \n",
       "3                  NaN               Islington  51.52478   -0.10484    180   \n",
       "4                  NaN  Kensington and Chelsea  51.51464   -0.20004    297   \n",
       "\n",
       "   minimum_nights  number_of_reviews last_review  reviews_per_month  \\\n",
       "0               3                 65  2016-06-10               0.47   \n",
       "1               1                 30  2022-07-15               0.20   \n",
       "2               5                 42  2022-01-04               0.34   \n",
       "3               4                493  2022-09-02               3.59   \n",
       "4              14                  6  2022-07-04               0.05   \n",
       "\n",
       "   calculated_host_listings_count  availability_365  number_of_reviews_ltm  \\\n",
       "0                               1                74                      0   \n",
       "1                               2               343                      9   \n",
       "2                               1               222                      1   \n",
       "3                               5               236                     20   \n",
       "4                               1               180                      2   \n",
       "\n",
       "         room_type  license  \n",
       "0     Private room      NaN  \n",
       "1     Private room      NaN  \n",
       "2  Entire home/apt      NaN  \n",
       "3     Private room      NaN  \n",
       "4  Entire home/apt      NaN  "
      ]
     },
     "execution_count": 20,
     "metadata": {},
     "output_type": "execute_result"
    }
   ],
   "source": [
    "print(data.shape)\n",
    "print(data.index)\n",
    "data.head()"
   ]
  },
  {
   "cell_type": "markdown",
   "metadata": {},
   "source": [
    "Таким образом имеет 15 признаков для каждого экземпляра и 1 целевой признак. Установим соотношение классов."
   ]
  },
  {
   "cell_type": "code",
   "execution_count": 21,
   "metadata": {},
   "outputs": [
    {
     "name": "stdout",
     "output_type": "stream",
     "text": [
      "['Entire home/apt' 'Hotel room' 'Private room' 'Shared room'] [41224   244 27479   404]\n"
     ]
    }
   ],
   "source": [
    "values, counts = np.unique(Y, return_counts = True)\n",
    "print(values, counts)"
   ]
  },
  {
   "cell_type": "markdown",
   "metadata": {},
   "source": [
    "### 2.1 Визуализация и описательная статистика "
   ]
  },
  {
   "cell_type": "markdown",
   "metadata": {},
   "source": [
    "Получим сводную информацию о данных с помощью функции describe:  \n",
    "- count - количество элементов в столбце\n",
    "- mean - среднее значение элементов\n",
    "- std - стандартное отклонение значения\n",
    "- min - минимальное значение\n",
    "- 25% - нижний квартиль (25% значений меньше нижнего квартиля и 75% значений больше нижнего квартиля)\n",
    "- 50% - медиана (50% значений меньше (ниже, левее) медианы и 50% больше (выше, правее) медианы)\n",
    "- 75% - верхний квартиль (75% значений меньше верхнего квартиля и 25% значений больше верхнего квартиля)\n",
    "- max - максимальное значениe\n",
    "* freq - количество самого частого объекта (object)"
   ]
  },
  {
   "cell_type": "code",
   "execution_count": 22,
   "metadata": {},
   "outputs": [],
   "source": [
    "#data.describe()"
   ]
  },
  {
   "cell_type": "code",
   "execution_count": 23,
   "metadata": {},
   "outputs": [],
   "source": [
    "#data.describe(include='object')"
   ]
  },
  {
   "cell_type": "code",
   "execution_count": 24,
   "metadata": {},
   "outputs": [],
   "source": [
    "#data[data['host_name'] == 'Alex']"
   ]
  },
  {
   "cell_type": "markdown",
   "metadata": {},
   "source": [
    "На матрице диаграмм рассеивания наблюдается зависимость между числом отзывов ('number_of_reviews') и количеством отзывов в месяц ('reviews_per_month'), а также с этими двумя признаками коррелирует признак 'number_of_reviews_ltr'."
   ]
  },
  {
   "cell_type": "code",
   "execution_count": 25,
   "metadata": {},
   "outputs": [],
   "source": [
    "#data.corr()"
   ]
  },
  {
   "cell_type": "code",
   "execution_count": 26,
   "metadata": {},
   "outputs": [],
   "source": [
    "#sns.heatmap(data.corr(), square=True, cmap='coolwarm')\n",
    "#pass"
   ]
  },
  {
   "cell_type": "code",
   "execution_count": 27,
   "metadata": {},
   "outputs": [],
   "source": [
    "#data.corr() > 0.5"
   ]
  },
  {
   "cell_type": "code",
   "execution_count": 28,
   "metadata": {},
   "outputs": [],
   "source": [
    "#data.corr().where(np.triu(data.corr() > 0.5, k=1)).stack().sort_values(ascending=False)"
   ]
  },
  {
   "cell_type": "code",
   "execution_count": 29,
   "metadata": {},
   "outputs": [],
   "source": [
    "#sns.histplot(data['number_of_reviews'], bins=15)\n",
    "#plt.grid()\n",
    "#pass"
   ]
  },
  {
   "cell_type": "code",
   "execution_count": 30,
   "metadata": {},
   "outputs": [],
   "source": [
    "#sns.jointplot(data=data, x='number_of_reviews', y='reviews_per_month',kind=\"reg\", marginal_kws=dict(bins=25, fill=True)) # alpha=0.5\n",
    "#sns.jointplot(data=data, x='number_of_reviews', y='reviews_per_month', alpha=0.05) "
   ]
  },
  {
   "cell_type": "markdown",
   "metadata": {},
   "source": [
    "Ящик с усами"
   ]
  },
  {
   "cell_type": "code",
   "execution_count": 31,
   "metadata": {},
   "outputs": [],
   "source": [
    "#sns.boxplot(data=data, x='room_type', y=\"price\")\n",
    "#pass"
   ]
  },
  {
   "cell_type": "code",
   "execution_count": 32,
   "metadata": {},
   "outputs": [],
   "source": [
    "#sns.boxplot(data=data, x='room_type', y=\"number_of_reviews\")\n",
    "#pass"
   ]
  },
  {
   "cell_type": "code",
   "execution_count": 33,
   "metadata": {},
   "outputs": [],
   "source": [
    "# sns.boxplot(data=data, x='room_type', y=\"availability_365\")\n",
    "# pass"
   ]
  },
  {
   "cell_type": "code",
   "execution_count": 34,
   "metadata": {},
   "outputs": [],
   "source": [
    "# plt.plot(data['reviews_per_month'], data['availability_365'], 'o', alpha = 0.05)\n",
    "# plt.xlabel('reviews_per_month')\n",
    "# plt.ylabel('availability_365')\n",
    "# plt.title('reviews_per_month vs availability_365')\n",
    "# pass"
   ]
  },
  {
   "cell_type": "code",
   "execution_count": 35,
   "metadata": {},
   "outputs": [],
   "source": [
    "# plt.plot(data['number_of_reviews_ltm'], data['number_of_reviews'], 'o', alpha = 0.05)\n",
    "# plt.xlabel('number_of_reviews_ltm')\n",
    "# plt.ylabel('number_of_reviews')\n",
    "# plt.title('number_of_reviews_ltm vs number_of_reviews')\n",
    "# pass"
   ]
  },
  {
   "cell_type": "code",
   "execution_count": 36,
   "metadata": {},
   "outputs": [],
   "source": [
    "# plt.plot(data['host_id'], data['number_of_reviews'], 'o', alpha = 0.05)\n",
    "# plt.xlabel('host_id')\n",
    "# plt.ylabel('number_of_reviews')\n",
    "# plt.title('host_id vs number_of_reviews')\n",
    "# pass"
   ]
  },
  {
   "cell_type": "code",
   "execution_count": 37,
   "metadata": {},
   "outputs": [],
   "source": [
    "# plt.figure(figsize = (10, 6))\n",
    "\n",
    "# colors = ['b', 'r', 'g', 'y']\n",
    "\n",
    "# for i in range(0, len(data['room_type'].unique())):\n",
    "#   plt.scatter(data[data['room_type'] == data['room_type'].unique()[i]]['availability_365'],\n",
    "#               data[data['room_type'] == data['room_type'].unique()[i]]['price'],\n",
    "#               alpha = 0.15,\n",
    "#               label = data['room_type'].unique()[i],\n",
    "#               color = colors[i])\n",
    "\n",
    "# plt.xlabel('availability_365')\n",
    "# #plt.xticks(range(365))\n",
    "# #plt.xlim(0, 365)\n",
    "# plt.ylabel('price')\n",
    "# plt.legend()\n",
    "# plt.grid()"
   ]
  },
  {
   "cell_type": "code",
   "execution_count": 38,
   "metadata": {},
   "outputs": [],
   "source": [
    "# plt.figure(figsize = (10, 6))\n",
    "\n",
    "# colors = ['b', 'r', 'g', 'y']\n",
    "\n",
    "# for i in range(0, len(data['room_type'].unique())):\n",
    "#   plt.scatter(data[data['room_type'] == data['room_type'].unique()[i]]['price'],\n",
    "#               data[data['room_type'] == data['room_type'].unique()[i]]['availability_365'],\n",
    "#               alpha = 0.15,\n",
    "#               label = data['room_type'].unique()[i],\n",
    "#               color = colors[i])\n",
    "\n",
    "# plt.xlabel('price')\n",
    "# plt.xticks(np.arange(0, 1800, step=200))\n",
    "# plt.xlim(0, 1800)\n",
    "# plt.ylabel('availability_365')\n",
    "# plt.legend()\n",
    "# plt.grid()"
   ]
  },
  {
   "cell_type": "code",
   "execution_count": 39,
   "metadata": {},
   "outputs": [],
   "source": [
    "# plt.figure(figsize = (10, 6))\n",
    "\n",
    "# colors = ['w', 'w', 'w', 'y']\n",
    "\n",
    "# for i in range(0, len(data['room_type'].unique())):\n",
    "#   plt.scatter(data[data['room_type'] == data['room_type'].unique()[i]]['host_id'],\n",
    "#               data[data['room_type'] == data['room_type'].unique()[i]]['number_of_reviews'],\n",
    "#               alpha = 0.15,\n",
    "#               label = data['room_type'].unique()[i],\n",
    "#               color = colors[i])\n",
    "\n",
    "# plt.xlabel('host_id')\n",
    "# plt.xlim(0)\n",
    "# plt.ylabel('number_of_reviews')\n",
    "# plt.yticks(np.arange(0, 255, 50))\n",
    "# plt.ylim(0, 255)\n",
    "# plt.legend()\n",
    "# plt.grid()"
   ]
  },
  {
   "cell_type": "code",
   "execution_count": 40,
   "metadata": {},
   "outputs": [],
   "source": [
    "# plt.figure(figsize = (10, 6))\n",
    "\n",
    "# colors = ['b', 'w', 'w', 'w']\n",
    "\n",
    "# for i in range(0, len(data['room_type'].unique())):\n",
    "#   plt.scatter(data[data['room_type'] == data['room_type'].unique()[i]]['host_id'],\n",
    "#               data[data['room_type'] == data['room_type'].unique()[i]]['number_of_reviews'],\n",
    "#               alpha = 0.15,\n",
    "#               label = data['room_type'].unique()[i],\n",
    "#               color = colors[i])\n",
    "\n",
    "# plt.xlabel('host_id')\n",
    "# plt.xlim(0)\n",
    "# plt.ylabel('number_of_reviews')\n",
    "# plt.yticks(np.arange(0, 255, 50))\n",
    "# plt.ylim(0, 255)\n",
    "# plt.legend()\n",
    "# plt.grid()"
   ]
  },
  {
   "cell_type": "code",
   "execution_count": 41,
   "metadata": {},
   "outputs": [],
   "source": [
    "# plt.figure(figsize = (10, 6))\n",
    "\n",
    "# colors = ['w', 'r', 'w', 'w']\n",
    "\n",
    "# for i in range(0, len(data['room_type'].unique())):\n",
    "#   plt.scatter(data[data['room_type'] == data['room_type'].unique()[i]]['host_id'],\n",
    "#               data[data['room_type'] == data['room_type'].unique()[i]]['number_of_reviews'],\n",
    "#               alpha = 0.15,\n",
    "#               label = data['room_type'].unique()[i],\n",
    "#               color = colors[i])\n",
    "\n",
    "# plt.xlabel('host_id')\n",
    "# plt.xlim(0)\n",
    "# plt.ylabel('number_of_reviews')\n",
    "# plt.yticks(np.arange(0, 255, 50))\n",
    "# plt.ylim(0, 255)\n",
    "# plt.legend()\n",
    "# plt.grid()"
   ]
  },
  {
   "cell_type": "code",
   "execution_count": 42,
   "metadata": {},
   "outputs": [],
   "source": [
    "# plt.figure(figsize = (10, 6))\n",
    "\n",
    "# colors = ['w', 'w', 'g', 'w']\n",
    "\n",
    "# for i in range(0, len(data['room_type'].unique())):\n",
    "#   plt.scatter(data[data['room_type'] == data['room_type'].unique()[i]]['host_id'],\n",
    "#               data[data['room_type'] == data['room_type'].unique()[i]]['number_of_reviews'],\n",
    "#               alpha = 0.15,\n",
    "#               label = data['room_type'].unique()[i],\n",
    "#               color = colors[i])\n",
    "\n",
    "# plt.xlabel('host_id')\n",
    "# plt.xlim(0)\n",
    "# plt.ylabel('number_of_reviews')\n",
    "# plt.yticks(np.arange(0, 255, 50))\n",
    "# plt.ylim(0, 255)\n",
    "# plt.legend()\n",
    "# plt.grid()"
   ]
  },
  {
   "cell_type": "markdown",
   "metadata": {},
   "source": [
    "Между количеством отзывов и идентификатором хоста нет зависимости, но можно увидеть, что значения \"общей комнаты\" (\"shared room\") и комнаты в отеле (\"hotel room\") являются редкими и зачастую ими занимаются одни и теже хосты. Связь в постоянстве класса сдаваемых хостами жилых помещений очевидна и для оставшихся двух признаках, но там это менее заметно, в силу большой распространенности услуг по сдаче отдельных комнат и целых домов (синие и красные). Синие точки больше отрываются от оси абцисс (host_id), так как отзывов на дешевые и многочисленные по количеству объявлений отдельные комнаты больше. В тоже время для ещё более многочисленного класса \"весь дом/квартира\" (\"entire home/apt\") - красные точки - заметно приближение к оси абции и кучкование там, т.е. отзывов меньше, что разумно в силу дороговизны таких аренд. Тем не менее для синих и красных точек существуют и объявления с большим числом отзывов."
   ]
  },
  {
   "cell_type": "markdown",
   "metadata": {},
   "source": [
    "### 3. Пропущенные значения"
   ]
  },
  {
   "cell_type": "markdown",
   "metadata": {},
   "source": [
    "#### 1-й способ"
   ]
  },
  {
   "cell_type": "code",
   "execution_count": 43,
   "metadata": {},
   "outputs": [
    {
     "name": "stdout",
     "output_type": "stream",
     "text": [
      "[ 1  3  4 11 12 17]\n",
      "[   21     5 69351 16780 16780 69351]\n",
      "172288\n"
     ]
    }
   ],
   "source": [
    "# Массив индексов и столбцов, где значение равно NaN\n",
    "indexNan, columnNan = np.where(pd.isnull(data))\n",
    "# Выделим значения столбцов и подсчитаем, сколько раз в каждом столбце встречается значение NaN\n",
    "values, counts = np.unique(columnNan, return_counts = True)\n",
    "print(values)\n",
    "print(counts)\n",
    "print(counts.sum())"
   ]
  },
  {
   "cell_type": "markdown",
   "metadata": {},
   "source": [
    "Таким образом мы имеем 172288 пропущенных значений (ячейки со значением NaN) из 1206540 ячеек."
   ]
  },
  {
   "cell_type": "code",
   "execution_count": 44,
   "metadata": {},
   "outputs": [
    {
     "name": "stdout",
     "output_type": "stream",
     "text": [
      "14.279510003812556\n",
      "14.613470945327562\n",
      "name\n",
      "host_name\n",
      "neighbourhood_group\n",
      "last_review\n",
      "reviews_per_month\n",
      "license\n"
     ]
    }
   ],
   "source": [
    "# Процентное соотношение\n",
    "# 1206540 18 признаков\n",
    "print(172288/(1206540/100))\n",
    "# 1178967 17 признаков без целевого\n",
    "print(172288/(1178967/100))\n",
    "# Посмотрим, что содержится под этими индексами\n",
    "for columnIndex in values:\n",
    "  print(data.columns[columnIndex])"
   ]
  },
  {
   "cell_type": "code",
   "execution_count": 45,
   "metadata": {},
   "outputs": [
    {
     "name": "stdout",
     "output_type": "stream",
     "text": [
      "0\n",
      "21\n"
     ]
    }
   ],
   "source": [
    "print(data['neighbourhood'].isna().sum())\n",
    "print(data['name'].isna().sum())"
   ]
  },
  {
   "cell_type": "markdown",
   "metadata": {},
   "source": [
    "#### 2-й способ"
   ]
  },
  {
   "cell_type": "code",
   "execution_count": 46,
   "metadata": {},
   "outputs": [
    {
     "data": {
      "text/plain": [
       "id                                    0\n",
       "name                                 21\n",
       "host_id                               0\n",
       "host_name                             5\n",
       "neighbourhood_group               69351\n",
       "neighbourhood                         0\n",
       "latitude                              0\n",
       "longitude                             0\n",
       "price                                 0\n",
       "minimum_nights                        0\n",
       "number_of_reviews                     0\n",
       "last_review                       16780\n",
       "reviews_per_month                 16780\n",
       "calculated_host_listings_count        0\n",
       "availability_365                      0\n",
       "number_of_reviews_ltm                 0\n",
       "room_type                             0\n",
       "license                           69351\n",
       "dtype: int64"
      ]
     },
     "execution_count": 46,
     "metadata": {},
     "output_type": "execute_result"
    }
   ],
   "source": [
    "data.isna().sum()"
   ]
  },
  {
   "cell_type": "code",
   "execution_count": 47,
   "metadata": {},
   "outputs": [
    {
     "data": {
      "text/plain": [
       "172288"
      ]
     },
     "execution_count": 47,
     "metadata": {},
     "output_type": "execute_result"
    }
   ],
   "source": [
    "data.isna().sum().sum()"
   ]
  },
  {
   "cell_type": "code",
   "execution_count": 48,
   "metadata": {},
   "outputs": [
    {
     "data": {
      "text/plain": [
       "id                                  0.000000\n",
       "name                                0.030281\n",
       "host_id                             0.000000\n",
       "host_name                           0.007210\n",
       "neighbourhood_group               100.000000\n",
       "neighbourhood                       0.000000\n",
       "latitude                            0.000000\n",
       "longitude                           0.000000\n",
       "price                               0.000000\n",
       "minimum_nights                      0.000000\n",
       "number_of_reviews                   0.000000\n",
       "last_review                        24.195758\n",
       "reviews_per_month                  24.195758\n",
       "calculated_host_listings_count      0.000000\n",
       "availability_365                    0.000000\n",
       "number_of_reviews_ltm               0.000000\n",
       "room_type                           0.000000\n",
       "license                           100.000000\n",
       "dtype: float64"
      ]
     },
     "execution_count": 48,
     "metadata": {},
     "output_type": "execute_result"
    }
   ],
   "source": [
    "pd.set_option('display.max_rows', None)\n",
    "(data.isnull() * 100 / len(data)).sum()"
   ]
  },
  {
   "cell_type": "code",
   "execution_count": 49,
   "metadata": {},
   "outputs": [
    {
     "data": {
      "text/plain": [
       "172288"
      ]
     },
     "execution_count": 49,
     "metadata": {},
     "output_type": "execute_result"
    }
   ],
   "source": [
    "iop = len(data)/100 # in one percent\n",
    "res = 0\n",
    "for val in (data.isnull() * 100 / len(data)).sum():\n",
    "  res += iop*val\n",
    "int(res)"
   ]
  },
  {
   "cell_type": "code",
   "execution_count": 50,
   "metadata": {},
   "outputs": [
    {
     "data": {
      "text/plain": [
       "14.613470945327562"
      ]
     },
     "execution_count": 50,
     "metadata": {},
     "output_type": "execute_result"
    }
   ],
   "source": [
    "# Процентное соотношение пропущенных значений до удаления столбцов, где пропущено 100% данных\n",
    "res = data.isna().sum().sum()/((data.shape[0]*(data.shape[1]-1))/100) # 100%\n",
    "res"
   ]
  },
  {
   "cell_type": "markdown",
   "metadata": {},
   "source": [
    "Столбцы \"neighbourhood_group\" и \"license\" имеют всеми значениями NaN, поэтому их стоит удалить. Остается 4 признака, с пропущенными значениями которых будем работать."
   ]
  },
  {
   "cell_type": "code",
   "execution_count": 51,
   "metadata": {},
   "outputs": [
    {
     "name": "stdout",
     "output_type": "stream",
     "text": [
      "RangeIndex(start=0, stop=69351, step=1)\n"
     ]
    }
   ],
   "source": [
    "# Удаление столбцов\n",
    "data = data.drop(['neighbourhood_group', 'license'], axis=1)\n",
    "print(data.index)"
   ]
  },
  {
   "cell_type": "code",
   "execution_count": 52,
   "metadata": {},
   "outputs": [
    {
     "data": {
      "text/plain": [
       "3.2286004047045704"
      ]
     },
     "execution_count": 52,
     "metadata": {},
     "output_type": "execute_result"
    }
   ],
   "source": [
    "# Процентное соотношение пропущенных значений после удаления столбцов, где пропущено 100% данных#\n",
    "res = data.isna().sum().sum()/((data.shape[0]*(data.shape[1]-1))/100) # 100%\n",
    "res"
   ]
  },
  {
   "cell_type": "code",
   "execution_count": 53,
   "metadata": {},
   "outputs": [],
   "source": [
    "#pd.set_option('display.max_rows', None) # вывести на экран все строки\n",
    "pd.set_option('display.max_rows', 20) # ограничить вывод строк n штуками"
   ]
  },
  {
   "cell_type": "markdown",
   "metadata": {},
   "source": [
    "#### Заполнение пропущенных значений"
   ]
  },
  {
   "cell_type": "markdown",
   "metadata": {},
   "source": [
    "Числовые значения - медиана"
   ]
  },
  {
   "cell_type": "code",
   "execution_count": 54,
   "metadata": {},
   "outputs": [
    {
     "name": "stdout",
     "output_type": "stream",
     "text": [
      "0\n"
     ]
    },
    {
     "data": {
      "text/plain": [
       "id                                    0\n",
       "name                                 21\n",
       "host_id                               0\n",
       "host_name                             5\n",
       "neighbourhood                         0\n",
       "latitude                              0\n",
       "longitude                             0\n",
       "price                                 0\n",
       "minimum_nights                        0\n",
       "number_of_reviews                     0\n",
       "last_review                       16780\n",
       "reviews_per_month                     0\n",
       "calculated_host_listings_count        0\n",
       "availability_365                      0\n",
       "number_of_reviews_ltm                 0\n",
       "room_type                             0\n",
       "dtype: int64"
      ]
     },
     "execution_count": 54,
     "metadata": {},
     "output_type": "execute_result"
    }
   ],
   "source": [
    "data['reviews_per_month'].fillna(data['reviews_per_month'].median(axis = 0), axis=0 , inplace=True)\n",
    "print(data['reviews_per_month'].isnull().sum())\n",
    "data.isna().sum()  "
   ]
  },
  {
   "cell_type": "markdown",
   "metadata": {},
   "source": [
    "Категориальные признаки (category или object) - мода "
   ]
  },
  {
   "cell_type": "code",
   "execution_count": 55,
   "metadata": {},
   "outputs": [],
   "source": [
    "data['name'].fillna(data['name'].mode().iloc[0], inplace=True)\n",
    "data['last_review'].fillna(data['last_review'].mode().iloc[0], inplace=True)\n",
    "data['host_name'].fillna(data['host_name'].mode().iloc[0], inplace=True)"
   ]
  },
  {
   "cell_type": "code",
   "execution_count": 56,
   "metadata": {},
   "outputs": [
    {
     "name": "stdout",
     "output_type": "stream",
     "text": [
      "RangeIndex(start=0, stop=69351, step=1)\n"
     ]
    },
    {
     "data": {
      "text/plain": [
       "id                                0\n",
       "name                              0\n",
       "host_id                           0\n",
       "host_name                         0\n",
       "neighbourhood                     0\n",
       "latitude                          0\n",
       "longitude                         0\n",
       "price                             0\n",
       "minimum_nights                    0\n",
       "number_of_reviews                 0\n",
       "last_review                       0\n",
       "reviews_per_month                 0\n",
       "calculated_host_listings_count    0\n",
       "availability_365                  0\n",
       "number_of_reviews_ltm             0\n",
       "room_type                         0\n",
       "dtype: int64"
      ]
     },
     "execution_count": 56,
     "metadata": {},
     "output_type": "execute_result"
    }
   ],
   "source": [
    "print(data.index) \n",
    "data.isna().sum()\n"
   ]
  },
  {
   "cell_type": "markdown",
   "metadata": {},
   "source": [
    "### Выбросы"
   ]
  },
  {
   "cell_type": "markdown",
   "metadata": {},
   "source": [
    "#### Минимум ночей и количество отзывов"
   ]
  },
  {
   "cell_type": "markdown",
   "metadata": {},
   "source": [
    "Предположим, что количество отзывов зависит от минимума ночей, которые нужно оплатить "
   ]
  },
  {
   "cell_type": "code",
   "execution_count": 57,
   "metadata": {},
   "outputs": [
    {
     "data": {
      "image/png": "[encoded data removed]",
      "text/plain": [
       "<Figure size 700x700 with 1 Axes>"
      ]
     },
     "metadata": {},
     "output_type": "display_data"
    }
   ],
   "source": [
    "plt.figure(figsize=(7, 7))\n",
    "plt.scatter(data['number_of_reviews'], data['minimum_nights'], marker = 'o', color = 'blue', s = 10)\n",
    "plt.xlabel('number of reviews')\n",
    "plt.ylabel('minimum nights')\n",
    "pass"
   ]
  },
  {
   "cell_type": "markdown",
   "metadata": {},
   "source": [
    "В левом нижнем углу, где наименьшие значения по минимальному количеству ночей и отзывам скопилось много точек, так как это очевидно наиболее распространенные услуги. Также заметно, что скопление точек расползается вдоль оси отзывов по той же причине и на треть меньше вдоль оси минимума ночей аренды. Выбросами будут являться значения минимума ночей более 400 и отзывы более 800, так как они сильно отличаются от основной массы. Скорее всего, это не ошибки в данных, но есть и такая возможность, но выбросы в любом случае мешают построить решающее правило, поэтому их рекомендуется выбрасывать. "
   ]
  },
  {
   "cell_type": "markdown",
   "metadata": {},
   "source": [
    "Для обнаружения выбросов найдем квантили для признаков \"number_of_reviews\" и \"minimum_nights\" "
   ]
  },
  {
   "cell_type": "code",
   "execution_count": 58,
   "metadata": {},
   "outputs": [
    {
     "data": {
      "text/plain": [
       "0.005      0.0\n",
       "0.010      0.0\n",
       "0.050      0.0\n",
       "0.100      0.0\n",
       "0.500      4.0\n",
       "0.900     46.0\n",
       "0.950     80.0\n",
       "0.990    199.0\n",
       "0.995    255.0\n",
       "Name: number_of_reviews, dtype: float64"
      ]
     },
     "execution_count": 58,
     "metadata": {},
     "output_type": "execute_result"
    }
   ],
   "source": [
    "data['number_of_reviews'].quantile([0.005,.01,.05,.1,.5,.9,.95,.99,.995])"
   ]
  },
  {
   "cell_type": "markdown",
   "metadata": {},
   "source": [
    "99% всех значений признака 'number_of_reviews' находится в диапазоне от 0 до 255"
   ]
  },
  {
   "cell_type": "code",
   "execution_count": 59,
   "metadata": {},
   "outputs": [
    {
     "data": {
      "text/plain": [
       "0.005     1.0\n",
       "0.010     1.0\n",
       "0.050     1.0\n",
       "0.100     1.0\n",
       "0.500     2.0\n",
       "0.900     7.0\n",
       "0.950    15.0\n",
       "0.990    90.0\n",
       "0.995    91.0\n",
       "Name: minimum_nights, dtype: float64"
      ]
     },
     "execution_count": 59,
     "metadata": {},
     "output_type": "execute_result"
    }
   ],
   "source": [
    "data['minimum_nights'].quantile([0.005,.01,.05,.1,.5,.9,.95,.99,.995])"
   ]
  },
  {
   "cell_type": "markdown",
   "metadata": {},
   "source": [
    "99% всех значений признака 'minimum_nights' находится в диапазоне от 1 до 91"
   ]
  },
  {
   "cell_type": "markdown",
   "metadata": {},
   "source": [
    "Удалим все строки, в которых 'number_of_reviews' или 'minimum_nights' выходят за пределы квантилей 0.005 и 0.995"
   ]
  },
  {
   "cell_type": "code",
   "execution_count": 60,
   "metadata": {},
   "outputs": [
    {
     "name": "stdout",
     "output_type": "stream",
     "text": [
      "Int64Index([    0,     1,     2,     4,     5,     7,     8,     9,    10,\n",
      "               11,\n",
      "            ...\n",
      "            69340, 69341, 69342, 69343, 69345, 69346, 69347, 69348, 69349,\n",
      "            69350],\n",
      "           dtype='int64', length=68683)\n",
      "RangeIndex(start=0, stop=68683, step=1)\n",
      "(68683, 17)\n"
     ]
    },
    {
     "data": {
      "text/plain": [
       "Int64Index([    3,     6,    26,    31,    54,    59,    75,    91,   101,\n",
       "              114,\n",
       "            ...\n",
       "            68580, 68713, 68770, 68837, 68862, 68898, 68900, 68920, 69138,\n",
       "            69344],\n",
       "           dtype='int64', length=668)"
      ]
     },
     "execution_count": 60,
     "metadata": {},
     "output_type": "execute_result"
    }
   ],
   "source": [
    "rows_to_drop = data[\n",
    "    (data['number_of_reviews'] < data['number_of_reviews'].quantile(0.005)) | (data['number_of_reviews'] > data['number_of_reviews'].quantile(0.995)) | \n",
    "    (data['minimum_nights']  < data['minimum_nights' ].quantile(0.005)) | (data['minimum_nights']  > data['minimum_nights' ].quantile(0.995))].index\n",
    "data.drop(rows_to_drop, inplace=True)\n",
    "print(data.index)\n",
    "data.reset_index(inplace=True)\n",
    "print(data.index)\n",
    "print(data.shape)\n",
    "rows_to_drop"
   ]
  },
  {
   "cell_type": "markdown",
   "metadata": {},
   "source": [
    "#### Широта и долгота Лондона"
   ]
  },
  {
   "cell_type": "markdown",
   "metadata": {},
   "source": [
    "latitude and longitude coordinates for London (United Kingdom): 51.50853, -0.12574"
   ]
  },
  {
   "cell_type": "code",
   "execution_count": 61,
   "metadata": {},
   "outputs": [
    {
     "data": {
      "image/png": "[encoded data removed]",
      "text/plain": [
       "<Figure size 700x700 with 1 Axes>"
      ]
     },
     "metadata": {},
     "output_type": "display_data"
    }
   ],
   "source": [
    "plt.figure(figsize=(7, 7))\n",
    "plt.scatter(data['latitude'], data['longitude'], marker = 'o', color = 'blue', s = 10)\n",
    "plt.scatter(51.50853, -0.12574, marker = '*', color = 'red', s = 50)\n",
    "plt.xlabel('latitude')\n",
    "plt.ylabel('longitude')\n",
    "pass"
   ]
  },
  {
   "cell_type": "markdown",
   "metadata": {},
   "source": [
    "#### Дата (представлена типом данных строка)"
   ]
  },
  {
   "cell_type": "code",
   "execution_count": 62,
   "metadata": {},
   "outputs": [
    {
     "data": {
      "image/png": "[encoded data removed]",
      "text/plain": [
       "<Figure size 700x700 with 1 Axes>"
      ]
     },
     "metadata": {},
     "output_type": "display_data"
    }
   ],
   "source": [
    "dataYLRNA = np.empty(0, dtype='str') # data Year Last Review np.array \n",
    "for i in range(0, len(data['last_review'])):\n",
    "  dataYLRNA = np.append(dataYLRNA, data['last_review'][i][0:4])\n",
    "\n",
    "dataYLRNA = pd.DataFrame({'year': dataYLRNA})\n",
    "\n",
    "# last_review number_of_reviews\n",
    "plt.figure(figsize=(7, 7))\n",
    "plt.scatter(dataYLRNA['year'], data['number_of_reviews'], marker = 'o', color = 'blue', s = 10)\n",
    "plt.xlabel('last_review')\n",
    "plt.ylabel('number_of_reviews')\n",
    "pass"
   ]
  },
  {
   "cell_type": "code",
   "execution_count": 63,
   "metadata": {},
   "outputs": [
    {
     "data": {
      "image/png": "[encoded data removed]",
      "text/plain": [
       "<Figure size 640x480 with 1 Axes>"
      ]
     },
     "metadata": {},
     "output_type": "display_data"
    }
   ],
   "source": [
    "dataYLRNA.apply(pd.value_counts).plot(kind='bar')\n",
    "pass"
   ]
  },
  {
   "cell_type": "markdown",
   "metadata": {},
   "source": [
    "Данных за 2011-2014 года сравнительно мало, поэтому от них можно избавиться, датасет собран в основном из актуальной инормации за 22 год. Для этого добавим в наш датасет идентификационный столбец с годом, чтобы определить строки (экземпляры), которые требуется удалить. "
   ]
  },
  {
   "cell_type": "code",
   "execution_count": 64,
   "metadata": {},
   "outputs": [
    {
     "data": {
      "text/html": [
       "<div>\n",
       "<style scoped>\n",
       "    .dataframe tbody tr th:only-of-type {\n",
       "        vertical-align: middle;\n",
       "    }\n",
       "\n",
       "    .dataframe tbody tr th {\n",
       "        vertical-align: top;\n",
       "    }\n",
       "\n",
       "    .dataframe thead th {\n",
       "        text-align: right;\n",
       "    }\n",
       "</style>\n",
       "<table border=\"1\" class=\"dataframe\">\n",
       "  <thead>\n",
       "    <tr style=\"text-align: right;\">\n",
       "      <th></th>\n",
       "      <th>index</th>\n",
       "      <th>id</th>\n",
       "      <th>name</th>\n",
       "      <th>host_id</th>\n",
       "      <th>host_name</th>\n",
       "      <th>neighbourhood</th>\n",
       "      <th>latitude</th>\n",
       "      <th>longitude</th>\n",
       "      <th>price</th>\n",
       "      <th>minimum_nights</th>\n",
       "      <th>number_of_reviews</th>\n",
       "      <th>last_review</th>\n",
       "      <th>reviews_per_month</th>\n",
       "      <th>calculated_host_listings_count</th>\n",
       "      <th>availability_365</th>\n",
       "      <th>number_of_reviews_ltm</th>\n",
       "      <th>year</th>\n",
       "      <th>room_type</th>\n",
       "    </tr>\n",
       "  </thead>\n",
       "  <tbody>\n",
       "    <tr>\n",
       "      <th>0</th>\n",
       "      <td>0</td>\n",
       "      <td>106332</td>\n",
       "      <td>Lovely large room, Bethnal Green</td>\n",
       "      <td>264345</td>\n",
       "      <td>Susie</td>\n",
       "      <td>Tower Hamlets</td>\n",
       "      <td>51.52874</td>\n",
       "      <td>-0.05396</td>\n",
       "      <td>55</td>\n",
       "      <td>3</td>\n",
       "      <td>65</td>\n",
       "      <td>2016-06-10</td>\n",
       "      <td>0.47</td>\n",
       "      <td>1</td>\n",
       "      <td>74</td>\n",
       "      <td>0</td>\n",
       "      <td>2016</td>\n",
       "      <td>Private room</td>\n",
       "    </tr>\n",
       "    <tr>\n",
       "      <th>1</th>\n",
       "      <td>1</td>\n",
       "      <td>13913</td>\n",
       "      <td>Holiday London DB Room Let-on going</td>\n",
       "      <td>54730</td>\n",
       "      <td>Alina</td>\n",
       "      <td>Islington</td>\n",
       "      <td>51.56861</td>\n",
       "      <td>-0.11270</td>\n",
       "      <td>50</td>\n",
       "      <td>1</td>\n",
       "      <td>30</td>\n",
       "      <td>2022-07-15</td>\n",
       "      <td>0.20</td>\n",
       "      <td>2</td>\n",
       "      <td>343</td>\n",
       "      <td>9</td>\n",
       "      <td>2022</td>\n",
       "      <td>Private room</td>\n",
       "    </tr>\n",
       "    <tr>\n",
       "      <th>2</th>\n",
       "      <td>2</td>\n",
       "      <td>284532</td>\n",
       "      <td>COSY STUDIO-FLAT WITH A GREAT  VIEW</td>\n",
       "      <td>1481412</td>\n",
       "      <td>Luca</td>\n",
       "      <td>Tower Hamlets</td>\n",
       "      <td>51.52851</td>\n",
       "      <td>-0.07426</td>\n",
       "      <td>90</td>\n",
       "      <td>5</td>\n",
       "      <td>42</td>\n",
       "      <td>2022-01-04</td>\n",
       "      <td>0.34</td>\n",
       "      <td>1</td>\n",
       "      <td>222</td>\n",
       "      <td>1</td>\n",
       "      <td>2022</td>\n",
       "      <td>Entire home/apt</td>\n",
       "    </tr>\n",
       "    <tr>\n",
       "      <th>3</th>\n",
       "      <td>4</td>\n",
       "      <td>284603</td>\n",
       "      <td>Notting Hill church stay in Heaven!</td>\n",
       "      <td>1481851</td>\n",
       "      <td>Tania</td>\n",
       "      <td>Kensington and Chelsea</td>\n",
       "      <td>51.51464</td>\n",
       "      <td>-0.20004</td>\n",
       "      <td>297</td>\n",
       "      <td>14</td>\n",
       "      <td>6</td>\n",
       "      <td>2022-07-04</td>\n",
       "      <td>0.05</td>\n",
       "      <td>1</td>\n",
       "      <td>180</td>\n",
       "      <td>2</td>\n",
       "      <td>2022</td>\n",
       "      <td>Entire home/apt</td>\n",
       "    </tr>\n",
       "    <tr>\n",
       "      <th>4</th>\n",
       "      <td>5</td>\n",
       "      <td>15400</td>\n",
       "      <td>Bright Chelsea  Apartment. Chelsea!</td>\n",
       "      <td>60302</td>\n",
       "      <td>Philippa</td>\n",
       "      <td>Kensington and Chelsea</td>\n",
       "      <td>51.48780</td>\n",
       "      <td>-0.16813</td>\n",
       "      <td>75</td>\n",
       "      <td>3</td>\n",
       "      <td>89</td>\n",
       "      <td>2020-03-16</td>\n",
       "      <td>0.57</td>\n",
       "      <td>1</td>\n",
       "      <td>70</td>\n",
       "      <td>0</td>\n",
       "      <td>2020</td>\n",
       "      <td>Entire home/apt</td>\n",
       "    </tr>\n",
       "  </tbody>\n",
       "</table>\n",
       "</div>"
      ],
      "text/plain": [
       "   index      id                                 name  host_id host_name  \\\n",
       "0      0  106332     Lovely large room, Bethnal Green   264345     Susie   \n",
       "1      1   13913  Holiday London DB Room Let-on going    54730     Alina   \n",
       "2      2  284532  COSY STUDIO-FLAT WITH A GREAT  VIEW  1481412      Luca   \n",
       "3      4  284603  Notting Hill church stay in Heaven!  1481851     Tania   \n",
       "4      5   15400  Bright Chelsea  Apartment. Chelsea!    60302  Philippa   \n",
       "\n",
       "            neighbourhood  latitude  longitude  price  minimum_nights  \\\n",
       "0           Tower Hamlets  51.52874   -0.05396     55               3   \n",
       "1               Islington  51.56861   -0.11270     50               1   \n",
       "2           Tower Hamlets  51.52851   -0.07426     90               5   \n",
       "3  Kensington and Chelsea  51.51464   -0.20004    297              14   \n",
       "4  Kensington and Chelsea  51.48780   -0.16813     75               3   \n",
       "\n",
       "   number_of_reviews last_review  reviews_per_month  \\\n",
       "0                 65  2016-06-10               0.47   \n",
       "1                 30  2022-07-15               0.20   \n",
       "2                 42  2022-01-04               0.34   \n",
       "3                  6  2022-07-04               0.05   \n",
       "4                 89  2020-03-16               0.57   \n",
       "\n",
       "   calculated_host_listings_count  availability_365  number_of_reviews_ltm  \\\n",
       "0                               1                74                      0   \n",
       "1                               2               343                      9   \n",
       "2                               1               222                      1   \n",
       "3                               1               180                      2   \n",
       "4                               1                70                      0   \n",
       "\n",
       "   year        room_type  \n",
       "0  2016     Private room  \n",
       "1  2022     Private room  \n",
       "2  2022  Entire home/apt  \n",
       "3  2022  Entire home/apt  \n",
       "4  2020  Entire home/apt  "
      ]
     },
     "execution_count": 64,
     "metadata": {},
     "output_type": "execute_result"
    }
   ],
   "source": [
    "data.insert(len(data.columns)-1, 'year', dataYLRNA)\n",
    "data.head()"
   ]
  },
  {
   "cell_type": "code",
   "execution_count": 65,
   "metadata": {},
   "outputs": [
    {
     "name": "stdout",
     "output_type": "stream",
     "text": [
      "46    2011\n",
      "Name: year, dtype: object\n",
      "Int64Index([46], dtype='int64')\n"
     ]
    }
   ],
   "source": [
    "print(data.loc[data['year'] == '2011', 'year'])\n",
    "#data.loc[data['year'] == '2012', 'year']\n",
    "#data.loc[data['year'] == '2013', 'year']\n",
    "#data.loc[data['year'] == '2014', 'year']\n",
    "print(data.loc[data['year'] == '2011', 'year'].index)"
   ]
  },
  {
   "cell_type": "code",
   "execution_count": 66,
   "metadata": {},
   "outputs": [
    {
     "name": "stdout",
     "output_type": "stream",
     "text": [
      "Int64Index([    0,     1,     2,     3,     4,     5,     6,     7,     8,\n",
      "                9,\n",
      "            ...\n",
      "            68673, 68674, 68675, 68676, 68677, 68678, 68679, 68680, 68681,\n",
      "            68682],\n",
      "           dtype='int64', length=68586)\n"
     ]
    }
   ],
   "source": [
    "data.drop(labels=data.loc[data['year'] == '2011', 'year'].index, axis = 0, inplace=True)\n",
    "data.drop(labels=data.loc[data['year'] == '2012', 'year'].index, axis = 0, inplace=True)\n",
    "data.drop(labels=data.loc[data['year'] == '2013', 'year'].index, axis = 0, inplace=True)\n",
    "data.drop(labels=data.loc[data['year'] == '2014', 'year'].index, axis = 0, inplace=True)\n",
    "data.drop(columns='year', axis=1, inplace=True)\n",
    "print(data.index)"
   ]
  },
  {
   "cell_type": "code",
   "execution_count": 67,
   "metadata": {},
   "outputs": [],
   "source": [
    "data.reset_index(inplace=True)"
   ]
  },
  {
   "cell_type": "code",
   "execution_count": 68,
   "metadata": {},
   "outputs": [
    {
     "name": "stdout",
     "output_type": "stream",
     "text": [
      "RangeIndex(start=0, stop=68586, step=1)\n"
     ]
    }
   ],
   "source": [
    "print(data.index)"
   ]
  },
  {
   "cell_type": "code",
   "execution_count": 69,
   "metadata": {},
   "outputs": [],
   "source": [
    "# plt.figure(figsize=(7, 7))\n",
    "# plt.scatter(data['year'], data['number_of_reviews'], marker = 'o', color = 'blue', s = 10)\n",
    "# plt.xlabel('last_review')\n",
    "# plt.ylabel('number_of_reviews')\n",
    "# pass"
   ]
  },
  {
   "cell_type": "code",
   "execution_count": 70,
   "metadata": {},
   "outputs": [
    {
     "data": {
      "text/html": [
       "<div>\n",
       "<style scoped>\n",
       "    .dataframe tbody tr th:only-of-type {\n",
       "        vertical-align: middle;\n",
       "    }\n",
       "\n",
       "    .dataframe tbody tr th {\n",
       "        vertical-align: top;\n",
       "    }\n",
       "\n",
       "    .dataframe thead th {\n",
       "        text-align: right;\n",
       "    }\n",
       "</style>\n",
       "<table border=\"1\" class=\"dataframe\">\n",
       "  <thead>\n",
       "    <tr style=\"text-align: right;\">\n",
       "      <th></th>\n",
       "      <th>level_0</th>\n",
       "      <th>index</th>\n",
       "      <th>id</th>\n",
       "      <th>name</th>\n",
       "      <th>host_id</th>\n",
       "      <th>host_name</th>\n",
       "      <th>neighbourhood</th>\n",
       "      <th>latitude</th>\n",
       "      <th>longitude</th>\n",
       "      <th>price</th>\n",
       "      <th>minimum_nights</th>\n",
       "      <th>number_of_reviews</th>\n",
       "      <th>last_review</th>\n",
       "      <th>reviews_per_month</th>\n",
       "      <th>calculated_host_listings_count</th>\n",
       "      <th>availability_365</th>\n",
       "      <th>number_of_reviews_ltm</th>\n",
       "      <th>room_type</th>\n",
       "    </tr>\n",
       "  </thead>\n",
       "  <tbody>\n",
       "    <tr>\n",
       "      <th>0</th>\n",
       "      <td>0</td>\n",
       "      <td>0</td>\n",
       "      <td>106332</td>\n",
       "      <td>Lovely large room, Bethnal Green</td>\n",
       "      <td>264345</td>\n",
       "      <td>Susie</td>\n",
       "      <td>Tower Hamlets</td>\n",
       "      <td>51.52874</td>\n",
       "      <td>-0.05396</td>\n",
       "      <td>55</td>\n",
       "      <td>3</td>\n",
       "      <td>65</td>\n",
       "      <td>2016-06-10</td>\n",
       "      <td>0.47</td>\n",
       "      <td>1</td>\n",
       "      <td>74</td>\n",
       "      <td>0</td>\n",
       "      <td>Private room</td>\n",
       "    </tr>\n",
       "    <tr>\n",
       "      <th>1</th>\n",
       "      <td>1</td>\n",
       "      <td>1</td>\n",
       "      <td>13913</td>\n",
       "      <td>Holiday London DB Room Let-on going</td>\n",
       "      <td>54730</td>\n",
       "      <td>Alina</td>\n",
       "      <td>Islington</td>\n",
       "      <td>51.56861</td>\n",
       "      <td>-0.11270</td>\n",
       "      <td>50</td>\n",
       "      <td>1</td>\n",
       "      <td>30</td>\n",
       "      <td>2022-07-15</td>\n",
       "      <td>0.20</td>\n",
       "      <td>2</td>\n",
       "      <td>343</td>\n",
       "      <td>9</td>\n",
       "      <td>Private room</td>\n",
       "    </tr>\n",
       "    <tr>\n",
       "      <th>2</th>\n",
       "      <td>2</td>\n",
       "      <td>2</td>\n",
       "      <td>284532</td>\n",
       "      <td>COSY STUDIO-FLAT WITH A GREAT  VIEW</td>\n",
       "      <td>1481412</td>\n",
       "      <td>Luca</td>\n",
       "      <td>Tower Hamlets</td>\n",
       "      <td>51.52851</td>\n",
       "      <td>-0.07426</td>\n",
       "      <td>90</td>\n",
       "      <td>5</td>\n",
       "      <td>42</td>\n",
       "      <td>2022-01-04</td>\n",
       "      <td>0.34</td>\n",
       "      <td>1</td>\n",
       "      <td>222</td>\n",
       "      <td>1</td>\n",
       "      <td>Entire home/apt</td>\n",
       "    </tr>\n",
       "    <tr>\n",
       "      <th>3</th>\n",
       "      <td>3</td>\n",
       "      <td>4</td>\n",
       "      <td>284603</td>\n",
       "      <td>Notting Hill church stay in Heaven!</td>\n",
       "      <td>1481851</td>\n",
       "      <td>Tania</td>\n",
       "      <td>Kensington and Chelsea</td>\n",
       "      <td>51.51464</td>\n",
       "      <td>-0.20004</td>\n",
       "      <td>297</td>\n",
       "      <td>14</td>\n",
       "      <td>6</td>\n",
       "      <td>2022-07-04</td>\n",
       "      <td>0.05</td>\n",
       "      <td>1</td>\n",
       "      <td>180</td>\n",
       "      <td>2</td>\n",
       "      <td>Entire home/apt</td>\n",
       "    </tr>\n",
       "    <tr>\n",
       "      <th>4</th>\n",
       "      <td>4</td>\n",
       "      <td>5</td>\n",
       "      <td>15400</td>\n",
       "      <td>Bright Chelsea  Apartment. Chelsea!</td>\n",
       "      <td>60302</td>\n",
       "      <td>Philippa</td>\n",
       "      <td>Kensington and Chelsea</td>\n",
       "      <td>51.48780</td>\n",
       "      <td>-0.16813</td>\n",
       "      <td>75</td>\n",
       "      <td>3</td>\n",
       "      <td>89</td>\n",
       "      <td>2020-03-16</td>\n",
       "      <td>0.57</td>\n",
       "      <td>1</td>\n",
       "      <td>70</td>\n",
       "      <td>0</td>\n",
       "      <td>Entire home/apt</td>\n",
       "    </tr>\n",
       "  </tbody>\n",
       "</table>\n",
       "</div>"
      ],
      "text/plain": [
       "   level_0  index      id                                 name  host_id  \\\n",
       "0        0      0  106332     Lovely large room, Bethnal Green   264345   \n",
       "1        1      1   13913  Holiday London DB Room Let-on going    54730   \n",
       "2        2      2  284532  COSY STUDIO-FLAT WITH A GREAT  VIEW  1481412   \n",
       "3        3      4  284603  Notting Hill church stay in Heaven!  1481851   \n",
       "4        4      5   15400  Bright Chelsea  Apartment. Chelsea!    60302   \n",
       "\n",
       "  host_name           neighbourhood  latitude  longitude  price  \\\n",
       "0     Susie           Tower Hamlets  51.52874   -0.05396     55   \n",
       "1     Alina               Islington  51.56861   -0.11270     50   \n",
       "2      Luca           Tower Hamlets  51.52851   -0.07426     90   \n",
       "3     Tania  Kensington and Chelsea  51.51464   -0.20004    297   \n",
       "4  Philippa  Kensington and Chelsea  51.48780   -0.16813     75   \n",
       "\n",
       "   minimum_nights  number_of_reviews last_review  reviews_per_month  \\\n",
       "0               3                 65  2016-06-10               0.47   \n",
       "1               1                 30  2022-07-15               0.20   \n",
       "2               5                 42  2022-01-04               0.34   \n",
       "3              14                  6  2022-07-04               0.05   \n",
       "4               3                 89  2020-03-16               0.57   \n",
       "\n",
       "   calculated_host_listings_count  availability_365  number_of_reviews_ltm  \\\n",
       "0                               1                74                      0   \n",
       "1                               2               343                      9   \n",
       "2                               1               222                      1   \n",
       "3                               1               180                      2   \n",
       "4                               1                70                      0   \n",
       "\n",
       "         room_type  \n",
       "0     Private room  \n",
       "1     Private room  \n",
       "2  Entire home/apt  \n",
       "3  Entire home/apt  \n",
       "4  Entire home/apt  "
      ]
     },
     "execution_count": 70,
     "metadata": {},
     "output_type": "execute_result"
    }
   ],
   "source": [
    "data.head()"
   ]
  },
  {
   "cell_type": "code",
   "execution_count": 71,
   "metadata": {},
   "outputs": [
    {
     "name": "stdout",
     "output_type": "stream",
     "text": [
      "RangeIndex(start=0, stop=68586, step=1)\n"
     ]
    }
   ],
   "source": [
    "data.drop(['level_0', 'index'], axis = 1, inplace=True)\n",
    "print(data.index)"
   ]
  },
  {
   "attachments": {},
   "cell_type": "markdown",
   "metadata": {},
   "source": [
    "### Обработка текстовых признаков"
   ]
  },
  {
   "cell_type": "markdown",
   "metadata": {},
   "source": [
    "Текстовыми признаками являются 'name' и 'host_name'"
   ]
  },
  {
   "cell_type": "code",
   "execution_count": 72,
   "metadata": {},
   "outputs": [
    {
     "name": "stdout",
     "output_type": "stream",
     "text": [
      "현석\n",
      "'Cassie\n"
     ]
    },
    {
     "data": {
      "text/plain": [
       "count     68586\n",
       "unique    12952\n",
       "top        Alex\n",
       "freq        521\n",
       "Name: host_name, dtype: object"
      ]
     },
     "execution_count": 72,
     "metadata": {},
     "output_type": "execute_result"
    }
   ],
   "source": [
    "print(data['host_name'].max())\n",
    "print(data['host_name'].min())\n",
    "data['host_name'].describe(include = object)"
   ]
  },
  {
   "cell_type": "code",
   "execution_count": 73,
   "metadata": {},
   "outputs": [
    {
     "data": {
      "text/plain": [
       "0                 Susie\n",
       "1                 Alina\n",
       "2                  Luca\n",
       "3                 Tania\n",
       "4              Philippa\n",
       "5                   Liz\n",
       "6                  Nora\n",
       "7                   Joe\n",
       "8                  Olga\n",
       "9              Ragnhild\n",
       "10                  Joe\n",
       "11                 Andy\n",
       "12    Veneranda And Leo\n",
       "13             Yevgeniy\n",
       "14    Veneranda And Leo\n",
       "15                Grace\n",
       "16              Anthony\n",
       "17                 Cryn\n",
       "18              Chi-Chi\n",
       "19               Portia\n",
       "20                  Liz\n",
       "21                Neema\n",
       "22                Geert\n",
       "23                Clare\n",
       "24                 Matt\n",
       "25               Yasmin\n",
       "26               Oliver\n",
       "27               Milena\n",
       "28          Elisa & Dom\n",
       "29                Tania\n",
       "30                 Paul\n",
       "31                 Nina\n",
       "32                 Alec\n",
       "33                 Gill\n",
       "34                Jamie\n",
       "35             Carolina\n",
       "36                 Paul\n",
       "37               Sylvia\n",
       "38                Grace\n",
       "39                 Matt\n",
       "40              Matthew\n",
       "41               Yvonne\n",
       "42                 Sean\n",
       "43                Peter\n",
       "44               Eilinn\n",
       "45                 Nina\n",
       "46                 Rita\n",
       "47               Trevor\n",
       "48          Christopher\n",
       "49               Nathan\n",
       "50              Shelley\n",
       "51               Sylvan\n",
       "52               Isabel\n",
       "53               Amelia\n",
       "54                   Ed\n",
       "55              Calypso\n",
       "56            Alexandra\n",
       "57                 Mark\n",
       "58                  Deb\n",
       "59              Michele\n",
       "60                   Pm\n",
       "61                 Lina\n",
       "62                Fabio\n",
       "63                 Alix\n",
       "64                 Yael\n",
       "65                Marie\n",
       "66               Rubina\n",
       "67              Anthony\n",
       "68                  Liz\n",
       "69                 Anna\n",
       "70                Eliza\n",
       "71                Boris\n",
       "72                Boris\n",
       "73               Elinor\n",
       "74                Erika\n",
       "75                Sarah\n",
       "76            Catherine\n",
       "77              Larissa\n",
       "78                 Beth\n",
       "79              Heather\n",
       "80                Simon\n",
       "81                Maria\n",
       "82                 Kyri\n",
       "83               Trevor\n",
       "84                Boris\n",
       "85                Emily\n",
       "86              Jacinta\n",
       "87    Doreen &  Nichola\n",
       "88                  Vee\n",
       "89                Pippa\n",
       "90                 Alex\n",
       "91               Thomas\n",
       "92                 Sara\n",
       "93                Boris\n",
       "94               Andrea\n",
       "95                 Ryan\n",
       "96                 Kate\n",
       "97                Boris\n",
       "98                 Lara\n",
       "99                Roger\n",
       "Name: host_name, dtype: object"
      ]
     },
     "execution_count": 73,
     "metadata": {},
     "output_type": "execute_result"
    }
   ],
   "source": [
    "pd.set_option('display.max_rows', 100)\n",
    "data['host_name'].head(100)"
   ]
  },
  {
   "cell_type": "code",
   "execution_count": 74,
   "metadata": {},
   "outputs": [
    {
     "data": {
      "text/plain": [
       "5000                  Alex\n",
       "5001                  Sian\n",
       "5002                 Bethe\n",
       "5003               Claudia\n",
       "5004                Victor\n",
       "5005                Rachel\n",
       "5006               Massimo\n",
       "5007                   Lin\n",
       "5008                 Jiles\n",
       "5009              Manuella\n",
       "5010                 Wenxi\n",
       "5011                 Steve\n",
       "5012                 Jiles\n",
       "5013                  Jake\n",
       "5014        Andrea & Sarah\n",
       "5015                 Lynne\n",
       "5016              Veronica\n",
       "5017                   Sam\n",
       "5018                   Sam\n",
       "5019                 Peter\n",
       "5020                 Angie\n",
       "5021               Tamanna\n",
       "5022                 Susan\n",
       "5023                Madhoo\n",
       "5024               Siobhan\n",
       "5025               Allison\n",
       "5026                Simone\n",
       "5027               Maxence\n",
       "5028             Christina\n",
       "5029                  Emma\n",
       "5030                 Linda\n",
       "5031                Gideon\n",
       "5032               Vanessa\n",
       "5033                    Jo\n",
       "5034                Patrik\n",
       "5035                 Peter\n",
       "5036                  Lucy\n",
       "5037                 Susan\n",
       "5038                 Jaime\n",
       "5039                 Jenny\n",
       "5040             Francesco\n",
       "5041                 Anjum\n",
       "5042                   Tim\n",
       "5043                 Louis\n",
       "5044              Jonathon\n",
       "5045    Charlotte Österman\n",
       "5046              Giuseppe\n",
       "5047                  Sofi\n",
       "5048                  Dave\n",
       "5049                 Laura\n",
       "5050               Matthew\n",
       "5051        Judy,Matt&Maxi\n",
       "5052                Thiago\n",
       "5053                 Fiona\n",
       "5054               Stephen\n",
       "5055                Sophie\n",
       "5056                 Jimmy\n",
       "5057                  Katy\n",
       "5058                 Susie\n",
       "5059                 Annie\n",
       "5060                Justin\n",
       "5061                Thomas\n",
       "5062                Ai Lin\n",
       "5063               Massimo\n",
       "5064              Caroline\n",
       "5065              Marilena\n",
       "5066              Nathalie\n",
       "5067                Jasone\n",
       "5068                Samuel\n",
       "5069                Miriam\n",
       "5070               Bethany\n",
       "5071                    Yu\n",
       "5072               Simeone\n",
       "5073            Alessandro\n",
       "5074            Alessandro\n",
       "5075                 Xijia\n",
       "5076                Monika\n",
       "5077                 Wendy\n",
       "5078                  Paul\n",
       "5079                Victor\n",
       "5080                Sylwia\n",
       "5081                 Peter\n",
       "5082                   Ben\n",
       "5083                 Alana\n",
       "5084                   Ali\n",
       "5085                Patrik\n",
       "5086                   Bee\n",
       "5087                 Selda\n",
       "5088                 Chris\n",
       "5089                    Al\n",
       "5090                  Rich\n",
       "5091             Francesco\n",
       "5092                 Catia\n",
       "5093                  Paul\n",
       "5094                  Paul\n",
       "5095              Marilena\n",
       "5096                  Roza\n",
       "5097                  Rain\n",
       "5098              Danijela\n",
       "5099              Forouzan\n",
       "Name: host_name, dtype: object"
      ]
     },
     "execution_count": 74,
     "metadata": {},
     "output_type": "execute_result"
    }
   ],
   "source": [
    "data['host_name'][5000:5100]"
   ]
  },
  {
   "cell_type": "code",
   "execution_count": 75,
   "metadata": {},
   "outputs": [
    {
     "name": "stdout",
     "output_type": "stream",
     "text": [
      "i:  24293\n",
      "host_name:  39\n"
     ]
    }
   ],
   "source": [
    "for i in range(0, data.size):\n",
    "  if data['host_name'][i].isdigit():\n",
    "    print('i: ', i)\n",
    "    print('host_name: ', data['host_name'][i])\n",
    "    break"
   ]
  },
  {
   "cell_type": "code",
   "execution_count": 76,
   "metadata": {},
   "outputs": [
    {
     "data": {
      "text/html": [
       "<div>\n",
       "<style scoped>\n",
       "    .dataframe tbody tr th:only-of-type {\n",
       "        vertical-align: middle;\n",
       "    }\n",
       "\n",
       "    .dataframe tbody tr th {\n",
       "        vertical-align: top;\n",
       "    }\n",
       "\n",
       "    .dataframe thead th {\n",
       "        text-align: right;\n",
       "    }\n",
       "</style>\n",
       "<table border=\"1\" class=\"dataframe\">\n",
       "  <thead>\n",
       "    <tr style=\"text-align: right;\">\n",
       "      <th></th>\n",
       "      <th>id</th>\n",
       "      <th>name</th>\n",
       "      <th>host_id</th>\n",
       "      <th>host_name</th>\n",
       "      <th>neighbourhood</th>\n",
       "      <th>latitude</th>\n",
       "      <th>longitude</th>\n",
       "      <th>price</th>\n",
       "      <th>minimum_nights</th>\n",
       "      <th>number_of_reviews</th>\n",
       "      <th>last_review</th>\n",
       "      <th>reviews_per_month</th>\n",
       "      <th>calculated_host_listings_count</th>\n",
       "      <th>availability_365</th>\n",
       "      <th>number_of_reviews_ltm</th>\n",
       "      <th>room_type</th>\n",
       "    </tr>\n",
       "  </thead>\n",
       "  <tbody>\n",
       "    <tr>\n",
       "      <th>24293</th>\n",
       "      <td>23621965</td>\n",
       "      <td>Double Studio</td>\n",
       "      <td>175808255</td>\n",
       "      <td>39</td>\n",
       "      <td>Westminster</td>\n",
       "      <td>51.51282</td>\n",
       "      <td>-0.18590</td>\n",
       "      <td>185</td>\n",
       "      <td>1</td>\n",
       "      <td>93</td>\n",
       "      <td>2022-07-21</td>\n",
       "      <td>2.18</td>\n",
       "      <td>4</td>\n",
       "      <td>324</td>\n",
       "      <td>32</td>\n",
       "      <td>Private room</td>\n",
       "    </tr>\n",
       "    <tr>\n",
       "      <th>24299</th>\n",
       "      <td>23622035</td>\n",
       "      <td>Triple Studio for three guests</td>\n",
       "      <td>175808255</td>\n",
       "      <td>39</td>\n",
       "      <td>Westminster</td>\n",
       "      <td>51.51248</td>\n",
       "      <td>-0.18457</td>\n",
       "      <td>215</td>\n",
       "      <td>1</td>\n",
       "      <td>39</td>\n",
       "      <td>2022-07-11</td>\n",
       "      <td>1.05</td>\n",
       "      <td>4</td>\n",
       "      <td>270</td>\n",
       "      <td>10</td>\n",
       "      <td>Private room</td>\n",
       "    </tr>\n",
       "    <tr>\n",
       "      <th>24304</th>\n",
       "      <td>23622093</td>\n",
       "      <td>Single Studio for one person</td>\n",
       "      <td>175808255</td>\n",
       "      <td>39</td>\n",
       "      <td>Westminster</td>\n",
       "      <td>51.51113</td>\n",
       "      <td>-0.18440</td>\n",
       "      <td>183</td>\n",
       "      <td>1</td>\n",
       "      <td>14</td>\n",
       "      <td>2022-03-22</td>\n",
       "      <td>0.32</td>\n",
       "      <td>4</td>\n",
       "      <td>320</td>\n",
       "      <td>8</td>\n",
       "      <td>Private room</td>\n",
       "    </tr>\n",
       "    <tr>\n",
       "      <th>41821</th>\n",
       "      <td>42191684</td>\n",
       "      <td>Family studio with one double bed and two sing...</td>\n",
       "      <td>175808255</td>\n",
       "      <td>39</td>\n",
       "      <td>Westminster</td>\n",
       "      <td>51.51271</td>\n",
       "      <td>-0.18501</td>\n",
       "      <td>245</td>\n",
       "      <td>1</td>\n",
       "      <td>5</td>\n",
       "      <td>2022-06-28</td>\n",
       "      <td>0.27</td>\n",
       "      <td>4</td>\n",
       "      <td>250</td>\n",
       "      <td>1</td>\n",
       "      <td>Private room</td>\n",
       "    </tr>\n",
       "  </tbody>\n",
       "</table>\n",
       "</div>"
      ],
      "text/plain": [
       "             id                                               name    host_id  \\\n",
       "24293  23621965                                      Double Studio  175808255   \n",
       "24299  23622035                     Triple Studio for three guests  175808255   \n",
       "24304  23622093                       Single Studio for one person  175808255   \n",
       "41821  42191684  Family studio with one double bed and two sing...  175808255   \n",
       "\n",
       "      host_name neighbourhood  latitude  longitude  price  minimum_nights  \\\n",
       "24293        39   Westminster  51.51282   -0.18590    185               1   \n",
       "24299        39   Westminster  51.51248   -0.18457    215               1   \n",
       "24304        39   Westminster  51.51113   -0.18440    183               1   \n",
       "41821        39   Westminster  51.51271   -0.18501    245               1   \n",
       "\n",
       "       number_of_reviews last_review  reviews_per_month  \\\n",
       "24293                 93  2022-07-21               2.18   \n",
       "24299                 39  2022-07-11               1.05   \n",
       "24304                 14  2022-03-22               0.32   \n",
       "41821                  5  2022-06-28               0.27   \n",
       "\n",
       "       calculated_host_listings_count  availability_365  \\\n",
       "24293                               4               324   \n",
       "24299                               4               270   \n",
       "24304                               4               320   \n",
       "41821                               4               250   \n",
       "\n",
       "       number_of_reviews_ltm     room_type  \n",
       "24293                     32  Private room  \n",
       "24299                     10  Private room  \n",
       "24304                      8  Private room  \n",
       "41821                      1  Private room  "
      ]
     },
     "execution_count": 76,
     "metadata": {},
     "output_type": "execute_result"
    }
   ],
   "source": [
    "data.loc[data['host_name'] == '39']"
   ]
  },
  {
   "cell_type": "code",
   "execution_count": 77,
   "metadata": {},
   "outputs": [
    {
     "data": {
      "text/plain": [
       "24292      Tommy\n",
       "24293         39\n",
       "24294    Matthew\n",
       "Name: host_name, dtype: object"
      ]
     },
     "execution_count": 77,
     "metadata": {},
     "output_type": "execute_result"
    }
   ],
   "source": [
    "data['host_name'][24292:24295]"
   ]
  },
  {
   "cell_type": "code",
   "execution_count": 78,
   "metadata": {},
   "outputs": [],
   "source": [
    "# в настоящий момент удалим\n",
    "data.drop(['name'], axis=1, inplace = True)\n",
    "data.drop(['host_name'], axis = 1, inplace = True)"
   ]
  },
  {
   "cell_type": "markdown",
   "metadata": {},
   "source": [
    "### 4. Обработка категориальных признаков"
   ]
  },
  {
   "cell_type": "markdown",
   "metadata": {},
   "source": [
    "Категориальными признаками нашего набора данных являются: 'host_name', 'neighbourhood', 'last_review', 'room_type'. Признак 'last_review' представляет из себя дату, записанную в формате: 'yyyy-mm-dd': его можно обработать сначала как категориальный признак, избавившись от '-', тогда мы получим число вида yyyymmdd, а дальше его нормализовать. Признак 'room_type' будем обработан отличным образом, так как является целевым.  "
   ]
  },
  {
   "cell_type": "markdown",
   "metadata": {},
   "source": [
    "Разделим признаки на числовые и категориальные\n",
    "\n"
   ]
  },
  {
   "cell_type": "code",
   "execution_count": 79,
   "metadata": {},
   "outputs": [
    {
     "name": "stdout",
     "output_type": "stream",
     "text": [
      "['neighbourhood', 'last_review']\n",
      "['id', 'host_id', 'latitude', 'longitude', 'price', 'minimum_nights', 'number_of_reviews', 'reviews_per_month', 'calculated_host_listings_count', 'availability_365', 'number_of_reviews_ltm']\n"
     ]
    }
   ],
   "source": [
    "categorical_columns = [c for c in data.columns if data[c].dtype.name == 'object']\n",
    "numerical_columns   = [c for c in data.columns if data[c].dtype.name != 'object']\n",
    "categorical_columns.remove('room_type')\n",
    "# numerical_columns.remove('id')\n",
    "# numerical_columns.remove('host_id')\n",
    "print(categorical_columns)\n",
    "print(numerical_columns)"
   ]
  },
  {
   "cell_type": "markdown",
   "metadata": {},
   "source": [
    "Категориальные признаки следует разделить на номинальные и порядковые"
   ]
  },
  {
   "cell_type": "code",
   "execution_count": 80,
   "metadata": {},
   "outputs": [
    {
     "name": "stdout",
     "output_type": "stream",
     "text": [
      "neighbourhood\n",
      "last_review\n"
     ]
    }
   ],
   "source": [
    "nominal_categorical_columns = categorical_columns[0]\n",
    "ordinal_categorical_columns = categorical_columns[1]\n",
    "print(nominal_categorical_columns)\n",
    "print(ordinal_categorical_columns)"
   ]
  },
  {
   "cell_type": "markdown",
   "metadata": {},
   "source": [
    "#### 1-й способ (get_dummies from Pandas) (**Не применен, т.к. задача решена с помощью инструментов scikit-learn**)"
   ]
  },
  {
   "cell_type": "markdown",
   "metadata": {},
   "source": [
    "Выделим среди категориальных признаков бинарные и небинарные, для этого выясним уникальные значения каждого категориального признака"
   ]
  },
  {
   "cell_type": "code",
   "execution_count": 81,
   "metadata": {},
   "outputs": [],
   "source": [
    "# for c in categorical_columns:\n",
    "#     print(c, data[c].unique())"
   ]
  },
  {
   "cell_type": "code",
   "execution_count": 82,
   "metadata": {},
   "outputs": [],
   "source": [
    "# binary_columns    = [c for c in categorical_columns if len(data[c].unique()) == 2]\n",
    "# nonbinary_columns = [c for c in categorical_columns if len(data[c].unique()) > 2]\n",
    "# print(binary_columns, nonbinary_columns)"
   ]
  },
  {
   "cell_type": "code",
   "execution_count": 83,
   "metadata": {},
   "outputs": [],
   "source": [
    "# data.count()"
   ]
  },
  {
   "cell_type": "markdown",
   "metadata": {},
   "source": [
    "Пропущенных значений нет"
   ]
  },
  {
   "cell_type": "markdown",
   "metadata": {},
   "source": [
    "Применим метод векторизации для категориальных признаков\n",
    "\n"
   ]
  },
  {
   "cell_type": "code",
   "execution_count": 84,
   "metadata": {},
   "outputs": [],
   "source": [
    "# отсутствует\n",
    "# data_binary = pd.get_dummies(data[binary_columns], drop_first=True)\n",
    "# print(data_binary.columns)"
   ]
  },
  {
   "cell_type": "code",
   "execution_count": 85,
   "metadata": {},
   "outputs": [],
   "source": [
    "# data_nonbinary = pd.get_dummies(data[nonbinary_columns])\n",
    "# data_nonbinary.columns"
   ]
  },
  {
   "cell_type": "markdown",
   "metadata": {},
   "source": [
    "#### 2-й способ (OrdinalEncoder from Scikit-learn)"
   ]
  },
  {
   "cell_type": "markdown",
   "metadata": {},
   "source": [
    "Данный метод будет применен для порядковых признаков: 'last_review' - дата последнего отзыва"
   ]
  },
  {
   "cell_type": "code",
   "execution_count": 86,
   "metadata": {},
   "outputs": [
    {
     "data": {
      "text/html": [
       "<style>#sk-container-id-1 {color: black;background-color: white;}#sk-container-id-1 pre{padding: 0;}#sk-container-id-1 div.sk-toggleable {background-color: white;}#sk-container-id-1 label.sk-toggleable__label {cursor: pointer;display: block;width: 100%;margin-bottom: 0;padding: 0.3em;box-sizing: border-box;text-align: center;}#sk-container-id-1 label.sk-toggleable__label-arrow:before {content: \"▸\";float: left;margin-right: 0.25em;color: #696969;}#sk-container-id-1 label.sk-toggleable__label-arrow:hover:before {color: black;}#sk-container-id-1 div.sk-estimator:hover label.sk-toggleable__label-arrow:before {color: black;}#sk-container-id-1 div.sk-toggleable__content {max-height: 0;max-width: 0;overflow: hidden;text-align: left;background-color: #f0f8ff;}#sk-container-id-1 div.sk-toggleable__content pre {margin: 0.2em;color: black;border-radius: 0.25em;background-color: #f0f8ff;}#sk-container-id-1 input.sk-toggleable__control:checked~div.sk-toggleable__content {max-height: 200px;max-width: 100%;overflow: auto;}#sk-container-id-1 input.sk-toggleable__control:checked~label.sk-toggleable__label-arrow:before {content: \"▾\";}#sk-container-id-1 div.sk-estimator input.sk-toggleable__control:checked~label.sk-toggleable__label {background-color: #d4ebff;}#sk-container-id-1 div.sk-label input.sk-toggleable__control:checked~label.sk-toggleable__label {background-color: #d4ebff;}#sk-container-id-1 input.sk-hidden--visually {border: 0;clip: rect(1px 1px 1px 1px);clip: rect(1px, 1px, 1px, 1px);height: 1px;margin: -1px;overflow: hidden;padding: 0;position: absolute;width: 1px;}#sk-container-id-1 div.sk-estimator {font-family: monospace;background-color: #f0f8ff;border: 1px dotted black;border-radius: 0.25em;box-sizing: border-box;margin-bottom: 0.5em;}#sk-container-id-1 div.sk-estimator:hover {background-color: #d4ebff;}#sk-container-id-1 div.sk-parallel-item::after {content: \"\";width: 100%;border-bottom: 1px solid gray;flex-grow: 1;}#sk-container-id-1 div.sk-label:hover label.sk-toggleable__label {background-color: #d4ebff;}#sk-container-id-1 div.sk-serial::before {content: \"\";position: absolute;border-left: 1px solid gray;box-sizing: border-box;top: 0;bottom: 0;left: 50%;z-index: 0;}#sk-container-id-1 div.sk-serial {display: flex;flex-direction: column;align-items: center;background-color: white;padding-right: 0.2em;padding-left: 0.2em;position: relative;}#sk-container-id-1 div.sk-item {position: relative;z-index: 1;}#sk-container-id-1 div.sk-parallel {display: flex;align-items: stretch;justify-content: center;background-color: white;position: relative;}#sk-container-id-1 div.sk-item::before, #sk-container-id-1 div.sk-parallel-item::before {content: \"\";position: absolute;border-left: 1px solid gray;box-sizing: border-box;top: 0;bottom: 0;left: 50%;z-index: -1;}#sk-container-id-1 div.sk-parallel-item {display: flex;flex-direction: column;z-index: 1;position: relative;background-color: white;}#sk-container-id-1 div.sk-parallel-item:first-child::after {align-self: flex-end;width: 50%;}#sk-container-id-1 div.sk-parallel-item:last-child::after {align-self: flex-start;width: 50%;}#sk-container-id-1 div.sk-parallel-item:only-child::after {width: 0;}#sk-container-id-1 div.sk-dashed-wrapped {border: 1px dashed gray;margin: 0 0.4em 0.5em 0.4em;box-sizing: border-box;padding-bottom: 0.4em;background-color: white;}#sk-container-id-1 div.sk-label label {font-family: monospace;font-weight: bold;display: inline-block;line-height: 1.2em;}#sk-container-id-1 div.sk-label-container {text-align: center;}#sk-container-id-1 div.sk-container {/* jupyter's `normalize.less` sets `[hidden] { display: none; }` but bootstrap.min.css set `[hidden] { display: none !important; }` so we also need the `!important` here to be able to override the default hidden behavior on the sphinx rendered scikit-learn.org. See: https://github.com/scikit-learn/scikit-learn/issues/21755 */display: inline-block !important;position: relative;}#sk-container-id-1 div.sk-text-repr-fallback {display: none;}</style><div id=\"sk-container-id-1\" class=\"sk-top-container\"><div class=\"sk-text-repr-fallback\"><pre>OrdinalEncoder()</pre><b>In a Jupyter environment, please rerun this cell to show the HTML representation or trust the notebook. <br />On GitHub, the HTML representation is unable to render, please try loading this page with nbviewer.org.</b></div><div class=\"sk-container\" hidden><div class=\"sk-item\"><div class=\"sk-estimator sk-toggleable\"><input class=\"sk-toggleable__control sk-hidden--visually\" id=\"sk-estimator-id-1\" type=\"checkbox\" checked><label for=\"sk-estimator-id-1\" class=\"sk-toggleable__label sk-toggleable__label-arrow\">OrdinalEncoder</label><div class=\"sk-toggleable__content\"><pre>OrdinalEncoder()</pre></div></div></div></div></div>"
      ],
      "text/plain": [
       "OrdinalEncoder()"
      ]
     },
     "execution_count": 86,
     "metadata": {},
     "output_type": "execute_result"
    }
   ],
   "source": [
    "from sklearn.preprocessing import OrdinalEncoder\n",
    "\n",
    "enc = OrdinalEncoder()\n",
    "enc.fit(data[[ordinal_categorical_columns]]) # Если бы ordinal_categorical_columns был list, то одну пару квадратных скобок нужно было бы убрать"
   ]
  },
  {
   "cell_type": "code",
   "execution_count": 87,
   "metadata": {},
   "outputs": [
    {
     "data": {
      "text/html": [
       "<div>\n",
       "<style scoped>\n",
       "    .dataframe tbody tr th:only-of-type {\n",
       "        vertical-align: middle;\n",
       "    }\n",
       "\n",
       "    .dataframe tbody tr th {\n",
       "        vertical-align: top;\n",
       "    }\n",
       "\n",
       "    .dataframe thead th {\n",
       "        text-align: right;\n",
       "    }\n",
       "</style>\n",
       "<table border=\"1\" class=\"dataframe\">\n",
       "  <thead>\n",
       "    <tr style=\"text-align: right;\">\n",
       "      <th></th>\n",
       "      <th>last_review</th>\n",
       "    </tr>\n",
       "  </thead>\n",
       "  <tbody>\n",
       "    <tr>\n",
       "      <th>0</th>\n",
       "      <td>407.0</td>\n",
       "    </tr>\n",
       "    <tr>\n",
       "      <th>1</th>\n",
       "      <td>2581.0</td>\n",
       "    </tr>\n",
       "    <tr>\n",
       "      <th>2</th>\n",
       "      <td>2389.0</td>\n",
       "    </tr>\n",
       "    <tr>\n",
       "      <th>3</th>\n",
       "      <td>2570.0</td>\n",
       "    </tr>\n",
       "    <tr>\n",
       "      <th>4</th>\n",
       "      <td>1774.0</td>\n",
       "    </tr>\n",
       "  </tbody>\n",
       "</table>\n",
       "</div>"
      ],
      "text/plain": [
       "   last_review\n",
       "0        407.0\n",
       "1       2581.0\n",
       "2       2389.0\n",
       "3       2570.0\n",
       "4       1774.0"
      ]
     },
     "execution_count": 87,
     "metadata": {},
     "output_type": "execute_result"
    }
   ],
   "source": [
    "dummies_ordinal = pd.DataFrame(enc.transform(data[[ordinal_categorical_columns]]),\n",
    "                       columns = enc.get_feature_names_out(), index=data.index)\n",
    "dummies_ordinal.head()"
   ]
  },
  {
   "cell_type": "code",
   "execution_count": 88,
   "metadata": {},
   "outputs": [],
   "source": [
    "# from sklearn.preprocessing import OrdinalEncoder\n",
    "\n",
    "# ordinal_encoder = OrdinalEncoder()\n",
    "# catFeaturesEncoded = pd.DataFrame()\n",
    "\n",
    "# for i in range(0, len(categorical_columns)):\n",
    "#   value = ordinal_encoder.fit_transform(pd.DataFrame(data[categorical_columns[i]]))\n",
    "#   valueFloat = np.zeros(len(value))\n",
    "#   for j in range(0, len(value)):\n",
    "#     valueFloat[j] = value[j][0]\n",
    "#   catFeaturesEncoded.insert(loc = len(catFeaturesEncoded.columns),column = categorical_columns[i], value = valueFloat)\n",
    "# catFeaturesEncoded.describe()\n"
   ]
  },
  {
   "cell_type": "code",
   "execution_count": 89,
   "metadata": {},
   "outputs": [],
   "source": [
    "# value = ordinal_encoder.fit_transform(pd.DataFrame(data['room_type']))\n",
    "# valueList = np.zeros(len(value))\n",
    "# for j in range(0, len(value)):\n",
    "#   valueList[j] = value[j]\n",
    "# catFeaturesEncoded.insert(loc = len(catFeaturesEncoded.columns),column = 'room_type', value = valueList)\n",
    "# catFeaturesEncoded.describe()"
   ]
  },
  {
   "cell_type": "markdown",
   "metadata": {},
   "source": [
    "#### 3-й способ (OneHotEncoding from Scikit-learn)"
   ]
  },
  {
   "cell_type": "markdown",
   "metadata": {},
   "source": [
    "Таким методом необходимо закодировать признаки, которые не являются бинарными, а они неупорядоченные и им могут соответствовать одинаковые данные.  \n",
    "Данный метод будем применять для номинальных признаков: 'host_name' - имя хозяина, 'neighbourhood' - район города и 'room_type' - тип жилого помещения."
   ]
  },
  {
   "cell_type": "code",
   "execution_count": 90,
   "metadata": {},
   "outputs": [
    {
     "data": {
      "text/html": [
       "<style>#sk-container-id-2 {color: black;background-color: white;}#sk-container-id-2 pre{padding: 0;}#sk-container-id-2 div.sk-toggleable {background-color: white;}#sk-container-id-2 label.sk-toggleable__label {cursor: pointer;display: block;width: 100%;margin-bottom: 0;padding: 0.3em;box-sizing: border-box;text-align: center;}#sk-container-id-2 label.sk-toggleable__label-arrow:before {content: \"▸\";float: left;margin-right: 0.25em;color: #696969;}#sk-container-id-2 label.sk-toggleable__label-arrow:hover:before {color: black;}#sk-container-id-2 div.sk-estimator:hover label.sk-toggleable__label-arrow:before {color: black;}#sk-container-id-2 div.sk-toggleable__content {max-height: 0;max-width: 0;overflow: hidden;text-align: left;background-color: #f0f8ff;}#sk-container-id-2 div.sk-toggleable__content pre {margin: 0.2em;color: black;border-radius: 0.25em;background-color: #f0f8ff;}#sk-container-id-2 input.sk-toggleable__control:checked~div.sk-toggleable__content {max-height: 200px;max-width: 100%;overflow: auto;}#sk-container-id-2 input.sk-toggleable__control:checked~label.sk-toggleable__label-arrow:before {content: \"▾\";}#sk-container-id-2 div.sk-estimator input.sk-toggleable__control:checked~label.sk-toggleable__label {background-color: #d4ebff;}#sk-container-id-2 div.sk-label input.sk-toggleable__control:checked~label.sk-toggleable__label {background-color: #d4ebff;}#sk-container-id-2 input.sk-hidden--visually {border: 0;clip: rect(1px 1px 1px 1px);clip: rect(1px, 1px, 1px, 1px);height: 1px;margin: -1px;overflow: hidden;padding: 0;position: absolute;width: 1px;}#sk-container-id-2 div.sk-estimator {font-family: monospace;background-color: #f0f8ff;border: 1px dotted black;border-radius: 0.25em;box-sizing: border-box;margin-bottom: 0.5em;}#sk-container-id-2 div.sk-estimator:hover {background-color: #d4ebff;}#sk-container-id-2 div.sk-parallel-item::after {content: \"\";width: 100%;border-bottom: 1px solid gray;flex-grow: 1;}#sk-container-id-2 div.sk-label:hover label.sk-toggleable__label {background-color: #d4ebff;}#sk-container-id-2 div.sk-serial::before {content: \"\";position: absolute;border-left: 1px solid gray;box-sizing: border-box;top: 0;bottom: 0;left: 50%;z-index: 0;}#sk-container-id-2 div.sk-serial {display: flex;flex-direction: column;align-items: center;background-color: white;padding-right: 0.2em;padding-left: 0.2em;position: relative;}#sk-container-id-2 div.sk-item {position: relative;z-index: 1;}#sk-container-id-2 div.sk-parallel {display: flex;align-items: stretch;justify-content: center;background-color: white;position: relative;}#sk-container-id-2 div.sk-item::before, #sk-container-id-2 div.sk-parallel-item::before {content: \"\";position: absolute;border-left: 1px solid gray;box-sizing: border-box;top: 0;bottom: 0;left: 50%;z-index: -1;}#sk-container-id-2 div.sk-parallel-item {display: flex;flex-direction: column;z-index: 1;position: relative;background-color: white;}#sk-container-id-2 div.sk-parallel-item:first-child::after {align-self: flex-end;width: 50%;}#sk-container-id-2 div.sk-parallel-item:last-child::after {align-self: flex-start;width: 50%;}#sk-container-id-2 div.sk-parallel-item:only-child::after {width: 0;}#sk-container-id-2 div.sk-dashed-wrapped {border: 1px dashed gray;margin: 0 0.4em 0.5em 0.4em;box-sizing: border-box;padding-bottom: 0.4em;background-color: white;}#sk-container-id-2 div.sk-label label {font-family: monospace;font-weight: bold;display: inline-block;line-height: 1.2em;}#sk-container-id-2 div.sk-label-container {text-align: center;}#sk-container-id-2 div.sk-container {/* jupyter's `normalize.less` sets `[hidden] { display: none; }` but bootstrap.min.css set `[hidden] { display: none !important; }` so we also need the `!important` here to be able to override the default hidden behavior on the sphinx rendered scikit-learn.org. See: https://github.com/scikit-learn/scikit-learn/issues/21755 */display: inline-block !important;position: relative;}#sk-container-id-2 div.sk-text-repr-fallback {display: none;}</style><div id=\"sk-container-id-2\" class=\"sk-top-container\"><div class=\"sk-text-repr-fallback\"><pre>OneHotEncoder(sparse=False)</pre><b>In a Jupyter environment, please rerun this cell to show the HTML representation or trust the notebook. <br />On GitHub, the HTML representation is unable to render, please try loading this page with nbviewer.org.</b></div><div class=\"sk-container\" hidden><div class=\"sk-item\"><div class=\"sk-estimator sk-toggleable\"><input class=\"sk-toggleable__control sk-hidden--visually\" id=\"sk-estimator-id-2\" type=\"checkbox\" checked><label for=\"sk-estimator-id-2\" class=\"sk-toggleable__label sk-toggleable__label-arrow\">OneHotEncoder</label><div class=\"sk-toggleable__content\"><pre>OneHotEncoder(sparse=False)</pre></div></div></div></div></div>"
      ],
      "text/plain": [
       "OneHotEncoder(sparse=False)"
      ]
     },
     "execution_count": 90,
     "metadata": {},
     "output_type": "execute_result"
    }
   ],
   "source": [
    "from sklearn.preprocessing import OneHotEncoder\n",
    "\n",
    "enc = OneHotEncoder(sparse=False)\n",
    "enc.fit(data[[nominal_categorical_columns]]) # Если бы nominal_categorical_columns был list, то одну пару квадратных скобок нужно было бы убрать"
   ]
  },
  {
   "cell_type": "code",
   "execution_count": 91,
   "metadata": {},
   "outputs": [
    {
     "data": {
      "text/html": [
       "<div>\n",
       "<style scoped>\n",
       "    .dataframe tbody tr th:only-of-type {\n",
       "        vertical-align: middle;\n",
       "    }\n",
       "\n",
       "    .dataframe tbody tr th {\n",
       "        vertical-align: top;\n",
       "    }\n",
       "\n",
       "    .dataframe thead th {\n",
       "        text-align: right;\n",
       "    }\n",
       "</style>\n",
       "<table border=\"1\" class=\"dataframe\">\n",
       "  <thead>\n",
       "    <tr style=\"text-align: right;\">\n",
       "      <th></th>\n",
       "      <th>neighbourhood_Barking and Dagenham</th>\n",
       "      <th>neighbourhood_Barnet</th>\n",
       "      <th>neighbourhood_Bexley</th>\n",
       "      <th>neighbourhood_Brent</th>\n",
       "      <th>neighbourhood_Bromley</th>\n",
       "      <th>neighbourhood_Camden</th>\n",
       "      <th>neighbourhood_City of London</th>\n",
       "      <th>neighbourhood_Croydon</th>\n",
       "      <th>neighbourhood_Ealing</th>\n",
       "      <th>neighbourhood_Enfield</th>\n",
       "      <th>neighbourhood_Greenwich</th>\n",
       "      <th>neighbourhood_Hackney</th>\n",
       "      <th>neighbourhood_Hammersmith and Fulham</th>\n",
       "      <th>neighbourhood_Haringey</th>\n",
       "      <th>neighbourhood_Harrow</th>\n",
       "      <th>neighbourhood_Havering</th>\n",
       "      <th>neighbourhood_Hillingdon</th>\n",
       "      <th>neighbourhood_Hounslow</th>\n",
       "      <th>neighbourhood_Islington</th>\n",
       "      <th>neighbourhood_Kensington and Chelsea</th>\n",
       "      <th>neighbourhood_Kingston upon Thames</th>\n",
       "      <th>neighbourhood_Lambeth</th>\n",
       "      <th>neighbourhood_Lewisham</th>\n",
       "      <th>neighbourhood_Merton</th>\n",
       "      <th>neighbourhood_Newham</th>\n",
       "      <th>neighbourhood_Redbridge</th>\n",
       "      <th>neighbourhood_Richmond upon Thames</th>\n",
       "      <th>neighbourhood_Southwark</th>\n",
       "      <th>neighbourhood_Sutton</th>\n",
       "      <th>neighbourhood_Tower Hamlets</th>\n",
       "      <th>neighbourhood_Waltham Forest</th>\n",
       "      <th>neighbourhood_Wandsworth</th>\n",
       "      <th>neighbourhood_Westminster</th>\n",
       "    </tr>\n",
       "  </thead>\n",
       "  <tbody>\n",
       "    <tr>\n",
       "      <th>0</th>\n",
       "      <td>0.0</td>\n",
       "      <td>0.0</td>\n",
       "      <td>0.0</td>\n",
       "      <td>0.0</td>\n",
       "      <td>0.0</td>\n",
       "      <td>0.0</td>\n",
       "      <td>0.0</td>\n",
       "      <td>0.0</td>\n",
       "      <td>0.0</td>\n",
       "      <td>0.0</td>\n",
       "      <td>0.0</td>\n",
       "      <td>0.0</td>\n",
       "      <td>0.0</td>\n",
       "      <td>0.0</td>\n",
       "      <td>0.0</td>\n",
       "      <td>0.0</td>\n",
       "      <td>0.0</td>\n",
       "      <td>0.0</td>\n",
       "      <td>0.0</td>\n",
       "      <td>0.0</td>\n",
       "      <td>0.0</td>\n",
       "      <td>0.0</td>\n",
       "      <td>0.0</td>\n",
       "      <td>0.0</td>\n",
       "      <td>0.0</td>\n",
       "      <td>0.0</td>\n",
       "      <td>0.0</td>\n",
       "      <td>0.0</td>\n",
       "      <td>0.0</td>\n",
       "      <td>1.0</td>\n",
       "      <td>0.0</td>\n",
       "      <td>0.0</td>\n",
       "      <td>0.0</td>\n",
       "    </tr>\n",
       "    <tr>\n",
       "      <th>1</th>\n",
       "      <td>0.0</td>\n",
       "      <td>0.0</td>\n",
       "      <td>0.0</td>\n",
       "      <td>0.0</td>\n",
       "      <td>0.0</td>\n",
       "      <td>0.0</td>\n",
       "      <td>0.0</td>\n",
       "      <td>0.0</td>\n",
       "      <td>0.0</td>\n",
       "      <td>0.0</td>\n",
       "      <td>0.0</td>\n",
       "      <td>0.0</td>\n",
       "      <td>0.0</td>\n",
       "      <td>0.0</td>\n",
       "      <td>0.0</td>\n",
       "      <td>0.0</td>\n",
       "      <td>0.0</td>\n",
       "      <td>0.0</td>\n",
       "      <td>1.0</td>\n",
       "      <td>0.0</td>\n",
       "      <td>0.0</td>\n",
       "      <td>0.0</td>\n",
       "      <td>0.0</td>\n",
       "      <td>0.0</td>\n",
       "      <td>0.0</td>\n",
       "      <td>0.0</td>\n",
       "      <td>0.0</td>\n",
       "      <td>0.0</td>\n",
       "      <td>0.0</td>\n",
       "      <td>0.0</td>\n",
       "      <td>0.0</td>\n",
       "      <td>0.0</td>\n",
       "      <td>0.0</td>\n",
       "    </tr>\n",
       "    <tr>\n",
       "      <th>2</th>\n",
       "      <td>0.0</td>\n",
       "      <td>0.0</td>\n",
       "      <td>0.0</td>\n",
       "      <td>0.0</td>\n",
       "      <td>0.0</td>\n",
       "      <td>0.0</td>\n",
       "      <td>0.0</td>\n",
       "      <td>0.0</td>\n",
       "      <td>0.0</td>\n",
       "      <td>0.0</td>\n",
       "      <td>0.0</td>\n",
       "      <td>0.0</td>\n",
       "      <td>0.0</td>\n",
       "      <td>0.0</td>\n",
       "      <td>0.0</td>\n",
       "      <td>0.0</td>\n",
       "      <td>0.0</td>\n",
       "      <td>0.0</td>\n",
       "      <td>0.0</td>\n",
       "      <td>0.0</td>\n",
       "      <td>0.0</td>\n",
       "      <td>0.0</td>\n",
       "      <td>0.0</td>\n",
       "      <td>0.0</td>\n",
       "      <td>0.0</td>\n",
       "      <td>0.0</td>\n",
       "      <td>0.0</td>\n",
       "      <td>0.0</td>\n",
       "      <td>0.0</td>\n",
       "      <td>1.0</td>\n",
       "      <td>0.0</td>\n",
       "      <td>0.0</td>\n",
       "      <td>0.0</td>\n",
       "    </tr>\n",
       "    <tr>\n",
       "      <th>3</th>\n",
       "      <td>0.0</td>\n",
       "      <td>0.0</td>\n",
       "      <td>0.0</td>\n",
       "      <td>0.0</td>\n",
       "      <td>0.0</td>\n",
       "      <td>0.0</td>\n",
       "      <td>0.0</td>\n",
       "      <td>0.0</td>\n",
       "      <td>0.0</td>\n",
       "      <td>0.0</td>\n",
       "      <td>0.0</td>\n",
       "      <td>0.0</td>\n",
       "      <td>0.0</td>\n",
       "      <td>0.0</td>\n",
       "      <td>0.0</td>\n",
       "      <td>0.0</td>\n",
       "      <td>0.0</td>\n",
       "      <td>0.0</td>\n",
       "      <td>0.0</td>\n",
       "      <td>1.0</td>\n",
       "      <td>0.0</td>\n",
       "      <td>0.0</td>\n",
       "      <td>0.0</td>\n",
       "      <td>0.0</td>\n",
       "      <td>0.0</td>\n",
       "      <td>0.0</td>\n",
       "      <td>0.0</td>\n",
       "      <td>0.0</td>\n",
       "      <td>0.0</td>\n",
       "      <td>0.0</td>\n",
       "      <td>0.0</td>\n",
       "      <td>0.0</td>\n",
       "      <td>0.0</td>\n",
       "    </tr>\n",
       "    <tr>\n",
       "      <th>4</th>\n",
       "      <td>0.0</td>\n",
       "      <td>0.0</td>\n",
       "      <td>0.0</td>\n",
       "      <td>0.0</td>\n",
       "      <td>0.0</td>\n",
       "      <td>0.0</td>\n",
       "      <td>0.0</td>\n",
       "      <td>0.0</td>\n",
       "      <td>0.0</td>\n",
       "      <td>0.0</td>\n",
       "      <td>0.0</td>\n",
       "      <td>0.0</td>\n",
       "      <td>0.0</td>\n",
       "      <td>0.0</td>\n",
       "      <td>0.0</td>\n",
       "      <td>0.0</td>\n",
       "      <td>0.0</td>\n",
       "      <td>0.0</td>\n",
       "      <td>0.0</td>\n",
       "      <td>1.0</td>\n",
       "      <td>0.0</td>\n",
       "      <td>0.0</td>\n",
       "      <td>0.0</td>\n",
       "      <td>0.0</td>\n",
       "      <td>0.0</td>\n",
       "      <td>0.0</td>\n",
       "      <td>0.0</td>\n",
       "      <td>0.0</td>\n",
       "      <td>0.0</td>\n",
       "      <td>0.0</td>\n",
       "      <td>0.0</td>\n",
       "      <td>0.0</td>\n",
       "      <td>0.0</td>\n",
       "    </tr>\n",
       "  </tbody>\n",
       "</table>\n",
       "</div>"
      ],
      "text/plain": [
       "   neighbourhood_Barking and Dagenham  neighbourhood_Barnet  \\\n",
       "0                                 0.0                   0.0   \n",
       "1                                 0.0                   0.0   \n",
       "2                                 0.0                   0.0   \n",
       "3                                 0.0                   0.0   \n",
       "4                                 0.0                   0.0   \n",
       "\n",
       "   neighbourhood_Bexley  neighbourhood_Brent  neighbourhood_Bromley  \\\n",
       "0                   0.0                  0.0                    0.0   \n",
       "1                   0.0                  0.0                    0.0   \n",
       "2                   0.0                  0.0                    0.0   \n",
       "3                   0.0                  0.0                    0.0   \n",
       "4                   0.0                  0.0                    0.0   \n",
       "\n",
       "   neighbourhood_Camden  neighbourhood_City of London  neighbourhood_Croydon  \\\n",
       "0                   0.0                           0.0                    0.0   \n",
       "1                   0.0                           0.0                    0.0   \n",
       "2                   0.0                           0.0                    0.0   \n",
       "3                   0.0                           0.0                    0.0   \n",
       "4                   0.0                           0.0                    0.0   \n",
       "\n",
       "   neighbourhood_Ealing  neighbourhood_Enfield  neighbourhood_Greenwich  \\\n",
       "0                   0.0                    0.0                      0.0   \n",
       "1                   0.0                    0.0                      0.0   \n",
       "2                   0.0                    0.0                      0.0   \n",
       "3                   0.0                    0.0                      0.0   \n",
       "4                   0.0                    0.0                      0.0   \n",
       "\n",
       "   neighbourhood_Hackney  neighbourhood_Hammersmith and Fulham  \\\n",
       "0                    0.0                                   0.0   \n",
       "1                    0.0                                   0.0   \n",
       "2                    0.0                                   0.0   \n",
       "3                    0.0                                   0.0   \n",
       "4                    0.0                                   0.0   \n",
       "\n",
       "   neighbourhood_Haringey  neighbourhood_Harrow  neighbourhood_Havering  \\\n",
       "0                     0.0                   0.0                     0.0   \n",
       "1                     0.0                   0.0                     0.0   \n",
       "2                     0.0                   0.0                     0.0   \n",
       "3                     0.0                   0.0                     0.0   \n",
       "4                     0.0                   0.0                     0.0   \n",
       "\n",
       "   neighbourhood_Hillingdon  neighbourhood_Hounslow  neighbourhood_Islington  \\\n",
       "0                       0.0                     0.0                      0.0   \n",
       "1                       0.0                     0.0                      1.0   \n",
       "2                       0.0                     0.0                      0.0   \n",
       "3                       0.0                     0.0                      0.0   \n",
       "4                       0.0                     0.0                      0.0   \n",
       "\n",
       "   neighbourhood_Kensington and Chelsea  neighbourhood_Kingston upon Thames  \\\n",
       "0                                   0.0                                 0.0   \n",
       "1                                   0.0                                 0.0   \n",
       "2                                   0.0                                 0.0   \n",
       "3                                   1.0                                 0.0   \n",
       "4                                   1.0                                 0.0   \n",
       "\n",
       "   neighbourhood_Lambeth  neighbourhood_Lewisham  neighbourhood_Merton  \\\n",
       "0                    0.0                     0.0                   0.0   \n",
       "1                    0.0                     0.0                   0.0   \n",
       "2                    0.0                     0.0                   0.0   \n",
       "3                    0.0                     0.0                   0.0   \n",
       "4                    0.0                     0.0                   0.0   \n",
       "\n",
       "   neighbourhood_Newham  neighbourhood_Redbridge  \\\n",
       "0                   0.0                      0.0   \n",
       "1                   0.0                      0.0   \n",
       "2                   0.0                      0.0   \n",
       "3                   0.0                      0.0   \n",
       "4                   0.0                      0.0   \n",
       "\n",
       "   neighbourhood_Richmond upon Thames  neighbourhood_Southwark  \\\n",
       "0                                 0.0                      0.0   \n",
       "1                                 0.0                      0.0   \n",
       "2                                 0.0                      0.0   \n",
       "3                                 0.0                      0.0   \n",
       "4                                 0.0                      0.0   \n",
       "\n",
       "   neighbourhood_Sutton  neighbourhood_Tower Hamlets  \\\n",
       "0                   0.0                          1.0   \n",
       "1                   0.0                          0.0   \n",
       "2                   0.0                          1.0   \n",
       "3                   0.0                          0.0   \n",
       "4                   0.0                          0.0   \n",
       "\n",
       "   neighbourhood_Waltham Forest  neighbourhood_Wandsworth  \\\n",
       "0                           0.0                       0.0   \n",
       "1                           0.0                       0.0   \n",
       "2                           0.0                       0.0   \n",
       "3                           0.0                       0.0   \n",
       "4                           0.0                       0.0   \n",
       "\n",
       "   neighbourhood_Westminster  \n",
       "0                        0.0  \n",
       "1                        0.0  \n",
       "2                        0.0  \n",
       "3                        0.0  \n",
       "4                        0.0  "
      ]
     },
     "execution_count": 91,
     "metadata": {},
     "output_type": "execute_result"
    }
   ],
   "source": [
    "dummies_nominal = pd.DataFrame(enc.transform(data[[nominal_categorical_columns]]),\n",
    "                       columns = enc.get_feature_names_out(), index=data.index)\n",
    "dummies_nominal.head()"
   ]
  },
  {
   "cell_type": "code",
   "execution_count": 92,
   "metadata": {},
   "outputs": [
    {
     "data": {
      "text/html": [
       "<div>\n",
       "<style scoped>\n",
       "    .dataframe tbody tr th:only-of-type {\n",
       "        vertical-align: middle;\n",
       "    }\n",
       "\n",
       "    .dataframe tbody tr th {\n",
       "        vertical-align: top;\n",
       "    }\n",
       "\n",
       "    .dataframe thead th {\n",
       "        text-align: right;\n",
       "    }\n",
       "</style>\n",
       "<table border=\"1\" class=\"dataframe\">\n",
       "  <thead>\n",
       "    <tr style=\"text-align: right;\">\n",
       "      <th></th>\n",
       "      <th>id</th>\n",
       "      <th>host_id</th>\n",
       "      <th>neighbourhood</th>\n",
       "      <th>latitude</th>\n",
       "      <th>longitude</th>\n",
       "      <th>price</th>\n",
       "      <th>minimum_nights</th>\n",
       "      <th>number_of_reviews</th>\n",
       "      <th>last_review</th>\n",
       "      <th>reviews_per_month</th>\n",
       "      <th>calculated_host_listings_count</th>\n",
       "      <th>availability_365</th>\n",
       "      <th>number_of_reviews_ltm</th>\n",
       "      <th>room_type</th>\n",
       "    </tr>\n",
       "  </thead>\n",
       "  <tbody>\n",
       "    <tr>\n",
       "      <th>0</th>\n",
       "      <td>106332</td>\n",
       "      <td>264345</td>\n",
       "      <td>Tower Hamlets</td>\n",
       "      <td>51.52874</td>\n",
       "      <td>-0.05396</td>\n",
       "      <td>55</td>\n",
       "      <td>3</td>\n",
       "      <td>65</td>\n",
       "      <td>2016-06-10</td>\n",
       "      <td>0.47</td>\n",
       "      <td>1</td>\n",
       "      <td>74</td>\n",
       "      <td>0</td>\n",
       "      <td>Private room</td>\n",
       "    </tr>\n",
       "    <tr>\n",
       "      <th>1</th>\n",
       "      <td>13913</td>\n",
       "      <td>54730</td>\n",
       "      <td>Islington</td>\n",
       "      <td>51.56861</td>\n",
       "      <td>-0.11270</td>\n",
       "      <td>50</td>\n",
       "      <td>1</td>\n",
       "      <td>30</td>\n",
       "      <td>2022-07-15</td>\n",
       "      <td>0.20</td>\n",
       "      <td>2</td>\n",
       "      <td>343</td>\n",
       "      <td>9</td>\n",
       "      <td>Private room</td>\n",
       "    </tr>\n",
       "    <tr>\n",
       "      <th>2</th>\n",
       "      <td>284532</td>\n",
       "      <td>1481412</td>\n",
       "      <td>Tower Hamlets</td>\n",
       "      <td>51.52851</td>\n",
       "      <td>-0.07426</td>\n",
       "      <td>90</td>\n",
       "      <td>5</td>\n",
       "      <td>42</td>\n",
       "      <td>2022-01-04</td>\n",
       "      <td>0.34</td>\n",
       "      <td>1</td>\n",
       "      <td>222</td>\n",
       "      <td>1</td>\n",
       "      <td>Entire home/apt</td>\n",
       "    </tr>\n",
       "    <tr>\n",
       "      <th>3</th>\n",
       "      <td>284603</td>\n",
       "      <td>1481851</td>\n",
       "      <td>Kensington and Chelsea</td>\n",
       "      <td>51.51464</td>\n",
       "      <td>-0.20004</td>\n",
       "      <td>297</td>\n",
       "      <td>14</td>\n",
       "      <td>6</td>\n",
       "      <td>2022-07-04</td>\n",
       "      <td>0.05</td>\n",
       "      <td>1</td>\n",
       "      <td>180</td>\n",
       "      <td>2</td>\n",
       "      <td>Entire home/apt</td>\n",
       "    </tr>\n",
       "    <tr>\n",
       "      <th>4</th>\n",
       "      <td>15400</td>\n",
       "      <td>60302</td>\n",
       "      <td>Kensington and Chelsea</td>\n",
       "      <td>51.48780</td>\n",
       "      <td>-0.16813</td>\n",
       "      <td>75</td>\n",
       "      <td>3</td>\n",
       "      <td>89</td>\n",
       "      <td>2020-03-16</td>\n",
       "      <td>0.57</td>\n",
       "      <td>1</td>\n",
       "      <td>70</td>\n",
       "      <td>0</td>\n",
       "      <td>Entire home/apt</td>\n",
       "    </tr>\n",
       "  </tbody>\n",
       "</table>\n",
       "</div>"
      ],
      "text/plain": [
       "       id  host_id           neighbourhood  latitude  longitude  price  \\\n",
       "0  106332   264345           Tower Hamlets  51.52874   -0.05396     55   \n",
       "1   13913    54730               Islington  51.56861   -0.11270     50   \n",
       "2  284532  1481412           Tower Hamlets  51.52851   -0.07426     90   \n",
       "3  284603  1481851  Kensington and Chelsea  51.51464   -0.20004    297   \n",
       "4   15400    60302  Kensington and Chelsea  51.48780   -0.16813     75   \n",
       "\n",
       "   minimum_nights  number_of_reviews last_review  reviews_per_month  \\\n",
       "0               3                 65  2016-06-10               0.47   \n",
       "1               1                 30  2022-07-15               0.20   \n",
       "2               5                 42  2022-01-04               0.34   \n",
       "3              14                  6  2022-07-04               0.05   \n",
       "4               3                 89  2020-03-16               0.57   \n",
       "\n",
       "   calculated_host_listings_count  availability_365  number_of_reviews_ltm  \\\n",
       "0                               1                74                      0   \n",
       "1                               2               343                      9   \n",
       "2                               1               222                      1   \n",
       "3                               1               180                      2   \n",
       "4                               1                70                      0   \n",
       "\n",
       "         room_type  \n",
       "0     Private room  \n",
       "1     Private room  \n",
       "2  Entire home/apt  \n",
       "3  Entire home/apt  \n",
       "4  Entire home/apt  "
      ]
     },
     "execution_count": 92,
     "metadata": {},
     "output_type": "execute_result"
    }
   ],
   "source": [
    "data.head()"
   ]
  },
  {
   "cell_type": "code",
   "execution_count": 93,
   "metadata": {},
   "outputs": [
    {
     "data": {
      "text/html": [
       "<div>\n",
       "<style scoped>\n",
       "    .dataframe tbody tr th:only-of-type {\n",
       "        vertical-align: middle;\n",
       "    }\n",
       "\n",
       "    .dataframe tbody tr th {\n",
       "        vertical-align: top;\n",
       "    }\n",
       "\n",
       "    .dataframe thead th {\n",
       "        text-align: right;\n",
       "    }\n",
       "</style>\n",
       "<table border=\"1\" class=\"dataframe\">\n",
       "  <thead>\n",
       "    <tr style=\"text-align: right;\">\n",
       "      <th></th>\n",
       "      <th>neighbourhood_Barking and Dagenham</th>\n",
       "      <th>neighbourhood_Barnet</th>\n",
       "      <th>neighbourhood_Bexley</th>\n",
       "      <th>neighbourhood_Brent</th>\n",
       "      <th>neighbourhood_Bromley</th>\n",
       "      <th>neighbourhood_Camden</th>\n",
       "      <th>neighbourhood_City of London</th>\n",
       "      <th>neighbourhood_Croydon</th>\n",
       "      <th>neighbourhood_Ealing</th>\n",
       "      <th>neighbourhood_Enfield</th>\n",
       "      <th>neighbourhood_Greenwich</th>\n",
       "      <th>neighbourhood_Hackney</th>\n",
       "      <th>neighbourhood_Hammersmith and Fulham</th>\n",
       "      <th>neighbourhood_Haringey</th>\n",
       "      <th>neighbourhood_Harrow</th>\n",
       "      <th>neighbourhood_Havering</th>\n",
       "      <th>neighbourhood_Hillingdon</th>\n",
       "      <th>neighbourhood_Hounslow</th>\n",
       "      <th>neighbourhood_Islington</th>\n",
       "      <th>neighbourhood_Kensington and Chelsea</th>\n",
       "      <th>neighbourhood_Kingston upon Thames</th>\n",
       "      <th>neighbourhood_Lambeth</th>\n",
       "      <th>neighbourhood_Lewisham</th>\n",
       "      <th>neighbourhood_Merton</th>\n",
       "      <th>neighbourhood_Newham</th>\n",
       "      <th>neighbourhood_Redbridge</th>\n",
       "      <th>neighbourhood_Richmond upon Thames</th>\n",
       "      <th>neighbourhood_Southwark</th>\n",
       "      <th>neighbourhood_Sutton</th>\n",
       "      <th>neighbourhood_Tower Hamlets</th>\n",
       "      <th>neighbourhood_Waltham Forest</th>\n",
       "      <th>neighbourhood_Wandsworth</th>\n",
       "      <th>neighbourhood_Westminster</th>\n",
       "      <th>last_review</th>\n",
       "      <th>id</th>\n",
       "      <th>host_id</th>\n",
       "      <th>latitude</th>\n",
       "      <th>longitude</th>\n",
       "      <th>price</th>\n",
       "      <th>minimum_nights</th>\n",
       "      <th>number_of_reviews</th>\n",
       "      <th>reviews_per_month</th>\n",
       "      <th>calculated_host_listings_count</th>\n",
       "      <th>availability_365</th>\n",
       "      <th>number_of_reviews_ltm</th>\n",
       "    </tr>\n",
       "  </thead>\n",
       "  <tbody>\n",
       "    <tr>\n",
       "      <th>count</th>\n",
       "      <td>68586.000000</td>\n",
       "      <td>68586.000000</td>\n",
       "      <td>68586.000000</td>\n",
       "      <td>68586.000000</td>\n",
       "      <td>68586.000000</td>\n",
       "      <td>68586.000000</td>\n",
       "      <td>68586.000000</td>\n",
       "      <td>68586.000000</td>\n",
       "      <td>68586.000000</td>\n",
       "      <td>68586.000000</td>\n",
       "      <td>68586.000000</td>\n",
       "      <td>68586.000000</td>\n",
       "      <td>68586.000000</td>\n",
       "      <td>68586.000000</td>\n",
       "      <td>68586.000000</td>\n",
       "      <td>68586.000000</td>\n",
       "      <td>68586.000000</td>\n",
       "      <td>68586.000000</td>\n",
       "      <td>68586.000000</td>\n",
       "      <td>68586.000000</td>\n",
       "      <td>68586.000000</td>\n",
       "      <td>68586.000000</td>\n",
       "      <td>68586.000000</td>\n",
       "      <td>68586.000000</td>\n",
       "      <td>68586.000000</td>\n",
       "      <td>68586.000000</td>\n",
       "      <td>68586.000000</td>\n",
       "      <td>68586.000000</td>\n",
       "      <td>68586.000000</td>\n",
       "      <td>68586.000000</td>\n",
       "      <td>68586.000000</td>\n",
       "      <td>68586.000000</td>\n",
       "      <td>68586.000000</td>\n",
       "      <td>68586.000000</td>\n",
       "      <td>6.858600e+04</td>\n",
       "      <td>6.858600e+04</td>\n",
       "      <td>68586.000000</td>\n",
       "      <td>68586.000000</td>\n",
       "      <td>68586.000000</td>\n",
       "      <td>68586.000000</td>\n",
       "      <td>68586.000000</td>\n",
       "      <td>68586.000000</td>\n",
       "      <td>68586.000000</td>\n",
       "      <td>68586.000000</td>\n",
       "      <td>68586.000000</td>\n",
       "    </tr>\n",
       "    <tr>\n",
       "      <th>mean</th>\n",
       "      <td>0.006270</td>\n",
       "      <td>0.023183</td>\n",
       "      <td>0.005978</td>\n",
       "      <td>0.029846</td>\n",
       "      <td>0.008646</td>\n",
       "      <td>0.068017</td>\n",
       "      <td>0.006036</td>\n",
       "      <td>0.015440</td>\n",
       "      <td>0.022395</td>\n",
       "      <td>0.008865</td>\n",
       "      <td>0.021739</td>\n",
       "      <td>0.074680</td>\n",
       "      <td>0.043114</td>\n",
       "      <td>0.027498</td>\n",
       "      <td>0.006444</td>\n",
       "      <td>0.004782</td>\n",
       "      <td>0.010177</td>\n",
       "      <td>0.015572</td>\n",
       "      <td>0.054603</td>\n",
       "      <td>0.066209</td>\n",
       "      <td>0.008836</td>\n",
       "      <td>0.053641</td>\n",
       "      <td>0.029277</td>\n",
       "      <td>0.016213</td>\n",
       "      <td>0.024320</td>\n",
       "      <td>0.009667</td>\n",
       "      <td>0.015980</td>\n",
       "      <td>0.057184</td>\n",
       "      <td>0.004141</td>\n",
       "      <td>0.080366</td>\n",
       "      <td>0.019144</td>\n",
       "      <td>0.050083</td>\n",
       "      <td>0.111655</td>\n",
       "      <td>2208.948517</td>\n",
       "      <td>1.386222e+17</td>\n",
       "      <td>1.246588e+08</td>\n",
       "      <td>51.509515</td>\n",
       "      <td>-0.128401</td>\n",
       "      <td>176.819584</td>\n",
       "      <td>4.715729</td>\n",
       "      <td>15.855072</td>\n",
       "      <td>0.754571</td>\n",
       "      <td>12.067521</td>\n",
       "      <td>107.970417</td>\n",
       "      <td>4.483772</td>\n",
       "    </tr>\n",
       "    <tr>\n",
       "      <th>std</th>\n",
       "      <td>0.078932</td>\n",
       "      <td>0.150484</td>\n",
       "      <td>0.077086</td>\n",
       "      <td>0.170163</td>\n",
       "      <td>0.092582</td>\n",
       "      <td>0.251777</td>\n",
       "      <td>0.077459</td>\n",
       "      <td>0.123298</td>\n",
       "      <td>0.147966</td>\n",
       "      <td>0.093735</td>\n",
       "      <td>0.145832</td>\n",
       "      <td>0.262876</td>\n",
       "      <td>0.203115</td>\n",
       "      <td>0.163532</td>\n",
       "      <td>0.080019</td>\n",
       "      <td>0.068989</td>\n",
       "      <td>0.100367</td>\n",
       "      <td>0.123812</td>\n",
       "      <td>0.227205</td>\n",
       "      <td>0.248649</td>\n",
       "      <td>0.093582</td>\n",
       "      <td>0.225309</td>\n",
       "      <td>0.168583</td>\n",
       "      <td>0.126296</td>\n",
       "      <td>0.154041</td>\n",
       "      <td>0.097844</td>\n",
       "      <td>0.125399</td>\n",
       "      <td>0.232195</td>\n",
       "      <td>0.064216</td>\n",
       "      <td>0.271861</td>\n",
       "      <td>0.137032</td>\n",
       "      <td>0.218118</td>\n",
       "      <td>0.314944</td>\n",
       "      <td>661.718216</td>\n",
       "      <td>2.660299e+17</td>\n",
       "      <td>1.378653e+08</td>\n",
       "      <td>0.049257</td>\n",
       "      <td>0.100961</td>\n",
       "      <td>400.520887</td>\n",
       "      <td>9.570489</td>\n",
       "      <td>31.134401</td>\n",
       "      <td>1.043046</td>\n",
       "      <td>37.331048</td>\n",
       "      <td>132.667577</td>\n",
       "      <td>9.990584</td>\n",
       "    </tr>\n",
       "    <tr>\n",
       "      <th>min</th>\n",
       "      <td>0.000000</td>\n",
       "      <td>0.000000</td>\n",
       "      <td>0.000000</td>\n",
       "      <td>0.000000</td>\n",
       "      <td>0.000000</td>\n",
       "      <td>0.000000</td>\n",
       "      <td>0.000000</td>\n",
       "      <td>0.000000</td>\n",
       "      <td>0.000000</td>\n",
       "      <td>0.000000</td>\n",
       "      <td>0.000000</td>\n",
       "      <td>0.000000</td>\n",
       "      <td>0.000000</td>\n",
       "      <td>0.000000</td>\n",
       "      <td>0.000000</td>\n",
       "      <td>0.000000</td>\n",
       "      <td>0.000000</td>\n",
       "      <td>0.000000</td>\n",
       "      <td>0.000000</td>\n",
       "      <td>0.000000</td>\n",
       "      <td>0.000000</td>\n",
       "      <td>0.000000</td>\n",
       "      <td>0.000000</td>\n",
       "      <td>0.000000</td>\n",
       "      <td>0.000000</td>\n",
       "      <td>0.000000</td>\n",
       "      <td>0.000000</td>\n",
       "      <td>0.000000</td>\n",
       "      <td>0.000000</td>\n",
       "      <td>0.000000</td>\n",
       "      <td>0.000000</td>\n",
       "      <td>0.000000</td>\n",
       "      <td>0.000000</td>\n",
       "      <td>0.000000</td>\n",
       "      <td>1.391300e+04</td>\n",
       "      <td>4.775000e+03</td>\n",
       "      <td>51.272480</td>\n",
       "      <td>-0.523600</td>\n",
       "      <td>0.000000</td>\n",
       "      <td>1.000000</td>\n",
       "      <td>0.000000</td>\n",
       "      <td>0.010000</td>\n",
       "      <td>1.000000</td>\n",
       "      <td>0.000000</td>\n",
       "      <td>0.000000</td>\n",
       "    </tr>\n",
       "    <tr>\n",
       "      <th>25%</th>\n",
       "      <td>0.000000</td>\n",
       "      <td>0.000000</td>\n",
       "      <td>0.000000</td>\n",
       "      <td>0.000000</td>\n",
       "      <td>0.000000</td>\n",
       "      <td>0.000000</td>\n",
       "      <td>0.000000</td>\n",
       "      <td>0.000000</td>\n",
       "      <td>0.000000</td>\n",
       "      <td>0.000000</td>\n",
       "      <td>0.000000</td>\n",
       "      <td>0.000000</td>\n",
       "      <td>0.000000</td>\n",
       "      <td>0.000000</td>\n",
       "      <td>0.000000</td>\n",
       "      <td>0.000000</td>\n",
       "      <td>0.000000</td>\n",
       "      <td>0.000000</td>\n",
       "      <td>0.000000</td>\n",
       "      <td>0.000000</td>\n",
       "      <td>0.000000</td>\n",
       "      <td>0.000000</td>\n",
       "      <td>0.000000</td>\n",
       "      <td>0.000000</td>\n",
       "      <td>0.000000</td>\n",
       "      <td>0.000000</td>\n",
       "      <td>0.000000</td>\n",
       "      <td>0.000000</td>\n",
       "      <td>0.000000</td>\n",
       "      <td>0.000000</td>\n",
       "      <td>0.000000</td>\n",
       "      <td>0.000000</td>\n",
       "      <td>0.000000</td>\n",
       "      <td>1761.000000</td>\n",
       "      <td>1.833477e+07</td>\n",
       "      <td>1.901715e+07</td>\n",
       "      <td>51.483000</td>\n",
       "      <td>-0.189510</td>\n",
       "      <td>55.000000</td>\n",
       "      <td>1.000000</td>\n",
       "      <td>1.000000</td>\n",
       "      <td>0.190000</td>\n",
       "      <td>1.000000</td>\n",
       "      <td>0.000000</td>\n",
       "      <td>0.000000</td>\n",
       "    </tr>\n",
       "    <tr>\n",
       "      <th>50%</th>\n",
       "      <td>0.000000</td>\n",
       "      <td>0.000000</td>\n",
       "      <td>0.000000</td>\n",
       "      <td>0.000000</td>\n",
       "      <td>0.000000</td>\n",
       "      <td>0.000000</td>\n",
       "      <td>0.000000</td>\n",
       "      <td>0.000000</td>\n",
       "      <td>0.000000</td>\n",
       "      <td>0.000000</td>\n",
       "      <td>0.000000</td>\n",
       "      <td>0.000000</td>\n",
       "      <td>0.000000</td>\n",
       "      <td>0.000000</td>\n",
       "      <td>0.000000</td>\n",
       "      <td>0.000000</td>\n",
       "      <td>0.000000</td>\n",
       "      <td>0.000000</td>\n",
       "      <td>0.000000</td>\n",
       "      <td>0.000000</td>\n",
       "      <td>0.000000</td>\n",
       "      <td>0.000000</td>\n",
       "      <td>0.000000</td>\n",
       "      <td>0.000000</td>\n",
       "      <td>0.000000</td>\n",
       "      <td>0.000000</td>\n",
       "      <td>0.000000</td>\n",
       "      <td>0.000000</td>\n",
       "      <td>0.000000</td>\n",
       "      <td>0.000000</td>\n",
       "      <td>0.000000</td>\n",
       "      <td>0.000000</td>\n",
       "      <td>0.000000</td>\n",
       "      <td>2603.000000</td>\n",
       "      <td>3.418920e+07</td>\n",
       "      <td>6.058304e+07</td>\n",
       "      <td>51.513629</td>\n",
       "      <td>-0.126150</td>\n",
       "      <td>100.000000</td>\n",
       "      <td>2.000000</td>\n",
       "      <td>4.000000</td>\n",
       "      <td>0.430000</td>\n",
       "      <td>1.000000</td>\n",
       "      <td>31.000000</td>\n",
       "      <td>0.000000</td>\n",
       "    </tr>\n",
       "    <tr>\n",
       "      <th>75%</th>\n",
       "      <td>0.000000</td>\n",
       "      <td>0.000000</td>\n",
       "      <td>0.000000</td>\n",
       "      <td>0.000000</td>\n",
       "      <td>0.000000</td>\n",
       "      <td>0.000000</td>\n",
       "      <td>0.000000</td>\n",
       "      <td>0.000000</td>\n",
       "      <td>0.000000</td>\n",
       "      <td>0.000000</td>\n",
       "      <td>0.000000</td>\n",
       "      <td>0.000000</td>\n",
       "      <td>0.000000</td>\n",
       "      <td>0.000000</td>\n",
       "      <td>0.000000</td>\n",
       "      <td>0.000000</td>\n",
       "      <td>0.000000</td>\n",
       "      <td>0.000000</td>\n",
       "      <td>0.000000</td>\n",
       "      <td>0.000000</td>\n",
       "      <td>0.000000</td>\n",
       "      <td>0.000000</td>\n",
       "      <td>0.000000</td>\n",
       "      <td>0.000000</td>\n",
       "      <td>0.000000</td>\n",
       "      <td>0.000000</td>\n",
       "      <td>0.000000</td>\n",
       "      <td>0.000000</td>\n",
       "      <td>0.000000</td>\n",
       "      <td>0.000000</td>\n",
       "      <td>0.000000</td>\n",
       "      <td>0.000000</td>\n",
       "      <td>0.000000</td>\n",
       "      <td>2632.000000</td>\n",
       "      <td>5.279163e+07</td>\n",
       "      <td>1.970345e+08</td>\n",
       "      <td>51.539790</td>\n",
       "      <td>-0.068490</td>\n",
       "      <td>180.000000</td>\n",
       "      <td>4.000000</td>\n",
       "      <td>16.000000</td>\n",
       "      <td>0.840000</td>\n",
       "      <td>4.000000</td>\n",
       "      <td>226.000000</td>\n",
       "      <td>5.000000</td>\n",
       "    </tr>\n",
       "    <tr>\n",
       "      <th>max</th>\n",
       "      <td>1.000000</td>\n",
       "      <td>1.000000</td>\n",
       "      <td>1.000000</td>\n",
       "      <td>1.000000</td>\n",
       "      <td>1.000000</td>\n",
       "      <td>1.000000</td>\n",
       "      <td>1.000000</td>\n",
       "      <td>1.000000</td>\n",
       "      <td>1.000000</td>\n",
       "      <td>1.000000</td>\n",
       "      <td>1.000000</td>\n",
       "      <td>1.000000</td>\n",
       "      <td>1.000000</td>\n",
       "      <td>1.000000</td>\n",
       "      <td>1.000000</td>\n",
       "      <td>1.000000</td>\n",
       "      <td>1.000000</td>\n",
       "      <td>1.000000</td>\n",
       "      <td>1.000000</td>\n",
       "      <td>1.000000</td>\n",
       "      <td>1.000000</td>\n",
       "      <td>1.000000</td>\n",
       "      <td>1.000000</td>\n",
       "      <td>1.000000</td>\n",
       "      <td>1.000000</td>\n",
       "      <td>1.000000</td>\n",
       "      <td>1.000000</td>\n",
       "      <td>1.000000</td>\n",
       "      <td>1.000000</td>\n",
       "      <td>1.000000</td>\n",
       "      <td>1.000000</td>\n",
       "      <td>1.000000</td>\n",
       "      <td>1.000000</td>\n",
       "      <td>2639.000000</td>\n",
       "      <td>7.123951e+17</td>\n",
       "      <td>4.788540e+08</td>\n",
       "      <td>51.708930</td>\n",
       "      <td>0.305150</td>\n",
       "      <td>25000.000000</td>\n",
       "      <td>91.000000</td>\n",
       "      <td>255.000000</td>\n",
       "      <td>26.150000</td>\n",
       "      <td>285.000000</td>\n",
       "      <td>365.000000</td>\n",
       "      <td>231.000000</td>\n",
       "    </tr>\n",
       "  </tbody>\n",
       "</table>\n",
       "</div>"
      ],
      "text/plain": [
       "       neighbourhood_Barking and Dagenham  neighbourhood_Barnet  \\\n",
       "count                        68586.000000          68586.000000   \n",
       "mean                             0.006270              0.023183   \n",
       "std                              0.078932              0.150484   \n",
       "min                              0.000000              0.000000   \n",
       "25%                              0.000000              0.000000   \n",
       "50%                              0.000000              0.000000   \n",
       "75%                              0.000000              0.000000   \n",
       "max                              1.000000              1.000000   \n",
       "\n",
       "       neighbourhood_Bexley  neighbourhood_Brent  neighbourhood_Bromley  \\\n",
       "count          68586.000000         68586.000000           68586.000000   \n",
       "mean               0.005978             0.029846               0.008646   \n",
       "std                0.077086             0.170163               0.092582   \n",
       "min                0.000000             0.000000               0.000000   \n",
       "25%                0.000000             0.000000               0.000000   \n",
       "50%                0.000000             0.000000               0.000000   \n",
       "75%                0.000000             0.000000               0.000000   \n",
       "max                1.000000             1.000000               1.000000   \n",
       "\n",
       "       neighbourhood_Camden  neighbourhood_City of London  \\\n",
       "count          68586.000000                  68586.000000   \n",
       "mean               0.068017                      0.006036   \n",
       "std                0.251777                      0.077459   \n",
       "min                0.000000                      0.000000   \n",
       "25%                0.000000                      0.000000   \n",
       "50%                0.000000                      0.000000   \n",
       "75%                0.000000                      0.000000   \n",
       "max                1.000000                      1.000000   \n",
       "\n",
       "       neighbourhood_Croydon  neighbourhood_Ealing  neighbourhood_Enfield  \\\n",
       "count           68586.000000          68586.000000           68586.000000   \n",
       "mean                0.015440              0.022395               0.008865   \n",
       "std                 0.123298              0.147966               0.093735   \n",
       "min                 0.000000              0.000000               0.000000   \n",
       "25%                 0.000000              0.000000               0.000000   \n",
       "50%                 0.000000              0.000000               0.000000   \n",
       "75%                 0.000000              0.000000               0.000000   \n",
       "max                 1.000000              1.000000               1.000000   \n",
       "\n",
       "       neighbourhood_Greenwich  neighbourhood_Hackney  \\\n",
       "count             68586.000000           68586.000000   \n",
       "mean                  0.021739               0.074680   \n",
       "std                   0.145832               0.262876   \n",
       "min                   0.000000               0.000000   \n",
       "25%                   0.000000               0.000000   \n",
       "50%                   0.000000               0.000000   \n",
       "75%                   0.000000               0.000000   \n",
       "max                   1.000000               1.000000   \n",
       "\n",
       "       neighbourhood_Hammersmith and Fulham  neighbourhood_Haringey  \\\n",
       "count                          68586.000000            68586.000000   \n",
       "mean                               0.043114                0.027498   \n",
       "std                                0.203115                0.163532   \n",
       "min                                0.000000                0.000000   \n",
       "25%                                0.000000                0.000000   \n",
       "50%                                0.000000                0.000000   \n",
       "75%                                0.000000                0.000000   \n",
       "max                                1.000000                1.000000   \n",
       "\n",
       "       neighbourhood_Harrow  neighbourhood_Havering  neighbourhood_Hillingdon  \\\n",
       "count          68586.000000            68586.000000              68586.000000   \n",
       "mean               0.006444                0.004782                  0.010177   \n",
       "std                0.080019                0.068989                  0.100367   \n",
       "min                0.000000                0.000000                  0.000000   \n",
       "25%                0.000000                0.000000                  0.000000   \n",
       "50%                0.000000                0.000000                  0.000000   \n",
       "75%                0.000000                0.000000                  0.000000   \n",
       "max                1.000000                1.000000                  1.000000   \n",
       "\n",
       "       neighbourhood_Hounslow  neighbourhood_Islington  \\\n",
       "count            68586.000000             68586.000000   \n",
       "mean                 0.015572                 0.054603   \n",
       "std                  0.123812                 0.227205   \n",
       "min                  0.000000                 0.000000   \n",
       "25%                  0.000000                 0.000000   \n",
       "50%                  0.000000                 0.000000   \n",
       "75%                  0.000000                 0.000000   \n",
       "max                  1.000000                 1.000000   \n",
       "\n",
       "       neighbourhood_Kensington and Chelsea  \\\n",
       "count                          68586.000000   \n",
       "mean                               0.066209   \n",
       "std                                0.248649   \n",
       "min                                0.000000   \n",
       "25%                                0.000000   \n",
       "50%                                0.000000   \n",
       "75%                                0.000000   \n",
       "max                                1.000000   \n",
       "\n",
       "       neighbourhood_Kingston upon Thames  neighbourhood_Lambeth  \\\n",
       "count                        68586.000000           68586.000000   \n",
       "mean                             0.008836               0.053641   \n",
       "std                              0.093582               0.225309   \n",
       "min                              0.000000               0.000000   \n",
       "25%                              0.000000               0.000000   \n",
       "50%                              0.000000               0.000000   \n",
       "75%                              0.000000               0.000000   \n",
       "max                              1.000000               1.000000   \n",
       "\n",
       "       neighbourhood_Lewisham  neighbourhood_Merton  neighbourhood_Newham  \\\n",
       "count            68586.000000          68586.000000          68586.000000   \n",
       "mean                 0.029277              0.016213              0.024320   \n",
       "std                  0.168583              0.126296              0.154041   \n",
       "min                  0.000000              0.000000              0.000000   \n",
       "25%                  0.000000              0.000000              0.000000   \n",
       "50%                  0.000000              0.000000              0.000000   \n",
       "75%                  0.000000              0.000000              0.000000   \n",
       "max                  1.000000              1.000000              1.000000   \n",
       "\n",
       "       neighbourhood_Redbridge  neighbourhood_Richmond upon Thames  \\\n",
       "count             68586.000000                        68586.000000   \n",
       "mean                  0.009667                            0.015980   \n",
       "std                   0.097844                            0.125399   \n",
       "min                   0.000000                            0.000000   \n",
       "25%                   0.000000                            0.000000   \n",
       "50%                   0.000000                            0.000000   \n",
       "75%                   0.000000                            0.000000   \n",
       "max                   1.000000                            1.000000   \n",
       "\n",
       "       neighbourhood_Southwark  neighbourhood_Sutton  \\\n",
       "count             68586.000000          68586.000000   \n",
       "mean                  0.057184              0.004141   \n",
       "std                   0.232195              0.064216   \n",
       "min                   0.000000              0.000000   \n",
       "25%                   0.000000              0.000000   \n",
       "50%                   0.000000              0.000000   \n",
       "75%                   0.000000              0.000000   \n",
       "max                   1.000000              1.000000   \n",
       "\n",
       "       neighbourhood_Tower Hamlets  neighbourhood_Waltham Forest  \\\n",
       "count                 68586.000000                  68586.000000   \n",
       "mean                      0.080366                      0.019144   \n",
       "std                       0.271861                      0.137032   \n",
       "min                       0.000000                      0.000000   \n",
       "25%                       0.000000                      0.000000   \n",
       "50%                       0.000000                      0.000000   \n",
       "75%                       0.000000                      0.000000   \n",
       "max                       1.000000                      1.000000   \n",
       "\n",
       "       neighbourhood_Wandsworth  neighbourhood_Westminster   last_review  \\\n",
       "count              68586.000000               68586.000000  68586.000000   \n",
       "mean                   0.050083                   0.111655   2208.948517   \n",
       "std                    0.218118                   0.314944    661.718216   \n",
       "min                    0.000000                   0.000000      0.000000   \n",
       "25%                    0.000000                   0.000000   1761.000000   \n",
       "50%                    0.000000                   0.000000   2603.000000   \n",
       "75%                    0.000000                   0.000000   2632.000000   \n",
       "max                    1.000000                   1.000000   2639.000000   \n",
       "\n",
       "                 id       host_id      latitude     longitude         price  \\\n",
       "count  6.858600e+04  6.858600e+04  68586.000000  68586.000000  68586.000000   \n",
       "mean   1.386222e+17  1.246588e+08     51.509515     -0.128401    176.819584   \n",
       "std    2.660299e+17  1.378653e+08      0.049257      0.100961    400.520887   \n",
       "min    1.391300e+04  4.775000e+03     51.272480     -0.523600      0.000000   \n",
       "25%    1.833477e+07  1.901715e+07     51.483000     -0.189510     55.000000   \n",
       "50%    3.418920e+07  6.058304e+07     51.513629     -0.126150    100.000000   \n",
       "75%    5.279163e+07  1.970345e+08     51.539790     -0.068490    180.000000   \n",
       "max    7.123951e+17  4.788540e+08     51.708930      0.305150  25000.000000   \n",
       "\n",
       "       minimum_nights  number_of_reviews  reviews_per_month  \\\n",
       "count    68586.000000       68586.000000       68586.000000   \n",
       "mean         4.715729          15.855072           0.754571   \n",
       "std          9.570489          31.134401           1.043046   \n",
       "min          1.000000           0.000000           0.010000   \n",
       "25%          1.000000           1.000000           0.190000   \n",
       "50%          2.000000           4.000000           0.430000   \n",
       "75%          4.000000          16.000000           0.840000   \n",
       "max         91.000000         255.000000          26.150000   \n",
       "\n",
       "       calculated_host_listings_count  availability_365  number_of_reviews_ltm  \n",
       "count                    68586.000000      68586.000000           68586.000000  \n",
       "mean                        12.067521        107.970417               4.483772  \n",
       "std                         37.331048        132.667577               9.990584  \n",
       "min                          1.000000          0.000000               0.000000  \n",
       "25%                          1.000000          0.000000               0.000000  \n",
       "50%                          1.000000         31.000000               0.000000  \n",
       "75%                          4.000000        226.000000               5.000000  \n",
       "max                        285.000000        365.000000             231.000000  "
      ]
     },
     "execution_count": 93,
     "metadata": {},
     "output_type": "execute_result"
    }
   ],
   "source": [
    "data = pd.concat((dummies_nominal, dummies_ordinal, data), axis = 1)\n",
    "data.describe()"
   ]
  },
  {
   "cell_type": "code",
   "execution_count": 94,
   "metadata": {},
   "outputs": [
    {
     "data": {
      "text/plain": [
       "(68586, 45)"
      ]
     },
     "execution_count": 94,
     "metadata": {},
     "output_type": "execute_result"
    }
   ],
   "source": [
    "data.drop(categorical_columns, axis = 1, inplace = True)\n",
    "data.shape"
   ]
  },
  {
   "cell_type": "markdown",
   "metadata": {},
   "source": [
    "### 5. Масштабирование данных (нормализация и стандартизация)"
   ]
  },
  {
   "cell_type": "markdown",
   "metadata": {},
   "source": [
    "#### 1-й способ (Стандартизация с Pandas mean и std)"
   ]
  },
  {
   "cell_type": "markdown",
   "metadata": {},
   "source": [
    "Нормализуем количественные признаки для улучшения работы некоторых алгоритмов машинного обучения. Для бинарных признаков такой подход избыточный.\n",
    "\n"
   ]
  },
  {
   "cell_type": "code",
   "execution_count": 95,
   "metadata": {},
   "outputs": [],
   "source": [
    "# data_numerical = data[numerical_columns]\n",
    "# data_numerical.describe()"
   ]
  },
  {
   "cell_type": "code",
   "execution_count": 96,
   "metadata": {},
   "outputs": [],
   "source": [
    "# data_numerical = (data_numerical - data_numerical.mean(axis=0))/data_numerical.std(axis=0)\n",
    "# data_numerical.describe()"
   ]
  },
  {
   "cell_type": "markdown",
   "metadata": {},
   "source": [
    "#### 2-й способ (Нормализация с Scikit-learn)"
   ]
  },
  {
   "cell_type": "markdown",
   "metadata": {},
   "source": [
    "#### 3-й способ (Стандартизация с Scikit-learn)"
   ]
  },
  {
   "cell_type": "code",
   "execution_count": 97,
   "metadata": {},
   "outputs": [],
   "source": [
    "from sklearn.preprocessing import StandardScaler\n",
    "\n",
    "room_type = data['room_type']\n",
    "data.drop(['room_type'], axis = 1, inplace = True) \n",
    "\n",
    "scaler = StandardScaler()\n",
    "scaler.fit(data)\n",
    "data = pd.DataFrame(scaler.transform(data), columns = data.columns, index = data.index)"
   ]
  },
  {
   "cell_type": "code",
   "execution_count": 98,
   "metadata": {},
   "outputs": [
    {
     "data": {
      "text/html": [
       "<div>\n",
       "<style scoped>\n",
       "    .dataframe tbody tr th:only-of-type {\n",
       "        vertical-align: middle;\n",
       "    }\n",
       "\n",
       "    .dataframe tbody tr th {\n",
       "        vertical-align: top;\n",
       "    }\n",
       "\n",
       "    .dataframe thead th {\n",
       "        text-align: right;\n",
       "    }\n",
       "</style>\n",
       "<table border=\"1\" class=\"dataframe\">\n",
       "  <thead>\n",
       "    <tr style=\"text-align: right;\">\n",
       "      <th></th>\n",
       "      <th>neighbourhood_Barking and Dagenham</th>\n",
       "      <th>neighbourhood_Barnet</th>\n",
       "      <th>neighbourhood_Bexley</th>\n",
       "      <th>neighbourhood_Brent</th>\n",
       "      <th>neighbourhood_Bromley</th>\n",
       "      <th>neighbourhood_Camden</th>\n",
       "      <th>neighbourhood_City of London</th>\n",
       "      <th>neighbourhood_Croydon</th>\n",
       "      <th>neighbourhood_Ealing</th>\n",
       "      <th>neighbourhood_Enfield</th>\n",
       "      <th>neighbourhood_Greenwich</th>\n",
       "      <th>neighbourhood_Hackney</th>\n",
       "      <th>neighbourhood_Hammersmith and Fulham</th>\n",
       "      <th>neighbourhood_Haringey</th>\n",
       "      <th>neighbourhood_Harrow</th>\n",
       "      <th>neighbourhood_Havering</th>\n",
       "      <th>neighbourhood_Hillingdon</th>\n",
       "      <th>neighbourhood_Hounslow</th>\n",
       "      <th>neighbourhood_Islington</th>\n",
       "      <th>neighbourhood_Kensington and Chelsea</th>\n",
       "      <th>neighbourhood_Kingston upon Thames</th>\n",
       "      <th>neighbourhood_Lambeth</th>\n",
       "      <th>neighbourhood_Lewisham</th>\n",
       "      <th>neighbourhood_Merton</th>\n",
       "      <th>neighbourhood_Newham</th>\n",
       "      <th>neighbourhood_Redbridge</th>\n",
       "      <th>neighbourhood_Richmond upon Thames</th>\n",
       "      <th>neighbourhood_Southwark</th>\n",
       "      <th>neighbourhood_Sutton</th>\n",
       "      <th>neighbourhood_Tower Hamlets</th>\n",
       "      <th>neighbourhood_Waltham Forest</th>\n",
       "      <th>neighbourhood_Wandsworth</th>\n",
       "      <th>neighbourhood_Westminster</th>\n",
       "      <th>id</th>\n",
       "      <th>host_id</th>\n",
       "      <th>latitude</th>\n",
       "      <th>longitude</th>\n",
       "      <th>price</th>\n",
       "      <th>minimum_nights</th>\n",
       "      <th>number_of_reviews</th>\n",
       "      <th>reviews_per_month</th>\n",
       "      <th>calculated_host_listings_count</th>\n",
       "      <th>availability_365</th>\n",
       "      <th>number_of_reviews_ltm</th>\n",
       "    </tr>\n",
       "  </thead>\n",
       "  <tbody>\n",
       "    <tr>\n",
       "      <th>0</th>\n",
       "      <td>-0.07943</td>\n",
       "      <td>-0.154054</td>\n",
       "      <td>-0.077549</td>\n",
       "      <td>-0.175396</td>\n",
       "      <td>-0.093389</td>\n",
       "      <td>-0.270149</td>\n",
       "      <td>-0.077929</td>\n",
       "      <td>-0.12523</td>\n",
       "      <td>-0.151355</td>\n",
       "      <td>-0.094573</td>\n",
       "      <td>-0.149071</td>\n",
       "      <td>-0.28409</td>\n",
       "      <td>-0.212265</td>\n",
       "      <td>-0.168154</td>\n",
       "      <td>-0.080537</td>\n",
       "      <td>-0.06932</td>\n",
       "      <td>-0.101398</td>\n",
       "      <td>-0.12577</td>\n",
       "      <td>-0.240326</td>\n",
       "      <td>-0.266277</td>\n",
       "      <td>-0.094416</td>\n",
       "      <td>-0.238078</td>\n",
       "      <td>-0.173667</td>\n",
       "      <td>-0.128376</td>\n",
       "      <td>-0.15788</td>\n",
       "      <td>-0.098798</td>\n",
       "      <td>-0.127434</td>\n",
       "      <td>-0.246276</td>\n",
       "      <td>-0.064483</td>\n",
       "      <td>3.382755</td>\n",
       "      <td>-0.139705</td>\n",
       "      <td>-0.229616</td>\n",
       "      <td>-0.354527</td>\n",
       "      <td>-0.521081</td>\n",
       "      <td>-0.902296</td>\n",
       "      <td>0.390299</td>\n",
       "      <td>0.737324</td>\n",
       "      <td>-0.304155</td>\n",
       "      <td>-0.179274</td>\n",
       "      <td>1.578488</td>\n",
       "      <td>-0.272829</td>\n",
       "      <td>-0.296472</td>\n",
       "      <td>-0.256059</td>\n",
       "      <td>-0.448803</td>\n",
       "    </tr>\n",
       "    <tr>\n",
       "      <th>1</th>\n",
       "      <td>-0.07943</td>\n",
       "      <td>-0.154054</td>\n",
       "      <td>-0.077549</td>\n",
       "      <td>-0.175396</td>\n",
       "      <td>-0.093389</td>\n",
       "      <td>-0.270149</td>\n",
       "      <td>-0.077929</td>\n",
       "      <td>-0.12523</td>\n",
       "      <td>-0.151355</td>\n",
       "      <td>-0.094573</td>\n",
       "      <td>-0.149071</td>\n",
       "      <td>-0.28409</td>\n",
       "      <td>-0.212265</td>\n",
       "      <td>-0.168154</td>\n",
       "      <td>-0.080537</td>\n",
       "      <td>-0.06932</td>\n",
       "      <td>-0.101398</td>\n",
       "      <td>-0.12577</td>\n",
       "      <td>4.161012</td>\n",
       "      <td>-0.266277</td>\n",
       "      <td>-0.094416</td>\n",
       "      <td>-0.238078</td>\n",
       "      <td>-0.173667</td>\n",
       "      <td>-0.128376</td>\n",
       "      <td>-0.15788</td>\n",
       "      <td>-0.098798</td>\n",
       "      <td>-0.127434</td>\n",
       "      <td>-0.246276</td>\n",
       "      <td>-0.064483</td>\n",
       "      <td>-0.295617</td>\n",
       "      <td>-0.139705</td>\n",
       "      <td>-0.229616</td>\n",
       "      <td>-0.354527</td>\n",
       "      <td>-0.521081</td>\n",
       "      <td>-0.903817</td>\n",
       "      <td>1.199725</td>\n",
       "      <td>0.155513</td>\n",
       "      <td>-0.316639</td>\n",
       "      <td>-0.388251</td>\n",
       "      <td>0.454322</td>\n",
       "      <td>-0.531688</td>\n",
       "      <td>-0.269684</td>\n",
       "      <td>1.771581</td>\n",
       "      <td>0.452052</td>\n",
       "    </tr>\n",
       "    <tr>\n",
       "      <th>2</th>\n",
       "      <td>-0.07943</td>\n",
       "      <td>-0.154054</td>\n",
       "      <td>-0.077549</td>\n",
       "      <td>-0.175396</td>\n",
       "      <td>-0.093389</td>\n",
       "      <td>-0.270149</td>\n",
       "      <td>-0.077929</td>\n",
       "      <td>-0.12523</td>\n",
       "      <td>-0.151355</td>\n",
       "      <td>-0.094573</td>\n",
       "      <td>-0.149071</td>\n",
       "      <td>-0.28409</td>\n",
       "      <td>-0.212265</td>\n",
       "      <td>-0.168154</td>\n",
       "      <td>-0.080537</td>\n",
       "      <td>-0.06932</td>\n",
       "      <td>-0.101398</td>\n",
       "      <td>-0.12577</td>\n",
       "      <td>-0.240326</td>\n",
       "      <td>-0.266277</td>\n",
       "      <td>-0.094416</td>\n",
       "      <td>-0.238078</td>\n",
       "      <td>-0.173667</td>\n",
       "      <td>-0.128376</td>\n",
       "      <td>-0.15788</td>\n",
       "      <td>-0.098798</td>\n",
       "      <td>-0.127434</td>\n",
       "      <td>-0.246276</td>\n",
       "      <td>-0.064483</td>\n",
       "      <td>3.382755</td>\n",
       "      <td>-0.139705</td>\n",
       "      <td>-0.229616</td>\n",
       "      <td>-0.354527</td>\n",
       "      <td>-0.521081</td>\n",
       "      <td>-0.893468</td>\n",
       "      <td>0.385630</td>\n",
       "      <td>0.536255</td>\n",
       "      <td>-0.216768</td>\n",
       "      <td>0.029703</td>\n",
       "      <td>0.839750</td>\n",
       "      <td>-0.397465</td>\n",
       "      <td>-0.296472</td>\n",
       "      <td>0.859520</td>\n",
       "      <td>-0.348708</td>\n",
       "    </tr>\n",
       "    <tr>\n",
       "      <th>3</th>\n",
       "      <td>-0.07943</td>\n",
       "      <td>-0.154054</td>\n",
       "      <td>-0.077549</td>\n",
       "      <td>-0.175396</td>\n",
       "      <td>-0.093389</td>\n",
       "      <td>-0.270149</td>\n",
       "      <td>-0.077929</td>\n",
       "      <td>-0.12523</td>\n",
       "      <td>-0.151355</td>\n",
       "      <td>-0.094573</td>\n",
       "      <td>-0.149071</td>\n",
       "      <td>-0.28409</td>\n",
       "      <td>-0.212265</td>\n",
       "      <td>-0.168154</td>\n",
       "      <td>-0.080537</td>\n",
       "      <td>-0.06932</td>\n",
       "      <td>-0.101398</td>\n",
       "      <td>-0.12577</td>\n",
       "      <td>-0.240326</td>\n",
       "      <td>3.755492</td>\n",
       "      <td>-0.094416</td>\n",
       "      <td>-0.238078</td>\n",
       "      <td>-0.173667</td>\n",
       "      <td>-0.128376</td>\n",
       "      <td>-0.15788</td>\n",
       "      <td>-0.098798</td>\n",
       "      <td>-0.127434</td>\n",
       "      <td>-0.246276</td>\n",
       "      <td>-0.064483</td>\n",
       "      <td>-0.295617</td>\n",
       "      <td>-0.139705</td>\n",
       "      <td>-0.229616</td>\n",
       "      <td>-0.354527</td>\n",
       "      <td>-0.521081</td>\n",
       "      <td>-0.893465</td>\n",
       "      <td>0.104046</td>\n",
       "      <td>-0.709577</td>\n",
       "      <td>0.300062</td>\n",
       "      <td>0.970101</td>\n",
       "      <td>-0.316536</td>\n",
       "      <td>-0.675499</td>\n",
       "      <td>-0.296472</td>\n",
       "      <td>0.542937</td>\n",
       "      <td>-0.248613</td>\n",
       "    </tr>\n",
       "    <tr>\n",
       "      <th>4</th>\n",
       "      <td>-0.07943</td>\n",
       "      <td>-0.154054</td>\n",
       "      <td>-0.077549</td>\n",
       "      <td>-0.175396</td>\n",
       "      <td>-0.093389</td>\n",
       "      <td>-0.270149</td>\n",
       "      <td>-0.077929</td>\n",
       "      <td>-0.12523</td>\n",
       "      <td>-0.151355</td>\n",
       "      <td>-0.094573</td>\n",
       "      <td>-0.149071</td>\n",
       "      <td>-0.28409</td>\n",
       "      <td>-0.212265</td>\n",
       "      <td>-0.168154</td>\n",
       "      <td>-0.080537</td>\n",
       "      <td>-0.06932</td>\n",
       "      <td>-0.101398</td>\n",
       "      <td>-0.12577</td>\n",
       "      <td>-0.240326</td>\n",
       "      <td>3.755492</td>\n",
       "      <td>-0.094416</td>\n",
       "      <td>-0.238078</td>\n",
       "      <td>-0.173667</td>\n",
       "      <td>-0.128376</td>\n",
       "      <td>-0.15788</td>\n",
       "      <td>-0.098798</td>\n",
       "      <td>-0.127434</td>\n",
       "      <td>-0.246276</td>\n",
       "      <td>-0.064483</td>\n",
       "      <td>-0.295617</td>\n",
       "      <td>-0.139705</td>\n",
       "      <td>-0.229616</td>\n",
       "      <td>-0.354527</td>\n",
       "      <td>-0.521081</td>\n",
       "      <td>-0.903776</td>\n",
       "      <td>-0.440850</td>\n",
       "      <td>-0.393513</td>\n",
       "      <td>-0.254220</td>\n",
       "      <td>-0.179274</td>\n",
       "      <td>2.349345</td>\n",
       "      <td>-0.176956</td>\n",
       "      <td>-0.296472</td>\n",
       "      <td>-0.286209</td>\n",
       "      <td>-0.448803</td>\n",
       "    </tr>\n",
       "  </tbody>\n",
       "</table>\n",
       "</div>"
      ],
      "text/plain": [
       "   neighbourhood_Barking and Dagenham  neighbourhood_Barnet  \\\n",
       "0                            -0.07943             -0.154054   \n",
       "1                            -0.07943             -0.154054   \n",
       "2                            -0.07943             -0.154054   \n",
       "3                            -0.07943             -0.154054   \n",
       "4                            -0.07943             -0.154054   \n",
       "\n",
       "   neighbourhood_Bexley  neighbourhood_Brent  neighbourhood_Bromley  \\\n",
       "0             -0.077549            -0.175396              -0.093389   \n",
       "1             -0.077549            -0.175396              -0.093389   \n",
       "2             -0.077549            -0.175396              -0.093389   \n",
       "3             -0.077549            -0.175396              -0.093389   \n",
       "4             -0.077549            -0.175396              -0.093389   \n",
       "\n",
       "   neighbourhood_Camden  neighbourhood_City of London  neighbourhood_Croydon  \\\n",
       "0             -0.270149                     -0.077929               -0.12523   \n",
       "1             -0.270149                     -0.077929               -0.12523   \n",
       "2             -0.270149                     -0.077929               -0.12523   \n",
       "3             -0.270149                     -0.077929               -0.12523   \n",
       "4             -0.270149                     -0.077929               -0.12523   \n",
       "\n",
       "   neighbourhood_Ealing  neighbourhood_Enfield  neighbourhood_Greenwich  \\\n",
       "0             -0.151355              -0.094573                -0.149071   \n",
       "1             -0.151355              -0.094573                -0.149071   \n",
       "2             -0.151355              -0.094573                -0.149071   \n",
       "3             -0.151355              -0.094573                -0.149071   \n",
       "4             -0.151355              -0.094573                -0.149071   \n",
       "\n",
       "   neighbourhood_Hackney  neighbourhood_Hammersmith and Fulham  \\\n",
       "0               -0.28409                             -0.212265   \n",
       "1               -0.28409                             -0.212265   \n",
       "2               -0.28409                             -0.212265   \n",
       "3               -0.28409                             -0.212265   \n",
       "4               -0.28409                             -0.212265   \n",
       "\n",
       "   neighbourhood_Haringey  neighbourhood_Harrow  neighbourhood_Havering  \\\n",
       "0               -0.168154             -0.080537                -0.06932   \n",
       "1               -0.168154             -0.080537                -0.06932   \n",
       "2               -0.168154             -0.080537                -0.06932   \n",
       "3               -0.168154             -0.080537                -0.06932   \n",
       "4               -0.168154             -0.080537                -0.06932   \n",
       "\n",
       "   neighbourhood_Hillingdon  neighbourhood_Hounslow  neighbourhood_Islington  \\\n",
       "0                 -0.101398                -0.12577                -0.240326   \n",
       "1                 -0.101398                -0.12577                 4.161012   \n",
       "2                 -0.101398                -0.12577                -0.240326   \n",
       "3                 -0.101398                -0.12577                -0.240326   \n",
       "4                 -0.101398                -0.12577                -0.240326   \n",
       "\n",
       "   neighbourhood_Kensington and Chelsea  neighbourhood_Kingston upon Thames  \\\n",
       "0                             -0.266277                           -0.094416   \n",
       "1                             -0.266277                           -0.094416   \n",
       "2                             -0.266277                           -0.094416   \n",
       "3                              3.755492                           -0.094416   \n",
       "4                              3.755492                           -0.094416   \n",
       "\n",
       "   neighbourhood_Lambeth  neighbourhood_Lewisham  neighbourhood_Merton  \\\n",
       "0              -0.238078               -0.173667             -0.128376   \n",
       "1              -0.238078               -0.173667             -0.128376   \n",
       "2              -0.238078               -0.173667             -0.128376   \n",
       "3              -0.238078               -0.173667             -0.128376   \n",
       "4              -0.238078               -0.173667             -0.128376   \n",
       "\n",
       "   neighbourhood_Newham  neighbourhood_Redbridge  \\\n",
       "0              -0.15788                -0.098798   \n",
       "1              -0.15788                -0.098798   \n",
       "2              -0.15788                -0.098798   \n",
       "3              -0.15788                -0.098798   \n",
       "4              -0.15788                -0.098798   \n",
       "\n",
       "   neighbourhood_Richmond upon Thames  neighbourhood_Southwark  \\\n",
       "0                           -0.127434                -0.246276   \n",
       "1                           -0.127434                -0.246276   \n",
       "2                           -0.127434                -0.246276   \n",
       "3                           -0.127434                -0.246276   \n",
       "4                           -0.127434                -0.246276   \n",
       "\n",
       "   neighbourhood_Sutton  neighbourhood_Tower Hamlets  \\\n",
       "0             -0.064483                     3.382755   \n",
       "1             -0.064483                    -0.295617   \n",
       "2             -0.064483                     3.382755   \n",
       "3             -0.064483                    -0.295617   \n",
       "4             -0.064483                    -0.295617   \n",
       "\n",
       "   neighbourhood_Waltham Forest  neighbourhood_Wandsworth  \\\n",
       "0                     -0.139705                 -0.229616   \n",
       "1                     -0.139705                 -0.229616   \n",
       "2                     -0.139705                 -0.229616   \n",
       "3                     -0.139705                 -0.229616   \n",
       "4                     -0.139705                 -0.229616   \n",
       "\n",
       "   neighbourhood_Westminster        id   host_id  latitude  longitude  \\\n",
       "0                  -0.354527 -0.521081 -0.902296  0.390299   0.737324   \n",
       "1                  -0.354527 -0.521081 -0.903817  1.199725   0.155513   \n",
       "2                  -0.354527 -0.521081 -0.893468  0.385630   0.536255   \n",
       "3                  -0.354527 -0.521081 -0.893465  0.104046  -0.709577   \n",
       "4                  -0.354527 -0.521081 -0.903776 -0.440850  -0.393513   \n",
       "\n",
       "      price  minimum_nights  number_of_reviews  reviews_per_month  \\\n",
       "0 -0.304155       -0.179274           1.578488          -0.272829   \n",
       "1 -0.316639       -0.388251           0.454322          -0.531688   \n",
       "2 -0.216768        0.029703           0.839750          -0.397465   \n",
       "3  0.300062        0.970101          -0.316536          -0.675499   \n",
       "4 -0.254220       -0.179274           2.349345          -0.176956   \n",
       "\n",
       "   calculated_host_listings_count  availability_365  number_of_reviews_ltm  \n",
       "0                       -0.296472         -0.256059              -0.448803  \n",
       "1                       -0.269684          1.771581               0.452052  \n",
       "2                       -0.296472          0.859520              -0.348708  \n",
       "3                       -0.296472          0.542937              -0.248613  \n",
       "4                       -0.296472         -0.286209              -0.448803  "
      ]
     },
     "execution_count": 98,
     "metadata": {},
     "output_type": "execute_result"
    }
   ],
   "source": [
    "data.head()"
   ]
  },
  {
   "cell_type": "markdown",
   "metadata": {},
   "source": [
    "### 2.2 Визуализация и описательная статистика 2"
   ]
  },
  {
   "cell_type": "markdown",
   "metadata": {},
   "source": [
    "Получим сводную информацию о данных с помощью функции describe:  \n",
    "- count - количество элементов в столбце\n",
    "- mean - среднее значение элементов\n",
    "- std - стандартное отклонение значения\n",
    "- min - минимальное значение\n",
    "- 25% - нижний квартиль (25% значений меньше нижнего квартиля и 75% значений больше нижнего квартиля)\n",
    "- 50% - медиана (50% значений меньше (ниже, левее) медианы и 50% больше (выше, правее) медианы)\n",
    "- 75% - верхний квартиль (75% значений меньше верхнего квартиля и 25% значений больше верхнего квартиля)\n",
    "- max - максимальное значениe\n",
    "* freq - количество самого частого объекта (object)"
   ]
  },
  {
   "cell_type": "markdown",
   "metadata": {},
   "source": [
    "На матрице диаграмм рассеивания наблюдается зависимость между числом отзывов ('number_of_reviews') и количеством отзывов в месяц ('reviews_per_month'), а также с этими двумя признаками коррелирует признак 'number_of_reviews_ltr'."
   ]
  },
  {
   "cell_type": "code",
   "execution_count": 99,
   "metadata": {},
   "outputs": [],
   "source": [
    "# data.corr() > 0.5"
   ]
  },
  {
   "cell_type": "markdown",
   "metadata": {},
   "source": [
    "### 6. Разбиение данных на обучающую и тестовую выборки"
   ]
  },
  {
   "cell_type": "code",
   "execution_count": 100,
   "metadata": {},
   "outputs": [],
   "source": [
    "data.insert(loc = len(data.columns), column = 'room_type', value = room_type)"
   ]
  },
  {
   "cell_type": "code",
   "execution_count": 101,
   "metadata": {},
   "outputs": [],
   "source": [
    "data.drop(['id','host_id', 'number_of_reviews_ltm'], axis = 1, inplace = True)"
   ]
  },
  {
   "cell_type": "code",
   "execution_count": 102,
   "metadata": {},
   "outputs": [
    {
     "name": "stdout",
     "output_type": "stream",
     "text": [
      "(68586, 42)\n"
     ]
    },
    {
     "data": {
      "text/html": [
       "<div>\n",
       "<style scoped>\n",
       "    .dataframe tbody tr th:only-of-type {\n",
       "        vertical-align: middle;\n",
       "    }\n",
       "\n",
       "    .dataframe tbody tr th {\n",
       "        vertical-align: top;\n",
       "    }\n",
       "\n",
       "    .dataframe thead th {\n",
       "        text-align: right;\n",
       "    }\n",
       "</style>\n",
       "<table border=\"1\" class=\"dataframe\">\n",
       "  <thead>\n",
       "    <tr style=\"text-align: right;\">\n",
       "      <th></th>\n",
       "      <th>neighbourhood_Barking and Dagenham</th>\n",
       "      <th>neighbourhood_Barnet</th>\n",
       "      <th>neighbourhood_Bexley</th>\n",
       "      <th>neighbourhood_Brent</th>\n",
       "      <th>neighbourhood_Bromley</th>\n",
       "      <th>neighbourhood_Camden</th>\n",
       "      <th>neighbourhood_City of London</th>\n",
       "      <th>neighbourhood_Croydon</th>\n",
       "      <th>neighbourhood_Ealing</th>\n",
       "      <th>neighbourhood_Enfield</th>\n",
       "      <th>neighbourhood_Greenwich</th>\n",
       "      <th>neighbourhood_Hackney</th>\n",
       "      <th>neighbourhood_Hammersmith and Fulham</th>\n",
       "      <th>neighbourhood_Haringey</th>\n",
       "      <th>neighbourhood_Harrow</th>\n",
       "      <th>neighbourhood_Havering</th>\n",
       "      <th>neighbourhood_Hillingdon</th>\n",
       "      <th>neighbourhood_Hounslow</th>\n",
       "      <th>neighbourhood_Islington</th>\n",
       "      <th>neighbourhood_Kensington and Chelsea</th>\n",
       "      <th>neighbourhood_Kingston upon Thames</th>\n",
       "      <th>neighbourhood_Lambeth</th>\n",
       "      <th>neighbourhood_Lewisham</th>\n",
       "      <th>neighbourhood_Merton</th>\n",
       "      <th>neighbourhood_Newham</th>\n",
       "      <th>neighbourhood_Redbridge</th>\n",
       "      <th>neighbourhood_Richmond upon Thames</th>\n",
       "      <th>neighbourhood_Southwark</th>\n",
       "      <th>neighbourhood_Sutton</th>\n",
       "      <th>neighbourhood_Tower Hamlets</th>\n",
       "      <th>neighbourhood_Waltham Forest</th>\n",
       "      <th>neighbourhood_Wandsworth</th>\n",
       "      <th>neighbourhood_Westminster</th>\n",
       "      <th>latitude</th>\n",
       "      <th>longitude</th>\n",
       "      <th>price</th>\n",
       "      <th>minimum_nights</th>\n",
       "      <th>number_of_reviews</th>\n",
       "      <th>reviews_per_month</th>\n",
       "      <th>calculated_host_listings_count</th>\n",
       "      <th>availability_365</th>\n",
       "      <th>room_type</th>\n",
       "    </tr>\n",
       "  </thead>\n",
       "  <tbody>\n",
       "    <tr>\n",
       "      <th>0</th>\n",
       "      <td>-0.07943</td>\n",
       "      <td>-0.154054</td>\n",
       "      <td>-0.077549</td>\n",
       "      <td>-0.175396</td>\n",
       "      <td>-0.093389</td>\n",
       "      <td>-0.270149</td>\n",
       "      <td>-0.077929</td>\n",
       "      <td>-0.12523</td>\n",
       "      <td>-0.151355</td>\n",
       "      <td>-0.094573</td>\n",
       "      <td>-0.149071</td>\n",
       "      <td>-0.28409</td>\n",
       "      <td>-0.212265</td>\n",
       "      <td>-0.168154</td>\n",
       "      <td>-0.080537</td>\n",
       "      <td>-0.06932</td>\n",
       "      <td>-0.101398</td>\n",
       "      <td>-0.12577</td>\n",
       "      <td>-0.240326</td>\n",
       "      <td>-0.266277</td>\n",
       "      <td>-0.094416</td>\n",
       "      <td>-0.238078</td>\n",
       "      <td>-0.173667</td>\n",
       "      <td>-0.128376</td>\n",
       "      <td>-0.15788</td>\n",
       "      <td>-0.098798</td>\n",
       "      <td>-0.127434</td>\n",
       "      <td>-0.246276</td>\n",
       "      <td>-0.064483</td>\n",
       "      <td>3.382755</td>\n",
       "      <td>-0.139705</td>\n",
       "      <td>-0.229616</td>\n",
       "      <td>-0.354527</td>\n",
       "      <td>0.390299</td>\n",
       "      <td>0.737324</td>\n",
       "      <td>-0.304155</td>\n",
       "      <td>-0.179274</td>\n",
       "      <td>1.578488</td>\n",
       "      <td>-0.272829</td>\n",
       "      <td>-0.296472</td>\n",
       "      <td>-0.256059</td>\n",
       "      <td>Private room</td>\n",
       "    </tr>\n",
       "    <tr>\n",
       "      <th>1</th>\n",
       "      <td>-0.07943</td>\n",
       "      <td>-0.154054</td>\n",
       "      <td>-0.077549</td>\n",
       "      <td>-0.175396</td>\n",
       "      <td>-0.093389</td>\n",
       "      <td>-0.270149</td>\n",
       "      <td>-0.077929</td>\n",
       "      <td>-0.12523</td>\n",
       "      <td>-0.151355</td>\n",
       "      <td>-0.094573</td>\n",
       "      <td>-0.149071</td>\n",
       "      <td>-0.28409</td>\n",
       "      <td>-0.212265</td>\n",
       "      <td>-0.168154</td>\n",
       "      <td>-0.080537</td>\n",
       "      <td>-0.06932</td>\n",
       "      <td>-0.101398</td>\n",
       "      <td>-0.12577</td>\n",
       "      <td>4.161012</td>\n",
       "      <td>-0.266277</td>\n",
       "      <td>-0.094416</td>\n",
       "      <td>-0.238078</td>\n",
       "      <td>-0.173667</td>\n",
       "      <td>-0.128376</td>\n",
       "      <td>-0.15788</td>\n",
       "      <td>-0.098798</td>\n",
       "      <td>-0.127434</td>\n",
       "      <td>-0.246276</td>\n",
       "      <td>-0.064483</td>\n",
       "      <td>-0.295617</td>\n",
       "      <td>-0.139705</td>\n",
       "      <td>-0.229616</td>\n",
       "      <td>-0.354527</td>\n",
       "      <td>1.199725</td>\n",
       "      <td>0.155513</td>\n",
       "      <td>-0.316639</td>\n",
       "      <td>-0.388251</td>\n",
       "      <td>0.454322</td>\n",
       "      <td>-0.531688</td>\n",
       "      <td>-0.269684</td>\n",
       "      <td>1.771581</td>\n",
       "      <td>Private room</td>\n",
       "    </tr>\n",
       "    <tr>\n",
       "      <th>2</th>\n",
       "      <td>-0.07943</td>\n",
       "      <td>-0.154054</td>\n",
       "      <td>-0.077549</td>\n",
       "      <td>-0.175396</td>\n",
       "      <td>-0.093389</td>\n",
       "      <td>-0.270149</td>\n",
       "      <td>-0.077929</td>\n",
       "      <td>-0.12523</td>\n",
       "      <td>-0.151355</td>\n",
       "      <td>-0.094573</td>\n",
       "      <td>-0.149071</td>\n",
       "      <td>-0.28409</td>\n",
       "      <td>-0.212265</td>\n",
       "      <td>-0.168154</td>\n",
       "      <td>-0.080537</td>\n",
       "      <td>-0.06932</td>\n",
       "      <td>-0.101398</td>\n",
       "      <td>-0.12577</td>\n",
       "      <td>-0.240326</td>\n",
       "      <td>-0.266277</td>\n",
       "      <td>-0.094416</td>\n",
       "      <td>-0.238078</td>\n",
       "      <td>-0.173667</td>\n",
       "      <td>-0.128376</td>\n",
       "      <td>-0.15788</td>\n",
       "      <td>-0.098798</td>\n",
       "      <td>-0.127434</td>\n",
       "      <td>-0.246276</td>\n",
       "      <td>-0.064483</td>\n",
       "      <td>3.382755</td>\n",
       "      <td>-0.139705</td>\n",
       "      <td>-0.229616</td>\n",
       "      <td>-0.354527</td>\n",
       "      <td>0.385630</td>\n",
       "      <td>0.536255</td>\n",
       "      <td>-0.216768</td>\n",
       "      <td>0.029703</td>\n",
       "      <td>0.839750</td>\n",
       "      <td>-0.397465</td>\n",
       "      <td>-0.296472</td>\n",
       "      <td>0.859520</td>\n",
       "      <td>Entire home/apt</td>\n",
       "    </tr>\n",
       "    <tr>\n",
       "      <th>3</th>\n",
       "      <td>-0.07943</td>\n",
       "      <td>-0.154054</td>\n",
       "      <td>-0.077549</td>\n",
       "      <td>-0.175396</td>\n",
       "      <td>-0.093389</td>\n",
       "      <td>-0.270149</td>\n",
       "      <td>-0.077929</td>\n",
       "      <td>-0.12523</td>\n",
       "      <td>-0.151355</td>\n",
       "      <td>-0.094573</td>\n",
       "      <td>-0.149071</td>\n",
       "      <td>-0.28409</td>\n",
       "      <td>-0.212265</td>\n",
       "      <td>-0.168154</td>\n",
       "      <td>-0.080537</td>\n",
       "      <td>-0.06932</td>\n",
       "      <td>-0.101398</td>\n",
       "      <td>-0.12577</td>\n",
       "      <td>-0.240326</td>\n",
       "      <td>3.755492</td>\n",
       "      <td>-0.094416</td>\n",
       "      <td>-0.238078</td>\n",
       "      <td>-0.173667</td>\n",
       "      <td>-0.128376</td>\n",
       "      <td>-0.15788</td>\n",
       "      <td>-0.098798</td>\n",
       "      <td>-0.127434</td>\n",
       "      <td>-0.246276</td>\n",
       "      <td>-0.064483</td>\n",
       "      <td>-0.295617</td>\n",
       "      <td>-0.139705</td>\n",
       "      <td>-0.229616</td>\n",
       "      <td>-0.354527</td>\n",
       "      <td>0.104046</td>\n",
       "      <td>-0.709577</td>\n",
       "      <td>0.300062</td>\n",
       "      <td>0.970101</td>\n",
       "      <td>-0.316536</td>\n",
       "      <td>-0.675499</td>\n",
       "      <td>-0.296472</td>\n",
       "      <td>0.542937</td>\n",
       "      <td>Entire home/apt</td>\n",
       "    </tr>\n",
       "    <tr>\n",
       "      <th>4</th>\n",
       "      <td>-0.07943</td>\n",
       "      <td>-0.154054</td>\n",
       "      <td>-0.077549</td>\n",
       "      <td>-0.175396</td>\n",
       "      <td>-0.093389</td>\n",
       "      <td>-0.270149</td>\n",
       "      <td>-0.077929</td>\n",
       "      <td>-0.12523</td>\n",
       "      <td>-0.151355</td>\n",
       "      <td>-0.094573</td>\n",
       "      <td>-0.149071</td>\n",
       "      <td>-0.28409</td>\n",
       "      <td>-0.212265</td>\n",
       "      <td>-0.168154</td>\n",
       "      <td>-0.080537</td>\n",
       "      <td>-0.06932</td>\n",
       "      <td>-0.101398</td>\n",
       "      <td>-0.12577</td>\n",
       "      <td>-0.240326</td>\n",
       "      <td>3.755492</td>\n",
       "      <td>-0.094416</td>\n",
       "      <td>-0.238078</td>\n",
       "      <td>-0.173667</td>\n",
       "      <td>-0.128376</td>\n",
       "      <td>-0.15788</td>\n",
       "      <td>-0.098798</td>\n",
       "      <td>-0.127434</td>\n",
       "      <td>-0.246276</td>\n",
       "      <td>-0.064483</td>\n",
       "      <td>-0.295617</td>\n",
       "      <td>-0.139705</td>\n",
       "      <td>-0.229616</td>\n",
       "      <td>-0.354527</td>\n",
       "      <td>-0.440850</td>\n",
       "      <td>-0.393513</td>\n",
       "      <td>-0.254220</td>\n",
       "      <td>-0.179274</td>\n",
       "      <td>2.349345</td>\n",
       "      <td>-0.176956</td>\n",
       "      <td>-0.296472</td>\n",
       "      <td>-0.286209</td>\n",
       "      <td>Entire home/apt</td>\n",
       "    </tr>\n",
       "  </tbody>\n",
       "</table>\n",
       "</div>"
      ],
      "text/plain": [
       "   neighbourhood_Barking and Dagenham  neighbourhood_Barnet  \\\n",
       "0                            -0.07943             -0.154054   \n",
       "1                            -0.07943             -0.154054   \n",
       "2                            -0.07943             -0.154054   \n",
       "3                            -0.07943             -0.154054   \n",
       "4                            -0.07943             -0.154054   \n",
       "\n",
       "   neighbourhood_Bexley  neighbourhood_Brent  neighbourhood_Bromley  \\\n",
       "0             -0.077549            -0.175396              -0.093389   \n",
       "1             -0.077549            -0.175396              -0.093389   \n",
       "2             -0.077549            -0.175396              -0.093389   \n",
       "3             -0.077549            -0.175396              -0.093389   \n",
       "4             -0.077549            -0.175396              -0.093389   \n",
       "\n",
       "   neighbourhood_Camden  neighbourhood_City of London  neighbourhood_Croydon  \\\n",
       "0             -0.270149                     -0.077929               -0.12523   \n",
       "1             -0.270149                     -0.077929               -0.12523   \n",
       "2             -0.270149                     -0.077929               -0.12523   \n",
       "3             -0.270149                     -0.077929               -0.12523   \n",
       "4             -0.270149                     -0.077929               -0.12523   \n",
       "\n",
       "   neighbourhood_Ealing  neighbourhood_Enfield  neighbourhood_Greenwich  \\\n",
       "0             -0.151355              -0.094573                -0.149071   \n",
       "1             -0.151355              -0.094573                -0.149071   \n",
       "2             -0.151355              -0.094573                -0.149071   \n",
       "3             -0.151355              -0.094573                -0.149071   \n",
       "4             -0.151355              -0.094573                -0.149071   \n",
       "\n",
       "   neighbourhood_Hackney  neighbourhood_Hammersmith and Fulham  \\\n",
       "0               -0.28409                             -0.212265   \n",
       "1               -0.28409                             -0.212265   \n",
       "2               -0.28409                             -0.212265   \n",
       "3               -0.28409                             -0.212265   \n",
       "4               -0.28409                             -0.212265   \n",
       "\n",
       "   neighbourhood_Haringey  neighbourhood_Harrow  neighbourhood_Havering  \\\n",
       "0               -0.168154             -0.080537                -0.06932   \n",
       "1               -0.168154             -0.080537                -0.06932   \n",
       "2               -0.168154             -0.080537                -0.06932   \n",
       "3               -0.168154             -0.080537                -0.06932   \n",
       "4               -0.168154             -0.080537                -0.06932   \n",
       "\n",
       "   neighbourhood_Hillingdon  neighbourhood_Hounslow  neighbourhood_Islington  \\\n",
       "0                 -0.101398                -0.12577                -0.240326   \n",
       "1                 -0.101398                -0.12577                 4.161012   \n",
       "2                 -0.101398                -0.12577                -0.240326   \n",
       "3                 -0.101398                -0.12577                -0.240326   \n",
       "4                 -0.101398                -0.12577                -0.240326   \n",
       "\n",
       "   neighbourhood_Kensington and Chelsea  neighbourhood_Kingston upon Thames  \\\n",
       "0                             -0.266277                           -0.094416   \n",
       "1                             -0.266277                           -0.094416   \n",
       "2                             -0.266277                           -0.094416   \n",
       "3                              3.755492                           -0.094416   \n",
       "4                              3.755492                           -0.094416   \n",
       "\n",
       "   neighbourhood_Lambeth  neighbourhood_Lewisham  neighbourhood_Merton  \\\n",
       "0              -0.238078               -0.173667             -0.128376   \n",
       "1              -0.238078               -0.173667             -0.128376   \n",
       "2              -0.238078               -0.173667             -0.128376   \n",
       "3              -0.238078               -0.173667             -0.128376   \n",
       "4              -0.238078               -0.173667             -0.128376   \n",
       "\n",
       "   neighbourhood_Newham  neighbourhood_Redbridge  \\\n",
       "0              -0.15788                -0.098798   \n",
       "1              -0.15788                -0.098798   \n",
       "2              -0.15788                -0.098798   \n",
       "3              -0.15788                -0.098798   \n",
       "4              -0.15788                -0.098798   \n",
       "\n",
       "   neighbourhood_Richmond upon Thames  neighbourhood_Southwark  \\\n",
       "0                           -0.127434                -0.246276   \n",
       "1                           -0.127434                -0.246276   \n",
       "2                           -0.127434                -0.246276   \n",
       "3                           -0.127434                -0.246276   \n",
       "4                           -0.127434                -0.246276   \n",
       "\n",
       "   neighbourhood_Sutton  neighbourhood_Tower Hamlets  \\\n",
       "0             -0.064483                     3.382755   \n",
       "1             -0.064483                    -0.295617   \n",
       "2             -0.064483                     3.382755   \n",
       "3             -0.064483                    -0.295617   \n",
       "4             -0.064483                    -0.295617   \n",
       "\n",
       "   neighbourhood_Waltham Forest  neighbourhood_Wandsworth  \\\n",
       "0                     -0.139705                 -0.229616   \n",
       "1                     -0.139705                 -0.229616   \n",
       "2                     -0.139705                 -0.229616   \n",
       "3                     -0.139705                 -0.229616   \n",
       "4                     -0.139705                 -0.229616   \n",
       "\n",
       "   neighbourhood_Westminster  latitude  longitude     price  minimum_nights  \\\n",
       "0                  -0.354527  0.390299   0.737324 -0.304155       -0.179274   \n",
       "1                  -0.354527  1.199725   0.155513 -0.316639       -0.388251   \n",
       "2                  -0.354527  0.385630   0.536255 -0.216768        0.029703   \n",
       "3                  -0.354527  0.104046  -0.709577  0.300062        0.970101   \n",
       "4                  -0.354527 -0.440850  -0.393513 -0.254220       -0.179274   \n",
       "\n",
       "   number_of_reviews  reviews_per_month  calculated_host_listings_count  \\\n",
       "0           1.578488          -0.272829                       -0.296472   \n",
       "1           0.454322          -0.531688                       -0.269684   \n",
       "2           0.839750          -0.397465                       -0.296472   \n",
       "3          -0.316536          -0.675499                       -0.296472   \n",
       "4           2.349345          -0.176956                       -0.296472   \n",
       "\n",
       "   availability_365        room_type  \n",
       "0         -0.256059     Private room  \n",
       "1          1.771581     Private room  \n",
       "2          0.859520  Entire home/apt  \n",
       "3          0.542937  Entire home/apt  \n",
       "4         -0.286209  Entire home/apt  "
      ]
     },
     "execution_count": 102,
     "metadata": {},
     "output_type": "execute_result"
    }
   ],
   "source": [
    "print(data.shape)\n",
    "data.head()"
   ]
  },
  {
   "cell_type": "code",
   "execution_count": 103,
   "metadata": {},
   "outputs": [
    {
     "data": {
      "text/html": [
       "<div>\n",
       "<style scoped>\n",
       "    .dataframe tbody tr th:only-of-type {\n",
       "        vertical-align: middle;\n",
       "    }\n",
       "\n",
       "    .dataframe tbody tr th {\n",
       "        vertical-align: top;\n",
       "    }\n",
       "\n",
       "    .dataframe thead th {\n",
       "        text-align: right;\n",
       "    }\n",
       "</style>\n",
       "<table border=\"1\" class=\"dataframe\">\n",
       "  <thead>\n",
       "    <tr style=\"text-align: right;\">\n",
       "      <th></th>\n",
       "      <th>neighbourhood_Barking and Dagenham</th>\n",
       "      <th>neighbourhood_Barnet</th>\n",
       "      <th>neighbourhood_Bexley</th>\n",
       "      <th>neighbourhood_Brent</th>\n",
       "      <th>neighbourhood_Bromley</th>\n",
       "      <th>neighbourhood_Camden</th>\n",
       "      <th>neighbourhood_City of London</th>\n",
       "      <th>neighbourhood_Croydon</th>\n",
       "      <th>neighbourhood_Ealing</th>\n",
       "      <th>neighbourhood_Enfield</th>\n",
       "      <th>neighbourhood_Greenwich</th>\n",
       "      <th>neighbourhood_Hackney</th>\n",
       "      <th>neighbourhood_Hammersmith and Fulham</th>\n",
       "      <th>neighbourhood_Haringey</th>\n",
       "      <th>neighbourhood_Harrow</th>\n",
       "      <th>neighbourhood_Havering</th>\n",
       "      <th>neighbourhood_Hillingdon</th>\n",
       "      <th>neighbourhood_Hounslow</th>\n",
       "      <th>neighbourhood_Islington</th>\n",
       "      <th>neighbourhood_Kensington and Chelsea</th>\n",
       "      <th>neighbourhood_Kingston upon Thames</th>\n",
       "      <th>neighbourhood_Lambeth</th>\n",
       "      <th>neighbourhood_Lewisham</th>\n",
       "      <th>neighbourhood_Merton</th>\n",
       "      <th>neighbourhood_Newham</th>\n",
       "      <th>neighbourhood_Redbridge</th>\n",
       "      <th>neighbourhood_Richmond upon Thames</th>\n",
       "      <th>neighbourhood_Southwark</th>\n",
       "      <th>neighbourhood_Sutton</th>\n",
       "      <th>neighbourhood_Tower Hamlets</th>\n",
       "      <th>neighbourhood_Waltham Forest</th>\n",
       "      <th>neighbourhood_Wandsworth</th>\n",
       "      <th>neighbourhood_Westminster</th>\n",
       "      <th>latitude</th>\n",
       "      <th>longitude</th>\n",
       "      <th>price</th>\n",
       "      <th>minimum_nights</th>\n",
       "      <th>number_of_reviews</th>\n",
       "      <th>reviews_per_month</th>\n",
       "      <th>calculated_host_listings_count</th>\n",
       "      <th>availability_365</th>\n",
       "    </tr>\n",
       "  </thead>\n",
       "  <tbody>\n",
       "    <tr>\n",
       "      <th>count</th>\n",
       "      <td>6.858600e+04</td>\n",
       "      <td>6.858600e+04</td>\n",
       "      <td>6.858600e+04</td>\n",
       "      <td>6.858600e+04</td>\n",
       "      <td>6.858600e+04</td>\n",
       "      <td>6.858600e+04</td>\n",
       "      <td>6.858600e+04</td>\n",
       "      <td>6.858600e+04</td>\n",
       "      <td>6.858600e+04</td>\n",
       "      <td>6.858600e+04</td>\n",
       "      <td>6.858600e+04</td>\n",
       "      <td>6.858600e+04</td>\n",
       "      <td>6.858600e+04</td>\n",
       "      <td>6.858600e+04</td>\n",
       "      <td>6.858600e+04</td>\n",
       "      <td>6.858600e+04</td>\n",
       "      <td>6.858600e+04</td>\n",
       "      <td>6.858600e+04</td>\n",
       "      <td>6.858600e+04</td>\n",
       "      <td>6.858600e+04</td>\n",
       "      <td>6.858600e+04</td>\n",
       "      <td>6.858600e+04</td>\n",
       "      <td>6.858600e+04</td>\n",
       "      <td>6.858600e+04</td>\n",
       "      <td>6.858600e+04</td>\n",
       "      <td>6.858600e+04</td>\n",
       "      <td>6.858600e+04</td>\n",
       "      <td>6.858600e+04</td>\n",
       "      <td>6.858600e+04</td>\n",
       "      <td>6.858600e+04</td>\n",
       "      <td>6.858600e+04</td>\n",
       "      <td>6.858600e+04</td>\n",
       "      <td>6.858600e+04</td>\n",
       "      <td>6.858600e+04</td>\n",
       "      <td>6.858600e+04</td>\n",
       "      <td>6.858600e+04</td>\n",
       "      <td>6.858600e+04</td>\n",
       "      <td>6.858600e+04</td>\n",
       "      <td>6.858600e+04</td>\n",
       "      <td>6.858600e+04</td>\n",
       "      <td>68586.000000</td>\n",
       "    </tr>\n",
       "    <tr>\n",
       "      <th>mean</th>\n",
       "      <td>2.362053e-17</td>\n",
       "      <td>-4.019633e-17</td>\n",
       "      <td>2.652129e-17</td>\n",
       "      <td>-6.298807e-17</td>\n",
       "      <td>2.900766e-17</td>\n",
       "      <td>7.127598e-17</td>\n",
       "      <td>-4.143952e-17</td>\n",
       "      <td>-2.735008e-17</td>\n",
       "      <td>2.610690e-17</td>\n",
       "      <td>7.459114e-18</td>\n",
       "      <td>-4.454748e-17</td>\n",
       "      <td>2.486371e-18</td>\n",
       "      <td>3.646678e-17</td>\n",
       "      <td>5.801533e-18</td>\n",
       "      <td>-6.630323e-18</td>\n",
       "      <td>-2.320613e-17</td>\n",
       "      <td>2.983645e-17</td>\n",
       "      <td>-8.287904e-18</td>\n",
       "      <td>-2.154855e-17</td>\n",
       "      <td>1.450383e-17</td>\n",
       "      <td>-2.983645e-17</td>\n",
       "      <td>-1.375792e-16</td>\n",
       "      <td>1.035988e-17</td>\n",
       "      <td>-3.107964e-17</td>\n",
       "      <td>-4.558347e-17</td>\n",
       "      <td>8.080706e-17</td>\n",
       "      <td>-3.480920e-17</td>\n",
       "      <td>-3.522359e-17</td>\n",
       "      <td>2.735008e-17</td>\n",
       "      <td>-9.406771e-17</td>\n",
       "      <td>-1.781899e-17</td>\n",
       "      <td>2.610690e-17</td>\n",
       "      <td>-6.754642e-17</td>\n",
       "      <td>2.897534e-14</td>\n",
       "      <td>-6.464565e-17</td>\n",
       "      <td>-4.351150e-18</td>\n",
       "      <td>-3.605238e-17</td>\n",
       "      <td>3.315162e-18</td>\n",
       "      <td>1.611997e-16</td>\n",
       "      <td>1.212106e-17</td>\n",
       "      <td>0.000000</td>\n",
       "    </tr>\n",
       "    <tr>\n",
       "      <th>std</th>\n",
       "      <td>1.000007e+00</td>\n",
       "      <td>1.000007e+00</td>\n",
       "      <td>1.000007e+00</td>\n",
       "      <td>1.000007e+00</td>\n",
       "      <td>1.000007e+00</td>\n",
       "      <td>1.000007e+00</td>\n",
       "      <td>1.000007e+00</td>\n",
       "      <td>1.000007e+00</td>\n",
       "      <td>1.000007e+00</td>\n",
       "      <td>1.000007e+00</td>\n",
       "      <td>1.000007e+00</td>\n",
       "      <td>1.000007e+00</td>\n",
       "      <td>1.000007e+00</td>\n",
       "      <td>1.000007e+00</td>\n",
       "      <td>1.000007e+00</td>\n",
       "      <td>1.000007e+00</td>\n",
       "      <td>1.000007e+00</td>\n",
       "      <td>1.000007e+00</td>\n",
       "      <td>1.000007e+00</td>\n",
       "      <td>1.000007e+00</td>\n",
       "      <td>1.000007e+00</td>\n",
       "      <td>1.000007e+00</td>\n",
       "      <td>1.000007e+00</td>\n",
       "      <td>1.000007e+00</td>\n",
       "      <td>1.000007e+00</td>\n",
       "      <td>1.000007e+00</td>\n",
       "      <td>1.000007e+00</td>\n",
       "      <td>1.000007e+00</td>\n",
       "      <td>1.000007e+00</td>\n",
       "      <td>1.000007e+00</td>\n",
       "      <td>1.000007e+00</td>\n",
       "      <td>1.000007e+00</td>\n",
       "      <td>1.000007e+00</td>\n",
       "      <td>1.000007e+00</td>\n",
       "      <td>1.000007e+00</td>\n",
       "      <td>1.000007e+00</td>\n",
       "      <td>1.000007e+00</td>\n",
       "      <td>1.000007e+00</td>\n",
       "      <td>1.000007e+00</td>\n",
       "      <td>1.000007e+00</td>\n",
       "      <td>1.000007</td>\n",
       "    </tr>\n",
       "    <tr>\n",
       "      <th>min</th>\n",
       "      <td>-7.942956e-02</td>\n",
       "      <td>-1.540544e-01</td>\n",
       "      <td>-7.754899e-02</td>\n",
       "      <td>-1.753964e-01</td>\n",
       "      <td>-9.338890e-02</td>\n",
       "      <td>-2.701494e-01</td>\n",
       "      <td>-7.792865e-02</td>\n",
       "      <td>-1.252303e-01</td>\n",
       "      <td>-1.513548e-01</td>\n",
       "      <td>-9.457309e-02</td>\n",
       "      <td>-1.490712e-01</td>\n",
       "      <td>-2.840901e-01</td>\n",
       "      <td>-2.122647e-01</td>\n",
       "      <td>-1.681543e-01</td>\n",
       "      <td>-8.053735e-02</td>\n",
       "      <td>-6.932025e-02</td>\n",
       "      <td>-1.013984e-01</td>\n",
       "      <td>-1.257696e-01</td>\n",
       "      <td>-2.403262e-01</td>\n",
       "      <td>-2.662767e-01</td>\n",
       "      <td>-9.441603e-02</td>\n",
       "      <td>-2.380779e-01</td>\n",
       "      <td>-1.736667e-01</td>\n",
       "      <td>-1.283761e-01</td>\n",
       "      <td>-1.578798e-01</td>\n",
       "      <td>-9.879804e-02</td>\n",
       "      <td>-1.274341e-01</td>\n",
       "      <td>-2.462762e-01</td>\n",
       "      <td>-6.448259e-02</td>\n",
       "      <td>-2.956170e-01</td>\n",
       "      <td>-1.397050e-01</td>\n",
       "      <td>-2.296164e-01</td>\n",
       "      <td>-3.545269e-01</td>\n",
       "      <td>-4.812197e+00</td>\n",
       "      <td>-3.914392e+00</td>\n",
       "      <td>-4.414773e-01</td>\n",
       "      <td>-3.882514e-01</td>\n",
       "      <td>-5.092498e-01</td>\n",
       "      <td>-7.138486e-01</td>\n",
       "      <td>-2.964718e-01</td>\n",
       "      <td>-0.813848</td>\n",
       "    </tr>\n",
       "    <tr>\n",
       "      <th>25%</th>\n",
       "      <td>-7.942956e-02</td>\n",
       "      <td>-1.540544e-01</td>\n",
       "      <td>-7.754899e-02</td>\n",
       "      <td>-1.753964e-01</td>\n",
       "      <td>-9.338890e-02</td>\n",
       "      <td>-2.701494e-01</td>\n",
       "      <td>-7.792865e-02</td>\n",
       "      <td>-1.252303e-01</td>\n",
       "      <td>-1.513548e-01</td>\n",
       "      <td>-9.457309e-02</td>\n",
       "      <td>-1.490712e-01</td>\n",
       "      <td>-2.840901e-01</td>\n",
       "      <td>-2.122647e-01</td>\n",
       "      <td>-1.681543e-01</td>\n",
       "      <td>-8.053735e-02</td>\n",
       "      <td>-6.932025e-02</td>\n",
       "      <td>-1.013984e-01</td>\n",
       "      <td>-1.257696e-01</td>\n",
       "      <td>-2.403262e-01</td>\n",
       "      <td>-2.662767e-01</td>\n",
       "      <td>-9.441603e-02</td>\n",
       "      <td>-2.380779e-01</td>\n",
       "      <td>-1.736667e-01</td>\n",
       "      <td>-1.283761e-01</td>\n",
       "      <td>-1.578798e-01</td>\n",
       "      <td>-9.879804e-02</td>\n",
       "      <td>-1.274341e-01</td>\n",
       "      <td>-2.462762e-01</td>\n",
       "      <td>-6.448259e-02</td>\n",
       "      <td>-2.956170e-01</td>\n",
       "      <td>-1.397050e-01</td>\n",
       "      <td>-2.296164e-01</td>\n",
       "      <td>-3.545269e-01</td>\n",
       "      <td>-5.382976e-01</td>\n",
       "      <td>-6.052792e-01</td>\n",
       "      <td>-3.041551e-01</td>\n",
       "      <td>-3.882514e-01</td>\n",
       "      <td>-4.771308e-01</td>\n",
       "      <td>-5.412758e-01</td>\n",
       "      <td>-2.964718e-01</td>\n",
       "      <td>-0.813848</td>\n",
       "    </tr>\n",
       "    <tr>\n",
       "      <th>50%</th>\n",
       "      <td>-7.942956e-02</td>\n",
       "      <td>-1.540544e-01</td>\n",
       "      <td>-7.754899e-02</td>\n",
       "      <td>-1.753964e-01</td>\n",
       "      <td>-9.338890e-02</td>\n",
       "      <td>-2.701494e-01</td>\n",
       "      <td>-7.792865e-02</td>\n",
       "      <td>-1.252303e-01</td>\n",
       "      <td>-1.513548e-01</td>\n",
       "      <td>-9.457309e-02</td>\n",
       "      <td>-1.490712e-01</td>\n",
       "      <td>-2.840901e-01</td>\n",
       "      <td>-2.122647e-01</td>\n",
       "      <td>-1.681543e-01</td>\n",
       "      <td>-8.053735e-02</td>\n",
       "      <td>-6.932025e-02</td>\n",
       "      <td>-1.013984e-01</td>\n",
       "      <td>-1.257696e-01</td>\n",
       "      <td>-2.403262e-01</td>\n",
       "      <td>-2.662767e-01</td>\n",
       "      <td>-9.441603e-02</td>\n",
       "      <td>-2.380779e-01</td>\n",
       "      <td>-1.736667e-01</td>\n",
       "      <td>-1.283761e-01</td>\n",
       "      <td>-1.578798e-01</td>\n",
       "      <td>-9.879804e-02</td>\n",
       "      <td>-1.274341e-01</td>\n",
       "      <td>-2.462762e-01</td>\n",
       "      <td>-6.448259e-02</td>\n",
       "      <td>-2.956170e-01</td>\n",
       "      <td>-1.397050e-01</td>\n",
       "      <td>-2.296164e-01</td>\n",
       "      <td>-3.545269e-01</td>\n",
       "      <td>8.352071e-02</td>\n",
       "      <td>2.229237e-02</td>\n",
       "      <td>-1.918006e-01</td>\n",
       "      <td>-2.837628e-01</td>\n",
       "      <td>-3.807736e-01</td>\n",
       "      <td>-3.111788e-01</td>\n",
       "      <td>-2.964718e-01</td>\n",
       "      <td>-0.580179</td>\n",
       "    </tr>\n",
       "    <tr>\n",
       "      <th>75%</th>\n",
       "      <td>-7.942956e-02</td>\n",
       "      <td>-1.540544e-01</td>\n",
       "      <td>-7.754899e-02</td>\n",
       "      <td>-1.753964e-01</td>\n",
       "      <td>-9.338890e-02</td>\n",
       "      <td>-2.701494e-01</td>\n",
       "      <td>-7.792865e-02</td>\n",
       "      <td>-1.252303e-01</td>\n",
       "      <td>-1.513548e-01</td>\n",
       "      <td>-9.457309e-02</td>\n",
       "      <td>-1.490712e-01</td>\n",
       "      <td>-2.840901e-01</td>\n",
       "      <td>-2.122647e-01</td>\n",
       "      <td>-1.681543e-01</td>\n",
       "      <td>-8.053735e-02</td>\n",
       "      <td>-6.932025e-02</td>\n",
       "      <td>-1.013984e-01</td>\n",
       "      <td>-1.257696e-01</td>\n",
       "      <td>-2.403262e-01</td>\n",
       "      <td>-2.662767e-01</td>\n",
       "      <td>-9.441603e-02</td>\n",
       "      <td>-2.380779e-01</td>\n",
       "      <td>-1.736667e-01</td>\n",
       "      <td>-1.283761e-01</td>\n",
       "      <td>-1.578798e-01</td>\n",
       "      <td>-9.879804e-02</td>\n",
       "      <td>-1.274341e-01</td>\n",
       "      <td>-2.462762e-01</td>\n",
       "      <td>-6.448259e-02</td>\n",
       "      <td>-2.956170e-01</td>\n",
       "      <td>-1.397050e-01</td>\n",
       "      <td>-2.296164e-01</td>\n",
       "      <td>-3.545269e-01</td>\n",
       "      <td>6.146324e-01</td>\n",
       "      <td>5.934063e-01</td>\n",
       "      <td>7.940757e-03</td>\n",
       "      <td>-7.478556e-02</td>\n",
       "      <td>4.654934e-03</td>\n",
       "      <td>8.190368e-02</td>\n",
       "      <td>-2.161091e-01</td>\n",
       "      <td>0.889671</td>\n",
       "    </tr>\n",
       "    <tr>\n",
       "      <th>max</th>\n",
       "      <td>1.258977e+01</td>\n",
       "      <td>6.491213e+00</td>\n",
       "      <td>1.289507e+01</td>\n",
       "      <td>5.701370e+00</td>\n",
       "      <td>1.070791e+01</td>\n",
       "      <td>3.701655e+00</td>\n",
       "      <td>1.283225e+01</td>\n",
       "      <td>7.985291e+00</td>\n",
       "      <td>6.606992e+00</td>\n",
       "      <td>1.057383e+01</td>\n",
       "      <td>6.708204e+00</td>\n",
       "      <td>3.520010e+00</td>\n",
       "      <td>4.711099e+00</td>\n",
       "      <td>5.946920e+00</td>\n",
       "      <td>1.241660e+01</td>\n",
       "      <td>1.442580e+01</td>\n",
       "      <td>9.862086e+00</td>\n",
       "      <td>7.951044e+00</td>\n",
       "      <td>4.161012e+00</td>\n",
       "      <td>3.755492e+00</td>\n",
       "      <td>1.059142e+01</td>\n",
       "      <td>4.200305e+00</td>\n",
       "      <td>5.758157e+00</td>\n",
       "      <td>7.789612e+00</td>\n",
       "      <td>6.333933e+00</td>\n",
       "      <td>1.012166e+01</td>\n",
       "      <td>7.847195e+00</td>\n",
       "      <td>4.060481e+00</td>\n",
       "      <td>1.550806e+01</td>\n",
       "      <td>3.382755e+00</td>\n",
       "      <td>7.157940e+00</td>\n",
       "      <td>4.355090e+00</td>\n",
       "      <td>2.820660e+00</td>\n",
       "      <td>4.048450e+00</td>\n",
       "      <td>4.294256e+00</td>\n",
       "      <td>6.197769e+01</td>\n",
       "      <td>9.015725e+00</td>\n",
       "      <td>7.681107e+00</td>\n",
       "      <td>2.434756e+01</td>\n",
       "      <td>7.311192e+00</td>\n",
       "      <td>1.937410</td>\n",
       "    </tr>\n",
       "  </tbody>\n",
       "</table>\n",
       "</div>"
      ],
      "text/plain": [
       "       neighbourhood_Barking and Dagenham  neighbourhood_Barnet  \\\n",
       "count                        6.858600e+04          6.858600e+04   \n",
       "mean                         2.362053e-17         -4.019633e-17   \n",
       "std                          1.000007e+00          1.000007e+00   \n",
       "min                         -7.942956e-02         -1.540544e-01   \n",
       "25%                         -7.942956e-02         -1.540544e-01   \n",
       "50%                         -7.942956e-02         -1.540544e-01   \n",
       "75%                         -7.942956e-02         -1.540544e-01   \n",
       "max                          1.258977e+01          6.491213e+00   \n",
       "\n",
       "       neighbourhood_Bexley  neighbourhood_Brent  neighbourhood_Bromley  \\\n",
       "count          6.858600e+04         6.858600e+04           6.858600e+04   \n",
       "mean           2.652129e-17        -6.298807e-17           2.900766e-17   \n",
       "std            1.000007e+00         1.000007e+00           1.000007e+00   \n",
       "min           -7.754899e-02        -1.753964e-01          -9.338890e-02   \n",
       "25%           -7.754899e-02        -1.753964e-01          -9.338890e-02   \n",
       "50%           -7.754899e-02        -1.753964e-01          -9.338890e-02   \n",
       "75%           -7.754899e-02        -1.753964e-01          -9.338890e-02   \n",
       "max            1.289507e+01         5.701370e+00           1.070791e+01   \n",
       "\n",
       "       neighbourhood_Camden  neighbourhood_City of London  \\\n",
       "count          6.858600e+04                  6.858600e+04   \n",
       "mean           7.127598e-17                 -4.143952e-17   \n",
       "std            1.000007e+00                  1.000007e+00   \n",
       "min           -2.701494e-01                 -7.792865e-02   \n",
       "25%           -2.701494e-01                 -7.792865e-02   \n",
       "50%           -2.701494e-01                 -7.792865e-02   \n",
       "75%           -2.701494e-01                 -7.792865e-02   \n",
       "max            3.701655e+00                  1.283225e+01   \n",
       "\n",
       "       neighbourhood_Croydon  neighbourhood_Ealing  neighbourhood_Enfield  \\\n",
       "count           6.858600e+04          6.858600e+04           6.858600e+04   \n",
       "mean           -2.735008e-17          2.610690e-17           7.459114e-18   \n",
       "std             1.000007e+00          1.000007e+00           1.000007e+00   \n",
       "min            -1.252303e-01         -1.513548e-01          -9.457309e-02   \n",
       "25%            -1.252303e-01         -1.513548e-01          -9.457309e-02   \n",
       "50%            -1.252303e-01         -1.513548e-01          -9.457309e-02   \n",
       "75%            -1.252303e-01         -1.513548e-01          -9.457309e-02   \n",
       "max             7.985291e+00          6.606992e+00           1.057383e+01   \n",
       "\n",
       "       neighbourhood_Greenwich  neighbourhood_Hackney  \\\n",
       "count             6.858600e+04           6.858600e+04   \n",
       "mean             -4.454748e-17           2.486371e-18   \n",
       "std               1.000007e+00           1.000007e+00   \n",
       "min              -1.490712e-01          -2.840901e-01   \n",
       "25%              -1.490712e-01          -2.840901e-01   \n",
       "50%              -1.490712e-01          -2.840901e-01   \n",
       "75%              -1.490712e-01          -2.840901e-01   \n",
       "max               6.708204e+00           3.520010e+00   \n",
       "\n",
       "       neighbourhood_Hammersmith and Fulham  neighbourhood_Haringey  \\\n",
       "count                          6.858600e+04            6.858600e+04   \n",
       "mean                           3.646678e-17            5.801533e-18   \n",
       "std                            1.000007e+00            1.000007e+00   \n",
       "min                           -2.122647e-01           -1.681543e-01   \n",
       "25%                           -2.122647e-01           -1.681543e-01   \n",
       "50%                           -2.122647e-01           -1.681543e-01   \n",
       "75%                           -2.122647e-01           -1.681543e-01   \n",
       "max                            4.711099e+00            5.946920e+00   \n",
       "\n",
       "       neighbourhood_Harrow  neighbourhood_Havering  neighbourhood_Hillingdon  \\\n",
       "count          6.858600e+04            6.858600e+04              6.858600e+04   \n",
       "mean          -6.630323e-18           -2.320613e-17              2.983645e-17   \n",
       "std            1.000007e+00            1.000007e+00              1.000007e+00   \n",
       "min           -8.053735e-02           -6.932025e-02             -1.013984e-01   \n",
       "25%           -8.053735e-02           -6.932025e-02             -1.013984e-01   \n",
       "50%           -8.053735e-02           -6.932025e-02             -1.013984e-01   \n",
       "75%           -8.053735e-02           -6.932025e-02             -1.013984e-01   \n",
       "max            1.241660e+01            1.442580e+01              9.862086e+00   \n",
       "\n",
       "       neighbourhood_Hounslow  neighbourhood_Islington  \\\n",
       "count            6.858600e+04             6.858600e+04   \n",
       "mean            -8.287904e-18            -2.154855e-17   \n",
       "std              1.000007e+00             1.000007e+00   \n",
       "min             -1.257696e-01            -2.403262e-01   \n",
       "25%             -1.257696e-01            -2.403262e-01   \n",
       "50%             -1.257696e-01            -2.403262e-01   \n",
       "75%             -1.257696e-01            -2.403262e-01   \n",
       "max              7.951044e+00             4.161012e+00   \n",
       "\n",
       "       neighbourhood_Kensington and Chelsea  \\\n",
       "count                          6.858600e+04   \n",
       "mean                           1.450383e-17   \n",
       "std                            1.000007e+00   \n",
       "min                           -2.662767e-01   \n",
       "25%                           -2.662767e-01   \n",
       "50%                           -2.662767e-01   \n",
       "75%                           -2.662767e-01   \n",
       "max                            3.755492e+00   \n",
       "\n",
       "       neighbourhood_Kingston upon Thames  neighbourhood_Lambeth  \\\n",
       "count                        6.858600e+04           6.858600e+04   \n",
       "mean                        -2.983645e-17          -1.375792e-16   \n",
       "std                          1.000007e+00           1.000007e+00   \n",
       "min                         -9.441603e-02          -2.380779e-01   \n",
       "25%                         -9.441603e-02          -2.380779e-01   \n",
       "50%                         -9.441603e-02          -2.380779e-01   \n",
       "75%                         -9.441603e-02          -2.380779e-01   \n",
       "max                          1.059142e+01           4.200305e+00   \n",
       "\n",
       "       neighbourhood_Lewisham  neighbourhood_Merton  neighbourhood_Newham  \\\n",
       "count            6.858600e+04          6.858600e+04          6.858600e+04   \n",
       "mean             1.035988e-17         -3.107964e-17         -4.558347e-17   \n",
       "std              1.000007e+00          1.000007e+00          1.000007e+00   \n",
       "min             -1.736667e-01         -1.283761e-01         -1.578798e-01   \n",
       "25%             -1.736667e-01         -1.283761e-01         -1.578798e-01   \n",
       "50%             -1.736667e-01         -1.283761e-01         -1.578798e-01   \n",
       "75%             -1.736667e-01         -1.283761e-01         -1.578798e-01   \n",
       "max              5.758157e+00          7.789612e+00          6.333933e+00   \n",
       "\n",
       "       neighbourhood_Redbridge  neighbourhood_Richmond upon Thames  \\\n",
       "count             6.858600e+04                        6.858600e+04   \n",
       "mean              8.080706e-17                       -3.480920e-17   \n",
       "std               1.000007e+00                        1.000007e+00   \n",
       "min              -9.879804e-02                       -1.274341e-01   \n",
       "25%              -9.879804e-02                       -1.274341e-01   \n",
       "50%              -9.879804e-02                       -1.274341e-01   \n",
       "75%              -9.879804e-02                       -1.274341e-01   \n",
       "max               1.012166e+01                        7.847195e+00   \n",
       "\n",
       "       neighbourhood_Southwark  neighbourhood_Sutton  \\\n",
       "count             6.858600e+04          6.858600e+04   \n",
       "mean             -3.522359e-17          2.735008e-17   \n",
       "std               1.000007e+00          1.000007e+00   \n",
       "min              -2.462762e-01         -6.448259e-02   \n",
       "25%              -2.462762e-01         -6.448259e-02   \n",
       "50%              -2.462762e-01         -6.448259e-02   \n",
       "75%              -2.462762e-01         -6.448259e-02   \n",
       "max               4.060481e+00          1.550806e+01   \n",
       "\n",
       "       neighbourhood_Tower Hamlets  neighbourhood_Waltham Forest  \\\n",
       "count                 6.858600e+04                  6.858600e+04   \n",
       "mean                 -9.406771e-17                 -1.781899e-17   \n",
       "std                   1.000007e+00                  1.000007e+00   \n",
       "min                  -2.956170e-01                 -1.397050e-01   \n",
       "25%                  -2.956170e-01                 -1.397050e-01   \n",
       "50%                  -2.956170e-01                 -1.397050e-01   \n",
       "75%                  -2.956170e-01                 -1.397050e-01   \n",
       "max                   3.382755e+00                  7.157940e+00   \n",
       "\n",
       "       neighbourhood_Wandsworth  neighbourhood_Westminster      latitude  \\\n",
       "count              6.858600e+04               6.858600e+04  6.858600e+04   \n",
       "mean               2.610690e-17              -6.754642e-17  2.897534e-14   \n",
       "std                1.000007e+00               1.000007e+00  1.000007e+00   \n",
       "min               -2.296164e-01              -3.545269e-01 -4.812197e+00   \n",
       "25%               -2.296164e-01              -3.545269e-01 -5.382976e-01   \n",
       "50%               -2.296164e-01              -3.545269e-01  8.352071e-02   \n",
       "75%               -2.296164e-01              -3.545269e-01  6.146324e-01   \n",
       "max                4.355090e+00               2.820660e+00  4.048450e+00   \n",
       "\n",
       "          longitude         price  minimum_nights  number_of_reviews  \\\n",
       "count  6.858600e+04  6.858600e+04    6.858600e+04       6.858600e+04   \n",
       "mean  -6.464565e-17 -4.351150e-18   -3.605238e-17       3.315162e-18   \n",
       "std    1.000007e+00  1.000007e+00    1.000007e+00       1.000007e+00   \n",
       "min   -3.914392e+00 -4.414773e-01   -3.882514e-01      -5.092498e-01   \n",
       "25%   -6.052792e-01 -3.041551e-01   -3.882514e-01      -4.771308e-01   \n",
       "50%    2.229237e-02 -1.918006e-01   -2.837628e-01      -3.807736e-01   \n",
       "75%    5.934063e-01  7.940757e-03   -7.478556e-02       4.654934e-03   \n",
       "max    4.294256e+00  6.197769e+01    9.015725e+00       7.681107e+00   \n",
       "\n",
       "       reviews_per_month  calculated_host_listings_count  availability_365  \n",
       "count       6.858600e+04                    6.858600e+04      68586.000000  \n",
       "mean        1.611997e-16                    1.212106e-17          0.000000  \n",
       "std         1.000007e+00                    1.000007e+00          1.000007  \n",
       "min        -7.138486e-01                   -2.964718e-01         -0.813848  \n",
       "25%        -5.412758e-01                   -2.964718e-01         -0.813848  \n",
       "50%        -3.111788e-01                   -2.964718e-01         -0.580179  \n",
       "75%         8.190368e-02                   -2.161091e-01          0.889671  \n",
       "max         2.434756e+01                    7.311192e+00          1.937410  "
      ]
     },
     "execution_count": 103,
     "metadata": {},
     "output_type": "execute_result"
    }
   ],
   "source": [
    "data.describe()"
   ]
  },
  {
   "cell_type": "code",
   "execution_count": 104,
   "metadata": {},
   "outputs": [],
   "source": [
    "X = data.drop(['room_type'], axis = 1)\n",
    "Y = data['room_type']"
   ]
  },
  {
   "cell_type": "code",
   "execution_count": 105,
   "metadata": {},
   "outputs": [
    {
     "data": {
      "text/html": [
       "<div>\n",
       "<style scoped>\n",
       "    .dataframe tbody tr th:only-of-type {\n",
       "        vertical-align: middle;\n",
       "    }\n",
       "\n",
       "    .dataframe tbody tr th {\n",
       "        vertical-align: top;\n",
       "    }\n",
       "\n",
       "    .dataframe thead th {\n",
       "        text-align: right;\n",
       "    }\n",
       "</style>\n",
       "<table border=\"1\" class=\"dataframe\">\n",
       "  <thead>\n",
       "    <tr style=\"text-align: right;\">\n",
       "      <th></th>\n",
       "      <th>neighbourhood_Barking and Dagenham</th>\n",
       "      <th>neighbourhood_Barnet</th>\n",
       "      <th>neighbourhood_Bexley</th>\n",
       "      <th>neighbourhood_Brent</th>\n",
       "      <th>neighbourhood_Bromley</th>\n",
       "      <th>neighbourhood_Camden</th>\n",
       "      <th>neighbourhood_City of London</th>\n",
       "      <th>neighbourhood_Croydon</th>\n",
       "      <th>neighbourhood_Ealing</th>\n",
       "      <th>neighbourhood_Enfield</th>\n",
       "      <th>neighbourhood_Greenwich</th>\n",
       "      <th>neighbourhood_Hackney</th>\n",
       "      <th>neighbourhood_Hammersmith and Fulham</th>\n",
       "      <th>neighbourhood_Haringey</th>\n",
       "      <th>neighbourhood_Harrow</th>\n",
       "      <th>neighbourhood_Havering</th>\n",
       "      <th>neighbourhood_Hillingdon</th>\n",
       "      <th>neighbourhood_Hounslow</th>\n",
       "      <th>neighbourhood_Islington</th>\n",
       "      <th>neighbourhood_Kensington and Chelsea</th>\n",
       "      <th>neighbourhood_Kingston upon Thames</th>\n",
       "      <th>neighbourhood_Lambeth</th>\n",
       "      <th>neighbourhood_Lewisham</th>\n",
       "      <th>neighbourhood_Merton</th>\n",
       "      <th>neighbourhood_Newham</th>\n",
       "      <th>neighbourhood_Redbridge</th>\n",
       "      <th>neighbourhood_Richmond upon Thames</th>\n",
       "      <th>neighbourhood_Southwark</th>\n",
       "      <th>neighbourhood_Sutton</th>\n",
       "      <th>neighbourhood_Tower Hamlets</th>\n",
       "      <th>neighbourhood_Waltham Forest</th>\n",
       "      <th>neighbourhood_Wandsworth</th>\n",
       "      <th>neighbourhood_Westminster</th>\n",
       "      <th>latitude</th>\n",
       "      <th>longitude</th>\n",
       "      <th>price</th>\n",
       "      <th>minimum_nights</th>\n",
       "      <th>number_of_reviews</th>\n",
       "      <th>reviews_per_month</th>\n",
       "      <th>calculated_host_listings_count</th>\n",
       "      <th>availability_365</th>\n",
       "    </tr>\n",
       "  </thead>\n",
       "  <tbody>\n",
       "    <tr>\n",
       "      <th>0</th>\n",
       "      <td>-0.07943</td>\n",
       "      <td>-0.154054</td>\n",
       "      <td>-0.077549</td>\n",
       "      <td>-0.175396</td>\n",
       "      <td>-0.093389</td>\n",
       "      <td>-0.270149</td>\n",
       "      <td>-0.077929</td>\n",
       "      <td>-0.12523</td>\n",
       "      <td>-0.151355</td>\n",
       "      <td>-0.094573</td>\n",
       "      <td>-0.149071</td>\n",
       "      <td>-0.28409</td>\n",
       "      <td>-0.212265</td>\n",
       "      <td>-0.168154</td>\n",
       "      <td>-0.080537</td>\n",
       "      <td>-0.06932</td>\n",
       "      <td>-0.101398</td>\n",
       "      <td>-0.12577</td>\n",
       "      <td>-0.240326</td>\n",
       "      <td>-0.266277</td>\n",
       "      <td>-0.094416</td>\n",
       "      <td>-0.238078</td>\n",
       "      <td>-0.173667</td>\n",
       "      <td>-0.128376</td>\n",
       "      <td>-0.15788</td>\n",
       "      <td>-0.098798</td>\n",
       "      <td>-0.127434</td>\n",
       "      <td>-0.246276</td>\n",
       "      <td>-0.064483</td>\n",
       "      <td>3.382755</td>\n",
       "      <td>-0.139705</td>\n",
       "      <td>-0.229616</td>\n",
       "      <td>-0.354527</td>\n",
       "      <td>0.390299</td>\n",
       "      <td>0.737324</td>\n",
       "      <td>-0.304155</td>\n",
       "      <td>-0.179274</td>\n",
       "      <td>1.578488</td>\n",
       "      <td>-0.272829</td>\n",
       "      <td>-0.296472</td>\n",
       "      <td>-0.256059</td>\n",
       "    </tr>\n",
       "    <tr>\n",
       "      <th>1</th>\n",
       "      <td>-0.07943</td>\n",
       "      <td>-0.154054</td>\n",
       "      <td>-0.077549</td>\n",
       "      <td>-0.175396</td>\n",
       "      <td>-0.093389</td>\n",
       "      <td>-0.270149</td>\n",
       "      <td>-0.077929</td>\n",
       "      <td>-0.12523</td>\n",
       "      <td>-0.151355</td>\n",
       "      <td>-0.094573</td>\n",
       "      <td>-0.149071</td>\n",
       "      <td>-0.28409</td>\n",
       "      <td>-0.212265</td>\n",
       "      <td>-0.168154</td>\n",
       "      <td>-0.080537</td>\n",
       "      <td>-0.06932</td>\n",
       "      <td>-0.101398</td>\n",
       "      <td>-0.12577</td>\n",
       "      <td>4.161012</td>\n",
       "      <td>-0.266277</td>\n",
       "      <td>-0.094416</td>\n",
       "      <td>-0.238078</td>\n",
       "      <td>-0.173667</td>\n",
       "      <td>-0.128376</td>\n",
       "      <td>-0.15788</td>\n",
       "      <td>-0.098798</td>\n",
       "      <td>-0.127434</td>\n",
       "      <td>-0.246276</td>\n",
       "      <td>-0.064483</td>\n",
       "      <td>-0.295617</td>\n",
       "      <td>-0.139705</td>\n",
       "      <td>-0.229616</td>\n",
       "      <td>-0.354527</td>\n",
       "      <td>1.199725</td>\n",
       "      <td>0.155513</td>\n",
       "      <td>-0.316639</td>\n",
       "      <td>-0.388251</td>\n",
       "      <td>0.454322</td>\n",
       "      <td>-0.531688</td>\n",
       "      <td>-0.269684</td>\n",
       "      <td>1.771581</td>\n",
       "    </tr>\n",
       "    <tr>\n",
       "      <th>2</th>\n",
       "      <td>-0.07943</td>\n",
       "      <td>-0.154054</td>\n",
       "      <td>-0.077549</td>\n",
       "      <td>-0.175396</td>\n",
       "      <td>-0.093389</td>\n",
       "      <td>-0.270149</td>\n",
       "      <td>-0.077929</td>\n",
       "      <td>-0.12523</td>\n",
       "      <td>-0.151355</td>\n",
       "      <td>-0.094573</td>\n",
       "      <td>-0.149071</td>\n",
       "      <td>-0.28409</td>\n",
       "      <td>-0.212265</td>\n",
       "      <td>-0.168154</td>\n",
       "      <td>-0.080537</td>\n",
       "      <td>-0.06932</td>\n",
       "      <td>-0.101398</td>\n",
       "      <td>-0.12577</td>\n",
       "      <td>-0.240326</td>\n",
       "      <td>-0.266277</td>\n",
       "      <td>-0.094416</td>\n",
       "      <td>-0.238078</td>\n",
       "      <td>-0.173667</td>\n",
       "      <td>-0.128376</td>\n",
       "      <td>-0.15788</td>\n",
       "      <td>-0.098798</td>\n",
       "      <td>-0.127434</td>\n",
       "      <td>-0.246276</td>\n",
       "      <td>-0.064483</td>\n",
       "      <td>3.382755</td>\n",
       "      <td>-0.139705</td>\n",
       "      <td>-0.229616</td>\n",
       "      <td>-0.354527</td>\n",
       "      <td>0.385630</td>\n",
       "      <td>0.536255</td>\n",
       "      <td>-0.216768</td>\n",
       "      <td>0.029703</td>\n",
       "      <td>0.839750</td>\n",
       "      <td>-0.397465</td>\n",
       "      <td>-0.296472</td>\n",
       "      <td>0.859520</td>\n",
       "    </tr>\n",
       "    <tr>\n",
       "      <th>3</th>\n",
       "      <td>-0.07943</td>\n",
       "      <td>-0.154054</td>\n",
       "      <td>-0.077549</td>\n",
       "      <td>-0.175396</td>\n",
       "      <td>-0.093389</td>\n",
       "      <td>-0.270149</td>\n",
       "      <td>-0.077929</td>\n",
       "      <td>-0.12523</td>\n",
       "      <td>-0.151355</td>\n",
       "      <td>-0.094573</td>\n",
       "      <td>-0.149071</td>\n",
       "      <td>-0.28409</td>\n",
       "      <td>-0.212265</td>\n",
       "      <td>-0.168154</td>\n",
       "      <td>-0.080537</td>\n",
       "      <td>-0.06932</td>\n",
       "      <td>-0.101398</td>\n",
       "      <td>-0.12577</td>\n",
       "      <td>-0.240326</td>\n",
       "      <td>3.755492</td>\n",
       "      <td>-0.094416</td>\n",
       "      <td>-0.238078</td>\n",
       "      <td>-0.173667</td>\n",
       "      <td>-0.128376</td>\n",
       "      <td>-0.15788</td>\n",
       "      <td>-0.098798</td>\n",
       "      <td>-0.127434</td>\n",
       "      <td>-0.246276</td>\n",
       "      <td>-0.064483</td>\n",
       "      <td>-0.295617</td>\n",
       "      <td>-0.139705</td>\n",
       "      <td>-0.229616</td>\n",
       "      <td>-0.354527</td>\n",
       "      <td>0.104046</td>\n",
       "      <td>-0.709577</td>\n",
       "      <td>0.300062</td>\n",
       "      <td>0.970101</td>\n",
       "      <td>-0.316536</td>\n",
       "      <td>-0.675499</td>\n",
       "      <td>-0.296472</td>\n",
       "      <td>0.542937</td>\n",
       "    </tr>\n",
       "    <tr>\n",
       "      <th>4</th>\n",
       "      <td>-0.07943</td>\n",
       "      <td>-0.154054</td>\n",
       "      <td>-0.077549</td>\n",
       "      <td>-0.175396</td>\n",
       "      <td>-0.093389</td>\n",
       "      <td>-0.270149</td>\n",
       "      <td>-0.077929</td>\n",
       "      <td>-0.12523</td>\n",
       "      <td>-0.151355</td>\n",
       "      <td>-0.094573</td>\n",
       "      <td>-0.149071</td>\n",
       "      <td>-0.28409</td>\n",
       "      <td>-0.212265</td>\n",
       "      <td>-0.168154</td>\n",
       "      <td>-0.080537</td>\n",
       "      <td>-0.06932</td>\n",
       "      <td>-0.101398</td>\n",
       "      <td>-0.12577</td>\n",
       "      <td>-0.240326</td>\n",
       "      <td>3.755492</td>\n",
       "      <td>-0.094416</td>\n",
       "      <td>-0.238078</td>\n",
       "      <td>-0.173667</td>\n",
       "      <td>-0.128376</td>\n",
       "      <td>-0.15788</td>\n",
       "      <td>-0.098798</td>\n",
       "      <td>-0.127434</td>\n",
       "      <td>-0.246276</td>\n",
       "      <td>-0.064483</td>\n",
       "      <td>-0.295617</td>\n",
       "      <td>-0.139705</td>\n",
       "      <td>-0.229616</td>\n",
       "      <td>-0.354527</td>\n",
       "      <td>-0.440850</td>\n",
       "      <td>-0.393513</td>\n",
       "      <td>-0.254220</td>\n",
       "      <td>-0.179274</td>\n",
       "      <td>2.349345</td>\n",
       "      <td>-0.176956</td>\n",
       "      <td>-0.296472</td>\n",
       "      <td>-0.286209</td>\n",
       "    </tr>\n",
       "  </tbody>\n",
       "</table>\n",
       "</div>"
      ],
      "text/plain": [
       "   neighbourhood_Barking and Dagenham  neighbourhood_Barnet  \\\n",
       "0                            -0.07943             -0.154054   \n",
       "1                            -0.07943             -0.154054   \n",
       "2                            -0.07943             -0.154054   \n",
       "3                            -0.07943             -0.154054   \n",
       "4                            -0.07943             -0.154054   \n",
       "\n",
       "   neighbourhood_Bexley  neighbourhood_Brent  neighbourhood_Bromley  \\\n",
       "0             -0.077549            -0.175396              -0.093389   \n",
       "1             -0.077549            -0.175396              -0.093389   \n",
       "2             -0.077549            -0.175396              -0.093389   \n",
       "3             -0.077549            -0.175396              -0.093389   \n",
       "4             -0.077549            -0.175396              -0.093389   \n",
       "\n",
       "   neighbourhood_Camden  neighbourhood_City of London  neighbourhood_Croydon  \\\n",
       "0             -0.270149                     -0.077929               -0.12523   \n",
       "1             -0.270149                     -0.077929               -0.12523   \n",
       "2             -0.270149                     -0.077929               -0.12523   \n",
       "3             -0.270149                     -0.077929               -0.12523   \n",
       "4             -0.270149                     -0.077929               -0.12523   \n",
       "\n",
       "   neighbourhood_Ealing  neighbourhood_Enfield  neighbourhood_Greenwich  \\\n",
       "0             -0.151355              -0.094573                -0.149071   \n",
       "1             -0.151355              -0.094573                -0.149071   \n",
       "2             -0.151355              -0.094573                -0.149071   \n",
       "3             -0.151355              -0.094573                -0.149071   \n",
       "4             -0.151355              -0.094573                -0.149071   \n",
       "\n",
       "   neighbourhood_Hackney  neighbourhood_Hammersmith and Fulham  \\\n",
       "0               -0.28409                             -0.212265   \n",
       "1               -0.28409                             -0.212265   \n",
       "2               -0.28409                             -0.212265   \n",
       "3               -0.28409                             -0.212265   \n",
       "4               -0.28409                             -0.212265   \n",
       "\n",
       "   neighbourhood_Haringey  neighbourhood_Harrow  neighbourhood_Havering  \\\n",
       "0               -0.168154             -0.080537                -0.06932   \n",
       "1               -0.168154             -0.080537                -0.06932   \n",
       "2               -0.168154             -0.080537                -0.06932   \n",
       "3               -0.168154             -0.080537                -0.06932   \n",
       "4               -0.168154             -0.080537                -0.06932   \n",
       "\n",
       "   neighbourhood_Hillingdon  neighbourhood_Hounslow  neighbourhood_Islington  \\\n",
       "0                 -0.101398                -0.12577                -0.240326   \n",
       "1                 -0.101398                -0.12577                 4.161012   \n",
       "2                 -0.101398                -0.12577                -0.240326   \n",
       "3                 -0.101398                -0.12577                -0.240326   \n",
       "4                 -0.101398                -0.12577                -0.240326   \n",
       "\n",
       "   neighbourhood_Kensington and Chelsea  neighbourhood_Kingston upon Thames  \\\n",
       "0                             -0.266277                           -0.094416   \n",
       "1                             -0.266277                           -0.094416   \n",
       "2                             -0.266277                           -0.094416   \n",
       "3                              3.755492                           -0.094416   \n",
       "4                              3.755492                           -0.094416   \n",
       "\n",
       "   neighbourhood_Lambeth  neighbourhood_Lewisham  neighbourhood_Merton  \\\n",
       "0              -0.238078               -0.173667             -0.128376   \n",
       "1              -0.238078               -0.173667             -0.128376   \n",
       "2              -0.238078               -0.173667             -0.128376   \n",
       "3              -0.238078               -0.173667             -0.128376   \n",
       "4              -0.238078               -0.173667             -0.128376   \n",
       "\n",
       "   neighbourhood_Newham  neighbourhood_Redbridge  \\\n",
       "0              -0.15788                -0.098798   \n",
       "1              -0.15788                -0.098798   \n",
       "2              -0.15788                -0.098798   \n",
       "3              -0.15788                -0.098798   \n",
       "4              -0.15788                -0.098798   \n",
       "\n",
       "   neighbourhood_Richmond upon Thames  neighbourhood_Southwark  \\\n",
       "0                           -0.127434                -0.246276   \n",
       "1                           -0.127434                -0.246276   \n",
       "2                           -0.127434                -0.246276   \n",
       "3                           -0.127434                -0.246276   \n",
       "4                           -0.127434                -0.246276   \n",
       "\n",
       "   neighbourhood_Sutton  neighbourhood_Tower Hamlets  \\\n",
       "0             -0.064483                     3.382755   \n",
       "1             -0.064483                    -0.295617   \n",
       "2             -0.064483                     3.382755   \n",
       "3             -0.064483                    -0.295617   \n",
       "4             -0.064483                    -0.295617   \n",
       "\n",
       "   neighbourhood_Waltham Forest  neighbourhood_Wandsworth  \\\n",
       "0                     -0.139705                 -0.229616   \n",
       "1                     -0.139705                 -0.229616   \n",
       "2                     -0.139705                 -0.229616   \n",
       "3                     -0.139705                 -0.229616   \n",
       "4                     -0.139705                 -0.229616   \n",
       "\n",
       "   neighbourhood_Westminster  latitude  longitude     price  minimum_nights  \\\n",
       "0                  -0.354527  0.390299   0.737324 -0.304155       -0.179274   \n",
       "1                  -0.354527  1.199725   0.155513 -0.316639       -0.388251   \n",
       "2                  -0.354527  0.385630   0.536255 -0.216768        0.029703   \n",
       "3                  -0.354527  0.104046  -0.709577  0.300062        0.970101   \n",
       "4                  -0.354527 -0.440850  -0.393513 -0.254220       -0.179274   \n",
       "\n",
       "   number_of_reviews  reviews_per_month  calculated_host_listings_count  \\\n",
       "0           1.578488          -0.272829                       -0.296472   \n",
       "1           0.454322          -0.531688                       -0.269684   \n",
       "2           0.839750          -0.397465                       -0.296472   \n",
       "3          -0.316536          -0.675499                       -0.296472   \n",
       "4           2.349345          -0.176956                       -0.296472   \n",
       "\n",
       "   availability_365  \n",
       "0         -0.256059  \n",
       "1          1.771581  \n",
       "2          0.859520  \n",
       "3          0.542937  \n",
       "4         -0.286209  "
      ]
     },
     "execution_count": 105,
     "metadata": {},
     "output_type": "execute_result"
    }
   ],
   "source": [
    "X.head()"
   ]
  },
  {
   "cell_type": "code",
   "execution_count": 106,
   "metadata": {},
   "outputs": [
    {
     "data": {
      "text/plain": [
       "0       Private room\n",
       "1       Private room\n",
       "2    Entire home/apt\n",
       "3    Entire home/apt\n",
       "4    Entire home/apt\n",
       "Name: room_type, dtype: object"
      ]
     },
     "execution_count": 106,
     "metadata": {},
     "output_type": "execute_result"
    }
   ],
   "source": [
    "Y.head()"
   ]
  },
  {
   "cell_type": "markdown",
   "metadata": {},
   "source": [
    "#### Векторизуем категориальный признак 'room_type' "
   ]
  },
  {
   "cell_type": "code",
   "execution_count": 107,
   "metadata": {},
   "outputs": [
    {
     "name": "stdout",
     "output_type": "stream",
     "text": [
      "[[0. 0. 1. 0.]\n",
      " [0. 0. 1. 0.]\n",
      " [1. 0. 0. 0.]\n",
      " [1. 0. 0. 0.]\n",
      " [1. 0. 0. 0.]\n",
      " [1. 0. 0. 0.]\n",
      " [1. 0. 0. 0.]\n",
      " [0. 0. 1. 0.]\n",
      " [1. 0. 0. 0.]\n",
      " [1. 0. 0. 0.]]\n",
      "[array(['Entire home/apt', 'Hotel room', 'Private room', 'Shared room'],\n",
      "      dtype=object)]\n"
     ]
    }
   ],
   "source": [
    "enc = OneHotEncoder(sparse=False)\n",
    "Y = enc.fit_transform(pd.DataFrame(Y))\n",
    "print(Y[:10])\n",
    "print(enc.categories_)"
   ]
  },
  {
   "cell_type": "code",
   "execution_count": 108,
   "metadata": {},
   "outputs": [
    {
     "data": {
      "text/plain": [
       "(51439, 17147)"
      ]
     },
     "execution_count": 108,
     "metadata": {},
     "output_type": "execute_result"
    }
   ],
   "source": [
    "from sklearn.model_selection import train_test_split\n",
    "\n",
    "X_train, X_test, y_train, y_test = train_test_split(X, Y, test_size = 0.25, random_state = 173)\n",
    "\n",
    "N_train, _ = X_train.shape\n",
    "N_test, _ = X_test.shape\n",
    "\n",
    "N_train, N_test"
   ]
  },
  {
   "cell_type": "code",
   "execution_count": 109,
   "metadata": {},
   "outputs": [
    {
     "data": {
      "text/html": [
       "<div>\n",
       "<style scoped>\n",
       "    .dataframe tbody tr th:only-of-type {\n",
       "        vertical-align: middle;\n",
       "    }\n",
       "\n",
       "    .dataframe tbody tr th {\n",
       "        vertical-align: top;\n",
       "    }\n",
       "\n",
       "    .dataframe thead th {\n",
       "        text-align: right;\n",
       "    }\n",
       "</style>\n",
       "<table border=\"1\" class=\"dataframe\">\n",
       "  <thead>\n",
       "    <tr style=\"text-align: right;\">\n",
       "      <th></th>\n",
       "      <th>neighbourhood_Barking and Dagenham</th>\n",
       "      <th>neighbourhood_Barnet</th>\n",
       "      <th>neighbourhood_Bexley</th>\n",
       "      <th>neighbourhood_Brent</th>\n",
       "      <th>neighbourhood_Bromley</th>\n",
       "      <th>neighbourhood_Camden</th>\n",
       "      <th>neighbourhood_City of London</th>\n",
       "      <th>neighbourhood_Croydon</th>\n",
       "      <th>neighbourhood_Ealing</th>\n",
       "      <th>neighbourhood_Enfield</th>\n",
       "      <th>neighbourhood_Greenwich</th>\n",
       "      <th>neighbourhood_Hackney</th>\n",
       "      <th>neighbourhood_Hammersmith and Fulham</th>\n",
       "      <th>neighbourhood_Haringey</th>\n",
       "      <th>neighbourhood_Harrow</th>\n",
       "      <th>neighbourhood_Havering</th>\n",
       "      <th>neighbourhood_Hillingdon</th>\n",
       "      <th>neighbourhood_Hounslow</th>\n",
       "      <th>neighbourhood_Islington</th>\n",
       "      <th>neighbourhood_Kensington and Chelsea</th>\n",
       "      <th>neighbourhood_Kingston upon Thames</th>\n",
       "      <th>neighbourhood_Lambeth</th>\n",
       "      <th>neighbourhood_Lewisham</th>\n",
       "      <th>neighbourhood_Merton</th>\n",
       "      <th>neighbourhood_Newham</th>\n",
       "      <th>neighbourhood_Redbridge</th>\n",
       "      <th>neighbourhood_Richmond upon Thames</th>\n",
       "      <th>neighbourhood_Southwark</th>\n",
       "      <th>neighbourhood_Sutton</th>\n",
       "      <th>neighbourhood_Tower Hamlets</th>\n",
       "      <th>neighbourhood_Waltham Forest</th>\n",
       "      <th>neighbourhood_Wandsworth</th>\n",
       "      <th>neighbourhood_Westminster</th>\n",
       "      <th>latitude</th>\n",
       "      <th>longitude</th>\n",
       "      <th>price</th>\n",
       "      <th>minimum_nights</th>\n",
       "      <th>number_of_reviews</th>\n",
       "      <th>reviews_per_month</th>\n",
       "      <th>calculated_host_listings_count</th>\n",
       "      <th>availability_365</th>\n",
       "    </tr>\n",
       "  </thead>\n",
       "  <tbody>\n",
       "    <tr>\n",
       "      <th>43413</th>\n",
       "      <td>-0.07943</td>\n",
       "      <td>-0.154054</td>\n",
       "      <td>-0.077549</td>\n",
       "      <td>-0.175396</td>\n",
       "      <td>10.707911</td>\n",
       "      <td>-0.270149</td>\n",
       "      <td>-0.077929</td>\n",
       "      <td>-0.12523</td>\n",
       "      <td>-0.151355</td>\n",
       "      <td>-0.094573</td>\n",
       "      <td>-0.149071</td>\n",
       "      <td>-0.28409</td>\n",
       "      <td>-0.212265</td>\n",
       "      <td>-0.168154</td>\n",
       "      <td>-0.080537</td>\n",
       "      <td>-0.06932</td>\n",
       "      <td>-0.101398</td>\n",
       "      <td>-0.12577</td>\n",
       "      <td>-0.240326</td>\n",
       "      <td>-0.266277</td>\n",
       "      <td>-0.094416</td>\n",
       "      <td>-0.238078</td>\n",
       "      <td>-0.173667</td>\n",
       "      <td>-0.128376</td>\n",
       "      <td>-0.15788</td>\n",
       "      <td>-0.098798</td>\n",
       "      <td>-0.127434</td>\n",
       "      <td>-0.246276</td>\n",
       "      <td>-0.064483</td>\n",
       "      <td>-0.295617</td>\n",
       "      <td>-0.139705</td>\n",
       "      <td>-0.229616</td>\n",
       "      <td>-0.354527</td>\n",
       "      <td>-2.107208</td>\n",
       "      <td>0.628965</td>\n",
       "      <td>-0.406523</td>\n",
       "      <td>-0.179274</td>\n",
       "      <td>-0.509250</td>\n",
       "      <td>-0.311179</td>\n",
       "      <td>-0.296472</td>\n",
       "      <td>-0.813848</td>\n",
       "    </tr>\n",
       "    <tr>\n",
       "      <th>5566</th>\n",
       "      <td>-0.07943</td>\n",
       "      <td>-0.154054</td>\n",
       "      <td>-0.077549</td>\n",
       "      <td>-0.175396</td>\n",
       "      <td>-0.093389</td>\n",
       "      <td>-0.270149</td>\n",
       "      <td>-0.077929</td>\n",
       "      <td>-0.12523</td>\n",
       "      <td>-0.151355</td>\n",
       "      <td>-0.094573</td>\n",
       "      <td>-0.149071</td>\n",
       "      <td>-0.28409</td>\n",
       "      <td>-0.212265</td>\n",
       "      <td>-0.168154</td>\n",
       "      <td>-0.080537</td>\n",
       "      <td>-0.06932</td>\n",
       "      <td>-0.101398</td>\n",
       "      <td>-0.12577</td>\n",
       "      <td>-0.240326</td>\n",
       "      <td>-0.266277</td>\n",
       "      <td>-0.094416</td>\n",
       "      <td>-0.238078</td>\n",
       "      <td>-0.173667</td>\n",
       "      <td>-0.128376</td>\n",
       "      <td>-0.15788</td>\n",
       "      <td>-0.098798</td>\n",
       "      <td>-0.127434</td>\n",
       "      <td>-0.246276</td>\n",
       "      <td>-0.064483</td>\n",
       "      <td>3.382755</td>\n",
       "      <td>-0.139705</td>\n",
       "      <td>-0.229616</td>\n",
       "      <td>-0.354527</td>\n",
       "      <td>0.403292</td>\n",
       "      <td>0.775953</td>\n",
       "      <td>0.007941</td>\n",
       "      <td>-0.283763</td>\n",
       "      <td>-0.155940</td>\n",
       "      <td>-0.598800</td>\n",
       "      <td>-0.269684</td>\n",
       "      <td>-0.813848</td>\n",
       "    </tr>\n",
       "    <tr>\n",
       "      <th>67826</th>\n",
       "      <td>-0.07943</td>\n",
       "      <td>-0.154054</td>\n",
       "      <td>-0.077549</td>\n",
       "      <td>-0.175396</td>\n",
       "      <td>-0.093389</td>\n",
       "      <td>3.701655</td>\n",
       "      <td>-0.077929</td>\n",
       "      <td>-0.12523</td>\n",
       "      <td>-0.151355</td>\n",
       "      <td>-0.094573</td>\n",
       "      <td>-0.149071</td>\n",
       "      <td>-0.28409</td>\n",
       "      <td>-0.212265</td>\n",
       "      <td>-0.168154</td>\n",
       "      <td>-0.080537</td>\n",
       "      <td>-0.06932</td>\n",
       "      <td>-0.101398</td>\n",
       "      <td>-0.12577</td>\n",
       "      <td>-0.240326</td>\n",
       "      <td>-0.266277</td>\n",
       "      <td>-0.094416</td>\n",
       "      <td>-0.238078</td>\n",
       "      <td>-0.173667</td>\n",
       "      <td>-0.128376</td>\n",
       "      <td>-0.15788</td>\n",
       "      <td>-0.098798</td>\n",
       "      <td>-0.127434</td>\n",
       "      <td>-0.246276</td>\n",
       "      <td>-0.064483</td>\n",
       "      <td>-0.295617</td>\n",
       "      <td>-0.139705</td>\n",
       "      <td>-0.229616</td>\n",
       "      <td>-0.354527</td>\n",
       "      <td>0.373342</td>\n",
       "      <td>0.094246</td>\n",
       "      <td>-0.314142</td>\n",
       "      <td>-0.388251</td>\n",
       "      <td>-0.509250</td>\n",
       "      <td>-0.311179</td>\n",
       "      <td>0.051766</td>\n",
       "      <td>1.040424</td>\n",
       "    </tr>\n",
       "    <tr>\n",
       "      <th>54448</th>\n",
       "      <td>-0.07943</td>\n",
       "      <td>-0.154054</td>\n",
       "      <td>-0.077549</td>\n",
       "      <td>-0.175396</td>\n",
       "      <td>-0.093389</td>\n",
       "      <td>-0.270149</td>\n",
       "      <td>-0.077929</td>\n",
       "      <td>-0.12523</td>\n",
       "      <td>-0.151355</td>\n",
       "      <td>-0.094573</td>\n",
       "      <td>-0.149071</td>\n",
       "      <td>-0.28409</td>\n",
       "      <td>-0.212265</td>\n",
       "      <td>-0.168154</td>\n",
       "      <td>-0.080537</td>\n",
       "      <td>-0.06932</td>\n",
       "      <td>-0.101398</td>\n",
       "      <td>-0.12577</td>\n",
       "      <td>-0.240326</td>\n",
       "      <td>-0.266277</td>\n",
       "      <td>-0.094416</td>\n",
       "      <td>-0.238078</td>\n",
       "      <td>-0.173667</td>\n",
       "      <td>-0.128376</td>\n",
       "      <td>-0.15788</td>\n",
       "      <td>-0.098798</td>\n",
       "      <td>-0.127434</td>\n",
       "      <td>-0.246276</td>\n",
       "      <td>-0.064483</td>\n",
       "      <td>-0.295617</td>\n",
       "      <td>-0.139705</td>\n",
       "      <td>-0.229616</td>\n",
       "      <td>2.820660</td>\n",
       "      <td>0.273362</td>\n",
       "      <td>-0.680457</td>\n",
       "      <td>-0.206781</td>\n",
       "      <td>-0.283763</td>\n",
       "      <td>0.357964</td>\n",
       "      <td>3.389549</td>\n",
       "      <td>-0.269684</td>\n",
       "      <td>1.055500</td>\n",
       "    </tr>\n",
       "    <tr>\n",
       "      <th>9631</th>\n",
       "      <td>-0.07943</td>\n",
       "      <td>-0.154054</td>\n",
       "      <td>-0.077549</td>\n",
       "      <td>-0.175396</td>\n",
       "      <td>-0.093389</td>\n",
       "      <td>-0.270149</td>\n",
       "      <td>-0.077929</td>\n",
       "      <td>-0.12523</td>\n",
       "      <td>-0.151355</td>\n",
       "      <td>-0.094573</td>\n",
       "      <td>6.708204</td>\n",
       "      <td>-0.28409</td>\n",
       "      <td>-0.212265</td>\n",
       "      <td>-0.168154</td>\n",
       "      <td>-0.080537</td>\n",
       "      <td>-0.06932</td>\n",
       "      <td>-0.101398</td>\n",
       "      <td>-0.12577</td>\n",
       "      <td>-0.240326</td>\n",
       "      <td>-0.266277</td>\n",
       "      <td>-0.094416</td>\n",
       "      <td>-0.238078</td>\n",
       "      <td>-0.173667</td>\n",
       "      <td>-0.128376</td>\n",
       "      <td>-0.15788</td>\n",
       "      <td>-0.098798</td>\n",
       "      <td>-0.127434</td>\n",
       "      <td>-0.246276</td>\n",
       "      <td>-0.064483</td>\n",
       "      <td>-0.295617</td>\n",
       "      <td>-0.139705</td>\n",
       "      <td>-0.229616</td>\n",
       "      <td>-0.354527</td>\n",
       "      <td>-0.836935</td>\n",
       "      <td>1.827452</td>\n",
       "      <td>-0.354090</td>\n",
       "      <td>-0.388251</td>\n",
       "      <td>0.871869</td>\n",
       "      <td>-0.205718</td>\n",
       "      <td>-0.296472</td>\n",
       "      <td>1.620827</td>\n",
       "    </tr>\n",
       "  </tbody>\n",
       "</table>\n",
       "</div>"
      ],
      "text/plain": [
       "       neighbourhood_Barking and Dagenham  neighbourhood_Barnet  \\\n",
       "43413                            -0.07943             -0.154054   \n",
       "5566                             -0.07943             -0.154054   \n",
       "67826                            -0.07943             -0.154054   \n",
       "54448                            -0.07943             -0.154054   \n",
       "9631                             -0.07943             -0.154054   \n",
       "\n",
       "       neighbourhood_Bexley  neighbourhood_Brent  neighbourhood_Bromley  \\\n",
       "43413             -0.077549            -0.175396              10.707911   \n",
       "5566              -0.077549            -0.175396              -0.093389   \n",
       "67826             -0.077549            -0.175396              -0.093389   \n",
       "54448             -0.077549            -0.175396              -0.093389   \n",
       "9631              -0.077549            -0.175396              -0.093389   \n",
       "\n",
       "       neighbourhood_Camden  neighbourhood_City of London  \\\n",
       "43413             -0.270149                     -0.077929   \n",
       "5566              -0.270149                     -0.077929   \n",
       "67826              3.701655                     -0.077929   \n",
       "54448             -0.270149                     -0.077929   \n",
       "9631              -0.270149                     -0.077929   \n",
       "\n",
       "       neighbourhood_Croydon  neighbourhood_Ealing  neighbourhood_Enfield  \\\n",
       "43413               -0.12523             -0.151355              -0.094573   \n",
       "5566                -0.12523             -0.151355              -0.094573   \n",
       "67826               -0.12523             -0.151355              -0.094573   \n",
       "54448               -0.12523             -0.151355              -0.094573   \n",
       "9631                -0.12523             -0.151355              -0.094573   \n",
       "\n",
       "       neighbourhood_Greenwich  neighbourhood_Hackney  \\\n",
       "43413                -0.149071               -0.28409   \n",
       "5566                 -0.149071               -0.28409   \n",
       "67826                -0.149071               -0.28409   \n",
       "54448                -0.149071               -0.28409   \n",
       "9631                  6.708204               -0.28409   \n",
       "\n",
       "       neighbourhood_Hammersmith and Fulham  neighbourhood_Haringey  \\\n",
       "43413                             -0.212265               -0.168154   \n",
       "5566                              -0.212265               -0.168154   \n",
       "67826                             -0.212265               -0.168154   \n",
       "54448                             -0.212265               -0.168154   \n",
       "9631                              -0.212265               -0.168154   \n",
       "\n",
       "       neighbourhood_Harrow  neighbourhood_Havering  neighbourhood_Hillingdon  \\\n",
       "43413             -0.080537                -0.06932                 -0.101398   \n",
       "5566              -0.080537                -0.06932                 -0.101398   \n",
       "67826             -0.080537                -0.06932                 -0.101398   \n",
       "54448             -0.080537                -0.06932                 -0.101398   \n",
       "9631              -0.080537                -0.06932                 -0.101398   \n",
       "\n",
       "       neighbourhood_Hounslow  neighbourhood_Islington  \\\n",
       "43413                -0.12577                -0.240326   \n",
       "5566                 -0.12577                -0.240326   \n",
       "67826                -0.12577                -0.240326   \n",
       "54448                -0.12577                -0.240326   \n",
       "9631                 -0.12577                -0.240326   \n",
       "\n",
       "       neighbourhood_Kensington and Chelsea  \\\n",
       "43413                             -0.266277   \n",
       "5566                              -0.266277   \n",
       "67826                             -0.266277   \n",
       "54448                             -0.266277   \n",
       "9631                              -0.266277   \n",
       "\n",
       "       neighbourhood_Kingston upon Thames  neighbourhood_Lambeth  \\\n",
       "43413                           -0.094416              -0.238078   \n",
       "5566                            -0.094416              -0.238078   \n",
       "67826                           -0.094416              -0.238078   \n",
       "54448                           -0.094416              -0.238078   \n",
       "9631                            -0.094416              -0.238078   \n",
       "\n",
       "       neighbourhood_Lewisham  neighbourhood_Merton  neighbourhood_Newham  \\\n",
       "43413               -0.173667             -0.128376              -0.15788   \n",
       "5566                -0.173667             -0.128376              -0.15788   \n",
       "67826               -0.173667             -0.128376              -0.15788   \n",
       "54448               -0.173667             -0.128376              -0.15788   \n",
       "9631                -0.173667             -0.128376              -0.15788   \n",
       "\n",
       "       neighbourhood_Redbridge  neighbourhood_Richmond upon Thames  \\\n",
       "43413                -0.098798                           -0.127434   \n",
       "5566                 -0.098798                           -0.127434   \n",
       "67826                -0.098798                           -0.127434   \n",
       "54448                -0.098798                           -0.127434   \n",
       "9631                 -0.098798                           -0.127434   \n",
       "\n",
       "       neighbourhood_Southwark  neighbourhood_Sutton  \\\n",
       "43413                -0.246276             -0.064483   \n",
       "5566                 -0.246276             -0.064483   \n",
       "67826                -0.246276             -0.064483   \n",
       "54448                -0.246276             -0.064483   \n",
       "9631                 -0.246276             -0.064483   \n",
       "\n",
       "       neighbourhood_Tower Hamlets  neighbourhood_Waltham Forest  \\\n",
       "43413                    -0.295617                     -0.139705   \n",
       "5566                      3.382755                     -0.139705   \n",
       "67826                    -0.295617                     -0.139705   \n",
       "54448                    -0.295617                     -0.139705   \n",
       "9631                     -0.295617                     -0.139705   \n",
       "\n",
       "       neighbourhood_Wandsworth  neighbourhood_Westminster  latitude  \\\n",
       "43413                 -0.229616                  -0.354527 -2.107208   \n",
       "5566                  -0.229616                  -0.354527  0.403292   \n",
       "67826                 -0.229616                  -0.354527  0.373342   \n",
       "54448                 -0.229616                   2.820660  0.273362   \n",
       "9631                  -0.229616                  -0.354527 -0.836935   \n",
       "\n",
       "       longitude     price  minimum_nights  number_of_reviews  \\\n",
       "43413   0.628965 -0.406523       -0.179274          -0.509250   \n",
       "5566    0.775953  0.007941       -0.283763          -0.155940   \n",
       "67826   0.094246 -0.314142       -0.388251          -0.509250   \n",
       "54448  -0.680457 -0.206781       -0.283763           0.357964   \n",
       "9631    1.827452 -0.354090       -0.388251           0.871869   \n",
       "\n",
       "       reviews_per_month  calculated_host_listings_count  availability_365  \n",
       "43413          -0.311179                       -0.296472         -0.813848  \n",
       "5566           -0.598800                       -0.269684         -0.813848  \n",
       "67826          -0.311179                        0.051766          1.040424  \n",
       "54448           3.389549                       -0.269684          1.055500  \n",
       "9631           -0.205718                       -0.296472          1.620827  "
      ]
     },
     "execution_count": 109,
     "metadata": {},
     "output_type": "execute_result"
    }
   ],
   "source": [
    "X_train.head()"
   ]
  },
  {
   "cell_type": "markdown",
   "metadata": {},
   "source": [
    "### 7.1 Применение классификатора ближайших соседей (kNN) (n_neighbors = 7)"
   ]
  },
  {
   "cell_type": "code",
   "execution_count": 110,
   "metadata": {},
   "outputs": [
    {
     "data": {
      "text/html": [
       "<style>#sk-container-id-3 {color: black;background-color: white;}#sk-container-id-3 pre{padding: 0;}#sk-container-id-3 div.sk-toggleable {background-color: white;}#sk-container-id-3 label.sk-toggleable__label {cursor: pointer;display: block;width: 100%;margin-bottom: 0;padding: 0.3em;box-sizing: border-box;text-align: center;}#sk-container-id-3 label.sk-toggleable__label-arrow:before {content: \"▸\";float: left;margin-right: 0.25em;color: #696969;}#sk-container-id-3 label.sk-toggleable__label-arrow:hover:before {color: black;}#sk-container-id-3 div.sk-estimator:hover label.sk-toggleable__label-arrow:before {color: black;}#sk-container-id-3 div.sk-toggleable__content {max-height: 0;max-width: 0;overflow: hidden;text-align: left;background-color: #f0f8ff;}#sk-container-id-3 div.sk-toggleable__content pre {margin: 0.2em;color: black;border-radius: 0.25em;background-color: #f0f8ff;}#sk-container-id-3 input.sk-toggleable__control:checked~div.sk-toggleable__content {max-height: 200px;max-width: 100%;overflow: auto;}#sk-container-id-3 input.sk-toggleable__control:checked~label.sk-toggleable__label-arrow:before {content: \"▾\";}#sk-container-id-3 div.sk-estimator input.sk-toggleable__control:checked~label.sk-toggleable__label {background-color: #d4ebff;}#sk-container-id-3 div.sk-label input.sk-toggleable__control:checked~label.sk-toggleable__label {background-color: #d4ebff;}#sk-container-id-3 input.sk-hidden--visually {border: 0;clip: rect(1px 1px 1px 1px);clip: rect(1px, 1px, 1px, 1px);height: 1px;margin: -1px;overflow: hidden;padding: 0;position: absolute;width: 1px;}#sk-container-id-3 div.sk-estimator {font-family: monospace;background-color: #f0f8ff;border: 1px dotted black;border-radius: 0.25em;box-sizing: border-box;margin-bottom: 0.5em;}#sk-container-id-3 div.sk-estimator:hover {background-color: #d4ebff;}#sk-container-id-3 div.sk-parallel-item::after {content: \"\";width: 100%;border-bottom: 1px solid gray;flex-grow: 1;}#sk-container-id-3 div.sk-label:hover label.sk-toggleable__label {background-color: #d4ebff;}#sk-container-id-3 div.sk-serial::before {content: \"\";position: absolute;border-left: 1px solid gray;box-sizing: border-box;top: 0;bottom: 0;left: 50%;z-index: 0;}#sk-container-id-3 div.sk-serial {display: flex;flex-direction: column;align-items: center;background-color: white;padding-right: 0.2em;padding-left: 0.2em;position: relative;}#sk-container-id-3 div.sk-item {position: relative;z-index: 1;}#sk-container-id-3 div.sk-parallel {display: flex;align-items: stretch;justify-content: center;background-color: white;position: relative;}#sk-container-id-3 div.sk-item::before, #sk-container-id-3 div.sk-parallel-item::before {content: \"\";position: absolute;border-left: 1px solid gray;box-sizing: border-box;top: 0;bottom: 0;left: 50%;z-index: -1;}#sk-container-id-3 div.sk-parallel-item {display: flex;flex-direction: column;z-index: 1;position: relative;background-color: white;}#sk-container-id-3 div.sk-parallel-item:first-child::after {align-self: flex-end;width: 50%;}#sk-container-id-3 div.sk-parallel-item:last-child::after {align-self: flex-start;width: 50%;}#sk-container-id-3 div.sk-parallel-item:only-child::after {width: 0;}#sk-container-id-3 div.sk-dashed-wrapped {border: 1px dashed gray;margin: 0 0.4em 0.5em 0.4em;box-sizing: border-box;padding-bottom: 0.4em;background-color: white;}#sk-container-id-3 div.sk-label label {font-family: monospace;font-weight: bold;display: inline-block;line-height: 1.2em;}#sk-container-id-3 div.sk-label-container {text-align: center;}#sk-container-id-3 div.sk-container {/* jupyter's `normalize.less` sets `[hidden] { display: none; }` but bootstrap.min.css set `[hidden] { display: none !important; }` so we also need the `!important` here to be able to override the default hidden behavior on the sphinx rendered scikit-learn.org. See: https://github.com/scikit-learn/scikit-learn/issues/21755 */display: inline-block !important;position: relative;}#sk-container-id-3 div.sk-text-repr-fallback {display: none;}</style><div id=\"sk-container-id-3\" class=\"sk-top-container\"><div class=\"sk-text-repr-fallback\"><pre>KNeighborsClassifier(n_neighbors=7)</pre><b>In a Jupyter environment, please rerun this cell to show the HTML representation or trust the notebook. <br />On GitHub, the HTML representation is unable to render, please try loading this page with nbviewer.org.</b></div><div class=\"sk-container\" hidden><div class=\"sk-item\"><div class=\"sk-estimator sk-toggleable\"><input class=\"sk-toggleable__control sk-hidden--visually\" id=\"sk-estimator-id-3\" type=\"checkbox\" checked><label for=\"sk-estimator-id-3\" class=\"sk-toggleable__label sk-toggleable__label-arrow\">KNeighborsClassifier</label><div class=\"sk-toggleable__content\"><pre>KNeighborsClassifier(n_neighbors=7)</pre></div></div></div></div></div>"
      ],
      "text/plain": [
       "KNeighborsClassifier(n_neighbors=7)"
      ]
     },
     "execution_count": 110,
     "metadata": {},
     "output_type": "execute_result"
    }
   ],
   "source": [
    "# Импорт модуля\n",
    "from sklearn.neighbors import KNeighborsClassifier\n",
    "# Создание и обучение модели на тренировочных данных (обучающей выборке) \n",
    "model = KNeighborsClassifier(n_neighbors = 7) # default n_neighbors = 5\n",
    "model.fit(X_train, y_train)\n",
    "model"
   ]
  },
  {
   "cell_type": "code",
   "execution_count": 111,
   "metadata": {},
   "outputs": [
    {
     "name": "stdout",
     "output_type": "stream",
     "text": [
      "0.3348626528509497\n"
     ]
    }
   ],
   "source": [
    "# Проверка работы модели на тренировочных и тестовых данных\n",
    "y_train_predict = model.predict(X_train)\n",
    "y_test_predict = model.predict(X_test)\n",
    "# Вычислим оценки вероятности для создания графика roc_curve для метода LogReg\n",
    "y_train_pred_prob = model.predict_proba(X_train)\n",
    "y_test_pred_prob = model.predict_proba(X_test)\n",
    "# Средняя сумма квадратов отклонений (MSE - Mean Squared Error), где RSS - Residual Sum of Squares - остаточная сумма квадратов\n",
    "RSS_train = ((y_train_predict - y_train)**2).sum()\n",
    "print(RSS_train/N_train)"
   ]
  },
  {
   "cell_type": "markdown",
   "metadata": {},
   "source": [
    "### 8.1 Вычисление ошибки на обучающей и тестовой выборках"
   ]
  },
  {
   "attachments": {},
   "cell_type": "markdown",
   "metadata": {},
   "source": [
    "Важно отметить, что для задачи классификации с несбалансированными классами (*на данный момент проблема несбалансированных классов не решена*) основными метриками качества алгоритмов машинного обучения будут являться F1_score (как среднее гармоническое между precision, recall) и график PC-кривой.  \n",
    "Метрики MSE (среднеквадратичная ошибка), RMSE (корень из серднеквадратичной ошибки) и R2 (коэффициент детерминации) - метрики анализа моделей для задачи регрессии"
   ]
  },
  {
   "cell_type": "code",
   "execution_count": 193,
   "metadata": {},
   "outputs": [],
   "source": [
    "# Загрузка необходимых метрик для анализа \n",
    "from sklearn.metrics import mean_squared_error, r2_score, accuracy_score, f1_score, precision_score, recall_score, max_error, plot_confusion_matrix, confusion_matrix"
   ]
  },
  {
   "cell_type": "code",
   "execution_count": 173,
   "metadata": {},
   "outputs": [
    {
     "ename": "ValueError",
     "evalue": "Classification metrics can't handle a mix of multilabel-indicator and binary targets",
     "output_type": "error",
     "traceback": [
      "\u001b[1;31m---------------------------------------------------------------------------\u001b[0m",
      "\u001b[1;31mValueError\u001b[0m                                Traceback (most recent call last)",
      "Cell \u001b[1;32mIn [173], line 4\u001b[0m\n\u001b[0;32m      2\u001b[0m \u001b[39mfrom\u001b[39;00m \u001b[39msklearn\u001b[39;00m\u001b[39m.\u001b[39;00m\u001b[39mmetrics\u001b[39;00m \u001b[39mimport\u001b[39;00m mean_squared_error, r2_score, accuracy_score, f1_score, precision_score, recall_score\n\u001b[0;32m      3\u001b[0m \u001b[39m# Вычисление различных метрик для тренировочных и тестовых данных\u001b[39;00m\n\u001b[1;32m----> 4\u001b[0m accuracy_train \u001b[39m=\u001b[39m accuracy_score(y_train, y_train_predict)\n\u001b[0;32m      5\u001b[0m accuracy_test \u001b[39m=\u001b[39m accuracy_score(y_test, y_test_predict)\n\u001b[0;32m      6\u001b[0m precision_train \u001b[39m=\u001b[39m precision_score(y_train, y_train_predict)\n",
      "File \u001b[1;32me:\\Временное хранилище\\Repository\\ml_nngu_7sem\\env\\lib\\site-packages\\sklearn\\metrics\\_classification.py:211\u001b[0m, in \u001b[0;36maccuracy_score\u001b[1;34m(y_true, y_pred, normalize, sample_weight)\u001b[0m\n\u001b[0;32m    145\u001b[0m \u001b[39m\"\"\"Accuracy classification score.\u001b[39;00m\n\u001b[0;32m    146\u001b[0m \n\u001b[0;32m    147\u001b[0m \u001b[39mIn multilabel classification, this function computes subset accuracy:\u001b[39;00m\n\u001b[1;32m   (...)\u001b[0m\n\u001b[0;32m    207\u001b[0m \u001b[39m0.5\u001b[39;00m\n\u001b[0;32m    208\u001b[0m \u001b[39m\"\"\"\u001b[39;00m\n\u001b[0;32m    210\u001b[0m \u001b[39m# Compute accuracy for each possible representation\u001b[39;00m\n\u001b[1;32m--> 211\u001b[0m y_type, y_true, y_pred \u001b[39m=\u001b[39m _check_targets(y_true, y_pred)\n\u001b[0;32m    212\u001b[0m check_consistent_length(y_true, y_pred, sample_weight)\n\u001b[0;32m    213\u001b[0m \u001b[39mif\u001b[39;00m y_type\u001b[39m.\u001b[39mstartswith(\u001b[39m\"\u001b[39m\u001b[39mmultilabel\u001b[39m\u001b[39m\"\u001b[39m):\n",
      "File \u001b[1;32me:\\Временное хранилище\\Repository\\ml_nngu_7sem\\env\\lib\\site-packages\\sklearn\\metrics\\_classification.py:93\u001b[0m, in \u001b[0;36m_check_targets\u001b[1;34m(y_true, y_pred)\u001b[0m\n\u001b[0;32m     90\u001b[0m     y_type \u001b[39m=\u001b[39m {\u001b[39m\"\u001b[39m\u001b[39mmulticlass\u001b[39m\u001b[39m\"\u001b[39m}\n\u001b[0;32m     92\u001b[0m \u001b[39mif\u001b[39;00m \u001b[39mlen\u001b[39m(y_type) \u001b[39m>\u001b[39m \u001b[39m1\u001b[39m:\n\u001b[1;32m---> 93\u001b[0m     \u001b[39mraise\u001b[39;00m \u001b[39mValueError\u001b[39;00m(\n\u001b[0;32m     94\u001b[0m         \u001b[39m\"\u001b[39m\u001b[39mClassification metrics can\u001b[39m\u001b[39m'\u001b[39m\u001b[39mt handle a mix of \u001b[39m\u001b[39m{0}\u001b[39;00m\u001b[39m and \u001b[39m\u001b[39m{1}\u001b[39;00m\u001b[39m targets\u001b[39m\u001b[39m\"\u001b[39m\u001b[39m.\u001b[39mformat(\n\u001b[0;32m     95\u001b[0m             type_true, type_pred\n\u001b[0;32m     96\u001b[0m         )\n\u001b[0;32m     97\u001b[0m     )\n\u001b[0;32m     99\u001b[0m \u001b[39m# We can't have more than one value on y_type => The set is no more needed\u001b[39;00m\n\u001b[0;32m    100\u001b[0m y_type \u001b[39m=\u001b[39m y_type\u001b[39m.\u001b[39mpop()\n",
      "\u001b[1;31mValueError\u001b[0m: Classification metrics can't handle a mix of multilabel-indicator and binary targets"
     ]
    }
   ],
   "source": [
    "# Вычисление различных метрик для тренировочных и тестовых данных\n",
    "accuracy_train = accuracy_score(y_train, y_train_predict)\n",
    "accuracy_test = accuracy_score(y_test, y_test_predict)\n",
    "precision_train = precision_score(y_train, y_train_predict)\n",
    "precision_test = precision_score(y_test, y_test_predict)\n",
    "recall_train = recall_score(y_train, y_train_predict)\n",
    "recall_test = recall_score(y_test, y_test_predict)\n",
    "f1_train = f1_score(y_train, y_train_predict, average = 'weighted')\n",
    "f1_test = f1_score(y_test, y_test_predict, average = 'weighted')\n",
    "print('accuracy:', accuracy_train, accuracy_test, '\\n', 'f1:', f1_train, f1_test)\n",
    "MSE_train = mean_squared_error(y_train, y_train_predict) \n",
    "MSE_test = mean_squared_error(y_test, y_test_predict)\n",
    "R2_train = r2_score(y_train, y_train_predict)\n",
    "R2_test = r2_score(y_test, y_test_predict)\n",
    "print('MSE:', MSE_train, MSE_test, '\\n', 'R2:', R2_train, R2_test)"
   ]
  },
  {
   "cell_type": "code",
   "execution_count": 113,
   "metadata": {},
   "outputs": [
    {
     "name": "stdout",
     "output_type": "stream",
     "text": [
      "RMSE: 0.2893365915551253 0.34041199879045225\n"
     ]
    }
   ],
   "source": [
    "RMSE_train = (MSE_train)**(.5)\n",
    "RMSE_test = (MSE_test)**(.5)\n",
    "print('RMSE:', RMSE_train, RMSE_test)"
   ]
  },
  {
   "cell_type": "markdown",
   "metadata": {},
   "source": [
    "Создадим таблицу для хранения результатов разных моделей машинного обучения"
   ]
  },
  {
   "cell_type": "code",
   "execution_count": 114,
   "metadata": {},
   "outputs": [],
   "source": [
    "accuracy_table = pd.DataFrame(columns=('train', 'test'))\n",
    "accuracy_table.loc['KNN, n=7', :] = (accuracy_train, accuracy_test)\n",
    "precision_table = pd.DataFrame(columns=('train', 'test'))\n",
    "precision_table.loc['KNN, n=7', :] = (accuracy_train, accuracy_test)\n",
    "recall_table = pd.DataFrame(columns=('train', 'test'))\n",
    "recall_table.loc['KNN, n=7', :] = (accuracy_train, accuracy_test)\n",
    "f1_table = pd.DataFrame(columns =('train', 'test'))\n",
    "f1_table.loc['KNN, n=7', :] = (f1_train, f1_test)\n",
    "RMSE_table = pd.DataFrame(columns=('train', 'test'))\n",
    "RMSE_table.loc['KNN, n=7', :] = (RMSE_train, RMSE_test)\n",
    "R2_table = pd.DataFrame(columns=('train', 'test'))\n",
    "R2_table.loc['KNN, n=7', :] = (R2_train, R2_test)"
   ]
  },
  {
   "cell_type": "code",
   "execution_count": 115,
   "metadata": {},
   "outputs": [
    {
     "data": {
      "text/html": [
       "<div>\n",
       "<style scoped>\n",
       "    .dataframe tbody tr th:only-of-type {\n",
       "        vertical-align: middle;\n",
       "    }\n",
       "\n",
       "    .dataframe tbody tr th {\n",
       "        vertical-align: top;\n",
       "    }\n",
       "\n",
       "    .dataframe thead th {\n",
       "        text-align: right;\n",
       "    }\n",
       "</style>\n",
       "<table border=\"1\" class=\"dataframe\">\n",
       "  <thead>\n",
       "    <tr style=\"text-align: right;\">\n",
       "      <th></th>\n",
       "      <th>train</th>\n",
       "      <th>test</th>\n",
       "    </tr>\n",
       "  </thead>\n",
       "  <tbody>\n",
       "    <tr>\n",
       "      <th>KNN, n=7</th>\n",
       "      <td>0.289337</td>\n",
       "      <td>0.340412</td>\n",
       "    </tr>\n",
       "  </tbody>\n",
       "</table>\n",
       "</div>"
      ],
      "text/plain": [
       "             train      test\n",
       "KNN, n=7  0.289337  0.340412"
      ]
     },
     "execution_count": 115,
     "metadata": {},
     "output_type": "execute_result"
    }
   ],
   "source": [
    "RMSE_table"
   ]
  },
  {
   "cell_type": "code",
   "execution_count": 116,
   "metadata": {},
   "outputs": [
    {
     "data": {
      "text/html": [
       "<div>\n",
       "<style scoped>\n",
       "    .dataframe tbody tr th:only-of-type {\n",
       "        vertical-align: middle;\n",
       "    }\n",
       "\n",
       "    .dataframe tbody tr th {\n",
       "        vertical-align: top;\n",
       "    }\n",
       "\n",
       "    .dataframe thead th {\n",
       "        text-align: right;\n",
       "    }\n",
       "</style>\n",
       "<table border=\"1\" class=\"dataframe\">\n",
       "  <thead>\n",
       "    <tr style=\"text-align: right;\">\n",
       "      <th></th>\n",
       "      <th>train</th>\n",
       "      <th>test</th>\n",
       "    </tr>\n",
       "  </thead>\n",
       "  <tbody>\n",
       "    <tr>\n",
       "      <th>KNN, n=7</th>\n",
       "      <td>0.229653</td>\n",
       "      <td>0.066108</td>\n",
       "    </tr>\n",
       "  </tbody>\n",
       "</table>\n",
       "</div>"
      ],
      "text/plain": [
       "             train      test\n",
       "KNN, n=7  0.229653  0.066108"
      ]
     },
     "execution_count": 116,
     "metadata": {},
     "output_type": "execute_result"
    }
   ],
   "source": [
    "R2_table"
   ]
  },
  {
   "cell_type": "code",
   "execution_count": 117,
   "metadata": {},
   "outputs": [
    {
     "data": {
      "text/html": [
       "<div>\n",
       "<style scoped>\n",
       "    .dataframe tbody tr th:only-of-type {\n",
       "        vertical-align: middle;\n",
       "    }\n",
       "\n",
       "    .dataframe tbody tr th {\n",
       "        vertical-align: top;\n",
       "    }\n",
       "\n",
       "    .dataframe thead th {\n",
       "        text-align: right;\n",
       "    }\n",
       "</style>\n",
       "<table border=\"1\" class=\"dataframe\">\n",
       "  <thead>\n",
       "    <tr style=\"text-align: right;\">\n",
       "      <th></th>\n",
       "      <th>train</th>\n",
       "      <th>test</th>\n",
       "    </tr>\n",
       "  </thead>\n",
       "  <tbody>\n",
       "    <tr>\n",
       "      <th>KNN, n=7</th>\n",
       "      <td>0.828787</td>\n",
       "      <td>0.763807</td>\n",
       "    </tr>\n",
       "  </tbody>\n",
       "</table>\n",
       "</div>"
      ],
      "text/plain": [
       "             train      test\n",
       "KNN, n=7  0.828787  0.763807"
      ]
     },
     "execution_count": 117,
     "metadata": {},
     "output_type": "execute_result"
    }
   ],
   "source": [
    "accuracy_table"
   ]
  },
  {
   "cell_type": "code",
   "execution_count": null,
   "metadata": {},
   "outputs": [],
   "source": [
    "precision_table"
   ]
  },
  {
   "cell_type": "code",
   "execution_count": null,
   "metadata": {},
   "outputs": [],
   "source": [
    "recall_table"
   ]
  },
  {
   "cell_type": "code",
   "execution_count": 118,
   "metadata": {},
   "outputs": [
    {
     "data": {
      "text/html": [
       "<div>\n",
       "<style scoped>\n",
       "    .dataframe tbody tr th:only-of-type {\n",
       "        vertical-align: middle;\n",
       "    }\n",
       "\n",
       "    .dataframe tbody tr th {\n",
       "        vertical-align: top;\n",
       "    }\n",
       "\n",
       "    .dataframe thead th {\n",
       "        text-align: right;\n",
       "    }\n",
       "</style>\n",
       "<table border=\"1\" class=\"dataframe\">\n",
       "  <thead>\n",
       "    <tr style=\"text-align: right;\">\n",
       "      <th></th>\n",
       "      <th>train</th>\n",
       "      <th>test</th>\n",
       "    </tr>\n",
       "  </thead>\n",
       "  <tbody>\n",
       "    <tr>\n",
       "      <th>KNN, n=7</th>\n",
       "      <td>0.829282</td>\n",
       "      <td>0.764681</td>\n",
       "    </tr>\n",
       "  </tbody>\n",
       "</table>\n",
       "</div>"
      ],
      "text/plain": [
       "             train      test\n",
       "KNN, n=7  0.829282  0.764681"
      ]
     },
     "execution_count": 118,
     "metadata": {},
     "output_type": "execute_result"
    }
   ],
   "source": [
    "f1_table"
   ]
  },
  {
   "attachments": {},
   "cell_type": "markdown",
   "metadata": {},
   "source": [
    "### 7.2 Применение классификатора на основе метода ближайших соседей (kNN) (n_neighbors = 7) и GridSearchCV"
   ]
  },
  {
   "cell_type": "code",
   "execution_count": 121,
   "metadata": {},
   "outputs": [
    {
     "data": {
      "text/html": [
       "<style>#sk-container-id-4 {color: black;background-color: white;}#sk-container-id-4 pre{padding: 0;}#sk-container-id-4 div.sk-toggleable {background-color: white;}#sk-container-id-4 label.sk-toggleable__label {cursor: pointer;display: block;width: 100%;margin-bottom: 0;padding: 0.3em;box-sizing: border-box;text-align: center;}#sk-container-id-4 label.sk-toggleable__label-arrow:before {content: \"▸\";float: left;margin-right: 0.25em;color: #696969;}#sk-container-id-4 label.sk-toggleable__label-arrow:hover:before {color: black;}#sk-container-id-4 div.sk-estimator:hover label.sk-toggleable__label-arrow:before {color: black;}#sk-container-id-4 div.sk-toggleable__content {max-height: 0;max-width: 0;overflow: hidden;text-align: left;background-color: #f0f8ff;}#sk-container-id-4 div.sk-toggleable__content pre {margin: 0.2em;color: black;border-radius: 0.25em;background-color: #f0f8ff;}#sk-container-id-4 input.sk-toggleable__control:checked~div.sk-toggleable__content {max-height: 200px;max-width: 100%;overflow: auto;}#sk-container-id-4 input.sk-toggleable__control:checked~label.sk-toggleable__label-arrow:before {content: \"▾\";}#sk-container-id-4 div.sk-estimator input.sk-toggleable__control:checked~label.sk-toggleable__label {background-color: #d4ebff;}#sk-container-id-4 div.sk-label input.sk-toggleable__control:checked~label.sk-toggleable__label {background-color: #d4ebff;}#sk-container-id-4 input.sk-hidden--visually {border: 0;clip: rect(1px 1px 1px 1px);clip: rect(1px, 1px, 1px, 1px);height: 1px;margin: -1px;overflow: hidden;padding: 0;position: absolute;width: 1px;}#sk-container-id-4 div.sk-estimator {font-family: monospace;background-color: #f0f8ff;border: 1px dotted black;border-radius: 0.25em;box-sizing: border-box;margin-bottom: 0.5em;}#sk-container-id-4 div.sk-estimator:hover {background-color: #d4ebff;}#sk-container-id-4 div.sk-parallel-item::after {content: \"\";width: 100%;border-bottom: 1px solid gray;flex-grow: 1;}#sk-container-id-4 div.sk-label:hover label.sk-toggleable__label {background-color: #d4ebff;}#sk-container-id-4 div.sk-serial::before {content: \"\";position: absolute;border-left: 1px solid gray;box-sizing: border-box;top: 0;bottom: 0;left: 50%;z-index: 0;}#sk-container-id-4 div.sk-serial {display: flex;flex-direction: column;align-items: center;background-color: white;padding-right: 0.2em;padding-left: 0.2em;position: relative;}#sk-container-id-4 div.sk-item {position: relative;z-index: 1;}#sk-container-id-4 div.sk-parallel {display: flex;align-items: stretch;justify-content: center;background-color: white;position: relative;}#sk-container-id-4 div.sk-item::before, #sk-container-id-4 div.sk-parallel-item::before {content: \"\";position: absolute;border-left: 1px solid gray;box-sizing: border-box;top: 0;bottom: 0;left: 50%;z-index: -1;}#sk-container-id-4 div.sk-parallel-item {display: flex;flex-direction: column;z-index: 1;position: relative;background-color: white;}#sk-container-id-4 div.sk-parallel-item:first-child::after {align-self: flex-end;width: 50%;}#sk-container-id-4 div.sk-parallel-item:last-child::after {align-self: flex-start;width: 50%;}#sk-container-id-4 div.sk-parallel-item:only-child::after {width: 0;}#sk-container-id-4 div.sk-dashed-wrapped {border: 1px dashed gray;margin: 0 0.4em 0.5em 0.4em;box-sizing: border-box;padding-bottom: 0.4em;background-color: white;}#sk-container-id-4 div.sk-label label {font-family: monospace;font-weight: bold;display: inline-block;line-height: 1.2em;}#sk-container-id-4 div.sk-label-container {text-align: center;}#sk-container-id-4 div.sk-container {/* jupyter's `normalize.less` sets `[hidden] { display: none; }` but bootstrap.min.css set `[hidden] { display: none !important; }` so we also need the `!important` here to be able to override the default hidden behavior on the sphinx rendered scikit-learn.org. See: https://github.com/scikit-learn/scikit-learn/issues/21755 */display: inline-block !important;position: relative;}#sk-container-id-4 div.sk-text-repr-fallback {display: none;}</style><div id=\"sk-container-id-4\" class=\"sk-top-container\"><div class=\"sk-text-repr-fallback\"><pre>GridSearchCV(estimator=KNeighborsClassifier(),\n",
       "             param_grid={&#x27;n_neighbors&#x27;: [3, 5, 7, 9, 15, 21]})</pre><b>In a Jupyter environment, please rerun this cell to show the HTML representation or trust the notebook. <br />On GitHub, the HTML representation is unable to render, please try loading this page with nbviewer.org.</b></div><div class=\"sk-container\" hidden><div class=\"sk-item sk-dashed-wrapped\"><div class=\"sk-label-container\"><div class=\"sk-label sk-toggleable\"><input class=\"sk-toggleable__control sk-hidden--visually\" id=\"sk-estimator-id-4\" type=\"checkbox\" ><label for=\"sk-estimator-id-4\" class=\"sk-toggleable__label sk-toggleable__label-arrow\">GridSearchCV</label><div class=\"sk-toggleable__content\"><pre>GridSearchCV(estimator=KNeighborsClassifier(),\n",
       "             param_grid={&#x27;n_neighbors&#x27;: [3, 5, 7, 9, 15, 21]})</pre></div></div></div><div class=\"sk-parallel\"><div class=\"sk-parallel-item\"><div class=\"sk-item\"><div class=\"sk-label-container\"><div class=\"sk-label sk-toggleable\"><input class=\"sk-toggleable__control sk-hidden--visually\" id=\"sk-estimator-id-5\" type=\"checkbox\" ><label for=\"sk-estimator-id-5\" class=\"sk-toggleable__label sk-toggleable__label-arrow\">estimator: KNeighborsClassifier</label><div class=\"sk-toggleable__content\"><pre>KNeighborsClassifier()</pre></div></div></div><div class=\"sk-serial\"><div class=\"sk-item\"><div class=\"sk-estimator sk-toggleable\"><input class=\"sk-toggleable__control sk-hidden--visually\" id=\"sk-estimator-id-6\" type=\"checkbox\" ><label for=\"sk-estimator-id-6\" class=\"sk-toggleable__label sk-toggleable__label-arrow\">KNeighborsClassifier</label><div class=\"sk-toggleable__content\"><pre>KNeighborsClassifier()</pre></div></div></div></div></div></div></div></div></div></div>"
      ],
      "text/plain": [
       "GridSearchCV(estimator=KNeighborsClassifier(),\n",
       "             param_grid={'n_neighbors': [3, 5, 7, 9, 15, 21]})"
      ]
     },
     "execution_count": 121,
     "metadata": {},
     "output_type": "execute_result"
    }
   ],
   "source": [
    "from sklearn.model_selection import GridSearchCV\n",
    "\n",
    "parameters = {'n_neighbors':[3, 5, 7, 9, 15, 21]}\n",
    "model = KNeighborsClassifier()\n",
    "clf = GridSearchCV(model, parameters)\n",
    "clf.fit(X_train, y_train)"
   ]
  },
  {
   "cell_type": "code",
   "execution_count": 122,
   "metadata": {},
   "outputs": [
    {
     "data": {
      "text/plain": [
       "({'n_neighbors': 7}, 0.7579074477730201)"
      ]
     },
     "execution_count": 122,
     "metadata": {},
     "output_type": "execute_result"
    }
   ],
   "source": [
    "clf.best_params_, clf.best_score_"
   ]
  },
  {
   "cell_type": "code",
   "execution_count": 123,
   "metadata": {},
   "outputs": [],
   "source": [
    "y_train_predict = clf.predict(X_train)\n",
    "y_test_predict = clf.predict(X_test)"
   ]
  },
  {
   "cell_type": "markdown",
   "metadata": {},
   "source": [
    "### 8.2 Вычисление ошибки на обучающей и тестовой выборках"
   ]
  },
  {
   "cell_type": "code",
   "execution_count": 124,
   "metadata": {},
   "outputs": [],
   "source": [
    "accuracy_train = accuracy_score(y_train, y_train_predict)\n",
    "accuracy_test = accuracy_score(y_test, y_test_predict)\n",
    "precision_train = precision_score(y_train, y_train_predict)\n",
    "precision_test = precision_score(y_test, y_test_predict)\n",
    "recall_train = recall_score(y_train, y_train_predict)\n",
    "recall_test = recall_score(y_test, y_test_predict)\n",
    "f1_train = f1_score(y_train, y_train_predict, average = 'weighted')\n",
    "f1_test = f1_score(y_test, y_test_predict, average = 'weighted')\n",
    "MSE_train = mean_squared_error(y_train, y_train_predict)\n",
    "MSE_test = mean_squared_error(y_test, y_test_predict)\n",
    "R2_train = r2_score(y_train, y_train_predict)\n",
    "R2_test = r2_score(y_test, y_test_predict)\n",
    "RMSE_train = (MSE_train)**(.5)\n",
    "RMSE_test = (MSE_test)**(.5)\n",
    "\n",
    "accuracy_table.loc['KNN, GridSearchCV', :] = (accuracy_train, accuracy_test)\n",
    "precision_table.loc['KNN, GridSearchCV', :] = (accuracy_train, accuracy_test)\n",
    "recall_table.loc['KNN, GridSearchCV', :] = (accuracy_train, accuracy_test)\n",
    "f1_table.loc['KNN, GridSearchCV', :] = (f1_train, f1_test)\n",
    "RMSE_table.loc['KNN, GridSearchCV', :] = (RMSE_train, RMSE_test)\n",
    "R2_table.loc['KNN, GridSearchCV', :] = (R2_train, R2_test)"
   ]
  },
  {
   "cell_type": "code",
   "execution_count": 125,
   "metadata": {},
   "outputs": [
    {
     "data": {
      "text/html": [
       "<div>\n",
       "<style scoped>\n",
       "    .dataframe tbody tr th:only-of-type {\n",
       "        vertical-align: middle;\n",
       "    }\n",
       "\n",
       "    .dataframe tbody tr th {\n",
       "        vertical-align: top;\n",
       "    }\n",
       "\n",
       "    .dataframe thead th {\n",
       "        text-align: right;\n",
       "    }\n",
       "</style>\n",
       "<table border=\"1\" class=\"dataframe\">\n",
       "  <thead>\n",
       "    <tr style=\"text-align: right;\">\n",
       "      <th></th>\n",
       "      <th>train</th>\n",
       "      <th>test</th>\n",
       "    </tr>\n",
       "  </thead>\n",
       "  <tbody>\n",
       "    <tr>\n",
       "      <th>KNN, n=7</th>\n",
       "      <td>0.289337</td>\n",
       "      <td>0.340412</td>\n",
       "    </tr>\n",
       "    <tr>\n",
       "      <th>KNN, GridSearchCV</th>\n",
       "      <td>0.289337</td>\n",
       "      <td>0.340412</td>\n",
       "    </tr>\n",
       "  </tbody>\n",
       "</table>\n",
       "</div>"
      ],
      "text/plain": [
       "                      train      test\n",
       "KNN, n=7           0.289337  0.340412\n",
       "KNN, GridSearchCV  0.289337  0.340412"
      ]
     },
     "execution_count": 125,
     "metadata": {},
     "output_type": "execute_result"
    }
   ],
   "source": [
    "RMSE_table"
   ]
  },
  {
   "cell_type": "code",
   "execution_count": 126,
   "metadata": {},
   "outputs": [
    {
     "data": {
      "text/html": [
       "<div>\n",
       "<style scoped>\n",
       "    .dataframe tbody tr th:only-of-type {\n",
       "        vertical-align: middle;\n",
       "    }\n",
       "\n",
       "    .dataframe tbody tr th {\n",
       "        vertical-align: top;\n",
       "    }\n",
       "\n",
       "    .dataframe thead th {\n",
       "        text-align: right;\n",
       "    }\n",
       "</style>\n",
       "<table border=\"1\" class=\"dataframe\">\n",
       "  <thead>\n",
       "    <tr style=\"text-align: right;\">\n",
       "      <th></th>\n",
       "      <th>train</th>\n",
       "      <th>test</th>\n",
       "    </tr>\n",
       "  </thead>\n",
       "  <tbody>\n",
       "    <tr>\n",
       "      <th>KNN, n=7</th>\n",
       "      <td>0.229653</td>\n",
       "      <td>0.066108</td>\n",
       "    </tr>\n",
       "    <tr>\n",
       "      <th>KNN, GridSearchCV</th>\n",
       "      <td>0.229653</td>\n",
       "      <td>0.066108</td>\n",
       "    </tr>\n",
       "  </tbody>\n",
       "</table>\n",
       "</div>"
      ],
      "text/plain": [
       "                      train      test\n",
       "KNN, n=7           0.229653  0.066108\n",
       "KNN, GridSearchCV  0.229653  0.066108"
      ]
     },
     "execution_count": 126,
     "metadata": {},
     "output_type": "execute_result"
    }
   ],
   "source": [
    "R2_table"
   ]
  },
  {
   "attachments": {},
   "cell_type": "markdown",
   "metadata": {},
   "source": [
    "### 9.1 Random Forest (Случайный лес)"
   ]
  },
  {
   "cell_type": "code",
   "execution_count": 127,
   "metadata": {},
   "outputs": [
    {
     "data": {
      "text/html": [
       "<style>#sk-container-id-5 {color: black;background-color: white;}#sk-container-id-5 pre{padding: 0;}#sk-container-id-5 div.sk-toggleable {background-color: white;}#sk-container-id-5 label.sk-toggleable__label {cursor: pointer;display: block;width: 100%;margin-bottom: 0;padding: 0.3em;box-sizing: border-box;text-align: center;}#sk-container-id-5 label.sk-toggleable__label-arrow:before {content: \"▸\";float: left;margin-right: 0.25em;color: #696969;}#sk-container-id-5 label.sk-toggleable__label-arrow:hover:before {color: black;}#sk-container-id-5 div.sk-estimator:hover label.sk-toggleable__label-arrow:before {color: black;}#sk-container-id-5 div.sk-toggleable__content {max-height: 0;max-width: 0;overflow: hidden;text-align: left;background-color: #f0f8ff;}#sk-container-id-5 div.sk-toggleable__content pre {margin: 0.2em;color: black;border-radius: 0.25em;background-color: #f0f8ff;}#sk-container-id-5 input.sk-toggleable__control:checked~div.sk-toggleable__content {max-height: 200px;max-width: 100%;overflow: auto;}#sk-container-id-5 input.sk-toggleable__control:checked~label.sk-toggleable__label-arrow:before {content: \"▾\";}#sk-container-id-5 div.sk-estimator input.sk-toggleable__control:checked~label.sk-toggleable__label {background-color: #d4ebff;}#sk-container-id-5 div.sk-label input.sk-toggleable__control:checked~label.sk-toggleable__label {background-color: #d4ebff;}#sk-container-id-5 input.sk-hidden--visually {border: 0;clip: rect(1px 1px 1px 1px);clip: rect(1px, 1px, 1px, 1px);height: 1px;margin: -1px;overflow: hidden;padding: 0;position: absolute;width: 1px;}#sk-container-id-5 div.sk-estimator {font-family: monospace;background-color: #f0f8ff;border: 1px dotted black;border-radius: 0.25em;box-sizing: border-box;margin-bottom: 0.5em;}#sk-container-id-5 div.sk-estimator:hover {background-color: #d4ebff;}#sk-container-id-5 div.sk-parallel-item::after {content: \"\";width: 100%;border-bottom: 1px solid gray;flex-grow: 1;}#sk-container-id-5 div.sk-label:hover label.sk-toggleable__label {background-color: #d4ebff;}#sk-container-id-5 div.sk-serial::before {content: \"\";position: absolute;border-left: 1px solid gray;box-sizing: border-box;top: 0;bottom: 0;left: 50%;z-index: 0;}#sk-container-id-5 div.sk-serial {display: flex;flex-direction: column;align-items: center;background-color: white;padding-right: 0.2em;padding-left: 0.2em;position: relative;}#sk-container-id-5 div.sk-item {position: relative;z-index: 1;}#sk-container-id-5 div.sk-parallel {display: flex;align-items: stretch;justify-content: center;background-color: white;position: relative;}#sk-container-id-5 div.sk-item::before, #sk-container-id-5 div.sk-parallel-item::before {content: \"\";position: absolute;border-left: 1px solid gray;box-sizing: border-box;top: 0;bottom: 0;left: 50%;z-index: -1;}#sk-container-id-5 div.sk-parallel-item {display: flex;flex-direction: column;z-index: 1;position: relative;background-color: white;}#sk-container-id-5 div.sk-parallel-item:first-child::after {align-self: flex-end;width: 50%;}#sk-container-id-5 div.sk-parallel-item:last-child::after {align-self: flex-start;width: 50%;}#sk-container-id-5 div.sk-parallel-item:only-child::after {width: 0;}#sk-container-id-5 div.sk-dashed-wrapped {border: 1px dashed gray;margin: 0 0.4em 0.5em 0.4em;box-sizing: border-box;padding-bottom: 0.4em;background-color: white;}#sk-container-id-5 div.sk-label label {font-family: monospace;font-weight: bold;display: inline-block;line-height: 1.2em;}#sk-container-id-5 div.sk-label-container {text-align: center;}#sk-container-id-5 div.sk-container {/* jupyter's `normalize.less` sets `[hidden] { display: none; }` but bootstrap.min.css set `[hidden] { display: none !important; }` so we also need the `!important` here to be able to override the default hidden behavior on the sphinx rendered scikit-learn.org. See: https://github.com/scikit-learn/scikit-learn/issues/21755 */display: inline-block !important;position: relative;}#sk-container-id-5 div.sk-text-repr-fallback {display: none;}</style><div id=\"sk-container-id-5\" class=\"sk-top-container\"><div class=\"sk-text-repr-fallback\"><pre>RandomForestClassifier(max_depth=2, random_state=0)</pre><b>In a Jupyter environment, please rerun this cell to show the HTML representation or trust the notebook. <br />On GitHub, the HTML representation is unable to render, please try loading this page with nbviewer.org.</b></div><div class=\"sk-container\" hidden><div class=\"sk-item\"><div class=\"sk-estimator sk-toggleable\"><input class=\"sk-toggleable__control sk-hidden--visually\" id=\"sk-estimator-id-7\" type=\"checkbox\" checked><label for=\"sk-estimator-id-7\" class=\"sk-toggleable__label sk-toggleable__label-arrow\">RandomForestClassifier</label><div class=\"sk-toggleable__content\"><pre>RandomForestClassifier(max_depth=2, random_state=0)</pre></div></div></div></div></div>"
      ],
      "text/plain": [
       "RandomForestClassifier(max_depth=2, random_state=0)"
      ]
     },
     "execution_count": 127,
     "metadata": {},
     "output_type": "execute_result"
    }
   ],
   "source": [
    "from sklearn.ensemble import RandomForestClassifier\n",
    "\n",
    "model = RandomForestClassifier(max_depth=2, random_state=0)\n",
    "model.fit(X_train, y_train)\n",
    "model"
   ]
  },
  {
   "cell_type": "code",
   "execution_count": 128,
   "metadata": {},
   "outputs": [],
   "source": [
    "y_train_predict = model.predict(X_train)\n",
    "y_test_predict = model.predict(X_test)"
   ]
  },
  {
   "cell_type": "markdown",
   "metadata": {},
   "source": [
    "### 9.1.1 Вычисление ошибки на обучающей и тестовой выборках"
   ]
  },
  {
   "cell_type": "code",
   "execution_count": 129,
   "metadata": {},
   "outputs": [],
   "source": [
    "accuracy_train = accuracy_score(y_train, y_train_predict)\n",
    "accuracy_test = accuracy_score(y_test, y_test_predict)\n",
    "precision_train = precision_score(y_train, y_train_predict)\n",
    "precision_test = precision_score(y_test, y_test_predict)\n",
    "recall_train = recall_score(y_train, y_train_predict)\n",
    "recall_test = recall_score(y_test, y_test_predict)\n",
    "f1_train = f1_score(y_train, y_train_predict, average = 'weighted')\n",
    "f1_test = f1_score(y_test, y_test_predict, average = 'weighted')\n",
    "MSE_train = mean_squared_error(y_train, y_train_predict)\n",
    "MSE_test = mean_squared_error(y_test, y_test_predict)\n",
    "R2_train = r2_score(y_train, y_train_predict)\n",
    "R2_test = r2_score(y_test, y_test_predict)\n",
    "RMSE_train = (MSE_train)**(.5)\n",
    "RMSE_test = (MSE_test)**(.5)\n",
    "\n",
    "accuracy_table.loc['RandomForestClassifier, max_depth=2, random_state=0', :] = (accuracy_train, accuracy_test)\n",
    "precision_table.loc['RandomForestClassifier, max_depth=2, random_state=0', :] = (accuracy_train, accuracy_test)\n",
    "recall_table.loc['RandomForestClassifier, max_depth=2, random_state=0', :] = (accuracy_train, accuracy_test)\n",
    "f1_table.loc['RandomForestClassifier, max_depth=2, random_state=0', :] = (f1_train, f1_test)\n",
    "RMSE_table.loc['RandomForestClassifier, max_depth=2, random_state=0', :] = (RMSE_train, RMSE_test)\n",
    "R2_table.loc['RandomForestClassifier, max_depth=2, random_state=0', :] = (R2_train, R2_test)"
   ]
  },
  {
   "cell_type": "code",
   "execution_count": 130,
   "metadata": {},
   "outputs": [
    {
     "data": {
      "text/html": [
       "<div>\n",
       "<style scoped>\n",
       "    .dataframe tbody tr th:only-of-type {\n",
       "        vertical-align: middle;\n",
       "    }\n",
       "\n",
       "    .dataframe tbody tr th {\n",
       "        vertical-align: top;\n",
       "    }\n",
       "\n",
       "    .dataframe thead th {\n",
       "        text-align: right;\n",
       "    }\n",
       "</style>\n",
       "<table border=\"1\" class=\"dataframe\">\n",
       "  <thead>\n",
       "    <tr style=\"text-align: right;\">\n",
       "      <th></th>\n",
       "      <th>train</th>\n",
       "      <th>test</th>\n",
       "    </tr>\n",
       "  </thead>\n",
       "  <tbody>\n",
       "    <tr>\n",
       "      <th>KNN, n=7</th>\n",
       "      <td>0.289337</td>\n",
       "      <td>0.340412</td>\n",
       "    </tr>\n",
       "    <tr>\n",
       "      <th>KNN, GridSearchCV</th>\n",
       "      <td>0.289337</td>\n",
       "      <td>0.340412</td>\n",
       "    </tr>\n",
       "    <tr>\n",
       "      <th>Random Forests, max_depth=2, random_state=0</th>\n",
       "      <td>0.359804</td>\n",
       "      <td>0.363105</td>\n",
       "    </tr>\n",
       "  </tbody>\n",
       "</table>\n",
       "</div>"
      ],
      "text/plain": [
       "                                                train      test\n",
       "KNN, n=7                                     0.289337  0.340412\n",
       "KNN, GridSearchCV                            0.289337  0.340412\n",
       "Random Forests, max_depth=2, random_state=0  0.359804  0.363105"
      ]
     },
     "execution_count": 130,
     "metadata": {},
     "output_type": "execute_result"
    }
   ],
   "source": [
    "RMSE_table"
   ]
  },
  {
   "cell_type": "code",
   "execution_count": 131,
   "metadata": {},
   "outputs": [
    {
     "data": {
      "text/html": [
       "<div>\n",
       "<style scoped>\n",
       "    .dataframe tbody tr th:only-of-type {\n",
       "        vertical-align: middle;\n",
       "    }\n",
       "\n",
       "    .dataframe tbody tr th {\n",
       "        vertical-align: top;\n",
       "    }\n",
       "\n",
       "    .dataframe thead th {\n",
       "        text-align: right;\n",
       "    }\n",
       "</style>\n",
       "<table border=\"1\" class=\"dataframe\">\n",
       "  <thead>\n",
       "    <tr style=\"text-align: right;\">\n",
       "      <th></th>\n",
       "      <th>train</th>\n",
       "      <th>test</th>\n",
       "    </tr>\n",
       "  </thead>\n",
       "  <tbody>\n",
       "    <tr>\n",
       "      <th>KNN, n=7</th>\n",
       "      <td>0.229653</td>\n",
       "      <td>0.066108</td>\n",
       "    </tr>\n",
       "    <tr>\n",
       "      <th>KNN, GridSearchCV</th>\n",
       "      <td>0.229653</td>\n",
       "      <td>0.066108</td>\n",
       "    </tr>\n",
       "    <tr>\n",
       "      <th>Random Forests, max_depth=2, random_state=0</th>\n",
       "      <td>-0.03317</td>\n",
       "      <td>-0.042235</td>\n",
       "    </tr>\n",
       "  </tbody>\n",
       "</table>\n",
       "</div>"
      ],
      "text/plain": [
       "                                                train      test\n",
       "KNN, n=7                                     0.229653  0.066108\n",
       "KNN, GridSearchCV                            0.229653  0.066108\n",
       "Random Forests, max_depth=2, random_state=0  -0.03317 -0.042235"
      ]
     },
     "execution_count": 131,
     "metadata": {},
     "output_type": "execute_result"
    }
   ],
   "source": [
    "R2_table"
   ]
  },
  {
   "attachments": {},
   "cell_type": "markdown",
   "metadata": {},
   "source": [
    "### 9.2 Random Forest (Случайный лес) и GridSearchCV (Поиск по сетке)"
   ]
  },
  {
   "cell_type": "code",
   "execution_count": 132,
   "metadata": {},
   "outputs": [],
   "source": [
    "model = RandomForestClassifier()\n",
    "\n",
    "parameters = { \n",
    "    'n_estimators': [200, 500],\n",
    "    'max_depth' : [4,5,6,7,8],\n",
    "}\n",
    "\n",
    "clf = GridSearchCV(estimator=model, param_grid=parameters, cv= 5) # cv=None or 5 - is default"
   ]
  },
  {
   "cell_type": "code",
   "execution_count": 133,
   "metadata": {},
   "outputs": [
    {
     "data": {
      "text/html": [
       "<style>#sk-container-id-6 {color: black;background-color: white;}#sk-container-id-6 pre{padding: 0;}#sk-container-id-6 div.sk-toggleable {background-color: white;}#sk-container-id-6 label.sk-toggleable__label {cursor: pointer;display: block;width: 100%;margin-bottom: 0;padding: 0.3em;box-sizing: border-box;text-align: center;}#sk-container-id-6 label.sk-toggleable__label-arrow:before {content: \"▸\";float: left;margin-right: 0.25em;color: #696969;}#sk-container-id-6 label.sk-toggleable__label-arrow:hover:before {color: black;}#sk-container-id-6 div.sk-estimator:hover label.sk-toggleable__label-arrow:before {color: black;}#sk-container-id-6 div.sk-toggleable__content {max-height: 0;max-width: 0;overflow: hidden;text-align: left;background-color: #f0f8ff;}#sk-container-id-6 div.sk-toggleable__content pre {margin: 0.2em;color: black;border-radius: 0.25em;background-color: #f0f8ff;}#sk-container-id-6 input.sk-toggleable__control:checked~div.sk-toggleable__content {max-height: 200px;max-width: 100%;overflow: auto;}#sk-container-id-6 input.sk-toggleable__control:checked~label.sk-toggleable__label-arrow:before {content: \"▾\";}#sk-container-id-6 div.sk-estimator input.sk-toggleable__control:checked~label.sk-toggleable__label {background-color: #d4ebff;}#sk-container-id-6 div.sk-label input.sk-toggleable__control:checked~label.sk-toggleable__label {background-color: #d4ebff;}#sk-container-id-6 input.sk-hidden--visually {border: 0;clip: rect(1px 1px 1px 1px);clip: rect(1px, 1px, 1px, 1px);height: 1px;margin: -1px;overflow: hidden;padding: 0;position: absolute;width: 1px;}#sk-container-id-6 div.sk-estimator {font-family: monospace;background-color: #f0f8ff;border: 1px dotted black;border-radius: 0.25em;box-sizing: border-box;margin-bottom: 0.5em;}#sk-container-id-6 div.sk-estimator:hover {background-color: #d4ebff;}#sk-container-id-6 div.sk-parallel-item::after {content: \"\";width: 100%;border-bottom: 1px solid gray;flex-grow: 1;}#sk-container-id-6 div.sk-label:hover label.sk-toggleable__label {background-color: #d4ebff;}#sk-container-id-6 div.sk-serial::before {content: \"\";position: absolute;border-left: 1px solid gray;box-sizing: border-box;top: 0;bottom: 0;left: 50%;z-index: 0;}#sk-container-id-6 div.sk-serial {display: flex;flex-direction: column;align-items: center;background-color: white;padding-right: 0.2em;padding-left: 0.2em;position: relative;}#sk-container-id-6 div.sk-item {position: relative;z-index: 1;}#sk-container-id-6 div.sk-parallel {display: flex;align-items: stretch;justify-content: center;background-color: white;position: relative;}#sk-container-id-6 div.sk-item::before, #sk-container-id-6 div.sk-parallel-item::before {content: \"\";position: absolute;border-left: 1px solid gray;box-sizing: border-box;top: 0;bottom: 0;left: 50%;z-index: -1;}#sk-container-id-6 div.sk-parallel-item {display: flex;flex-direction: column;z-index: 1;position: relative;background-color: white;}#sk-container-id-6 div.sk-parallel-item:first-child::after {align-self: flex-end;width: 50%;}#sk-container-id-6 div.sk-parallel-item:last-child::after {align-self: flex-start;width: 50%;}#sk-container-id-6 div.sk-parallel-item:only-child::after {width: 0;}#sk-container-id-6 div.sk-dashed-wrapped {border: 1px dashed gray;margin: 0 0.4em 0.5em 0.4em;box-sizing: border-box;padding-bottom: 0.4em;background-color: white;}#sk-container-id-6 div.sk-label label {font-family: monospace;font-weight: bold;display: inline-block;line-height: 1.2em;}#sk-container-id-6 div.sk-label-container {text-align: center;}#sk-container-id-6 div.sk-container {/* jupyter's `normalize.less` sets `[hidden] { display: none; }` but bootstrap.min.css set `[hidden] { display: none !important; }` so we also need the `!important` here to be able to override the default hidden behavior on the sphinx rendered scikit-learn.org. See: https://github.com/scikit-learn/scikit-learn/issues/21755 */display: inline-block !important;position: relative;}#sk-container-id-6 div.sk-text-repr-fallback {display: none;}</style><div id=\"sk-container-id-6\" class=\"sk-top-container\"><div class=\"sk-text-repr-fallback\"><pre>GridSearchCV(cv=5, estimator=RandomForestClassifier(),\n",
       "             param_grid={&#x27;max_depth&#x27;: [4, 5, 6, 7, 8],\n",
       "                         &#x27;n_estimators&#x27;: [200, 500]})</pre><b>In a Jupyter environment, please rerun this cell to show the HTML representation or trust the notebook. <br />On GitHub, the HTML representation is unable to render, please try loading this page with nbviewer.org.</b></div><div class=\"sk-container\" hidden><div class=\"sk-item sk-dashed-wrapped\"><div class=\"sk-label-container\"><div class=\"sk-label sk-toggleable\"><input class=\"sk-toggleable__control sk-hidden--visually\" id=\"sk-estimator-id-8\" type=\"checkbox\" ><label for=\"sk-estimator-id-8\" class=\"sk-toggleable__label sk-toggleable__label-arrow\">GridSearchCV</label><div class=\"sk-toggleable__content\"><pre>GridSearchCV(cv=5, estimator=RandomForestClassifier(),\n",
       "             param_grid={&#x27;max_depth&#x27;: [4, 5, 6, 7, 8],\n",
       "                         &#x27;n_estimators&#x27;: [200, 500]})</pre></div></div></div><div class=\"sk-parallel\"><div class=\"sk-parallel-item\"><div class=\"sk-item\"><div class=\"sk-label-container\"><div class=\"sk-label sk-toggleable\"><input class=\"sk-toggleable__control sk-hidden--visually\" id=\"sk-estimator-id-9\" type=\"checkbox\" ><label for=\"sk-estimator-id-9\" class=\"sk-toggleable__label sk-toggleable__label-arrow\">estimator: RandomForestClassifier</label><div class=\"sk-toggleable__content\"><pre>RandomForestClassifier()</pre></div></div></div><div class=\"sk-serial\"><div class=\"sk-item\"><div class=\"sk-estimator sk-toggleable\"><input class=\"sk-toggleable__control sk-hidden--visually\" id=\"sk-estimator-id-10\" type=\"checkbox\" ><label for=\"sk-estimator-id-10\" class=\"sk-toggleable__label sk-toggleable__label-arrow\">RandomForestClassifier</label><div class=\"sk-toggleable__content\"><pre>RandomForestClassifier()</pre></div></div></div></div></div></div></div></div></div></div>"
      ],
      "text/plain": [
       "GridSearchCV(cv=5, estimator=RandomForestClassifier(),\n",
       "             param_grid={'max_depth': [4, 5, 6, 7, 8],\n",
       "                         'n_estimators': [200, 500]})"
      ]
     },
     "execution_count": 133,
     "metadata": {},
     "output_type": "execute_result"
    }
   ],
   "source": [
    "clf.fit(X_train, y_train)"
   ]
  },
  {
   "cell_type": "code",
   "execution_count": 134,
   "metadata": {},
   "outputs": [
    {
     "data": {
      "text/plain": [
       "({'max_depth': 8, 'n_estimators': 200}, 0.8469644624623236)"
      ]
     },
     "execution_count": 134,
     "metadata": {},
     "output_type": "execute_result"
    }
   ],
   "source": [
    "clf.best_params_, clf.best_score_"
   ]
  },
  {
   "cell_type": "code",
   "execution_count": 135,
   "metadata": {},
   "outputs": [],
   "source": [
    "y_train_predict = clf.predict(X_train)\n",
    "y_test_predict = clf.predict(X_test)"
   ]
  },
  {
   "cell_type": "markdown",
   "metadata": {},
   "source": [
    "### 9.2.1 Вычисление ошибки на обучающей и тестовой выборках"
   ]
  },
  {
   "cell_type": "code",
   "execution_count": 136,
   "metadata": {},
   "outputs": [],
   "source": [
    "accuracy_train = accuracy_score(y_train, y_train_predict)\n",
    "accuracy_test = accuracy_score(y_test, y_test_predict)\n",
    "precision_train = precision_score(y_train, y_train_predict)\n",
    "precision_test = precision_score(y_test, y_test_predict)\n",
    "recall_train = recall_score(y_train, y_train_predict)\n",
    "recall_test = recall_score(y_test, y_test_predict)\n",
    "f1_train = f1_score(y_train, y_train_predict, average = 'weighted')\n",
    "f1_test = f1_score(y_test, y_test_predict, average = 'weighted')\n",
    "MSE_train = mean_squared_error(y_train, y_train_predict)\n",
    "MSE_test = mean_squared_error(y_test, y_test_predict)\n",
    "R2_train = r2_score(y_train, y_train_predict)\n",
    "R2_test = r2_score(y_test, y_test_predict)\n",
    "RMSE_train = (MSE_train)**(.5)\n",
    "RMSE_test = (MSE_test)**(.5)\n",
    "\n",
    "accuracy_table.loc['RandomForestClassifier, GridSearchCV', :] = (accuracy_train, accuracy_test)\n",
    "precision_table.loc['RandomForestClassifier, GridSearchCV', :] = (accuracy_train, accuracy_test)\n",
    "recall_table.loc['RandomForestClassifier, GridSearchCV', :] = (accuracy_train, accuracy_test)\n",
    "f1_table.loc['RandomForestClassifier, GridSearchCV', :] = (f1_train, f1_test)\n",
    "RMSE_table.loc['RandomForestClassifier, GridSearchCV', :] = (RMSE_train, RMSE_test)\n",
    "R2_table.loc['RandomForestClassifier, GridSearchCV', :] = (R2_train, R2_test)"
   ]
  },
  {
   "attachments": {},
   "cell_type": "markdown",
   "metadata": {},
   "source": [
    "### 9.3 Decision Tree Classifier (Деревья решений)"
   ]
  },
  {
   "cell_type": "code",
   "execution_count": 137,
   "metadata": {},
   "outputs": [],
   "source": [
    "from sklearn.tree import DecisionTreeClassifier\n",
    "\n",
    "model = DecisionTreeClassifier(random_state=0)\n",
    "model.fit(X_train, y_train)\n",
    "y_train_predict = model.predict(X_train)\n",
    "y_test_predict = model.predict(X_test)"
   ]
  },
  {
   "cell_type": "markdown",
   "metadata": {},
   "source": [
    "### 9.3.1 Вычисление ошибки на обучающей и тестовой выборках"
   ]
  },
  {
   "cell_type": "code",
   "execution_count": 138,
   "metadata": {},
   "outputs": [],
   "source": [
    "accuracy_train = accuracy_score(y_train, y_train_predict)\n",
    "accuracy_test = accuracy_score(y_test, y_test_predict)\n",
    "precision_train = precision_score(y_train, y_train_predict)\n",
    "precision_test = precision_score(y_test, y_test_predict)\n",
    "recall_train = recall_score(y_train, y_train_predict)\n",
    "recall_test = recall_score(y_test, y_test_predict)\n",
    "f1_train = f1_score(y_train, y_train_predict, average = 'weighted')\n",
    "f1_test = f1_score(y_test, y_test_predict, average = 'weighted')\n",
    "MSE_train = mean_squared_error(y_train, y_train_predict)\n",
    "MSE_test = mean_squared_error(y_test, y_test_predict)\n",
    "R2_train = r2_score(y_train, y_train_predict)\n",
    "R2_test = r2_score(y_test, y_test_predict)\n",
    "RMSE_train = (MSE_train)**(.5)\n",
    "RMSE_test = (MSE_test)**(.5)\n",
    "\n",
    "accuracy_table.loc['DecisionTreeClassifier', :] = (accuracy_train, accuracy_test)\n",
    "precision_table.loc['DecisionTreeClassifier', :] = (accuracy_train, accuracy_test)\n",
    "recall_table.loc['DecisionTreeClassifier', :] = (accuracy_train, accuracy_test)\n",
    "f1_table.loc['DecisionTreeClassifier', :] = (f1_train, f1_test)\n",
    "RMSE_table.loc['DecisionTreeClassifier', :] = (RMSE_train, RMSE_test)\n",
    "R2_table.loc['DecisionTreeClassifier', :] = (R2_train, R2_test)"
   ]
  },
  {
   "attachments": {},
   "cell_type": "markdown",
   "metadata": {},
   "source": [
    "### 9.4 Gradient Boosting Classifier (Градиентный бустинг)"
   ]
  },
  {
   "cell_type": "code",
   "execution_count": 139,
   "metadata": {},
   "outputs": [],
   "source": [
    "# from sklearn.ensemble import GradientBoostingClassifier\n",
    "\n",
    "# model = GradientBoostingClassifier(n_estimators=100, learning_rate=1.0, max_depth=1, random_state=0)\n",
    "# model.fit(X_train, y_train)\n",
    "# y_train_predict = model.predict(X_train)\n",
    "# y_test_predict = model.predict(X_test)"
   ]
  },
  {
   "cell_type": "markdown",
   "metadata": {},
   "source": [
    "### 9.4.1 Вычисление ошибки на обучающей и тестовой выборках"
   ]
  },
  {
   "cell_type": "code",
   "execution_count": 140,
   "metadata": {},
   "outputs": [],
   "source": [
    "# accuracy_train = accuracy_score(y_train, y_train_predict)\n",
    "# accuracy_test = accuracy_score(y_test, y_test_predict)\n",
    "# precision_train = precision_score(y_train, y_train_predict)\n",
    "# precision_test = precision_score(y_test, y_test_predict)\n",
    "# recall_train = recall_score(y_train, y_train_predict)\n",
    "# recall_test = recall_score(y_test, y_test_predict)\n",
    "# f1_train = f1_score(y_train, y_train_predict, average = 'weighted')\n",
    "# f1_test = f1_score(y_test, y_test_predict, average = 'weighted')ct)\n",
    "# MSE_train = mean_squared_error(y_train, y_train_predict)\n",
    "# MSE_test = mean_squared_error(y_test, y_test_predict)\n",
    "# R2_train = r2_score(y_train, y_train_predict)\n",
    "# R2_test = r2_score(y_test, y_test_predict)\n",
    "# RMSE_train = (MSE_train)**(.5)\n",
    "# RMSE_test = (MSE_test)**(.5)\n",
    "\n",
    "# accuracy_table.loc['GradientBoostingClassifier', :] = (accuracy_train, accuracy_test)\n",
    "# precision_table.loc['GradientBoostingClassifier', :] = (accuracy_train, accuracy_test)\n",
    "# recall_table.loc['GradientBoostingClassifier', :] = (accuracy_train, accuracy_test)\n",
    "# f1_table.loc['GradientBoostingClassifier', :] = (f1_train, f1_test)\n",
    "# RMSE_table.loc['GradientBoostingClassifier', :] = (RMSE_train, RMSE_test)\n",
    "# R2_table.loc['GradientBoostingClassifier', :] = (R2_train, R2_test)"
   ]
  },
  {
   "cell_type": "code",
   "execution_count": 141,
   "metadata": {},
   "outputs": [
    {
     "data": {
      "text/html": [
       "<div>\n",
       "<style scoped>\n",
       "    .dataframe tbody tr th:only-of-type {\n",
       "        vertical-align: middle;\n",
       "    }\n",
       "\n",
       "    .dataframe tbody tr th {\n",
       "        vertical-align: top;\n",
       "    }\n",
       "\n",
       "    .dataframe thead th {\n",
       "        text-align: right;\n",
       "    }\n",
       "</style>\n",
       "<table border=\"1\" class=\"dataframe\">\n",
       "  <thead>\n",
       "    <tr style=\"text-align: right;\">\n",
       "      <th></th>\n",
       "      <th>train</th>\n",
       "      <th>test</th>\n",
       "    </tr>\n",
       "  </thead>\n",
       "  <tbody>\n",
       "    <tr>\n",
       "      <th>KNN, n=7</th>\n",
       "      <td>0.289337</td>\n",
       "      <td>0.340412</td>\n",
       "    </tr>\n",
       "    <tr>\n",
       "      <th>KNN, GridSearchCV</th>\n",
       "      <td>0.289337</td>\n",
       "      <td>0.340412</td>\n",
       "    </tr>\n",
       "    <tr>\n",
       "      <th>Random Forests, max_depth=2, random_state=0</th>\n",
       "      <td>0.359804</td>\n",
       "      <td>0.363105</td>\n",
       "    </tr>\n",
       "    <tr>\n",
       "      <th>Random Forests, GridSearchCV</th>\n",
       "      <td>0.268876</td>\n",
       "      <td>0.271506</td>\n",
       "    </tr>\n",
       "    <tr>\n",
       "      <th>DecisionTreeClassifier</th>\n",
       "      <td>0.0</td>\n",
       "      <td>0.296703</td>\n",
       "    </tr>\n",
       "  </tbody>\n",
       "</table>\n",
       "</div>"
      ],
      "text/plain": [
       "                                                train      test\n",
       "KNN, n=7                                     0.289337  0.340412\n",
       "KNN, GridSearchCV                            0.289337  0.340412\n",
       "Random Forests, max_depth=2, random_state=0  0.359804  0.363105\n",
       "Random Forests, GridSearchCV                 0.268876  0.271506\n",
       "DecisionTreeClassifier                            0.0  0.296703"
      ]
     },
     "execution_count": 141,
     "metadata": {},
     "output_type": "execute_result"
    }
   ],
   "source": [
    "RMSE_table"
   ]
  },
  {
   "cell_type": "code",
   "execution_count": 142,
   "metadata": {},
   "outputs": [
    {
     "data": {
      "text/html": [
       "<div>\n",
       "<style scoped>\n",
       "    .dataframe tbody tr th:only-of-type {\n",
       "        vertical-align: middle;\n",
       "    }\n",
       "\n",
       "    .dataframe tbody tr th {\n",
       "        vertical-align: top;\n",
       "    }\n",
       "\n",
       "    .dataframe thead th {\n",
       "        text-align: right;\n",
       "    }\n",
       "</style>\n",
       "<table border=\"1\" class=\"dataframe\">\n",
       "  <thead>\n",
       "    <tr style=\"text-align: right;\">\n",
       "      <th></th>\n",
       "      <th>train</th>\n",
       "      <th>test</th>\n",
       "    </tr>\n",
       "  </thead>\n",
       "  <tbody>\n",
       "    <tr>\n",
       "      <th>KNN, n=7</th>\n",
       "      <td>0.229653</td>\n",
       "      <td>0.066108</td>\n",
       "    </tr>\n",
       "    <tr>\n",
       "      <th>KNN, GridSearchCV</th>\n",
       "      <td>0.229653</td>\n",
       "      <td>0.066108</td>\n",
       "    </tr>\n",
       "    <tr>\n",
       "      <th>Random Forests, max_depth=2, random_state=0</th>\n",
       "      <td>-0.03317</td>\n",
       "      <td>-0.042235</td>\n",
       "    </tr>\n",
       "    <tr>\n",
       "      <th>Random Forests, GridSearchCV</th>\n",
       "      <td>0.205636</td>\n",
       "      <td>0.199887</td>\n",
       "    </tr>\n",
       "    <tr>\n",
       "      <th>DecisionTreeClassifier</th>\n",
       "      <td>1.0</td>\n",
       "      <td>-0.034405</td>\n",
       "    </tr>\n",
       "  </tbody>\n",
       "</table>\n",
       "</div>"
      ],
      "text/plain": [
       "                                                train      test\n",
       "KNN, n=7                                     0.229653  0.066108\n",
       "KNN, GridSearchCV                            0.229653  0.066108\n",
       "Random Forests, max_depth=2, random_state=0  -0.03317 -0.042235\n",
       "Random Forests, GridSearchCV                 0.205636  0.199887\n",
       "DecisionTreeClassifier                            1.0 -0.034405"
      ]
     },
     "execution_count": 142,
     "metadata": {},
     "output_type": "execute_result"
    }
   ],
   "source": [
    "R2_table"
   ]
  },
  {
   "cell_type": "markdown",
   "metadata": {},
   "source": [
    "### 12. Выводы"
   ]
  },
  {
   "cell_type": "code",
   "execution_count": 151,
   "metadata": {},
   "outputs": [
    {
     "name": "stdout",
     "output_type": "stream",
     "text": [
      "                                                train      test\n",
      "KNN, n=7                                     0.828787  0.763807\n",
      "KNN, GridSearchCV                            0.828787  0.763807\n",
      "Random Forests, max_depth=2, random_state=0  0.720815  0.714002\n",
      "Random Forests, GridSearchCV                 0.852797  0.849711\n",
      "DecisionTreeClassifier                            1.0  0.823934\n",
      "LogReg, solver = lbfgs                       0.726219  0.723275\n",
      "                                                train      test\n",
      "KNN, n=7                                     0.829282  0.764681\n",
      "KNN, GridSearchCV                            0.829282  0.764681\n",
      "Random Forests, max_depth=2, random_state=0  0.699249  0.691626\n",
      "Random Forests, GridSearchCV                 0.848885  0.846249\n",
      "DecisionTreeClassifier                            1.0  0.824168\n",
      "LogReg, solver = lbfgs                       0.713538  0.710989\n",
      "                                                train      test\n",
      "KNN, n=7                                     0.463327  0.411796\n",
      "KNN, GridSearchCV                            0.463327  0.411796\n",
      "Random Forests, max_depth=2, random_state=0  0.325724  0.323684\n",
      "Random Forests, GridSearchCV                 0.398863  0.397093\n",
      "DecisionTreeClassifier                            1.0  0.452532\n",
      "LogReg, solver = lbfgs                            1.0  0.452532\n",
      "                                                train      test\n",
      "KNN, n=7                                      0.71241  0.676096\n",
      "KNN, GridSearchCV                             0.71241  0.676096\n",
      "Random Forests, max_depth=2, random_state=0  0.594629  0.592366\n",
      "Random Forests, GridSearchCV                 0.671464  0.669859\n",
      "DecisionTreeClassifier                            1.0  0.753247\n",
      "LogReg, solver = lbfgs                            1.0  0.753247\n",
      "                                                train      test\n",
      "KNN, n=7                                     0.289337  0.340412\n",
      "KNN, GridSearchCV                            0.289337  0.340412\n",
      "Random Forests, max_depth=2, random_state=0  0.359804  0.363105\n",
      "Random Forests, GridSearchCV                 0.268876  0.271506\n",
      "DecisionTreeClassifier                            0.0  0.296703\n",
      "LogReg, solver = lbfgs                       1.043551  1.049318\n",
      "                                                train      test\n",
      "KNN, n=7                                     0.229653  0.066108\n",
      "KNN, GridSearchCV                            0.229653  0.066108\n",
      "Random Forests, max_depth=2, random_state=0  -0.03317 -0.042235\n",
      "Random Forests, GridSearchCV                 0.205636  0.199887\n",
      "DecisionTreeClassifier                            1.0 -0.034405\n",
      "LogReg, solver = lbfgs                      -0.114927  -0.12579\n"
     ]
    }
   ],
   "source": [
    "print(accuracy_table)\n",
    "print(f1_table)\n",
    "print(RMSE_table)\n",
    "print(R2_table)"
   ]
  },
  {
   "cell_type": "markdown",
   "metadata": {},
   "source": [
    "По результатам анализа данных и проведенных экспериментов с различными классификаторами можно сделать следующие выводы:\n",
    "По первичному анализу набора данных: \n",
    "- пропущенные значения (14.61%); \n",
    "- представлены разнородные признаки (имена, идентификаторы, местоположение, стоимость);\n",
    "- классы по целевому признаку несбалансированные (41224/244/27479/404);\n",
    "- выбросы присутсвуют, но не составляют значительную часть набора данных;\n",
    "- присутствуют текстовые признаки, но не был на данный момент подобран метод их обработки.  \n",
    "  \n",
    "По таблице видно, что наилучший результат дал классификатор KNN (ближайших соседей) с параметром n_neighbors = 7. (train: 0.229653, test:\t0.066108)"
   ]
  },
  {
   "attachments": {},
   "cell_type": "markdown",
   "metadata": {},
   "source": [
    "### 13.1 Применение классификатора Logistic Regression (Логистическая Регрессия)\n",
    "https://scikit-learn.org/stable/modules/generated/sklearn.linear_model.LogisticRegression.html"
   ]
  },
  {
   "cell_type": "code",
   "execution_count": 171,
   "metadata": {},
   "outputs": [],
   "source": [
    "# Создадим новые таблицы для сравнения разных моделей\n",
    "accuracy_table = pd.DataFrame(columns=('train', 'test'))\n",
    "precision_table = pd.DataFrame(columns=('train','test'))\n",
    "recall_table = pd.DataFrame(columns=('train', 'test'))\n",
    "f1_table = pd.DataFrame(columns=('train', 'test'))"
   ]
  },
  {
   "cell_type": "code",
   "execution_count": null,
   "metadata": {},
   "outputs": [
    {
     "name": "stderr",
     "output_type": "stream",
     "text": [
      "e:\\Временное хранилище\\Repository\\ml_nngu_7sem\\env\\lib\\site-packages\\sklearn\\linear_model\\_logistic.py:444: ConvergenceWarning: lbfgs failed to converge (status=1):\n",
      "STOP: TOTAL NO. of ITERATIONS REACHED LIMIT.\n",
      "\n",
      "Increase the number of iterations (max_iter) or scale the data as shown in:\n",
      "    https://scikit-learn.org/stable/modules/preprocessing.html\n",
      "Please also refer to the documentation for alternative solver options:\n",
      "    https://scikit-learn.org/stable/modules/linear_model.html#logistic-regression\n",
      "  n_iter_i = _check_optimize_result(\n"
     ]
    },
    {
     "data": {
      "text/html": [
       "<style>#sk-container-id-8 {color: black;background-color: white;}#sk-container-id-8 pre{padding: 0;}#sk-container-id-8 div.sk-toggleable {background-color: white;}#sk-container-id-8 label.sk-toggleable__label {cursor: pointer;display: block;width: 100%;margin-bottom: 0;padding: 0.3em;box-sizing: border-box;text-align: center;}#sk-container-id-8 label.sk-toggleable__label-arrow:before {content: \"▸\";float: left;margin-right: 0.25em;color: #696969;}#sk-container-id-8 label.sk-toggleable__label-arrow:hover:before {color: black;}#sk-container-id-8 div.sk-estimator:hover label.sk-toggleable__label-arrow:before {color: black;}#sk-container-id-8 div.sk-toggleable__content {max-height: 0;max-width: 0;overflow: hidden;text-align: left;background-color: #f0f8ff;}#sk-container-id-8 div.sk-toggleable__content pre {margin: 0.2em;color: black;border-radius: 0.25em;background-color: #f0f8ff;}#sk-container-id-8 input.sk-toggleable__control:checked~div.sk-toggleable__content {max-height: 200px;max-width: 100%;overflow: auto;}#sk-container-id-8 input.sk-toggleable__control:checked~label.sk-toggleable__label-arrow:before {content: \"▾\";}#sk-container-id-8 div.sk-estimator input.sk-toggleable__control:checked~label.sk-toggleable__label {background-color: #d4ebff;}#sk-container-id-8 div.sk-label input.sk-toggleable__control:checked~label.sk-toggleable__label {background-color: #d4ebff;}#sk-container-id-8 input.sk-hidden--visually {border: 0;clip: rect(1px 1px 1px 1px);clip: rect(1px, 1px, 1px, 1px);height: 1px;margin: -1px;overflow: hidden;padding: 0;position: absolute;width: 1px;}#sk-container-id-8 div.sk-estimator {font-family: monospace;background-color: #f0f8ff;border: 1px dotted black;border-radius: 0.25em;box-sizing: border-box;margin-bottom: 0.5em;}#sk-container-id-8 div.sk-estimator:hover {background-color: #d4ebff;}#sk-container-id-8 div.sk-parallel-item::after {content: \"\";width: 100%;border-bottom: 1px solid gray;flex-grow: 1;}#sk-container-id-8 div.sk-label:hover label.sk-toggleable__label {background-color: #d4ebff;}#sk-container-id-8 div.sk-serial::before {content: \"\";position: absolute;border-left: 1px solid gray;box-sizing: border-box;top: 0;bottom: 0;left: 50%;z-index: 0;}#sk-container-id-8 div.sk-serial {display: flex;flex-direction: column;align-items: center;background-color: white;padding-right: 0.2em;padding-left: 0.2em;position: relative;}#sk-container-id-8 div.sk-item {position: relative;z-index: 1;}#sk-container-id-8 div.sk-parallel {display: flex;align-items: stretch;justify-content: center;background-color: white;position: relative;}#sk-container-id-8 div.sk-item::before, #sk-container-id-8 div.sk-parallel-item::before {content: \"\";position: absolute;border-left: 1px solid gray;box-sizing: border-box;top: 0;bottom: 0;left: 50%;z-index: -1;}#sk-container-id-8 div.sk-parallel-item {display: flex;flex-direction: column;z-index: 1;position: relative;background-color: white;}#sk-container-id-8 div.sk-parallel-item:first-child::after {align-self: flex-end;width: 50%;}#sk-container-id-8 div.sk-parallel-item:last-child::after {align-self: flex-start;width: 50%;}#sk-container-id-8 div.sk-parallel-item:only-child::after {width: 0;}#sk-container-id-8 div.sk-dashed-wrapped {border: 1px dashed gray;margin: 0 0.4em 0.5em 0.4em;box-sizing: border-box;padding-bottom: 0.4em;background-color: white;}#sk-container-id-8 div.sk-label label {font-family: monospace;font-weight: bold;display: inline-block;line-height: 1.2em;}#sk-container-id-8 div.sk-label-container {text-align: center;}#sk-container-id-8 div.sk-container {/* jupyter's `normalize.less` sets `[hidden] { display: none; }` but bootstrap.min.css set `[hidden] { display: none !important; }` so we also need the `!important` here to be able to override the default hidden behavior on the sphinx rendered scikit-learn.org. See: https://github.com/scikit-learn/scikit-learn/issues/21755 */display: inline-block !important;position: relative;}#sk-container-id-8 div.sk-text-repr-fallback {display: none;}</style><div id=\"sk-container-id-8\" class=\"sk-top-container\"><div class=\"sk-text-repr-fallback\"><pre>LogisticRegression()</pre><b>In a Jupyter environment, please rerun this cell to show the HTML representation or trust the notebook. <br />On GitHub, the HTML representation is unable to render, please try loading this page with nbviewer.org.</b></div><div class=\"sk-container\" hidden><div class=\"sk-item\"><div class=\"sk-estimator sk-toggleable\"><input class=\"sk-toggleable__control sk-hidden--visually\" id=\"sk-estimator-id-12\" type=\"checkbox\" checked><label for=\"sk-estimator-id-12\" class=\"sk-toggleable__label sk-toggleable__label-arrow\">LogisticRegression</label><div class=\"sk-toggleable__content\"><pre>LogisticRegression()</pre></div></div></div></div></div>"
      ],
      "text/plain": [
       "LogisticRegression()"
      ]
     },
     "metadata": {},
     "output_type": "display_data"
    }
   ],
   "source": [
    "from sklearn.linear_model import LogisticRegression\n",
    "# Default\n",
    "model = LogisticRegression(penalty='l2', # default = l2\n",
    "                           solver = 'lbdgs', # default = 'lbdgs'\n",
    "                           random_state=42) \n",
    "model.fit(X_train, y_train.argmax(axis = 1))\n",
    "y_train_predict = model.predict(X_train)\n",
    "y_test_predict = model.predict(X_test)"
   ]
  },
  {
   "attachments": {},
   "cell_type": "markdown",
   "metadata": {},
   "source": [
    "### 13.1.1 Вычисление ошибки на обучающей и тестовой выборках"
   ]
  },
  {
   "cell_type": "code",
   "execution_count": null,
   "metadata": {},
   "outputs": [],
   "source": [
    "accuracy_train = accuracy_score(y_train.argmax(axis = 1), y_train_predict)\n",
    "accuracy_test = accuracy_score(y_test.argmax(axis = 1), y_test_predict)\n",
    "precision_train = precision_score(y_train, y_train_predict)\n",
    "precision_test = precision_score(y_test, y_test_predict)\n",
    "recall_train = recall_score(y_train, y_train_predict)\n",
    "recall_test = recall_score(y_test, y_test_predict)\n",
    "f1_train = f1_score(y_train.argmax(axis = 1), y_train_predict, average = 'weighted')\n",
    "f1_test = f1_score(y_test.argmax(axis = 1), y_test_predict, average = 'weighted')\n",
    "\n",
    "accuracy_table.loc['LogisticRegression, default', :] = (accuracy_train, accuracy_test)\n",
    "precision_table.loc['LogisticRegression, default', :] = (precision_train, precision_test)\n",
    "recall_table.loc['LogisticRegression, default', :] = (recall_train, recall_test)\n",
    "f1_table.loc['LogisticRegression, default', :] = (f1_train, f1_test)"
   ]
  },
  {
   "attachments": {},
   "cell_type": "markdown",
   "metadata": {},
   "source": [
    "### 13.2. Полносвязная нейронная сеть с 1 скрытым слоем (vanilla)\n",
    "https://scikit-learn.org/stable/modules/generated/sklearn.neural_network.MLPClassifier.html"
   ]
  },
  {
   "attachments": {},
   "cell_type": "markdown",
   "metadata": {},
   "source": [
    "Многослойный персептрон\n"
   ]
  },
  {
   "cell_type": "code",
   "execution_count": 168,
   "metadata": {},
   "outputs": [
    {
     "name": "stderr",
     "output_type": "stream",
     "text": [
      "e:\\Временное хранилище\\Repository\\ml_nngu_7sem\\env\\lib\\site-packages\\sklearn\\neural_network\\_multilayer_perceptron.py:702: ConvergenceWarning: Stochastic Optimizer: Maximum iterations (200) reached and the optimization hasn't converged yet.\n",
      "  warnings.warn(\n"
     ]
    }
   ],
   "source": [
    "from sklearn.neural_network import MLPClassifier\n",
    "mlp_model = MLPClassifier(hidden_layer_sizes = (100,), # Количество нейронов в скрытом слое; default = (100,); кортеж (Y1,Y2, ...,Yk) - количество скрытых слоев, где Yi - количество нейронов в скрытом слое\n",
    "                          activation = 'relu', # Функция активации для скрытого слоя; default = 'relu'\n",
    "                          solver = 'adam',  # Алгоритм для поиска оптимальных весов; default = 'adam'\n",
    "                          alpha = 0.0001, # Регуляризация - метод борьбы с переобучением; default = 0.0001 \n",
    "                          random_state = 42)\n",
    "mlp_model.fit(X_train, y_train)    \n",
    "y_train_pred = mlp_model.predict(X_train)\n",
    "y_test_pred = mlp_model.predict(X_test)"
   ]
  },
  {
   "attachments": {},
   "cell_type": "markdown",
   "metadata": {},
   "source": [
    "### 13.2.1. Вычисление ошибки на обучающей и тестовой выборках"
   ]
  },
  {
   "cell_type": "code",
   "execution_count": 169,
   "metadata": {},
   "outputs": [
    {
     "data": {
      "text/plain": [
       "(0.06237485176616964, 0.06750451974106257)"
      ]
     },
     "execution_count": 169,
     "metadata": {},
     "output_type": "execute_result"
    }
   ],
   "source": [
    "np.mean(y_train != y_train_pred), np.mean(y_test != y_test_pred)"
   ]
  },
  {
   "cell_type": "code",
   "execution_count": 180,
   "metadata": {},
   "outputs": [],
   "source": [
    "accuracy_train = accuracy_score(y_train, y_train_pred)\n",
    "accuracy_test = accuracy_score(y_test, y_test_pred)\n",
    "precision_train = precision_score(y_train, y_train_pred, average = 'weighted')\n",
    "precision_test = precision_score(y_test, y_test_pred, average = 'weighted')\n",
    "recall_train = recall_score(y_train, y_train_pred, average = 'weighted')\n",
    "recall_test = recall_score(y_test, y_test_pred, average = 'weighted')\n",
    "f1_train = f1_score(y_train, y_train_pred, average = 'weighted')\n",
    "f1_test = f1_score(y_test, y_test_pred, average = 'weighted')\n",
    "\n",
    "accuracy_table.loc['MLPClassifier, default', :] = (accuracy_train, accuracy_test)\n",
    "precision_table.loc['MLPClassifier, default', :] = (precision_train, precision_test)\n",
    "recall_table.loc['MLPClassifier, default', :] = (recall_train, recall_test)\n",
    "f1_table.loc['MLPClassifier, default', :] = (f1_train, f1_test)"
   ]
  },
  {
   "cell_type": "code",
   "execution_count": 181,
   "metadata": {},
   "outputs": [
    {
     "data": {
      "text/html": [
       "<div>\n",
       "<style scoped>\n",
       "    .dataframe tbody tr th:only-of-type {\n",
       "        vertical-align: middle;\n",
       "    }\n",
       "\n",
       "    .dataframe tbody tr th {\n",
       "        vertical-align: top;\n",
       "    }\n",
       "\n",
       "    .dataframe thead th {\n",
       "        text-align: right;\n",
       "    }\n",
       "</style>\n",
       "<table border=\"1\" class=\"dataframe\">\n",
       "  <thead>\n",
       "    <tr style=\"text-align: right;\">\n",
       "      <th></th>\n",
       "      <th>train</th>\n",
       "      <th>test</th>\n",
       "    </tr>\n",
       "  </thead>\n",
       "  <tbody>\n",
       "    <tr>\n",
       "      <th>MLPClassifier, default</th>\n",
       "      <td>0.869438</td>\n",
       "      <td>0.859276</td>\n",
       "    </tr>\n",
       "  </tbody>\n",
       "</table>\n",
       "</div>"
      ],
      "text/plain": [
       "                           train      test\n",
       "MLPClassifier, default  0.869438  0.859276"
      ]
     },
     "execution_count": 181,
     "metadata": {},
     "output_type": "execute_result"
    }
   ],
   "source": [
    "accuracy_table"
   ]
  },
  {
   "cell_type": "code",
   "execution_count": 182,
   "metadata": {},
   "outputs": [
    {
     "data": {
      "text/html": [
       "<div>\n",
       "<style scoped>\n",
       "    .dataframe tbody tr th:only-of-type {\n",
       "        vertical-align: middle;\n",
       "    }\n",
       "\n",
       "    .dataframe tbody tr th {\n",
       "        vertical-align: top;\n",
       "    }\n",
       "\n",
       "    .dataframe thead th {\n",
       "        text-align: right;\n",
       "    }\n",
       "</style>\n",
       "<table border=\"1\" class=\"dataframe\">\n",
       "  <thead>\n",
       "    <tr style=\"text-align: right;\">\n",
       "      <th></th>\n",
       "      <th>train</th>\n",
       "      <th>test</th>\n",
       "    </tr>\n",
       "  </thead>\n",
       "  <tbody>\n",
       "    <tr>\n",
       "      <th>MLPClassifier, default</th>\n",
       "      <td>0.87741</td>\n",
       "      <td>0.866728</td>\n",
       "    </tr>\n",
       "  </tbody>\n",
       "</table>\n",
       "</div>"
      ],
      "text/plain": [
       "                          train      test\n",
       "MLPClassifier, default  0.87741  0.866728"
      ]
     },
     "execution_count": 182,
     "metadata": {},
     "output_type": "execute_result"
    }
   ],
   "source": [
    "precision_table"
   ]
  },
  {
   "cell_type": "code",
   "execution_count": 183,
   "metadata": {},
   "outputs": [
    {
     "data": {
      "text/html": [
       "<div>\n",
       "<style scoped>\n",
       "    .dataframe tbody tr th:only-of-type {\n",
       "        vertical-align: middle;\n",
       "    }\n",
       "\n",
       "    .dataframe tbody tr th {\n",
       "        vertical-align: top;\n",
       "    }\n",
       "\n",
       "    .dataframe thead th {\n",
       "        text-align: right;\n",
       "    }\n",
       "</style>\n",
       "<table border=\"1\" class=\"dataframe\">\n",
       "  <thead>\n",
       "    <tr style=\"text-align: right;\">\n",
       "      <th></th>\n",
       "      <th>train</th>\n",
       "      <th>test</th>\n",
       "    </tr>\n",
       "  </thead>\n",
       "  <tbody>\n",
       "    <tr>\n",
       "      <th>MLPClassifier, default</th>\n",
       "      <td>0.872101</td>\n",
       "      <td>0.86155</td>\n",
       "    </tr>\n",
       "  </tbody>\n",
       "</table>\n",
       "</div>"
      ],
      "text/plain": [
       "                           train     test\n",
       "MLPClassifier, default  0.872101  0.86155"
      ]
     },
     "execution_count": 183,
     "metadata": {},
     "output_type": "execute_result"
    }
   ],
   "source": [
    "recall_table"
   ]
  },
  {
   "cell_type": "code",
   "execution_count": 184,
   "metadata": {},
   "outputs": [
    {
     "data": {
      "text/html": [
       "<div>\n",
       "<style scoped>\n",
       "    .dataframe tbody tr th:only-of-type {\n",
       "        vertical-align: middle;\n",
       "    }\n",
       "\n",
       "    .dataframe tbody tr th {\n",
       "        vertical-align: top;\n",
       "    }\n",
       "\n",
       "    .dataframe thead th {\n",
       "        text-align: right;\n",
       "    }\n",
       "</style>\n",
       "<table border=\"1\" class=\"dataframe\">\n",
       "  <thead>\n",
       "    <tr style=\"text-align: right;\">\n",
       "      <th></th>\n",
       "      <th>train</th>\n",
       "      <th>test</th>\n",
       "    </tr>\n",
       "  </thead>\n",
       "  <tbody>\n",
       "    <tr>\n",
       "      <th>MLPClassifier, default</th>\n",
       "      <td>0.871775</td>\n",
       "      <td>0.861764</td>\n",
       "    </tr>\n",
       "  </tbody>\n",
       "</table>\n",
       "</div>"
      ],
      "text/plain": [
       "                           train      test\n",
       "MLPClassifier, default  0.871775  0.861764"
      ]
     },
     "execution_count": 184,
     "metadata": {},
     "output_type": "execute_result"
    }
   ],
   "source": [
    "f1_table"
   ]
  },
  {
   "attachments": {},
   "cell_type": "markdown",
   "metadata": {},
   "source": [
    "### 13.2.2. Choosing hyperparameters (Подбор гиперпараметров)"
   ]
  },
  {
   "attachments": {},
   "cell_type": "markdown",
   "metadata": {},
   "source": [
    "Let's try to find the optimal value for regularization parameter alpha (Подбор оптимального значения параметра регуляризации). С помощью цикла, написанного вручную и GridSearchCV."
   ]
  },
  {
   "cell_type": "code",
   "execution_count": 185,
   "metadata": {},
   "outputs": [
    {
     "name": "stdout",
     "output_type": "stream",
     "text": [
      "[1.e-04 1.e-03 1.e-02 1.e-01 1.e+00 1.e+01 1.e+02 1.e+03 1.e+04 1.e+05] \n",
      " 1.e-04:  0.0001\n"
     ]
    }
   ],
   "source": [
    "# Диапазон изменений параметра alpha - регуляризации \n",
    "alpha_arr = np.logspace(-4, 5, 10)\n",
    "print(alpha_arr,'\\n','1.e-04: ', 1.e-04)"
   ]
  },
  {
   "cell_type": "code",
   "execution_count": 186,
   "metadata": {},
   "outputs": [
    {
     "name": "stderr",
     "output_type": "stream",
     "text": [
      "e:\\Временное хранилище\\Repository\\ml_nngu_7sem\\env\\lib\\site-packages\\sklearn\\neural_network\\_multilayer_perceptron.py:702: ConvergenceWarning: Stochastic Optimizer: Maximum iterations (200) reached and the optimization hasn't converged yet.\n",
      "  warnings.warn(\n",
      "e:\\Временное хранилище\\Repository\\ml_nngu_7sem\\env\\lib\\site-packages\\sklearn\\neural_network\\_multilayer_perceptron.py:702: ConvergenceWarning: Stochastic Optimizer: Maximum iterations (200) reached and the optimization hasn't converged yet.\n",
      "  warnings.warn(\n",
      "e:\\Временное хранилище\\Repository\\ml_nngu_7sem\\env\\lib\\site-packages\\sklearn\\neural_network\\_multilayer_perceptron.py:702: ConvergenceWarning: Stochastic Optimizer: Maximum iterations (200) reached and the optimization hasn't converged yet.\n",
      "  warnings.warn(\n"
     ]
    }
   ],
   "source": [
    "# С помощью цикла, написанного вручную (~8мин)\n",
    "train_err = [] # Ошибки на тренировочных данных при разном параметре\n",
    "test_err = [] # Ошибки на тестовых данных при разном параметре\n",
    "for alpha in alpha_arr:\n",
    "  mlp_model = MLPClassifier(hidden_layer_sizes=(100,),\n",
    "              alpha=alpha, \n",
    "              random_state=42)\n",
    "  mlp_model.fit(X_train, y_train)\n",
    "  y_train_pred = mlp_model.predict(X_train)\n",
    "  y_test_pred = mlp_model.predict(X_test)\n",
    "  train_err.append(np.mean(y_train != y_train_pred))\n",
    "  test_err.append(np.mean(y_test != y_test_pred))"
   ]
  },
  {
   "attachments": {},
   "cell_type": "markdown",
   "metadata": {},
   "source": [
    "Построим график зависимости ошибки от параметра регуляризации, причем, ось абцисс будет развернута, таким образом крайнее левое положение - недообучение модели, а крайнее правое положение - переобучение модели."
   ]
  },
  {
   "cell_type": "code",
   "execution_count": 187,
   "metadata": {},
   "outputs": [
    {
     "data": {
      "image/png": "[encoded data removed]",
      "text/plain": [
       "<Figure size 640x480 with 1 Axes>"
      ]
     },
     "metadata": {},
     "output_type": "display_data"
    }
   ],
   "source": [
    "plt.semilogx(alpha_arr, train_err, 'r-o', label = 'train')\n",
    "plt.semilogx(alpha_arr, test_err, 'b-o', label = 'test')\n",
    "plt.xlim(np.max(alpha_arr), np.min(alpha_arr))\n",
    "plt.title('Error vs. alpha')\n",
    "plt.xlabel('alpha')\n",
    "plt.ylabel('error')\n",
    "plt.legend()\n",
    "plt.show()"
   ]
  },
  {
   "attachments": {},
   "cell_type": "markdown",
   "metadata": {},
   "source": [
    "Минимальное значение ошибки:"
   ]
  },
  {
   "cell_type": "code",
   "execution_count": 188,
   "metadata": {},
   "outputs": [
    {
     "name": "stdout",
     "output_type": "stream",
     "text": [
      "0.06196660121697545 0.06649851285939232\n"
     ]
    }
   ],
   "source": [
    "min_train_err = np.min(train_err)\n",
    "min_test_err = np.min(test_err)\n",
    "print(min_train_err, min_test_err)"
   ]
  },
  {
   "attachments": {},
   "cell_type": "markdown",
   "metadata": {},
   "source": [
    "Оптимальное значение alpha:"
   ]
  },
  {
   "cell_type": "code",
   "execution_count": 189,
   "metadata": {},
   "outputs": [
    {
     "name": "stdout",
     "output_type": "stream",
     "text": [
      "[0.001]\n"
     ]
    }
   ],
   "source": [
    "alpha_opt = alpha_arr[test_err == min_test_err]\n",
    "print(alpha_opt)"
   ]
  },
  {
   "attachments": {},
   "cell_type": "markdown",
   "metadata": {},
   "source": [
    "Повторим обучение при новом значении alpha"
   ]
  },
  {
   "cell_type": "code",
   "execution_count": 192,
   "metadata": {},
   "outputs": [
    {
     "name": "stderr",
     "output_type": "stream",
     "text": [
      "e:\\Временное хранилище\\Repository\\ml_nngu_7sem\\env\\lib\\site-packages\\sklearn\\neural_network\\_multilayer_perceptron.py:702: ConvergenceWarning: Stochastic Optimizer: Maximum iterations (200) reached and the optimization hasn't converged yet.\n",
      "  warnings.warn(\n"
     ]
    },
    {
     "data": {
      "text/plain": [
       "(0.06196660121697545, 0.06649851285939232)"
      ]
     },
     "execution_count": 192,
     "metadata": {},
     "output_type": "execute_result"
    }
   ],
   "source": [
    "mlp_model = MLPClassifier(hidden_layer_sizes = (100,),\n",
    "                          activation = 'relu',\n",
    "                          solver = 'adam',\n",
    "                          alpha = alpha_opt,\n",
    "                          random_state = 42)\n",
    "mlp_model.fit(X_train, y_train)    \n",
    "y_train_pred = mlp_model.predict(X_train)\n",
    "y_test_pred = mlp_model.predict(X_test)\n",
    "np.mean(y_train != y_train_pred), np.mean(y_test != y_test_pred)"
   ]
  },
  {
   "cell_type": "markdown",
   "metadata": {},
   "source": [
    "Построим матрицу рассогласования (confusion matrix)"
   ]
  },
  {
   "cell_type": "code",
   "execution_count": 197,
   "metadata": {},
   "outputs": [
    {
     "name": "stdout",
     "output_type": "stream",
     "text": [
      "[[9280   31 1228   12]\n",
      " [   0   10    1    0]\n",
      " [ 917   14 5573   81]\n",
      " [   0    0    0    0]]\n"
     ]
    }
   ],
   "source": [
    "print(confusion_matrix(y_test_pred.argmax(axis = 1), y_test.argmax(axis = 1)))"
   ]
  },
  {
   "cell_type": "code",
   "execution_count": 205,
   "metadata": {},
   "outputs": [
    {
     "data": {
      "image/png": "[encoded data removed]",
      "text/plain": [
       "<Figure size 640x480 with 2 Axes>"
      ]
     },
     "metadata": {},
     "output_type": "display_data"
    }
   ],
   "source": [
    "cm = confusion_matrix(y_test_pred.argmax(axis = 1), y_test.argmax(axis = 1))\n",
    "cm = np.sqrt(cm)\n",
    "plt.imshow(cm, interpolation = 'nearest')\n",
    "plt.set_cmap('plasma')\n",
    "plt.xticks(range(4))\n",
    "plt.yticks(range(4))\n",
    "plt.xlabel(\"true label\")\n",
    "plt.ylabel(\"predicted label\")\n",
    "plt.colorbar()\n",
    "pass"
   ]
  },
  {
   "cell_type": "code",
   "execution_count": 206,
   "metadata": {},
   "outputs": [
    {
     "data": {
      "image/png": "[encoded data removed]",
      "text/plain": [
       "<Figure size 640x480 with 2 Axes>"
      ]
     },
     "metadata": {},
     "output_type": "display_data"
    }
   ],
   "source": [
    "cm = confusion_matrix(y_test_pred.argmax(axis = 1), y_test.argmax(axis = 1))\n",
    "cm = np.sqrt(cm)\n",
    "plt.imshow(cm, interpolation = 'nearest')\n",
    "plt.set_cmap('binary')\n",
    "plt.xticks(range(4))\n",
    "plt.yticks(range(4))\n",
    "plt.xlabel(\"true label\")\n",
    "plt.ylabel(\"predicted label\")\n",
    "plt.colorbar()\n",
    "pass"
   ]
  },
  {
   "attachments": {},
   "cell_type": "markdown",
   "metadata": {},
   "source": [
    "Применим GridSearchCV"
   ]
  },
  {
   "cell_type": "code",
   "execution_count": null,
   "metadata": {},
   "outputs": [],
   "source": []
  },
  {
   "attachments": {},
   "cell_type": "markdown",
   "metadata": {},
   "source": [
    "### 13.2.3. Вычисление ошибки на обучающей и тестовой выборках"
   ]
  },
  {
   "cell_type": "code",
   "execution_count": null,
   "metadata": {},
   "outputs": [],
   "source": [
    "accuracy_train = accuracy_score(y_train, y_train_pred)\n",
    "accuracy_test = accuracy_score(y_test, y_test_pred)\n",
    "precision_train = precision_score(y_train, y_train_pred, average = 'weighted')\n",
    "precision_test = precision_score(y_test, y_test_pred, average = 'weighted')\n",
    "recall_train = recall_score(y_train, y_train_pred, average = 'weighted')\n",
    "recall_test = recall_score(y_test, y_test_pred, average = 'weighted')\n",
    "f1_train = f1_score(y_train, y_train_pred, average = 'weighted')\n",
    "f1_test = f1_score(y_test, y_test_pred, average = 'weighted')\n",
    "\n",
    "accuracy_table.loc['MLPClassifier, GridSearchCV', :] = (accuracy_train, accuracy_test)\n",
    "precision_table.loc['MLPClassifier, GridSearchCV', :] = (precision_train, precision_test)\n",
    "recall_table.loc['MLPClassifier, GridSearchCV', :] = (recall_train, recall_test)\n",
    "f1_table.loc['MLPClassifier, GridSearchCV', :] = (f1_train, f1_test)"
   ]
  },
  {
   "attachments": {},
   "cell_type": "markdown",
   "metadata": {},
   "source": [
    "### 13.3. Полносвязная нейронная сеть с 2 слоями"
   ]
  },
  {
   "attachments": {},
   "cell_type": "markdown",
   "metadata": {},
   "source": [
    "### 13.3.1. Вычисление ошибки на обучающей и тестовой выборках"
   ]
  },
  {
   "cell_type": "code",
   "execution_count": null,
   "metadata": {},
   "outputs": [],
   "source": [
    "accuracy_train = accuracy_score(y_train, y_train_pred)\n",
    "accuracy_test = accuracy_score(y_test, y_test_pred)\n",
    "precision_train = precision_score(y_train, y_train_pred, average = 'weighted')\n",
    "precision_test = precision_score(y_test, y_test_pred, average = 'weighted')\n",
    "recall_train = recall_score(y_train, y_train_pred, average = 'weighted')\n",
    "recall_test = recall_score(y_test, y_test_pred, average = 'weighted')\n",
    "f1_train = f1_score(y_train, y_train_pred, average = 'weighted')\n",
    "f1_test = f1_score(y_test, y_test_pred, average = 'weighted')\n",
    "\n",
    "accuracy_table.loc['MLPClassifier, n_layers-2, other - default', :] = (accuracy_train, accuracy_test)\n",
    "precision_table.loc['MLPClassifier, n_layers-2, other - default', :] = (precision_train, precision_test)\n",
    "recall_table.loc['MLPClassifier, n_layers-2, other - default', :] = (recall_train, recall_test)\n",
    "f1_table.loc['MLPClassifier, n_layers-2, other - default', :] = (f1_train, f1_test)"
   ]
  },
  {
   "attachments": {},
   "cell_type": "markdown",
   "metadata": {},
   "source": [
    "### 13.3.2. Подбор гиперпараметров"
   ]
  },
  {
   "cell_type": "code",
   "execution_count": null,
   "metadata": {},
   "outputs": [],
   "source": []
  },
  {
   "attachments": {},
   "cell_type": "markdown",
   "metadata": {},
   "source": [
    "### 13.3.3. Вычисление ошибки на обучающей и тестовой выборках"
   ]
  },
  {
   "cell_type": "code",
   "execution_count": null,
   "metadata": {},
   "outputs": [],
   "source": [
    "accuracy_train = accuracy_score(y_train, y_train_pred)\n",
    "accuracy_test = accuracy_score(y_test, y_test_pred)\n",
    "precision_train = precision_score(y_train, y_train_pred, average = 'weighted')\n",
    "precision_test = precision_score(y_test, y_test_pred, average = 'weighted')\n",
    "recall_train = recall_score(y_train, y_train_pred, average = 'weighted')\n",
    "recall_test = recall_score(y_test, y_test_pred, average = 'weighted')\n",
    "f1_train = f1_score(y_train, y_train_pred, average = 'weighted')\n",
    "f1_test = f1_score(y_test, y_test_pred, average = 'weighted')\n",
    "\n",
    "accuracy_table.loc['MLPClassifier, n_layers-2, GridSearchCV', :] = (accuracy_train, accuracy_test)\n",
    "precision_table.loc['MLPClassifier, n_layers-2, GridSearchCV', :] = (precision_train, precision_test)\n",
    "recall_table.loc['MLPClassifier, n_layers-2, GridSearchCV', :] = (recall_train, recall_test)\n",
    "f1_table.loc['MLPClassifier, n_layers-2, GridSearchCV', :] = (f1_train, f1_test)"
   ]
  },
  {
   "attachments": {},
   "cell_type": "markdown",
   "metadata": {},
   "source": [
    "### 13.4. RandomForestClassifier\n",
    "https://scikit-learn.org/stable/modules/generated/sklearn.ensemble.RandomForestClassifier.html"
   ]
  },
  {
   "attachments": {},
   "cell_type": "markdown",
   "metadata": {},
   "source": [
    "### 13.4.1. Вычисление ошибки на обучающей и тестовой выборке"
   ]
  },
  {
   "cell_type": "code",
   "execution_count": null,
   "metadata": {},
   "outputs": [],
   "source": [
    "accuracy_train = accuracy_score(y_train, y_train_pred)\n",
    "accuracy_test = accuracy_score(y_test, y_test_pred)\n",
    "precision_train = precision_score(y_train, y_train_pred, average = 'weighted')\n",
    "precision_test = precision_score(y_test, y_test_pred, average = 'weighted')\n",
    "recall_train = recall_score(y_train, y_train_pred, average = 'weighted')\n",
    "recall_test = recall_score(y_test, y_test_pred, average = 'weighted')\n",
    "f1_train = f1_score(y_train, y_train_pred, average = 'weighted')\n",
    "f1_test = f1_score(y_test, y_test_pred, average = 'weighted')\n",
    "\n",
    "accuracy_table.loc['RandomForestClassifier, default', :] = (accuracy_train, accuracy_test)\n",
    "precision_table.loc['RandomForestClassifier, default', :] = (precision_train, precision_test)\n",
    "recall_table.loc['RandomForestClassifier, default', :] = (recall_train, recall_test)\n",
    "f1_table.loc['RandomForestClassifier, default', :] = (f1_train, f1_test)"
   ]
  },
  {
   "attachments": {},
   "cell_type": "markdown",
   "metadata": {},
   "source": [
    "### 13.4.2. Подбор гиперпараметров"
   ]
  },
  {
   "attachments": {},
   "cell_type": "markdown",
   "metadata": {},
   "source": [
    "### 13.4.3. Вычисление ошибки на обучающей и тестовой выборке"
   ]
  },
  {
   "cell_type": "code",
   "execution_count": null,
   "metadata": {},
   "outputs": [],
   "source": [
    "accuracy_train = accuracy_score(y_train, y_train_pred)\n",
    "accuracy_test = accuracy_score(y_test, y_test_pred)\n",
    "precision_train = precision_score(y_train, y_train_pred, average = 'weighted')\n",
    "precision_test = precision_score(y_test, y_test_pred, average = 'weighted')\n",
    "recall_train = recall_score(y_train, y_train_pred, average = 'weighted')\n",
    "recall_test = recall_score(y_test, y_test_pred, average = 'weighted')\n",
    "f1_train = f1_score(y_train, y_train_pred, average = 'weighted')\n",
    "f1_test = f1_score(y_test, y_test_pred, average = 'weighted')\n",
    "\n",
    "accuracy_table.loc['RandomForestClassifier, GridSearchCV', :] = (accuracy_train, accuracy_test)\n",
    "precision_table.loc['RandomForestClassifier, GridSearchCV', :] = (precision_train, precision_test)\n",
    "recall_table.loc['RandomForestClassifier, GridSearchCV', :] = (recall_train, recall_test)\n",
    "f1_table.loc['RandomForestClassifier, GridSearchCV', :] = (f1_train, f1_test)"
   ]
  },
  {
   "attachments": {},
   "cell_type": "markdown",
   "metadata": {},
   "source": [
    "### 14. Вывод"
   ]
  }
 ],
 "metadata": {
  "kernelspec": {
   "display_name": "Python 3.9.10 ('env': venv)",
   "language": "python",
   "name": "python3"
  },
  "language_info": {
   "codemirror_mode": {
    "name": "ipython",
    "version": 3
   },
   "file_extension": ".py",
   "mimetype": "text/x-python",
   "name": "python",
   "nbconvert_exporter": "python",
   "pygments_lexer": "ipython3",
   "version": "3.9.10"
  },
  "orig_nbformat": 4,
  "vscode": {
   "interpreter": {
    "hash": "8cbc53d109cf7196c67bce5005cfb4de76b64b1842e7ba2c02e0ddf1e7b259f3"
   }
  }
 },
 "nbformat": 4,
 "nbformat_minor": 2
}
